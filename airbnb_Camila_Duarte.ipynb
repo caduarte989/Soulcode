{
  "nbformat": 4,
  "nbformat_minor": 0,
  "metadata": {
    "colab": {
      "provenance": [],
      "authorship_tag": "ABX9TyPVn54q6I7CbV12Y9G/ZTJ2",
      "include_colab_link": true
    },
    "kernelspec": {
      "name": "python3",
      "display_name": "Python 3"
    },
    "language_info": {
      "name": "python"
    }
  },
  "cells": [
    {
      "cell_type": "markdown",
      "metadata": {
        "id": "view-in-github",
        "colab_type": "text"
      },
      "source": [
        "<a href=\"https://colab.research.google.com/github/caduarte989/soulcode/blob/main/airbnb_Camila_Duarte.ipynb\" target=\"_parent\"><img src=\"https://colab.research.google.com/assets/colab-badge.svg\" alt=\"Open In Colab\"/></a>"
      ]
    },
    {
      "cell_type": "markdown",
      "source": [
        "Escola: SoulCode Academy\n",
        "\n",
        "Curso: Bootcamp Analista de Dados - Martech - AD2\n",
        "\n",
        "Período: Semana 6\n",
        "\n",
        "Professora: Franciane Rodrigues\n",
        "\n",
        "Monitor: Jonathas Carneiro\n",
        "\n",
        "Aluna: Camila Ananda Duarte"
      ],
      "metadata": {
        "id": "j7sV2bC9Va33"
      }
    },
    {
      "cell_type": "markdown",
      "source": [
        "# **Descrição do Projeto**"
      ],
      "metadata": {
        "id": "QAg6rjacWiAt"
      }
    },
    {
      "cell_type": "markdown",
      "source": [
        "\n",
        "Pergunta de negócio: Faça uma análise exploratória de dados com a base de dados do Airbnb e indique possíveis oportunidades e/ou ameaças para o empreendimento.\n",
        "\n",
        "\n",
        "Requisitos Obrigatórios:\n",
        "* Verificar todos os passos da estratégia geral de análise de dados;\n",
        "* Executar o que for necessário;\n",
        "* Todos os passos devem ser comentados;\n",
        "* Realizar no mínimo 3 análises apenas numéricas;\n",
        "* Realizar plotagens para no mínimo 3 análises;\n",
        "* Chegar a uma conclusão de sua análise;\n"
      ],
      "metadata": {
        "id": "QlIyXCSqFP2P"
      }
    },
    {
      "cell_type": "markdown",
      "source": [
        "#**Informações gerais**"
      ],
      "metadata": {
        "id": "Hgfm9wfawEx7"
      }
    },
    {
      "cell_type": "markdown",
      "source": [
        "A base de dados abaixo é referente ao de aluguel do Airbnb para cidades europeias. A Análise será feita levando em consideração que algumas características podem interferir nas possíveis escolhas dos hóspedes em potencial.\n",
        "\n",
        "* **Fontes de pesquisas:**\n",
        "\n",
        "https://brasil.elpais.com/brasil/2018/01/28/economia/1517154558_107147.html\n",
        "\n",
        "https://quantocustaviajar.com/blog/cidades-que-estao-limitando-o-airbnb/"
      ],
      "metadata": {
        "id": "5t4ejgt1spqv"
      }
    },
    {
      "cell_type": "markdown",
      "source": [
        "## **Instalação de Pacotes e Bibliotecas**"
      ],
      "metadata": {
        "id": "q_kU2fvRynAH"
      }
    },
    {
      "cell_type": "code",
      "execution_count": null,
      "metadata": {
        "colab": {
          "base_uri": "https://localhost:8080/"
        },
        "id": "_pdcq6bSVFgG",
        "outputId": "b05cc50b-c608-4ab9-b624-0b952549e406"
      },
      "outputs": [
        {
          "output_type": "stream",
          "name": "stdout",
          "text": [
            "Requirement already satisfied: gcsfs in /usr/local/lib/python3.10/dist-packages (2023.6.0)\n",
            "Requirement already satisfied: aiohttp!=4.0.0a0,!=4.0.0a1 in /usr/local/lib/python3.10/dist-packages (from gcsfs) (3.8.4)\n",
            "Requirement already satisfied: decorator>4.1.2 in /usr/local/lib/python3.10/dist-packages (from gcsfs) (4.4.2)\n",
            "Requirement already satisfied: fsspec==2023.6.0 in /usr/local/lib/python3.10/dist-packages (from gcsfs) (2023.6.0)\n",
            "Requirement already satisfied: google-auth>=1.2 in /usr/local/lib/python3.10/dist-packages (from gcsfs) (2.17.3)\n",
            "Requirement already satisfied: google-auth-oauthlib in /usr/local/lib/python3.10/dist-packages (from gcsfs) (1.0.0)\n",
            "Requirement already satisfied: google-cloud-storage in /usr/local/lib/python3.10/dist-packages (from gcsfs) (2.8.0)\n",
            "Requirement already satisfied: requests in /usr/local/lib/python3.10/dist-packages (from gcsfs) (2.27.1)\n",
            "Requirement already satisfied: attrs>=17.3.0 in /usr/local/lib/python3.10/dist-packages (from aiohttp!=4.0.0a0,!=4.0.0a1->gcsfs) (23.1.0)\n",
            "Requirement already satisfied: charset-normalizer<4.0,>=2.0 in /usr/local/lib/python3.10/dist-packages (from aiohttp!=4.0.0a0,!=4.0.0a1->gcsfs) (2.0.12)\n",
            "Requirement already satisfied: multidict<7.0,>=4.5 in /usr/local/lib/python3.10/dist-packages (from aiohttp!=4.0.0a0,!=4.0.0a1->gcsfs) (6.0.4)\n",
            "Requirement already satisfied: async-timeout<5.0,>=4.0.0a3 in /usr/local/lib/python3.10/dist-packages (from aiohttp!=4.0.0a0,!=4.0.0a1->gcsfs) (4.0.2)\n",
            "Requirement already satisfied: yarl<2.0,>=1.0 in /usr/local/lib/python3.10/dist-packages (from aiohttp!=4.0.0a0,!=4.0.0a1->gcsfs) (1.9.2)\n",
            "Requirement already satisfied: frozenlist>=1.1.1 in /usr/local/lib/python3.10/dist-packages (from aiohttp!=4.0.0a0,!=4.0.0a1->gcsfs) (1.3.3)\n",
            "Requirement already satisfied: aiosignal>=1.1.2 in /usr/local/lib/python3.10/dist-packages (from aiohttp!=4.0.0a0,!=4.0.0a1->gcsfs) (1.3.1)\n",
            "Requirement already satisfied: cachetools<6.0,>=2.0.0 in /usr/local/lib/python3.10/dist-packages (from google-auth>=1.2->gcsfs) (5.3.1)\n",
            "Requirement already satisfied: pyasn1-modules>=0.2.1 in /usr/local/lib/python3.10/dist-packages (from google-auth>=1.2->gcsfs) (0.3.0)\n",
            "Requirement already satisfied: six>=1.9.0 in /usr/local/lib/python3.10/dist-packages (from google-auth>=1.2->gcsfs) (1.16.0)\n",
            "Requirement already satisfied: rsa<5,>=3.1.4 in /usr/local/lib/python3.10/dist-packages (from google-auth>=1.2->gcsfs) (4.9)\n",
            "Requirement already satisfied: requests-oauthlib>=0.7.0 in /usr/local/lib/python3.10/dist-packages (from google-auth-oauthlib->gcsfs) (1.3.1)\n",
            "Requirement already satisfied: google-api-core!=2.0.*,!=2.1.*,!=2.2.*,!=2.3.0,<3.0.0dev,>=1.31.5 in /usr/local/lib/python3.10/dist-packages (from google-cloud-storage->gcsfs) (2.11.1)\n",
            "Requirement already satisfied: google-cloud-core<3.0dev,>=2.3.0 in /usr/local/lib/python3.10/dist-packages (from google-cloud-storage->gcsfs) (2.3.2)\n",
            "Requirement already satisfied: google-resumable-media>=2.3.2 in /usr/local/lib/python3.10/dist-packages (from google-cloud-storage->gcsfs) (2.5.0)\n",
            "Requirement already satisfied: urllib3<1.27,>=1.21.1 in /usr/local/lib/python3.10/dist-packages (from requests->gcsfs) (1.26.16)\n",
            "Requirement already satisfied: certifi>=2017.4.17 in /usr/local/lib/python3.10/dist-packages (from requests->gcsfs) (2023.5.7)\n",
            "Requirement already satisfied: idna<4,>=2.5 in /usr/local/lib/python3.10/dist-packages (from requests->gcsfs) (3.4)\n",
            "Requirement already satisfied: googleapis-common-protos<2.0.dev0,>=1.56.2 in /usr/local/lib/python3.10/dist-packages (from google-api-core!=2.0.*,!=2.1.*,!=2.2.*,!=2.3.0,<3.0.0dev,>=1.31.5->google-cloud-storage->gcsfs) (1.59.1)\n",
            "Requirement already satisfied: protobuf!=3.20.0,!=3.20.1,!=4.21.0,!=4.21.1,!=4.21.2,!=4.21.3,!=4.21.4,!=4.21.5,<5.0.0.dev0,>=3.19.5 in /usr/local/lib/python3.10/dist-packages (from google-api-core!=2.0.*,!=2.1.*,!=2.2.*,!=2.3.0,<3.0.0dev,>=1.31.5->google-cloud-storage->gcsfs) (3.20.3)\n",
            "Requirement already satisfied: google-crc32c<2.0dev,>=1.0 in /usr/local/lib/python3.10/dist-packages (from google-resumable-media>=2.3.2->google-cloud-storage->gcsfs) (1.5.0)\n",
            "Requirement already satisfied: pyasn1<0.6.0,>=0.4.6 in /usr/local/lib/python3.10/dist-packages (from pyasn1-modules>=0.2.1->google-auth>=1.2->gcsfs) (0.5.0)\n",
            "Requirement already satisfied: oauthlib>=3.0.0 in /usr/local/lib/python3.10/dist-packages (from requests-oauthlib>=0.7.0->google-auth-oauthlib->gcsfs) (3.2.2)\n",
            "Collecting pandera\n",
            "  Downloading pandera-0.15.2-py3-none-any.whl (152 kB)\n",
            "\u001b[2K     \u001b[90m━━━━━━━━━━━━━━━━━━━━━━━━━━━━━━━━━━━━━━━\u001b[0m \u001b[32m152.4/152.4 kB\u001b[0m \u001b[31m3.8 MB/s\u001b[0m eta \u001b[36m0:00:00\u001b[0m\n",
            "\u001b[?25hCollecting multimethod (from pandera)\n",
            "  Downloading multimethod-1.9.1-py3-none-any.whl (10 kB)\n",
            "Requirement already satisfied: numpy>=1.19.0 in /usr/local/lib/python3.10/dist-packages (from pandera) (1.22.4)\n",
            "Requirement already satisfied: packaging>=20.0 in /usr/local/lib/python3.10/dist-packages (from pandera) (23.1)\n",
            "Requirement already satisfied: pandas>=1.2.0 in /usr/local/lib/python3.10/dist-packages (from pandera) (1.5.3)\n",
            "Requirement already satisfied: pydantic<2.0.0 in /usr/local/lib/python3.10/dist-packages (from pandera) (1.10.9)\n",
            "Collecting typeguard>=3.0.2 (from pandera)\n",
            "  Downloading typeguard-4.0.0-py3-none-any.whl (33 kB)\n",
            "Collecting typing-inspect>=0.6.0 (from pandera)\n",
            "  Downloading typing_inspect-0.9.0-py3-none-any.whl (8.8 kB)\n",
            "Requirement already satisfied: wrapt in /usr/local/lib/python3.10/dist-packages (from pandera) (1.14.1)\n",
            "Requirement already satisfied: python-dateutil>=2.8.1 in /usr/local/lib/python3.10/dist-packages (from pandas>=1.2.0->pandera) (2.8.2)\n",
            "Requirement already satisfied: pytz>=2020.1 in /usr/local/lib/python3.10/dist-packages (from pandas>=1.2.0->pandera) (2022.7.1)\n",
            "Requirement already satisfied: typing-extensions>=4.2.0 in /usr/local/lib/python3.10/dist-packages (from pydantic<2.0.0->pandera) (4.6.3)\n",
            "Collecting mypy-extensions>=0.3.0 (from typing-inspect>=0.6.0->pandera)\n",
            "  Downloading mypy_extensions-1.0.0-py3-none-any.whl (4.7 kB)\n",
            "Requirement already satisfied: six>=1.5 in /usr/local/lib/python3.10/dist-packages (from python-dateutil>=2.8.1->pandas>=1.2.0->pandera) (1.16.0)\n",
            "Installing collected packages: typeguard, mypy-extensions, multimethod, typing-inspect, pandera\n",
            "Successfully installed multimethod-1.9.1 mypy-extensions-1.0.0 pandera-0.15.2 typeguard-4.0.0 typing-inspect-0.9.0\n"
          ]
        }
      ],
      "source": [
        "#Instalação e importação de bibliotecas\n",
        "!pip install gcsfs\n",
        "!pip install pandera"
      ]
    },
    {
      "cell_type": "code",
      "source": [
        "#Instalação e importação de bibliotecas\n",
        "import os\n",
        "import pandas as pd\n",
        "import numpy as np\n",
        "import pandera as pa\n",
        "from google.cloud import storage"
      ],
      "metadata": {
        "id": "WM3J4xgUzJFh"
      },
      "execution_count": null,
      "outputs": []
    },
    {
      "cell_type": "code",
      "source": [
        "import warnings\n",
        "warnings.filterwarnings(\"ignore\")"
      ],
      "metadata": {
        "id": "n_0PQoSVzwz-"
      },
      "execution_count": null,
      "outputs": []
    },
    {
      "cell_type": "code",
      "source": [
        "# Configuração da quantidade de colunas para aparecer em um Datraframe\n",
        "pd.set_option('display.max_columns',100)"
      ],
      "metadata": {
        "id": "y9Jb1kN1BKWw"
      },
      "execution_count": null,
      "outputs": []
    },
    {
      "cell_type": "markdown",
      "source": [
        "## **Extração via GCP**"
      ],
      "metadata": {
        "id": "0M7tVRj3_ZQ1"
      }
    },
    {
      "cell_type": "code",
      "source": [
        "# CONFIGURANDO DA CHAVE DE SEGURANCA - ACESSO O PROJETO\n",
        "serviceAccount = '/content/aprendendocloud-390016-3ecbabfe1d77.json'\n",
        "os.environ['GOOGLE_APPLICATION_CREDENTIALS'] = serviceAccount"
      ],
      "metadata": {
        "id": "oN72mn6Hgfcm"
      },
      "execution_count": null,
      "outputs": []
    },
    {
      "cell_type": "code",
      "source": [
        "# Configurações Google Cloud Storage - ACESSO AO BUCKET\n",
        "client = storage.Client()\n",
        "bucket = client.get_bucket('projetos-ad2-caduarte')           # nome da bucket\n",
        "bucket.blob('airbnb_bruto.csv')                               # nome do arquivo\n",
        "path = 'gs://projetos-ad2-caduarte/brutos/airbnb_bruto.csv'   # gsutil"
      ],
      "metadata": {
        "id": "MQJCCsmtgslK"
      },
      "execution_count": null,
      "outputs": []
    },
    {
      "cell_type": "code",
      "source": [
        "# Abertura da base de dados e cópia de segurança (bucket)\n",
        "df = pd.read_csv(path)\n",
        "dfback = df.copy()"
      ],
      "metadata": {
        "id": "NjQaJ6bDkC3N"
      },
      "execution_count": null,
      "outputs": []
    },
    {
      "cell_type": "code",
      "source": [
        "#Extração via Google Cloud\n",
        "#drive.mount('/content/drive')\n",
        "#df = pd.read_csv('/content/drive/MyDrive/BootcampSoulCode/airbnb_bruto.csv')"
      ],
      "metadata": {
        "id": "r_-8_xmTKHe1"
      },
      "execution_count": null,
      "outputs": []
    },
    {
      "cell_type": "markdown",
      "source": [
        "# **Dicionário da base de dados:**\n",
        "*   realSum: preço total;  \n",
        "*   room_shared: se o quarto é compartilhado ou não;\n",
        "*   room_private: se o quarto é privativo ou não;\n",
        "*   person_capacity: número máximo de pessoas permitidas na propriedade;\n",
        "*   host_is_superhost: se o host é ou não um superhost;\n",
        "*   multi: tem vários quartos ou não;\n",
        "*   person_capacity: número máximo de pessoas permitidas na propriedade;\n",
        "*   host_is_superhost: se o host é ou não um superhost;\n",
        "*   multi: tem vários quartos ou não;\n",
        "*   biz: seja para uso comercial ou familiar;\n",
        "*   cleanliness_rating: Classificação de limpeza;\n",
        "*   guest_satisfaction_overall: satisfação geral do hóspede\n",
        "*   bedrooms: número de quartos;\n",
        "*   dist: a distância do centro da cidade;\n",
        "*   metro_dist: distância da estação de metro mais próxima em km;\n",
        "*   attr_index: índice de atração do local do anúncio;\n",
        "*   attr_index_norm: índice de atracção normalizado (0-100);\n",
        "*   rest_index:índice de restaurantes do local do anúncio;\n",
        "*   rest_index_norm: índice de restaurantes normalizado (0-100);\n",
        "*   lng: Longitude\n",
        "*   lat: Latitude"
      ],
      "metadata": {
        "id": "57cROuy8m53t"
      }
    },
    {
      "cell_type": "code",
      "source": [
        "df"
      ],
      "metadata": {
        "colab": {
          "base_uri": "https://localhost:8080/",
          "height": 679
        },
        "id": "CdNWyh0gBaCc",
        "outputId": "6ca01e8a-8286-4fc1-fc0f-9ba536030e23"
      },
      "execution_count": null,
      "outputs": [
        {
          "output_type": "execute_result",
          "data": {
            "text/plain": [
              "      Unnamed: 0      realSum        room_type  room_shared  room_private  \\\n",
              "0              0   194.033698     Private room        False          True   \n",
              "1              1   344.245776     Private room        False          True   \n",
              "2              2   264.101422     Private room        False          True   \n",
              "3              3   433.529398     Private room        False          True   \n",
              "4              4   485.552926     Private room        False          True   \n",
              "...          ...          ...              ...          ...           ...   \n",
              "1098        1098  2486.115342  Entire home/apt        False         False   \n",
              "1099        1099   233.637194     Private room        False          True   \n",
              "1100        1100   317.062311     Private room        False          True   \n",
              "1101        1101  1812.855904  Entire home/apt        False         False   \n",
              "1102        1102   258.008577      Shared room         True         False   \n",
              "\n",
              "      person_capacity  host_is_superhost  multi  biz  cleanliness_rating  \\\n",
              "0                 2.0              False      1    0                10.0   \n",
              "1                 4.0              False      0    0                 8.0   \n",
              "2                 2.0              False      0    1                 9.0   \n",
              "3                 4.0              False      0    1                 9.0   \n",
              "4                 2.0               True      0    0                10.0   \n",
              "...               ...                ...    ...  ...                 ...   \n",
              "1098              2.0              False      0    0                10.0   \n",
              "1099              2.0              False      1    0                10.0   \n",
              "1100              2.0              False      1    0                10.0   \n",
              "1101              4.0              False      0    0                 8.0   \n",
              "1102              2.0              False      0    0                 8.0   \n",
              "\n",
              "      guest_satisfaction_overall  bedrooms      dist  metro_dist  attr_index  \\\n",
              "0                           93.0         1  5.022964    2.539380   78.690379   \n",
              "1                           85.0         1  0.488389    0.239404  631.176378   \n",
              "2                           87.0         1  5.748312    3.651621   75.275877   \n",
              "3                           90.0         2  0.384862    0.439876  493.272534   \n",
              "4                           98.0         1  0.544738    0.318693  552.830324   \n",
              "...                          ...       ...       ...         ...         ...   \n",
              "1098                       100.0         1  2.375833    1.436054  181.198355   \n",
              "1099                        90.0         1  4.719736    0.322263  108.024880   \n",
              "1100                        92.0         1  0.598355    0.751993  440.476515   \n",
              "1101                        84.0         5  1.943020    0.388532  257.948105   \n",
              "1102                        90.0         1  0.280204    0.516217  533.962653   \n",
              "\n",
              "      attr_index_norm  rest_index  rest_index_norm      lng       lat  \n",
              "0            4.166708   98.253896         6.846473  4.90569  52.41772  \n",
              "1           33.421209  837.280757        58.342928  4.90005  52.37432  \n",
              "2            3.985908   95.386955         6.646700  4.97512  52.36103  \n",
              "3           26.119108  875.033098        60.973565  4.89417  52.37663  \n",
              "4           29.272733  815.305740        56.811677  4.90051  52.37508  \n",
              "...               ...         ...              ...      ...       ...  \n",
              "1098         9.594573  225.304203        15.699521  4.85869  52.37677  \n",
              "1099         5.719989  134.775277         9.391335  4.83611  52.34910  \n",
              "1100        23.323524  625.947562        43.616927  4.88897  52.37798  \n",
              "1101        13.658524  336.589237        23.454022  4.90688  52.35794  \n",
              "1102        28.273677  807.492307        56.267226  4.89295  52.37575  \n",
              "\n",
              "[1103 rows x 20 columns]"
            ],
            "text/html": [
              "\n",
              "  <div id=\"df-91e4e996-7c6b-440b-8e84-d5ed3bb65e24\">\n",
              "    <div class=\"colab-df-container\">\n",
              "      <div>\n",
              "<style scoped>\n",
              "    .dataframe tbody tr th:only-of-type {\n",
              "        vertical-align: middle;\n",
              "    }\n",
              "\n",
              "    .dataframe tbody tr th {\n",
              "        vertical-align: top;\n",
              "    }\n",
              "\n",
              "    .dataframe thead th {\n",
              "        text-align: right;\n",
              "    }\n",
              "</style>\n",
              "<table border=\"1\" class=\"dataframe\">\n",
              "  <thead>\n",
              "    <tr style=\"text-align: right;\">\n",
              "      <th></th>\n",
              "      <th>Unnamed: 0</th>\n",
              "      <th>realSum</th>\n",
              "      <th>room_type</th>\n",
              "      <th>room_shared</th>\n",
              "      <th>room_private</th>\n",
              "      <th>person_capacity</th>\n",
              "      <th>host_is_superhost</th>\n",
              "      <th>multi</th>\n",
              "      <th>biz</th>\n",
              "      <th>cleanliness_rating</th>\n",
              "      <th>guest_satisfaction_overall</th>\n",
              "      <th>bedrooms</th>\n",
              "      <th>dist</th>\n",
              "      <th>metro_dist</th>\n",
              "      <th>attr_index</th>\n",
              "      <th>attr_index_norm</th>\n",
              "      <th>rest_index</th>\n",
              "      <th>rest_index_norm</th>\n",
              "      <th>lng</th>\n",
              "      <th>lat</th>\n",
              "    </tr>\n",
              "  </thead>\n",
              "  <tbody>\n",
              "    <tr>\n",
              "      <th>0</th>\n",
              "      <td>0</td>\n",
              "      <td>194.033698</td>\n",
              "      <td>Private room</td>\n",
              "      <td>False</td>\n",
              "      <td>True</td>\n",
              "      <td>2.0</td>\n",
              "      <td>False</td>\n",
              "      <td>1</td>\n",
              "      <td>0</td>\n",
              "      <td>10.0</td>\n",
              "      <td>93.0</td>\n",
              "      <td>1</td>\n",
              "      <td>5.022964</td>\n",
              "      <td>2.539380</td>\n",
              "      <td>78.690379</td>\n",
              "      <td>4.166708</td>\n",
              "      <td>98.253896</td>\n",
              "      <td>6.846473</td>\n",
              "      <td>4.90569</td>\n",
              "      <td>52.41772</td>\n",
              "    </tr>\n",
              "    <tr>\n",
              "      <th>1</th>\n",
              "      <td>1</td>\n",
              "      <td>344.245776</td>\n",
              "      <td>Private room</td>\n",
              "      <td>False</td>\n",
              "      <td>True</td>\n",
              "      <td>4.0</td>\n",
              "      <td>False</td>\n",
              "      <td>0</td>\n",
              "      <td>0</td>\n",
              "      <td>8.0</td>\n",
              "      <td>85.0</td>\n",
              "      <td>1</td>\n",
              "      <td>0.488389</td>\n",
              "      <td>0.239404</td>\n",
              "      <td>631.176378</td>\n",
              "      <td>33.421209</td>\n",
              "      <td>837.280757</td>\n",
              "      <td>58.342928</td>\n",
              "      <td>4.90005</td>\n",
              "      <td>52.37432</td>\n",
              "    </tr>\n",
              "    <tr>\n",
              "      <th>2</th>\n",
              "      <td>2</td>\n",
              "      <td>264.101422</td>\n",
              "      <td>Private room</td>\n",
              "      <td>False</td>\n",
              "      <td>True</td>\n",
              "      <td>2.0</td>\n",
              "      <td>False</td>\n",
              "      <td>0</td>\n",
              "      <td>1</td>\n",
              "      <td>9.0</td>\n",
              "      <td>87.0</td>\n",
              "      <td>1</td>\n",
              "      <td>5.748312</td>\n",
              "      <td>3.651621</td>\n",
              "      <td>75.275877</td>\n",
              "      <td>3.985908</td>\n",
              "      <td>95.386955</td>\n",
              "      <td>6.646700</td>\n",
              "      <td>4.97512</td>\n",
              "      <td>52.36103</td>\n",
              "    </tr>\n",
              "    <tr>\n",
              "      <th>3</th>\n",
              "      <td>3</td>\n",
              "      <td>433.529398</td>\n",
              "      <td>Private room</td>\n",
              "      <td>False</td>\n",
              "      <td>True</td>\n",
              "      <td>4.0</td>\n",
              "      <td>False</td>\n",
              "      <td>0</td>\n",
              "      <td>1</td>\n",
              "      <td>9.0</td>\n",
              "      <td>90.0</td>\n",
              "      <td>2</td>\n",
              "      <td>0.384862</td>\n",
              "      <td>0.439876</td>\n",
              "      <td>493.272534</td>\n",
              "      <td>26.119108</td>\n",
              "      <td>875.033098</td>\n",
              "      <td>60.973565</td>\n",
              "      <td>4.89417</td>\n",
              "      <td>52.37663</td>\n",
              "    </tr>\n",
              "    <tr>\n",
              "      <th>4</th>\n",
              "      <td>4</td>\n",
              "      <td>485.552926</td>\n",
              "      <td>Private room</td>\n",
              "      <td>False</td>\n",
              "      <td>True</td>\n",
              "      <td>2.0</td>\n",
              "      <td>True</td>\n",
              "      <td>0</td>\n",
              "      <td>0</td>\n",
              "      <td>10.0</td>\n",
              "      <td>98.0</td>\n",
              "      <td>1</td>\n",
              "      <td>0.544738</td>\n",
              "      <td>0.318693</td>\n",
              "      <td>552.830324</td>\n",
              "      <td>29.272733</td>\n",
              "      <td>815.305740</td>\n",
              "      <td>56.811677</td>\n",
              "      <td>4.90051</td>\n",
              "      <td>52.37508</td>\n",
              "    </tr>\n",
              "    <tr>\n",
              "      <th>...</th>\n",
              "      <td>...</td>\n",
              "      <td>...</td>\n",
              "      <td>...</td>\n",
              "      <td>...</td>\n",
              "      <td>...</td>\n",
              "      <td>...</td>\n",
              "      <td>...</td>\n",
              "      <td>...</td>\n",
              "      <td>...</td>\n",
              "      <td>...</td>\n",
              "      <td>...</td>\n",
              "      <td>...</td>\n",
              "      <td>...</td>\n",
              "      <td>...</td>\n",
              "      <td>...</td>\n",
              "      <td>...</td>\n",
              "      <td>...</td>\n",
              "      <td>...</td>\n",
              "      <td>...</td>\n",
              "      <td>...</td>\n",
              "    </tr>\n",
              "    <tr>\n",
              "      <th>1098</th>\n",
              "      <td>1098</td>\n",
              "      <td>2486.115342</td>\n",
              "      <td>Entire home/apt</td>\n",
              "      <td>False</td>\n",
              "      <td>False</td>\n",
              "      <td>2.0</td>\n",
              "      <td>False</td>\n",
              "      <td>0</td>\n",
              "      <td>0</td>\n",
              "      <td>10.0</td>\n",
              "      <td>100.0</td>\n",
              "      <td>1</td>\n",
              "      <td>2.375833</td>\n",
              "      <td>1.436054</td>\n",
              "      <td>181.198355</td>\n",
              "      <td>9.594573</td>\n",
              "      <td>225.304203</td>\n",
              "      <td>15.699521</td>\n",
              "      <td>4.85869</td>\n",
              "      <td>52.37677</td>\n",
              "    </tr>\n",
              "    <tr>\n",
              "      <th>1099</th>\n",
              "      <td>1099</td>\n",
              "      <td>233.637194</td>\n",
              "      <td>Private room</td>\n",
              "      <td>False</td>\n",
              "      <td>True</td>\n",
              "      <td>2.0</td>\n",
              "      <td>False</td>\n",
              "      <td>1</td>\n",
              "      <td>0</td>\n",
              "      <td>10.0</td>\n",
              "      <td>90.0</td>\n",
              "      <td>1</td>\n",
              "      <td>4.719736</td>\n",
              "      <td>0.322263</td>\n",
              "      <td>108.024880</td>\n",
              "      <td>5.719989</td>\n",
              "      <td>134.775277</td>\n",
              "      <td>9.391335</td>\n",
              "      <td>4.83611</td>\n",
              "      <td>52.34910</td>\n",
              "    </tr>\n",
              "    <tr>\n",
              "      <th>1100</th>\n",
              "      <td>1100</td>\n",
              "      <td>317.062311</td>\n",
              "      <td>Private room</td>\n",
              "      <td>False</td>\n",
              "      <td>True</td>\n",
              "      <td>2.0</td>\n",
              "      <td>False</td>\n",
              "      <td>1</td>\n",
              "      <td>0</td>\n",
              "      <td>10.0</td>\n",
              "      <td>92.0</td>\n",
              "      <td>1</td>\n",
              "      <td>0.598355</td>\n",
              "      <td>0.751993</td>\n",
              "      <td>440.476515</td>\n",
              "      <td>23.323524</td>\n",
              "      <td>625.947562</td>\n",
              "      <td>43.616927</td>\n",
              "      <td>4.88897</td>\n",
              "      <td>52.37798</td>\n",
              "    </tr>\n",
              "    <tr>\n",
              "      <th>1101</th>\n",
              "      <td>1101</td>\n",
              "      <td>1812.855904</td>\n",
              "      <td>Entire home/apt</td>\n",
              "      <td>False</td>\n",
              "      <td>False</td>\n",
              "      <td>4.0</td>\n",
              "      <td>False</td>\n",
              "      <td>0</td>\n",
              "      <td>0</td>\n",
              "      <td>8.0</td>\n",
              "      <td>84.0</td>\n",
              "      <td>5</td>\n",
              "      <td>1.943020</td>\n",
              "      <td>0.388532</td>\n",
              "      <td>257.948105</td>\n",
              "      <td>13.658524</td>\n",
              "      <td>336.589237</td>\n",
              "      <td>23.454022</td>\n",
              "      <td>4.90688</td>\n",
              "      <td>52.35794</td>\n",
              "    </tr>\n",
              "    <tr>\n",
              "      <th>1102</th>\n",
              "      <td>1102</td>\n",
              "      <td>258.008577</td>\n",
              "      <td>Shared room</td>\n",
              "      <td>True</td>\n",
              "      <td>False</td>\n",
              "      <td>2.0</td>\n",
              "      <td>False</td>\n",
              "      <td>0</td>\n",
              "      <td>0</td>\n",
              "      <td>8.0</td>\n",
              "      <td>90.0</td>\n",
              "      <td>1</td>\n",
              "      <td>0.280204</td>\n",
              "      <td>0.516217</td>\n",
              "      <td>533.962653</td>\n",
              "      <td>28.273677</td>\n",
              "      <td>807.492307</td>\n",
              "      <td>56.267226</td>\n",
              "      <td>4.89295</td>\n",
              "      <td>52.37575</td>\n",
              "    </tr>\n",
              "  </tbody>\n",
              "</table>\n",
              "<p>1103 rows × 20 columns</p>\n",
              "</div>\n",
              "      <button class=\"colab-df-convert\" onclick=\"convertToInteractive('df-91e4e996-7c6b-440b-8e84-d5ed3bb65e24')\"\n",
              "              title=\"Convert this dataframe to an interactive table.\"\n",
              "              style=\"display:none;\">\n",
              "        \n",
              "  <svg xmlns=\"http://www.w3.org/2000/svg\" height=\"24px\"viewBox=\"0 0 24 24\"\n",
              "       width=\"24px\">\n",
              "    <path d=\"M0 0h24v24H0V0z\" fill=\"none\"/>\n",
              "    <path d=\"M18.56 5.44l.94 2.06.94-2.06 2.06-.94-2.06-.94-.94-2.06-.94 2.06-2.06.94zm-11 1L8.5 8.5l.94-2.06 2.06-.94-2.06-.94L8.5 2.5l-.94 2.06-2.06.94zm10 10l.94 2.06.94-2.06 2.06-.94-2.06-.94-.94-2.06-.94 2.06-2.06.94z\"/><path d=\"M17.41 7.96l-1.37-1.37c-.4-.4-.92-.59-1.43-.59-.52 0-1.04.2-1.43.59L10.3 9.45l-7.72 7.72c-.78.78-.78 2.05 0 2.83L4 21.41c.39.39.9.59 1.41.59.51 0 1.02-.2 1.41-.59l7.78-7.78 2.81-2.81c.8-.78.8-2.07 0-2.86zM5.41 20L4 18.59l7.72-7.72 1.47 1.35L5.41 20z\"/>\n",
              "  </svg>\n",
              "      </button>\n",
              "      \n",
              "  <style>\n",
              "    .colab-df-container {\n",
              "      display:flex;\n",
              "      flex-wrap:wrap;\n",
              "      gap: 12px;\n",
              "    }\n",
              "\n",
              "    .colab-df-convert {\n",
              "      background-color: #E8F0FE;\n",
              "      border: none;\n",
              "      border-radius: 50%;\n",
              "      cursor: pointer;\n",
              "      display: none;\n",
              "      fill: #1967D2;\n",
              "      height: 32px;\n",
              "      padding: 0 0 0 0;\n",
              "      width: 32px;\n",
              "    }\n",
              "\n",
              "    .colab-df-convert:hover {\n",
              "      background-color: #E2EBFA;\n",
              "      box-shadow: 0px 1px 2px rgba(60, 64, 67, 0.3), 0px 1px 3px 1px rgba(60, 64, 67, 0.15);\n",
              "      fill: #174EA6;\n",
              "    }\n",
              "\n",
              "    [theme=dark] .colab-df-convert {\n",
              "      background-color: #3B4455;\n",
              "      fill: #D2E3FC;\n",
              "    }\n",
              "\n",
              "    [theme=dark] .colab-df-convert:hover {\n",
              "      background-color: #434B5C;\n",
              "      box-shadow: 0px 1px 3px 1px rgba(0, 0, 0, 0.15);\n",
              "      filter: drop-shadow(0px 1px 2px rgba(0, 0, 0, 0.3));\n",
              "      fill: #FFFFFF;\n",
              "    }\n",
              "  </style>\n",
              "\n",
              "      <script>\n",
              "        const buttonEl =\n",
              "          document.querySelector('#df-91e4e996-7c6b-440b-8e84-d5ed3bb65e24 button.colab-df-convert');\n",
              "        buttonEl.style.display =\n",
              "          google.colab.kernel.accessAllowed ? 'block' : 'none';\n",
              "\n",
              "        async function convertToInteractive(key) {\n",
              "          const element = document.querySelector('#df-91e4e996-7c6b-440b-8e84-d5ed3bb65e24');\n",
              "          const dataTable =\n",
              "            await google.colab.kernel.invokeFunction('convertToInteractive',\n",
              "                                                     [key], {});\n",
              "          if (!dataTable) return;\n",
              "\n",
              "          const docLinkHtml = 'Like what you see? Visit the ' +\n",
              "            '<a target=\"_blank\" href=https://colab.research.google.com/notebooks/data_table.ipynb>data table notebook</a>'\n",
              "            + ' to learn more about interactive tables.';\n",
              "          element.innerHTML = '';\n",
              "          dataTable['output_type'] = 'display_data';\n",
              "          await google.colab.output.renderOutput(dataTable, element);\n",
              "          const docLink = document.createElement('div');\n",
              "          docLink.innerHTML = docLinkHtml;\n",
              "          element.appendChild(docLink);\n",
              "        }\n",
              "      </script>\n",
              "    </div>\n",
              "  </div>\n",
              "  "
            ]
          },
          "metadata": {},
          "execution_count": 13
        }
      ]
    },
    {
      "cell_type": "code",
      "source": [
        "dfback1 = df.copy()"
      ],
      "metadata": {
        "id": "EVuHLehSNlEu"
      },
      "execution_count": null,
      "outputs": []
    },
    {
      "cell_type": "markdown",
      "metadata": {
        "id": "CCl5rfIsOCMy"
      },
      "source": [
        "## **Pré-Análise**"
      ]
    },
    {
      "cell_type": "code",
      "source": [
        "#visualização do Dataframe após o backup1\n",
        "df"
      ],
      "metadata": {
        "colab": {
          "base_uri": "https://localhost:8080/",
          "height": 679
        },
        "id": "UvS9G2fUOaOT",
        "outputId": "644c56a8-c389-4603-ecb9-4e5351418046"
      },
      "execution_count": null,
      "outputs": [
        {
          "output_type": "execute_result",
          "data": {
            "text/plain": [
              "      Unnamed: 0      realSum        room_type  room_shared  room_private  \\\n",
              "0              0   194.033698     Private room        False          True   \n",
              "1              1   344.245776     Private room        False          True   \n",
              "2              2   264.101422     Private room        False          True   \n",
              "3              3   433.529398     Private room        False          True   \n",
              "4              4   485.552926     Private room        False          True   \n",
              "...          ...          ...              ...          ...           ...   \n",
              "1098        1098  2486.115342  Entire home/apt        False         False   \n",
              "1099        1099   233.637194     Private room        False          True   \n",
              "1100        1100   317.062311     Private room        False          True   \n",
              "1101        1101  1812.855904  Entire home/apt        False         False   \n",
              "1102        1102   258.008577      Shared room         True         False   \n",
              "\n",
              "      person_capacity  host_is_superhost  multi  biz  cleanliness_rating  \\\n",
              "0                 2.0              False      1    0                10.0   \n",
              "1                 4.0              False      0    0                 8.0   \n",
              "2                 2.0              False      0    1                 9.0   \n",
              "3                 4.0              False      0    1                 9.0   \n",
              "4                 2.0               True      0    0                10.0   \n",
              "...               ...                ...    ...  ...                 ...   \n",
              "1098              2.0              False      0    0                10.0   \n",
              "1099              2.0              False      1    0                10.0   \n",
              "1100              2.0              False      1    0                10.0   \n",
              "1101              4.0              False      0    0                 8.0   \n",
              "1102              2.0              False      0    0                 8.0   \n",
              "\n",
              "      guest_satisfaction_overall  bedrooms      dist  metro_dist  attr_index  \\\n",
              "0                           93.0         1  5.022964    2.539380   78.690379   \n",
              "1                           85.0         1  0.488389    0.239404  631.176378   \n",
              "2                           87.0         1  5.748312    3.651621   75.275877   \n",
              "3                           90.0         2  0.384862    0.439876  493.272534   \n",
              "4                           98.0         1  0.544738    0.318693  552.830324   \n",
              "...                          ...       ...       ...         ...         ...   \n",
              "1098                       100.0         1  2.375833    1.436054  181.198355   \n",
              "1099                        90.0         1  4.719736    0.322263  108.024880   \n",
              "1100                        92.0         1  0.598355    0.751993  440.476515   \n",
              "1101                        84.0         5  1.943020    0.388532  257.948105   \n",
              "1102                        90.0         1  0.280204    0.516217  533.962653   \n",
              "\n",
              "      attr_index_norm  rest_index  rest_index_norm      lng       lat  \n",
              "0            4.166708   98.253896         6.846473  4.90569  52.41772  \n",
              "1           33.421209  837.280757        58.342928  4.90005  52.37432  \n",
              "2            3.985908   95.386955         6.646700  4.97512  52.36103  \n",
              "3           26.119108  875.033098        60.973565  4.89417  52.37663  \n",
              "4           29.272733  815.305740        56.811677  4.90051  52.37508  \n",
              "...               ...         ...              ...      ...       ...  \n",
              "1098         9.594573  225.304203        15.699521  4.85869  52.37677  \n",
              "1099         5.719989  134.775277         9.391335  4.83611  52.34910  \n",
              "1100        23.323524  625.947562        43.616927  4.88897  52.37798  \n",
              "1101        13.658524  336.589237        23.454022  4.90688  52.35794  \n",
              "1102        28.273677  807.492307        56.267226  4.89295  52.37575  \n",
              "\n",
              "[1103 rows x 20 columns]"
            ],
            "text/html": [
              "\n",
              "  <div id=\"df-899aa942-f6ef-4659-9419-f524dd796e2d\">\n",
              "    <div class=\"colab-df-container\">\n",
              "      <div>\n",
              "<style scoped>\n",
              "    .dataframe tbody tr th:only-of-type {\n",
              "        vertical-align: middle;\n",
              "    }\n",
              "\n",
              "    .dataframe tbody tr th {\n",
              "        vertical-align: top;\n",
              "    }\n",
              "\n",
              "    .dataframe thead th {\n",
              "        text-align: right;\n",
              "    }\n",
              "</style>\n",
              "<table border=\"1\" class=\"dataframe\">\n",
              "  <thead>\n",
              "    <tr style=\"text-align: right;\">\n",
              "      <th></th>\n",
              "      <th>Unnamed: 0</th>\n",
              "      <th>realSum</th>\n",
              "      <th>room_type</th>\n",
              "      <th>room_shared</th>\n",
              "      <th>room_private</th>\n",
              "      <th>person_capacity</th>\n",
              "      <th>host_is_superhost</th>\n",
              "      <th>multi</th>\n",
              "      <th>biz</th>\n",
              "      <th>cleanliness_rating</th>\n",
              "      <th>guest_satisfaction_overall</th>\n",
              "      <th>bedrooms</th>\n",
              "      <th>dist</th>\n",
              "      <th>metro_dist</th>\n",
              "      <th>attr_index</th>\n",
              "      <th>attr_index_norm</th>\n",
              "      <th>rest_index</th>\n",
              "      <th>rest_index_norm</th>\n",
              "      <th>lng</th>\n",
              "      <th>lat</th>\n",
              "    </tr>\n",
              "  </thead>\n",
              "  <tbody>\n",
              "    <tr>\n",
              "      <th>0</th>\n",
              "      <td>0</td>\n",
              "      <td>194.033698</td>\n",
              "      <td>Private room</td>\n",
              "      <td>False</td>\n",
              "      <td>True</td>\n",
              "      <td>2.0</td>\n",
              "      <td>False</td>\n",
              "      <td>1</td>\n",
              "      <td>0</td>\n",
              "      <td>10.0</td>\n",
              "      <td>93.0</td>\n",
              "      <td>1</td>\n",
              "      <td>5.022964</td>\n",
              "      <td>2.539380</td>\n",
              "      <td>78.690379</td>\n",
              "      <td>4.166708</td>\n",
              "      <td>98.253896</td>\n",
              "      <td>6.846473</td>\n",
              "      <td>4.90569</td>\n",
              "      <td>52.41772</td>\n",
              "    </tr>\n",
              "    <tr>\n",
              "      <th>1</th>\n",
              "      <td>1</td>\n",
              "      <td>344.245776</td>\n",
              "      <td>Private room</td>\n",
              "      <td>False</td>\n",
              "      <td>True</td>\n",
              "      <td>4.0</td>\n",
              "      <td>False</td>\n",
              "      <td>0</td>\n",
              "      <td>0</td>\n",
              "      <td>8.0</td>\n",
              "      <td>85.0</td>\n",
              "      <td>1</td>\n",
              "      <td>0.488389</td>\n",
              "      <td>0.239404</td>\n",
              "      <td>631.176378</td>\n",
              "      <td>33.421209</td>\n",
              "      <td>837.280757</td>\n",
              "      <td>58.342928</td>\n",
              "      <td>4.90005</td>\n",
              "      <td>52.37432</td>\n",
              "    </tr>\n",
              "    <tr>\n",
              "      <th>2</th>\n",
              "      <td>2</td>\n",
              "      <td>264.101422</td>\n",
              "      <td>Private room</td>\n",
              "      <td>False</td>\n",
              "      <td>True</td>\n",
              "      <td>2.0</td>\n",
              "      <td>False</td>\n",
              "      <td>0</td>\n",
              "      <td>1</td>\n",
              "      <td>9.0</td>\n",
              "      <td>87.0</td>\n",
              "      <td>1</td>\n",
              "      <td>5.748312</td>\n",
              "      <td>3.651621</td>\n",
              "      <td>75.275877</td>\n",
              "      <td>3.985908</td>\n",
              "      <td>95.386955</td>\n",
              "      <td>6.646700</td>\n",
              "      <td>4.97512</td>\n",
              "      <td>52.36103</td>\n",
              "    </tr>\n",
              "    <tr>\n",
              "      <th>3</th>\n",
              "      <td>3</td>\n",
              "      <td>433.529398</td>\n",
              "      <td>Private room</td>\n",
              "      <td>False</td>\n",
              "      <td>True</td>\n",
              "      <td>4.0</td>\n",
              "      <td>False</td>\n",
              "      <td>0</td>\n",
              "      <td>1</td>\n",
              "      <td>9.0</td>\n",
              "      <td>90.0</td>\n",
              "      <td>2</td>\n",
              "      <td>0.384862</td>\n",
              "      <td>0.439876</td>\n",
              "      <td>493.272534</td>\n",
              "      <td>26.119108</td>\n",
              "      <td>875.033098</td>\n",
              "      <td>60.973565</td>\n",
              "      <td>4.89417</td>\n",
              "      <td>52.37663</td>\n",
              "    </tr>\n",
              "    <tr>\n",
              "      <th>4</th>\n",
              "      <td>4</td>\n",
              "      <td>485.552926</td>\n",
              "      <td>Private room</td>\n",
              "      <td>False</td>\n",
              "      <td>True</td>\n",
              "      <td>2.0</td>\n",
              "      <td>True</td>\n",
              "      <td>0</td>\n",
              "      <td>0</td>\n",
              "      <td>10.0</td>\n",
              "      <td>98.0</td>\n",
              "      <td>1</td>\n",
              "      <td>0.544738</td>\n",
              "      <td>0.318693</td>\n",
              "      <td>552.830324</td>\n",
              "      <td>29.272733</td>\n",
              "      <td>815.305740</td>\n",
              "      <td>56.811677</td>\n",
              "      <td>4.90051</td>\n",
              "      <td>52.37508</td>\n",
              "    </tr>\n",
              "    <tr>\n",
              "      <th>...</th>\n",
              "      <td>...</td>\n",
              "      <td>...</td>\n",
              "      <td>...</td>\n",
              "      <td>...</td>\n",
              "      <td>...</td>\n",
              "      <td>...</td>\n",
              "      <td>...</td>\n",
              "      <td>...</td>\n",
              "      <td>...</td>\n",
              "      <td>...</td>\n",
              "      <td>...</td>\n",
              "      <td>...</td>\n",
              "      <td>...</td>\n",
              "      <td>...</td>\n",
              "      <td>...</td>\n",
              "      <td>...</td>\n",
              "      <td>...</td>\n",
              "      <td>...</td>\n",
              "      <td>...</td>\n",
              "      <td>...</td>\n",
              "    </tr>\n",
              "    <tr>\n",
              "      <th>1098</th>\n",
              "      <td>1098</td>\n",
              "      <td>2486.115342</td>\n",
              "      <td>Entire home/apt</td>\n",
              "      <td>False</td>\n",
              "      <td>False</td>\n",
              "      <td>2.0</td>\n",
              "      <td>False</td>\n",
              "      <td>0</td>\n",
              "      <td>0</td>\n",
              "      <td>10.0</td>\n",
              "      <td>100.0</td>\n",
              "      <td>1</td>\n",
              "      <td>2.375833</td>\n",
              "      <td>1.436054</td>\n",
              "      <td>181.198355</td>\n",
              "      <td>9.594573</td>\n",
              "      <td>225.304203</td>\n",
              "      <td>15.699521</td>\n",
              "      <td>4.85869</td>\n",
              "      <td>52.37677</td>\n",
              "    </tr>\n",
              "    <tr>\n",
              "      <th>1099</th>\n",
              "      <td>1099</td>\n",
              "      <td>233.637194</td>\n",
              "      <td>Private room</td>\n",
              "      <td>False</td>\n",
              "      <td>True</td>\n",
              "      <td>2.0</td>\n",
              "      <td>False</td>\n",
              "      <td>1</td>\n",
              "      <td>0</td>\n",
              "      <td>10.0</td>\n",
              "      <td>90.0</td>\n",
              "      <td>1</td>\n",
              "      <td>4.719736</td>\n",
              "      <td>0.322263</td>\n",
              "      <td>108.024880</td>\n",
              "      <td>5.719989</td>\n",
              "      <td>134.775277</td>\n",
              "      <td>9.391335</td>\n",
              "      <td>4.83611</td>\n",
              "      <td>52.34910</td>\n",
              "    </tr>\n",
              "    <tr>\n",
              "      <th>1100</th>\n",
              "      <td>1100</td>\n",
              "      <td>317.062311</td>\n",
              "      <td>Private room</td>\n",
              "      <td>False</td>\n",
              "      <td>True</td>\n",
              "      <td>2.0</td>\n",
              "      <td>False</td>\n",
              "      <td>1</td>\n",
              "      <td>0</td>\n",
              "      <td>10.0</td>\n",
              "      <td>92.0</td>\n",
              "      <td>1</td>\n",
              "      <td>0.598355</td>\n",
              "      <td>0.751993</td>\n",
              "      <td>440.476515</td>\n",
              "      <td>23.323524</td>\n",
              "      <td>625.947562</td>\n",
              "      <td>43.616927</td>\n",
              "      <td>4.88897</td>\n",
              "      <td>52.37798</td>\n",
              "    </tr>\n",
              "    <tr>\n",
              "      <th>1101</th>\n",
              "      <td>1101</td>\n",
              "      <td>1812.855904</td>\n",
              "      <td>Entire home/apt</td>\n",
              "      <td>False</td>\n",
              "      <td>False</td>\n",
              "      <td>4.0</td>\n",
              "      <td>False</td>\n",
              "      <td>0</td>\n",
              "      <td>0</td>\n",
              "      <td>8.0</td>\n",
              "      <td>84.0</td>\n",
              "      <td>5</td>\n",
              "      <td>1.943020</td>\n",
              "      <td>0.388532</td>\n",
              "      <td>257.948105</td>\n",
              "      <td>13.658524</td>\n",
              "      <td>336.589237</td>\n",
              "      <td>23.454022</td>\n",
              "      <td>4.90688</td>\n",
              "      <td>52.35794</td>\n",
              "    </tr>\n",
              "    <tr>\n",
              "      <th>1102</th>\n",
              "      <td>1102</td>\n",
              "      <td>258.008577</td>\n",
              "      <td>Shared room</td>\n",
              "      <td>True</td>\n",
              "      <td>False</td>\n",
              "      <td>2.0</td>\n",
              "      <td>False</td>\n",
              "      <td>0</td>\n",
              "      <td>0</td>\n",
              "      <td>8.0</td>\n",
              "      <td>90.0</td>\n",
              "      <td>1</td>\n",
              "      <td>0.280204</td>\n",
              "      <td>0.516217</td>\n",
              "      <td>533.962653</td>\n",
              "      <td>28.273677</td>\n",
              "      <td>807.492307</td>\n",
              "      <td>56.267226</td>\n",
              "      <td>4.89295</td>\n",
              "      <td>52.37575</td>\n",
              "    </tr>\n",
              "  </tbody>\n",
              "</table>\n",
              "<p>1103 rows × 20 columns</p>\n",
              "</div>\n",
              "      <button class=\"colab-df-convert\" onclick=\"convertToInteractive('df-899aa942-f6ef-4659-9419-f524dd796e2d')\"\n",
              "              title=\"Convert this dataframe to an interactive table.\"\n",
              "              style=\"display:none;\">\n",
              "        \n",
              "  <svg xmlns=\"http://www.w3.org/2000/svg\" height=\"24px\"viewBox=\"0 0 24 24\"\n",
              "       width=\"24px\">\n",
              "    <path d=\"M0 0h24v24H0V0z\" fill=\"none\"/>\n",
              "    <path d=\"M18.56 5.44l.94 2.06.94-2.06 2.06-.94-2.06-.94-.94-2.06-.94 2.06-2.06.94zm-11 1L8.5 8.5l.94-2.06 2.06-.94-2.06-.94L8.5 2.5l-.94 2.06-2.06.94zm10 10l.94 2.06.94-2.06 2.06-.94-2.06-.94-.94-2.06-.94 2.06-2.06.94z\"/><path d=\"M17.41 7.96l-1.37-1.37c-.4-.4-.92-.59-1.43-.59-.52 0-1.04.2-1.43.59L10.3 9.45l-7.72 7.72c-.78.78-.78 2.05 0 2.83L4 21.41c.39.39.9.59 1.41.59.51 0 1.02-.2 1.41-.59l7.78-7.78 2.81-2.81c.8-.78.8-2.07 0-2.86zM5.41 20L4 18.59l7.72-7.72 1.47 1.35L5.41 20z\"/>\n",
              "  </svg>\n",
              "      </button>\n",
              "      \n",
              "  <style>\n",
              "    .colab-df-container {\n",
              "      display:flex;\n",
              "      flex-wrap:wrap;\n",
              "      gap: 12px;\n",
              "    }\n",
              "\n",
              "    .colab-df-convert {\n",
              "      background-color: #E8F0FE;\n",
              "      border: none;\n",
              "      border-radius: 50%;\n",
              "      cursor: pointer;\n",
              "      display: none;\n",
              "      fill: #1967D2;\n",
              "      height: 32px;\n",
              "      padding: 0 0 0 0;\n",
              "      width: 32px;\n",
              "    }\n",
              "\n",
              "    .colab-df-convert:hover {\n",
              "      background-color: #E2EBFA;\n",
              "      box-shadow: 0px 1px 2px rgba(60, 64, 67, 0.3), 0px 1px 3px 1px rgba(60, 64, 67, 0.15);\n",
              "      fill: #174EA6;\n",
              "    }\n",
              "\n",
              "    [theme=dark] .colab-df-convert {\n",
              "      background-color: #3B4455;\n",
              "      fill: #D2E3FC;\n",
              "    }\n",
              "\n",
              "    [theme=dark] .colab-df-convert:hover {\n",
              "      background-color: #434B5C;\n",
              "      box-shadow: 0px 1px 3px 1px rgba(0, 0, 0, 0.15);\n",
              "      filter: drop-shadow(0px 1px 2px rgba(0, 0, 0, 0.3));\n",
              "      fill: #FFFFFF;\n",
              "    }\n",
              "  </style>\n",
              "\n",
              "      <script>\n",
              "        const buttonEl =\n",
              "          document.querySelector('#df-899aa942-f6ef-4659-9419-f524dd796e2d button.colab-df-convert');\n",
              "        buttonEl.style.display =\n",
              "          google.colab.kernel.accessAllowed ? 'block' : 'none';\n",
              "\n",
              "        async function convertToInteractive(key) {\n",
              "          const element = document.querySelector('#df-899aa942-f6ef-4659-9419-f524dd796e2d');\n",
              "          const dataTable =\n",
              "            await google.colab.kernel.invokeFunction('convertToInteractive',\n",
              "                                                     [key], {});\n",
              "          if (!dataTable) return;\n",
              "\n",
              "          const docLinkHtml = 'Like what you see? Visit the ' +\n",
              "            '<a target=\"_blank\" href=https://colab.research.google.com/notebooks/data_table.ipynb>data table notebook</a>'\n",
              "            + ' to learn more about interactive tables.';\n",
              "          element.innerHTML = '';\n",
              "          dataTable['output_type'] = 'display_data';\n",
              "          await google.colab.output.renderOutput(dataTable, element);\n",
              "          const docLink = document.createElement('div');\n",
              "          docLink.innerHTML = docLinkHtml;\n",
              "          element.appendChild(docLink);\n",
              "        }\n",
              "      </script>\n",
              "    </div>\n",
              "  </div>\n",
              "  "
            ]
          },
          "metadata": {},
          "execution_count": 15
        }
      ]
    },
    {
      "cell_type": "code",
      "source": [
        "#Tamando do Dataframe (linhas,colunas)\n",
        "df.shape"
      ],
      "metadata": {
        "colab": {
          "base_uri": "https://localhost:8080/"
        },
        "id": "SXI9dlI_Oxoj",
        "outputId": "e99fcebc-7b97-4def-d41f-a80d427fb819"
      },
      "execution_count": null,
      "outputs": [
        {
          "output_type": "execute_result",
          "data": {
            "text/plain": [
              "(1103, 20)"
            ]
          },
          "metadata": {},
          "execution_count": 16
        }
      ]
    },
    {
      "cell_type": "markdown",
      "source": [
        "# Transformação"
      ],
      "metadata": {
        "id": "-7s-MrN-PUs2"
      }
    },
    {
      "cell_type": "code",
      "source": [
        "# Retirando a coluna Unnamed\n",
        "df.drop(['Unnamed: 0'],axis=1,inplace=True)"
      ],
      "metadata": {
        "id": "FBuZyWuHr3un"
      },
      "execution_count": null,
      "outputs": []
    },
    {
      "cell_type": "code",
      "source": [
        "#verificando o tipo de dado em cada coluna\n",
        "df.dtypes"
      ],
      "metadata": {
        "colab": {
          "base_uri": "https://localhost:8080/"
        },
        "id": "ha46th8DPAA0",
        "outputId": "373a82dc-4f88-4c85-edfc-1fa247dbaa40"
      },
      "execution_count": null,
      "outputs": [
        {
          "output_type": "execute_result",
          "data": {
            "text/plain": [
              "realSum                       float64\n",
              "room_type                      object\n",
              "room_shared                      bool\n",
              "room_private                     bool\n",
              "person_capacity               float64\n",
              "host_is_superhost                bool\n",
              "multi                           int64\n",
              "biz                             int64\n",
              "cleanliness_rating            float64\n",
              "guest_satisfaction_overall    float64\n",
              "bedrooms                        int64\n",
              "dist                          float64\n",
              "metro_dist                    float64\n",
              "attr_index                    float64\n",
              "attr_index_norm               float64\n",
              "rest_index                    float64\n",
              "rest_index_norm               float64\n",
              "lng                           float64\n",
              "lat                           float64\n",
              "dtype: object"
            ]
          },
          "metadata": {},
          "execution_count": 18
        }
      ]
    },
    {
      "cell_type": "code",
      "source": [
        "#verificação da retirada da coluna Unnamed\n",
        "df.head()"
      ],
      "metadata": {
        "colab": {
          "base_uri": "https://localhost:8080/",
          "height": 357
        },
        "id": "uK6oGiietr-V",
        "outputId": "e9bfe6fc-7aa8-4bf4-aa8c-d0b0fe87b006"
      },
      "execution_count": null,
      "outputs": [
        {
          "output_type": "execute_result",
          "data": {
            "text/plain": [
              "      realSum     room_type  room_shared  room_private  person_capacity  \\\n",
              "0  194.033698  Private room        False          True              2.0   \n",
              "1  344.245776  Private room        False          True              4.0   \n",
              "2  264.101422  Private room        False          True              2.0   \n",
              "3  433.529398  Private room        False          True              4.0   \n",
              "4  485.552926  Private room        False          True              2.0   \n",
              "\n",
              "   host_is_superhost  multi  biz  cleanliness_rating  \\\n",
              "0              False      1    0                10.0   \n",
              "1              False      0    0                 8.0   \n",
              "2              False      0    1                 9.0   \n",
              "3              False      0    1                 9.0   \n",
              "4               True      0    0                10.0   \n",
              "\n",
              "   guest_satisfaction_overall  bedrooms      dist  metro_dist  attr_index  \\\n",
              "0                        93.0         1  5.022964    2.539380   78.690379   \n",
              "1                        85.0         1  0.488389    0.239404  631.176378   \n",
              "2                        87.0         1  5.748312    3.651621   75.275877   \n",
              "3                        90.0         2  0.384862    0.439876  493.272534   \n",
              "4                        98.0         1  0.544738    0.318693  552.830324   \n",
              "\n",
              "   attr_index_norm  rest_index  rest_index_norm      lng       lat  \n",
              "0         4.166708   98.253896         6.846473  4.90569  52.41772  \n",
              "1        33.421209  837.280757        58.342928  4.90005  52.37432  \n",
              "2         3.985908   95.386955         6.646700  4.97512  52.36103  \n",
              "3        26.119108  875.033098        60.973565  4.89417  52.37663  \n",
              "4        29.272733  815.305740        56.811677  4.90051  52.37508  "
            ],
            "text/html": [
              "\n",
              "  <div id=\"df-7dd9868b-f53a-4173-b2ea-9c4f78988de5\">\n",
              "    <div class=\"colab-df-container\">\n",
              "      <div>\n",
              "<style scoped>\n",
              "    .dataframe tbody tr th:only-of-type {\n",
              "        vertical-align: middle;\n",
              "    }\n",
              "\n",
              "    .dataframe tbody tr th {\n",
              "        vertical-align: top;\n",
              "    }\n",
              "\n",
              "    .dataframe thead th {\n",
              "        text-align: right;\n",
              "    }\n",
              "</style>\n",
              "<table border=\"1\" class=\"dataframe\">\n",
              "  <thead>\n",
              "    <tr style=\"text-align: right;\">\n",
              "      <th></th>\n",
              "      <th>realSum</th>\n",
              "      <th>room_type</th>\n",
              "      <th>room_shared</th>\n",
              "      <th>room_private</th>\n",
              "      <th>person_capacity</th>\n",
              "      <th>host_is_superhost</th>\n",
              "      <th>multi</th>\n",
              "      <th>biz</th>\n",
              "      <th>cleanliness_rating</th>\n",
              "      <th>guest_satisfaction_overall</th>\n",
              "      <th>bedrooms</th>\n",
              "      <th>dist</th>\n",
              "      <th>metro_dist</th>\n",
              "      <th>attr_index</th>\n",
              "      <th>attr_index_norm</th>\n",
              "      <th>rest_index</th>\n",
              "      <th>rest_index_norm</th>\n",
              "      <th>lng</th>\n",
              "      <th>lat</th>\n",
              "    </tr>\n",
              "  </thead>\n",
              "  <tbody>\n",
              "    <tr>\n",
              "      <th>0</th>\n",
              "      <td>194.033698</td>\n",
              "      <td>Private room</td>\n",
              "      <td>False</td>\n",
              "      <td>True</td>\n",
              "      <td>2.0</td>\n",
              "      <td>False</td>\n",
              "      <td>1</td>\n",
              "      <td>0</td>\n",
              "      <td>10.0</td>\n",
              "      <td>93.0</td>\n",
              "      <td>1</td>\n",
              "      <td>5.022964</td>\n",
              "      <td>2.539380</td>\n",
              "      <td>78.690379</td>\n",
              "      <td>4.166708</td>\n",
              "      <td>98.253896</td>\n",
              "      <td>6.846473</td>\n",
              "      <td>4.90569</td>\n",
              "      <td>52.41772</td>\n",
              "    </tr>\n",
              "    <tr>\n",
              "      <th>1</th>\n",
              "      <td>344.245776</td>\n",
              "      <td>Private room</td>\n",
              "      <td>False</td>\n",
              "      <td>True</td>\n",
              "      <td>4.0</td>\n",
              "      <td>False</td>\n",
              "      <td>0</td>\n",
              "      <td>0</td>\n",
              "      <td>8.0</td>\n",
              "      <td>85.0</td>\n",
              "      <td>1</td>\n",
              "      <td>0.488389</td>\n",
              "      <td>0.239404</td>\n",
              "      <td>631.176378</td>\n",
              "      <td>33.421209</td>\n",
              "      <td>837.280757</td>\n",
              "      <td>58.342928</td>\n",
              "      <td>4.90005</td>\n",
              "      <td>52.37432</td>\n",
              "    </tr>\n",
              "    <tr>\n",
              "      <th>2</th>\n",
              "      <td>264.101422</td>\n",
              "      <td>Private room</td>\n",
              "      <td>False</td>\n",
              "      <td>True</td>\n",
              "      <td>2.0</td>\n",
              "      <td>False</td>\n",
              "      <td>0</td>\n",
              "      <td>1</td>\n",
              "      <td>9.0</td>\n",
              "      <td>87.0</td>\n",
              "      <td>1</td>\n",
              "      <td>5.748312</td>\n",
              "      <td>3.651621</td>\n",
              "      <td>75.275877</td>\n",
              "      <td>3.985908</td>\n",
              "      <td>95.386955</td>\n",
              "      <td>6.646700</td>\n",
              "      <td>4.97512</td>\n",
              "      <td>52.36103</td>\n",
              "    </tr>\n",
              "    <tr>\n",
              "      <th>3</th>\n",
              "      <td>433.529398</td>\n",
              "      <td>Private room</td>\n",
              "      <td>False</td>\n",
              "      <td>True</td>\n",
              "      <td>4.0</td>\n",
              "      <td>False</td>\n",
              "      <td>0</td>\n",
              "      <td>1</td>\n",
              "      <td>9.0</td>\n",
              "      <td>90.0</td>\n",
              "      <td>2</td>\n",
              "      <td>0.384862</td>\n",
              "      <td>0.439876</td>\n",
              "      <td>493.272534</td>\n",
              "      <td>26.119108</td>\n",
              "      <td>875.033098</td>\n",
              "      <td>60.973565</td>\n",
              "      <td>4.89417</td>\n",
              "      <td>52.37663</td>\n",
              "    </tr>\n",
              "    <tr>\n",
              "      <th>4</th>\n",
              "      <td>485.552926</td>\n",
              "      <td>Private room</td>\n",
              "      <td>False</td>\n",
              "      <td>True</td>\n",
              "      <td>2.0</td>\n",
              "      <td>True</td>\n",
              "      <td>0</td>\n",
              "      <td>0</td>\n",
              "      <td>10.0</td>\n",
              "      <td>98.0</td>\n",
              "      <td>1</td>\n",
              "      <td>0.544738</td>\n",
              "      <td>0.318693</td>\n",
              "      <td>552.830324</td>\n",
              "      <td>29.272733</td>\n",
              "      <td>815.305740</td>\n",
              "      <td>56.811677</td>\n",
              "      <td>4.90051</td>\n",
              "      <td>52.37508</td>\n",
              "    </tr>\n",
              "  </tbody>\n",
              "</table>\n",
              "</div>\n",
              "      <button class=\"colab-df-convert\" onclick=\"convertToInteractive('df-7dd9868b-f53a-4173-b2ea-9c4f78988de5')\"\n",
              "              title=\"Convert this dataframe to an interactive table.\"\n",
              "              style=\"display:none;\">\n",
              "        \n",
              "  <svg xmlns=\"http://www.w3.org/2000/svg\" height=\"24px\"viewBox=\"0 0 24 24\"\n",
              "       width=\"24px\">\n",
              "    <path d=\"M0 0h24v24H0V0z\" fill=\"none\"/>\n",
              "    <path d=\"M18.56 5.44l.94 2.06.94-2.06 2.06-.94-2.06-.94-.94-2.06-.94 2.06-2.06.94zm-11 1L8.5 8.5l.94-2.06 2.06-.94-2.06-.94L8.5 2.5l-.94 2.06-2.06.94zm10 10l.94 2.06.94-2.06 2.06-.94-2.06-.94-.94-2.06-.94 2.06-2.06.94z\"/><path d=\"M17.41 7.96l-1.37-1.37c-.4-.4-.92-.59-1.43-.59-.52 0-1.04.2-1.43.59L10.3 9.45l-7.72 7.72c-.78.78-.78 2.05 0 2.83L4 21.41c.39.39.9.59 1.41.59.51 0 1.02-.2 1.41-.59l7.78-7.78 2.81-2.81c.8-.78.8-2.07 0-2.86zM5.41 20L4 18.59l7.72-7.72 1.47 1.35L5.41 20z\"/>\n",
              "  </svg>\n",
              "      </button>\n",
              "      \n",
              "  <style>\n",
              "    .colab-df-container {\n",
              "      display:flex;\n",
              "      flex-wrap:wrap;\n",
              "      gap: 12px;\n",
              "    }\n",
              "\n",
              "    .colab-df-convert {\n",
              "      background-color: #E8F0FE;\n",
              "      border: none;\n",
              "      border-radius: 50%;\n",
              "      cursor: pointer;\n",
              "      display: none;\n",
              "      fill: #1967D2;\n",
              "      height: 32px;\n",
              "      padding: 0 0 0 0;\n",
              "      width: 32px;\n",
              "    }\n",
              "\n",
              "    .colab-df-convert:hover {\n",
              "      background-color: #E2EBFA;\n",
              "      box-shadow: 0px 1px 2px rgba(60, 64, 67, 0.3), 0px 1px 3px 1px rgba(60, 64, 67, 0.15);\n",
              "      fill: #174EA6;\n",
              "    }\n",
              "\n",
              "    [theme=dark] .colab-df-convert {\n",
              "      background-color: #3B4455;\n",
              "      fill: #D2E3FC;\n",
              "    }\n",
              "\n",
              "    [theme=dark] .colab-df-convert:hover {\n",
              "      background-color: #434B5C;\n",
              "      box-shadow: 0px 1px 3px 1px rgba(0, 0, 0, 0.15);\n",
              "      filter: drop-shadow(0px 1px 2px rgba(0, 0, 0, 0.3));\n",
              "      fill: #FFFFFF;\n",
              "    }\n",
              "  </style>\n",
              "\n",
              "      <script>\n",
              "        const buttonEl =\n",
              "          document.querySelector('#df-7dd9868b-f53a-4173-b2ea-9c4f78988de5 button.colab-df-convert');\n",
              "        buttonEl.style.display =\n",
              "          google.colab.kernel.accessAllowed ? 'block' : 'none';\n",
              "\n",
              "        async function convertToInteractive(key) {\n",
              "          const element = document.querySelector('#df-7dd9868b-f53a-4173-b2ea-9c4f78988de5');\n",
              "          const dataTable =\n",
              "            await google.colab.kernel.invokeFunction('convertToInteractive',\n",
              "                                                     [key], {});\n",
              "          if (!dataTable) return;\n",
              "\n",
              "          const docLinkHtml = 'Like what you see? Visit the ' +\n",
              "            '<a target=\"_blank\" href=https://colab.research.google.com/notebooks/data_table.ipynb>data table notebook</a>'\n",
              "            + ' to learn more about interactive tables.';\n",
              "          element.innerHTML = '';\n",
              "          dataTable['output_type'] = 'display_data';\n",
              "          await google.colab.output.renderOutput(dataTable, element);\n",
              "          const docLink = document.createElement('div');\n",
              "          docLink.innerHTML = docLinkHtml;\n",
              "          element.appendChild(docLink);\n",
              "        }\n",
              "      </script>\n",
              "    </div>\n",
              "  </div>\n",
              "  "
            ]
          },
          "metadata": {},
          "execution_count": 19
        }
      ]
    },
    {
      "cell_type": "code",
      "source": [
        "#Tradução das colunas para melhor interpretação\n",
        "df.rename(columns={'realSum':'preço_total',\n",
        "                   'room_type':'tipo_quarto',\n",
        "                   'room_shared':'compartilhado',\n",
        "                   'room_private':'quarto_privativo',\n",
        "                   'person_capacity':'capacidade',\n",
        "                   'host_is_superhost':'Superhost',\n",
        "                   'multi':'múltiplos_quartos',\n",
        "                   'biz':'Uso comercial ou familiar',\n",
        "                   'cleanliness_rating':'nota_limpeza',\n",
        "                   'guest_satisfaction_overall':'satisfacao',\n",
        "                   'bedrooms':'quartos',\n",
        "                   'dist':'distancia_centro',\n",
        "                   'metro_dist':'distancia_metrô',\n",
        "                   'attr_index': 'índice de atração do local do anúncio',\n",
        "                   'attr_index_norm' : 'índice de atracção normalizado (0-100)',\n",
        "                   'rest_index' : 'índice de restaurantes do local do anúncio',\n",
        "                   'rest_index_norm' : 'índice de restaurantes normalizado (0-100)',\n",
        "                   'lat':'latitude',\n",
        "                   'lng':'longitude'})\n",
        "\n",
        "\n"
      ],
      "metadata": {
        "colab": {
          "base_uri": "https://localhost:8080/",
          "height": 592
        },
        "id": "GtIJnC5OU4NM",
        "outputId": "5a8ff74e-9b80-4b5a-8724-fb16accc3483"
      },
      "execution_count": null,
      "outputs": [
        {
          "output_type": "execute_result",
          "data": {
            "text/plain": [
              "      preço_total      tipo_quarto  compartilhado  quarto_privativo  \\\n",
              "0      194.033698     Private room          False              True   \n",
              "1      344.245776     Private room          False              True   \n",
              "2      264.101422     Private room          False              True   \n",
              "3      433.529398     Private room          False              True   \n",
              "4      485.552926     Private room          False              True   \n",
              "...           ...              ...            ...               ...   \n",
              "1098  2486.115342  Entire home/apt          False             False   \n",
              "1099   233.637194     Private room          False              True   \n",
              "1100   317.062311     Private room          False              True   \n",
              "1101  1812.855904  Entire home/apt          False             False   \n",
              "1102   258.008577      Shared room           True             False   \n",
              "\n",
              "      capacidade  Superhost  múltiplos_quartos  Uso comercial ou familiar  \\\n",
              "0            2.0      False                  1                          0   \n",
              "1            4.0      False                  0                          0   \n",
              "2            2.0      False                  0                          1   \n",
              "3            4.0      False                  0                          1   \n",
              "4            2.0       True                  0                          0   \n",
              "...          ...        ...                ...                        ...   \n",
              "1098         2.0      False                  0                          0   \n",
              "1099         2.0      False                  1                          0   \n",
              "1100         2.0      False                  1                          0   \n",
              "1101         4.0      False                  0                          0   \n",
              "1102         2.0      False                  0                          0   \n",
              "\n",
              "      nota_limpeza  satisfacao  quartos  distancia_centro  distancia_metrô  \\\n",
              "0             10.0        93.0        1          5.022964         2.539380   \n",
              "1              8.0        85.0        1          0.488389         0.239404   \n",
              "2              9.0        87.0        1          5.748312         3.651621   \n",
              "3              9.0        90.0        2          0.384862         0.439876   \n",
              "4             10.0        98.0        1          0.544738         0.318693   \n",
              "...            ...         ...      ...               ...              ...   \n",
              "1098          10.0       100.0        1          2.375833         1.436054   \n",
              "1099          10.0        90.0        1          4.719736         0.322263   \n",
              "1100          10.0        92.0        1          0.598355         0.751993   \n",
              "1101           8.0        84.0        5          1.943020         0.388532   \n",
              "1102           8.0        90.0        1          0.280204         0.516217   \n",
              "\n",
              "      índice de atração do local do anúncio  \\\n",
              "0                                 78.690379   \n",
              "1                                631.176378   \n",
              "2                                 75.275877   \n",
              "3                                493.272534   \n",
              "4                                552.830324   \n",
              "...                                     ...   \n",
              "1098                             181.198355   \n",
              "1099                             108.024880   \n",
              "1100                             440.476515   \n",
              "1101                             257.948105   \n",
              "1102                             533.962653   \n",
              "\n",
              "      índice de atracção normalizado (0-100)  \\\n",
              "0                                   4.166708   \n",
              "1                                  33.421209   \n",
              "2                                   3.985908   \n",
              "3                                  26.119108   \n",
              "4                                  29.272733   \n",
              "...                                      ...   \n",
              "1098                                9.594573   \n",
              "1099                                5.719989   \n",
              "1100                               23.323524   \n",
              "1101                               13.658524   \n",
              "1102                               28.273677   \n",
              "\n",
              "      índice de restaurantes do local do anúncio  \\\n",
              "0                                      98.253896   \n",
              "1                                     837.280757   \n",
              "2                                      95.386955   \n",
              "3                                     875.033098   \n",
              "4                                     815.305740   \n",
              "...                                          ...   \n",
              "1098                                  225.304203   \n",
              "1099                                  134.775277   \n",
              "1100                                  625.947562   \n",
              "1101                                  336.589237   \n",
              "1102                                  807.492307   \n",
              "\n",
              "      índice de restaurantes normalizado (0-100)  longitude  latitude  \n",
              "0                                       6.846473    4.90569  52.41772  \n",
              "1                                      58.342928    4.90005  52.37432  \n",
              "2                                       6.646700    4.97512  52.36103  \n",
              "3                                      60.973565    4.89417  52.37663  \n",
              "4                                      56.811677    4.90051  52.37508  \n",
              "...                                          ...        ...       ...  \n",
              "1098                                   15.699521    4.85869  52.37677  \n",
              "1099                                    9.391335    4.83611  52.34910  \n",
              "1100                                   43.616927    4.88897  52.37798  \n",
              "1101                                   23.454022    4.90688  52.35794  \n",
              "1102                                   56.267226    4.89295  52.37575  \n",
              "\n",
              "[1103 rows x 19 columns]"
            ],
            "text/html": [
              "\n",
              "  <div id=\"df-1bcf432e-981c-4861-8209-d53a19a61a14\">\n",
              "    <div class=\"colab-df-container\">\n",
              "      <div>\n",
              "<style scoped>\n",
              "    .dataframe tbody tr th:only-of-type {\n",
              "        vertical-align: middle;\n",
              "    }\n",
              "\n",
              "    .dataframe tbody tr th {\n",
              "        vertical-align: top;\n",
              "    }\n",
              "\n",
              "    .dataframe thead th {\n",
              "        text-align: right;\n",
              "    }\n",
              "</style>\n",
              "<table border=\"1\" class=\"dataframe\">\n",
              "  <thead>\n",
              "    <tr style=\"text-align: right;\">\n",
              "      <th></th>\n",
              "      <th>preço_total</th>\n",
              "      <th>tipo_quarto</th>\n",
              "      <th>compartilhado</th>\n",
              "      <th>quarto_privativo</th>\n",
              "      <th>capacidade</th>\n",
              "      <th>Superhost</th>\n",
              "      <th>múltiplos_quartos</th>\n",
              "      <th>Uso comercial ou familiar</th>\n",
              "      <th>nota_limpeza</th>\n",
              "      <th>satisfacao</th>\n",
              "      <th>quartos</th>\n",
              "      <th>distancia_centro</th>\n",
              "      <th>distancia_metrô</th>\n",
              "      <th>índice de atração do local do anúncio</th>\n",
              "      <th>índice de atracção normalizado (0-100)</th>\n",
              "      <th>índice de restaurantes do local do anúncio</th>\n",
              "      <th>índice de restaurantes normalizado (0-100)</th>\n",
              "      <th>longitude</th>\n",
              "      <th>latitude</th>\n",
              "    </tr>\n",
              "  </thead>\n",
              "  <tbody>\n",
              "    <tr>\n",
              "      <th>0</th>\n",
              "      <td>194.033698</td>\n",
              "      <td>Private room</td>\n",
              "      <td>False</td>\n",
              "      <td>True</td>\n",
              "      <td>2.0</td>\n",
              "      <td>False</td>\n",
              "      <td>1</td>\n",
              "      <td>0</td>\n",
              "      <td>10.0</td>\n",
              "      <td>93.0</td>\n",
              "      <td>1</td>\n",
              "      <td>5.022964</td>\n",
              "      <td>2.539380</td>\n",
              "      <td>78.690379</td>\n",
              "      <td>4.166708</td>\n",
              "      <td>98.253896</td>\n",
              "      <td>6.846473</td>\n",
              "      <td>4.90569</td>\n",
              "      <td>52.41772</td>\n",
              "    </tr>\n",
              "    <tr>\n",
              "      <th>1</th>\n",
              "      <td>344.245776</td>\n",
              "      <td>Private room</td>\n",
              "      <td>False</td>\n",
              "      <td>True</td>\n",
              "      <td>4.0</td>\n",
              "      <td>False</td>\n",
              "      <td>0</td>\n",
              "      <td>0</td>\n",
              "      <td>8.0</td>\n",
              "      <td>85.0</td>\n",
              "      <td>1</td>\n",
              "      <td>0.488389</td>\n",
              "      <td>0.239404</td>\n",
              "      <td>631.176378</td>\n",
              "      <td>33.421209</td>\n",
              "      <td>837.280757</td>\n",
              "      <td>58.342928</td>\n",
              "      <td>4.90005</td>\n",
              "      <td>52.37432</td>\n",
              "    </tr>\n",
              "    <tr>\n",
              "      <th>2</th>\n",
              "      <td>264.101422</td>\n",
              "      <td>Private room</td>\n",
              "      <td>False</td>\n",
              "      <td>True</td>\n",
              "      <td>2.0</td>\n",
              "      <td>False</td>\n",
              "      <td>0</td>\n",
              "      <td>1</td>\n",
              "      <td>9.0</td>\n",
              "      <td>87.0</td>\n",
              "      <td>1</td>\n",
              "      <td>5.748312</td>\n",
              "      <td>3.651621</td>\n",
              "      <td>75.275877</td>\n",
              "      <td>3.985908</td>\n",
              "      <td>95.386955</td>\n",
              "      <td>6.646700</td>\n",
              "      <td>4.97512</td>\n",
              "      <td>52.36103</td>\n",
              "    </tr>\n",
              "    <tr>\n",
              "      <th>3</th>\n",
              "      <td>433.529398</td>\n",
              "      <td>Private room</td>\n",
              "      <td>False</td>\n",
              "      <td>True</td>\n",
              "      <td>4.0</td>\n",
              "      <td>False</td>\n",
              "      <td>0</td>\n",
              "      <td>1</td>\n",
              "      <td>9.0</td>\n",
              "      <td>90.0</td>\n",
              "      <td>2</td>\n",
              "      <td>0.384862</td>\n",
              "      <td>0.439876</td>\n",
              "      <td>493.272534</td>\n",
              "      <td>26.119108</td>\n",
              "      <td>875.033098</td>\n",
              "      <td>60.973565</td>\n",
              "      <td>4.89417</td>\n",
              "      <td>52.37663</td>\n",
              "    </tr>\n",
              "    <tr>\n",
              "      <th>4</th>\n",
              "      <td>485.552926</td>\n",
              "      <td>Private room</td>\n",
              "      <td>False</td>\n",
              "      <td>True</td>\n",
              "      <td>2.0</td>\n",
              "      <td>True</td>\n",
              "      <td>0</td>\n",
              "      <td>0</td>\n",
              "      <td>10.0</td>\n",
              "      <td>98.0</td>\n",
              "      <td>1</td>\n",
              "      <td>0.544738</td>\n",
              "      <td>0.318693</td>\n",
              "      <td>552.830324</td>\n",
              "      <td>29.272733</td>\n",
              "      <td>815.305740</td>\n",
              "      <td>56.811677</td>\n",
              "      <td>4.90051</td>\n",
              "      <td>52.37508</td>\n",
              "    </tr>\n",
              "    <tr>\n",
              "      <th>...</th>\n",
              "      <td>...</td>\n",
              "      <td>...</td>\n",
              "      <td>...</td>\n",
              "      <td>...</td>\n",
              "      <td>...</td>\n",
              "      <td>...</td>\n",
              "      <td>...</td>\n",
              "      <td>...</td>\n",
              "      <td>...</td>\n",
              "      <td>...</td>\n",
              "      <td>...</td>\n",
              "      <td>...</td>\n",
              "      <td>...</td>\n",
              "      <td>...</td>\n",
              "      <td>...</td>\n",
              "      <td>...</td>\n",
              "      <td>...</td>\n",
              "      <td>...</td>\n",
              "      <td>...</td>\n",
              "    </tr>\n",
              "    <tr>\n",
              "      <th>1098</th>\n",
              "      <td>2486.115342</td>\n",
              "      <td>Entire home/apt</td>\n",
              "      <td>False</td>\n",
              "      <td>False</td>\n",
              "      <td>2.0</td>\n",
              "      <td>False</td>\n",
              "      <td>0</td>\n",
              "      <td>0</td>\n",
              "      <td>10.0</td>\n",
              "      <td>100.0</td>\n",
              "      <td>1</td>\n",
              "      <td>2.375833</td>\n",
              "      <td>1.436054</td>\n",
              "      <td>181.198355</td>\n",
              "      <td>9.594573</td>\n",
              "      <td>225.304203</td>\n",
              "      <td>15.699521</td>\n",
              "      <td>4.85869</td>\n",
              "      <td>52.37677</td>\n",
              "    </tr>\n",
              "    <tr>\n",
              "      <th>1099</th>\n",
              "      <td>233.637194</td>\n",
              "      <td>Private room</td>\n",
              "      <td>False</td>\n",
              "      <td>True</td>\n",
              "      <td>2.0</td>\n",
              "      <td>False</td>\n",
              "      <td>1</td>\n",
              "      <td>0</td>\n",
              "      <td>10.0</td>\n",
              "      <td>90.0</td>\n",
              "      <td>1</td>\n",
              "      <td>4.719736</td>\n",
              "      <td>0.322263</td>\n",
              "      <td>108.024880</td>\n",
              "      <td>5.719989</td>\n",
              "      <td>134.775277</td>\n",
              "      <td>9.391335</td>\n",
              "      <td>4.83611</td>\n",
              "      <td>52.34910</td>\n",
              "    </tr>\n",
              "    <tr>\n",
              "      <th>1100</th>\n",
              "      <td>317.062311</td>\n",
              "      <td>Private room</td>\n",
              "      <td>False</td>\n",
              "      <td>True</td>\n",
              "      <td>2.0</td>\n",
              "      <td>False</td>\n",
              "      <td>1</td>\n",
              "      <td>0</td>\n",
              "      <td>10.0</td>\n",
              "      <td>92.0</td>\n",
              "      <td>1</td>\n",
              "      <td>0.598355</td>\n",
              "      <td>0.751993</td>\n",
              "      <td>440.476515</td>\n",
              "      <td>23.323524</td>\n",
              "      <td>625.947562</td>\n",
              "      <td>43.616927</td>\n",
              "      <td>4.88897</td>\n",
              "      <td>52.37798</td>\n",
              "    </tr>\n",
              "    <tr>\n",
              "      <th>1101</th>\n",
              "      <td>1812.855904</td>\n",
              "      <td>Entire home/apt</td>\n",
              "      <td>False</td>\n",
              "      <td>False</td>\n",
              "      <td>4.0</td>\n",
              "      <td>False</td>\n",
              "      <td>0</td>\n",
              "      <td>0</td>\n",
              "      <td>8.0</td>\n",
              "      <td>84.0</td>\n",
              "      <td>5</td>\n",
              "      <td>1.943020</td>\n",
              "      <td>0.388532</td>\n",
              "      <td>257.948105</td>\n",
              "      <td>13.658524</td>\n",
              "      <td>336.589237</td>\n",
              "      <td>23.454022</td>\n",
              "      <td>4.90688</td>\n",
              "      <td>52.35794</td>\n",
              "    </tr>\n",
              "    <tr>\n",
              "      <th>1102</th>\n",
              "      <td>258.008577</td>\n",
              "      <td>Shared room</td>\n",
              "      <td>True</td>\n",
              "      <td>False</td>\n",
              "      <td>2.0</td>\n",
              "      <td>False</td>\n",
              "      <td>0</td>\n",
              "      <td>0</td>\n",
              "      <td>8.0</td>\n",
              "      <td>90.0</td>\n",
              "      <td>1</td>\n",
              "      <td>0.280204</td>\n",
              "      <td>0.516217</td>\n",
              "      <td>533.962653</td>\n",
              "      <td>28.273677</td>\n",
              "      <td>807.492307</td>\n",
              "      <td>56.267226</td>\n",
              "      <td>4.89295</td>\n",
              "      <td>52.37575</td>\n",
              "    </tr>\n",
              "  </tbody>\n",
              "</table>\n",
              "<p>1103 rows × 19 columns</p>\n",
              "</div>\n",
              "      <button class=\"colab-df-convert\" onclick=\"convertToInteractive('df-1bcf432e-981c-4861-8209-d53a19a61a14')\"\n",
              "              title=\"Convert this dataframe to an interactive table.\"\n",
              "              style=\"display:none;\">\n",
              "        \n",
              "  <svg xmlns=\"http://www.w3.org/2000/svg\" height=\"24px\"viewBox=\"0 0 24 24\"\n",
              "       width=\"24px\">\n",
              "    <path d=\"M0 0h24v24H0V0z\" fill=\"none\"/>\n",
              "    <path d=\"M18.56 5.44l.94 2.06.94-2.06 2.06-.94-2.06-.94-.94-2.06-.94 2.06-2.06.94zm-11 1L8.5 8.5l.94-2.06 2.06-.94-2.06-.94L8.5 2.5l-.94 2.06-2.06.94zm10 10l.94 2.06.94-2.06 2.06-.94-2.06-.94-.94-2.06-.94 2.06-2.06.94z\"/><path d=\"M17.41 7.96l-1.37-1.37c-.4-.4-.92-.59-1.43-.59-.52 0-1.04.2-1.43.59L10.3 9.45l-7.72 7.72c-.78.78-.78 2.05 0 2.83L4 21.41c.39.39.9.59 1.41.59.51 0 1.02-.2 1.41-.59l7.78-7.78 2.81-2.81c.8-.78.8-2.07 0-2.86zM5.41 20L4 18.59l7.72-7.72 1.47 1.35L5.41 20z\"/>\n",
              "  </svg>\n",
              "      </button>\n",
              "      \n",
              "  <style>\n",
              "    .colab-df-container {\n",
              "      display:flex;\n",
              "      flex-wrap:wrap;\n",
              "      gap: 12px;\n",
              "    }\n",
              "\n",
              "    .colab-df-convert {\n",
              "      background-color: #E8F0FE;\n",
              "      border: none;\n",
              "      border-radius: 50%;\n",
              "      cursor: pointer;\n",
              "      display: none;\n",
              "      fill: #1967D2;\n",
              "      height: 32px;\n",
              "      padding: 0 0 0 0;\n",
              "      width: 32px;\n",
              "    }\n",
              "\n",
              "    .colab-df-convert:hover {\n",
              "      background-color: #E2EBFA;\n",
              "      box-shadow: 0px 1px 2px rgba(60, 64, 67, 0.3), 0px 1px 3px 1px rgba(60, 64, 67, 0.15);\n",
              "      fill: #174EA6;\n",
              "    }\n",
              "\n",
              "    [theme=dark] .colab-df-convert {\n",
              "      background-color: #3B4455;\n",
              "      fill: #D2E3FC;\n",
              "    }\n",
              "\n",
              "    [theme=dark] .colab-df-convert:hover {\n",
              "      background-color: #434B5C;\n",
              "      box-shadow: 0px 1px 3px 1px rgba(0, 0, 0, 0.15);\n",
              "      filter: drop-shadow(0px 1px 2px rgba(0, 0, 0, 0.3));\n",
              "      fill: #FFFFFF;\n",
              "    }\n",
              "  </style>\n",
              "\n",
              "      <script>\n",
              "        const buttonEl =\n",
              "          document.querySelector('#df-1bcf432e-981c-4861-8209-d53a19a61a14 button.colab-df-convert');\n",
              "        buttonEl.style.display =\n",
              "          google.colab.kernel.accessAllowed ? 'block' : 'none';\n",
              "\n",
              "        async function convertToInteractive(key) {\n",
              "          const element = document.querySelector('#df-1bcf432e-981c-4861-8209-d53a19a61a14');\n",
              "          const dataTable =\n",
              "            await google.colab.kernel.invokeFunction('convertToInteractive',\n",
              "                                                     [key], {});\n",
              "          if (!dataTable) return;\n",
              "\n",
              "          const docLinkHtml = 'Like what you see? Visit the ' +\n",
              "            '<a target=\"_blank\" href=https://colab.research.google.com/notebooks/data_table.ipynb>data table notebook</a>'\n",
              "            + ' to learn more about interactive tables.';\n",
              "          element.innerHTML = '';\n",
              "          dataTable['output_type'] = 'display_data';\n",
              "          await google.colab.output.renderOutput(dataTable, element);\n",
              "          const docLink = document.createElement('div');\n",
              "          docLink.innerHTML = docLinkHtml;\n",
              "          element.appendChild(docLink);\n",
              "        }\n",
              "      </script>\n",
              "    </div>\n",
              "  </div>\n",
              "  "
            ]
          },
          "metadata": {},
          "execution_count": 20
        }
      ]
    },
    {
      "cell_type": "code",
      "source": [
        "#Certificando que a tradução foi realizada\n",
        "df.rename(columns={'realSum':'preço_total',\n",
        "                   'room_type':'tipo_quarto',\n",
        "                   'room_shared':'compartilhado',\n",
        "                   'room_private':'quarto_privativo',\n",
        "                   'person_capacity':'capacidade',\n",
        "                   'host_is_superhost':'Superhost',\n",
        "                   'multi':'múltiplos_quartos',\n",
        "                   'biz':'Uso comercial ou familiar',\n",
        "                   'cleanliness_rating':'nota_limpeza',\n",
        "                   'guest_satisfaction_overall':'satisfacao',\n",
        "                   'bedrooms':'quartos',\n",
        "                   'dist':'distancia_centro',\n",
        "                   'metro_dist':'distancia_metrô',\n",
        "                   'attr_index': 'índice de atração do local do anúncio',\n",
        "                   'attr_index_norm' : 'índice de atracção normalizado (0-100)',\n",
        "                   'rest_index' : 'índice de restaurantes do local do anúncio',\n",
        "                   'rest_index_norm' : 'índice de restaurantes normalizado (0-100)',\n",
        "                   'lat':'latitude',\n",
        "                   'lng':'longitude'}, inplace = True)"
      ],
      "metadata": {
        "id": "tP-xPDjfS5V7"
      },
      "execution_count": null,
      "outputs": []
    },
    {
      "cell_type": "code",
      "source": [
        "#verificando a tradução\n",
        "df"
      ],
      "metadata": {
        "colab": {
          "base_uri": "https://localhost:8080/",
          "height": 592
        },
        "id": "NigouFlIaWUK",
        "outputId": "003a90b3-7496-48b8-8865-b93125a17c34"
      },
      "execution_count": null,
      "outputs": [
        {
          "output_type": "execute_result",
          "data": {
            "text/plain": [
              "      preço_total      tipo_quarto  compartilhado  quarto_privativo  \\\n",
              "0      194.033698     Private room          False              True   \n",
              "1      344.245776     Private room          False              True   \n",
              "2      264.101422     Private room          False              True   \n",
              "3      433.529398     Private room          False              True   \n",
              "4      485.552926     Private room          False              True   \n",
              "...           ...              ...            ...               ...   \n",
              "1098  2486.115342  Entire home/apt          False             False   \n",
              "1099   233.637194     Private room          False              True   \n",
              "1100   317.062311     Private room          False              True   \n",
              "1101  1812.855904  Entire home/apt          False             False   \n",
              "1102   258.008577      Shared room           True             False   \n",
              "\n",
              "      capacidade  Superhost  múltiplos_quartos  Uso comercial ou familiar  \\\n",
              "0            2.0      False                  1                          0   \n",
              "1            4.0      False                  0                          0   \n",
              "2            2.0      False                  0                          1   \n",
              "3            4.0      False                  0                          1   \n",
              "4            2.0       True                  0                          0   \n",
              "...          ...        ...                ...                        ...   \n",
              "1098         2.0      False                  0                          0   \n",
              "1099         2.0      False                  1                          0   \n",
              "1100         2.0      False                  1                          0   \n",
              "1101         4.0      False                  0                          0   \n",
              "1102         2.0      False                  0                          0   \n",
              "\n",
              "      nota_limpeza  satisfacao  quartos  distancia_centro  distancia_metrô  \\\n",
              "0             10.0        93.0        1          5.022964         2.539380   \n",
              "1              8.0        85.0        1          0.488389         0.239404   \n",
              "2              9.0        87.0        1          5.748312         3.651621   \n",
              "3              9.0        90.0        2          0.384862         0.439876   \n",
              "4             10.0        98.0        1          0.544738         0.318693   \n",
              "...            ...         ...      ...               ...              ...   \n",
              "1098          10.0       100.0        1          2.375833         1.436054   \n",
              "1099          10.0        90.0        1          4.719736         0.322263   \n",
              "1100          10.0        92.0        1          0.598355         0.751993   \n",
              "1101           8.0        84.0        5          1.943020         0.388532   \n",
              "1102           8.0        90.0        1          0.280204         0.516217   \n",
              "\n",
              "      índice de atração do local do anúncio  \\\n",
              "0                                 78.690379   \n",
              "1                                631.176378   \n",
              "2                                 75.275877   \n",
              "3                                493.272534   \n",
              "4                                552.830324   \n",
              "...                                     ...   \n",
              "1098                             181.198355   \n",
              "1099                             108.024880   \n",
              "1100                             440.476515   \n",
              "1101                             257.948105   \n",
              "1102                             533.962653   \n",
              "\n",
              "      índice de atracção normalizado (0-100)  \\\n",
              "0                                   4.166708   \n",
              "1                                  33.421209   \n",
              "2                                   3.985908   \n",
              "3                                  26.119108   \n",
              "4                                  29.272733   \n",
              "...                                      ...   \n",
              "1098                                9.594573   \n",
              "1099                                5.719989   \n",
              "1100                               23.323524   \n",
              "1101                               13.658524   \n",
              "1102                               28.273677   \n",
              "\n",
              "      índice de restaurantes do local do anúncio  \\\n",
              "0                                      98.253896   \n",
              "1                                     837.280757   \n",
              "2                                      95.386955   \n",
              "3                                     875.033098   \n",
              "4                                     815.305740   \n",
              "...                                          ...   \n",
              "1098                                  225.304203   \n",
              "1099                                  134.775277   \n",
              "1100                                  625.947562   \n",
              "1101                                  336.589237   \n",
              "1102                                  807.492307   \n",
              "\n",
              "      índice de restaurantes normalizado (0-100)  longitude  latitude  \n",
              "0                                       6.846473    4.90569  52.41772  \n",
              "1                                      58.342928    4.90005  52.37432  \n",
              "2                                       6.646700    4.97512  52.36103  \n",
              "3                                      60.973565    4.89417  52.37663  \n",
              "4                                      56.811677    4.90051  52.37508  \n",
              "...                                          ...        ...       ...  \n",
              "1098                                   15.699521    4.85869  52.37677  \n",
              "1099                                    9.391335    4.83611  52.34910  \n",
              "1100                                   43.616927    4.88897  52.37798  \n",
              "1101                                   23.454022    4.90688  52.35794  \n",
              "1102                                   56.267226    4.89295  52.37575  \n",
              "\n",
              "[1103 rows x 19 columns]"
            ],
            "text/html": [
              "\n",
              "  <div id=\"df-9e05a8fa-b940-4a42-9ed1-f9cfe8b08016\">\n",
              "    <div class=\"colab-df-container\">\n",
              "      <div>\n",
              "<style scoped>\n",
              "    .dataframe tbody tr th:only-of-type {\n",
              "        vertical-align: middle;\n",
              "    }\n",
              "\n",
              "    .dataframe tbody tr th {\n",
              "        vertical-align: top;\n",
              "    }\n",
              "\n",
              "    .dataframe thead th {\n",
              "        text-align: right;\n",
              "    }\n",
              "</style>\n",
              "<table border=\"1\" class=\"dataframe\">\n",
              "  <thead>\n",
              "    <tr style=\"text-align: right;\">\n",
              "      <th></th>\n",
              "      <th>preço_total</th>\n",
              "      <th>tipo_quarto</th>\n",
              "      <th>compartilhado</th>\n",
              "      <th>quarto_privativo</th>\n",
              "      <th>capacidade</th>\n",
              "      <th>Superhost</th>\n",
              "      <th>múltiplos_quartos</th>\n",
              "      <th>Uso comercial ou familiar</th>\n",
              "      <th>nota_limpeza</th>\n",
              "      <th>satisfacao</th>\n",
              "      <th>quartos</th>\n",
              "      <th>distancia_centro</th>\n",
              "      <th>distancia_metrô</th>\n",
              "      <th>índice de atração do local do anúncio</th>\n",
              "      <th>índice de atracção normalizado (0-100)</th>\n",
              "      <th>índice de restaurantes do local do anúncio</th>\n",
              "      <th>índice de restaurantes normalizado (0-100)</th>\n",
              "      <th>longitude</th>\n",
              "      <th>latitude</th>\n",
              "    </tr>\n",
              "  </thead>\n",
              "  <tbody>\n",
              "    <tr>\n",
              "      <th>0</th>\n",
              "      <td>194.033698</td>\n",
              "      <td>Private room</td>\n",
              "      <td>False</td>\n",
              "      <td>True</td>\n",
              "      <td>2.0</td>\n",
              "      <td>False</td>\n",
              "      <td>1</td>\n",
              "      <td>0</td>\n",
              "      <td>10.0</td>\n",
              "      <td>93.0</td>\n",
              "      <td>1</td>\n",
              "      <td>5.022964</td>\n",
              "      <td>2.539380</td>\n",
              "      <td>78.690379</td>\n",
              "      <td>4.166708</td>\n",
              "      <td>98.253896</td>\n",
              "      <td>6.846473</td>\n",
              "      <td>4.90569</td>\n",
              "      <td>52.41772</td>\n",
              "    </tr>\n",
              "    <tr>\n",
              "      <th>1</th>\n",
              "      <td>344.245776</td>\n",
              "      <td>Private room</td>\n",
              "      <td>False</td>\n",
              "      <td>True</td>\n",
              "      <td>4.0</td>\n",
              "      <td>False</td>\n",
              "      <td>0</td>\n",
              "      <td>0</td>\n",
              "      <td>8.0</td>\n",
              "      <td>85.0</td>\n",
              "      <td>1</td>\n",
              "      <td>0.488389</td>\n",
              "      <td>0.239404</td>\n",
              "      <td>631.176378</td>\n",
              "      <td>33.421209</td>\n",
              "      <td>837.280757</td>\n",
              "      <td>58.342928</td>\n",
              "      <td>4.90005</td>\n",
              "      <td>52.37432</td>\n",
              "    </tr>\n",
              "    <tr>\n",
              "      <th>2</th>\n",
              "      <td>264.101422</td>\n",
              "      <td>Private room</td>\n",
              "      <td>False</td>\n",
              "      <td>True</td>\n",
              "      <td>2.0</td>\n",
              "      <td>False</td>\n",
              "      <td>0</td>\n",
              "      <td>1</td>\n",
              "      <td>9.0</td>\n",
              "      <td>87.0</td>\n",
              "      <td>1</td>\n",
              "      <td>5.748312</td>\n",
              "      <td>3.651621</td>\n",
              "      <td>75.275877</td>\n",
              "      <td>3.985908</td>\n",
              "      <td>95.386955</td>\n",
              "      <td>6.646700</td>\n",
              "      <td>4.97512</td>\n",
              "      <td>52.36103</td>\n",
              "    </tr>\n",
              "    <tr>\n",
              "      <th>3</th>\n",
              "      <td>433.529398</td>\n",
              "      <td>Private room</td>\n",
              "      <td>False</td>\n",
              "      <td>True</td>\n",
              "      <td>4.0</td>\n",
              "      <td>False</td>\n",
              "      <td>0</td>\n",
              "      <td>1</td>\n",
              "      <td>9.0</td>\n",
              "      <td>90.0</td>\n",
              "      <td>2</td>\n",
              "      <td>0.384862</td>\n",
              "      <td>0.439876</td>\n",
              "      <td>493.272534</td>\n",
              "      <td>26.119108</td>\n",
              "      <td>875.033098</td>\n",
              "      <td>60.973565</td>\n",
              "      <td>4.89417</td>\n",
              "      <td>52.37663</td>\n",
              "    </tr>\n",
              "    <tr>\n",
              "      <th>4</th>\n",
              "      <td>485.552926</td>\n",
              "      <td>Private room</td>\n",
              "      <td>False</td>\n",
              "      <td>True</td>\n",
              "      <td>2.0</td>\n",
              "      <td>True</td>\n",
              "      <td>0</td>\n",
              "      <td>0</td>\n",
              "      <td>10.0</td>\n",
              "      <td>98.0</td>\n",
              "      <td>1</td>\n",
              "      <td>0.544738</td>\n",
              "      <td>0.318693</td>\n",
              "      <td>552.830324</td>\n",
              "      <td>29.272733</td>\n",
              "      <td>815.305740</td>\n",
              "      <td>56.811677</td>\n",
              "      <td>4.90051</td>\n",
              "      <td>52.37508</td>\n",
              "    </tr>\n",
              "    <tr>\n",
              "      <th>...</th>\n",
              "      <td>...</td>\n",
              "      <td>...</td>\n",
              "      <td>...</td>\n",
              "      <td>...</td>\n",
              "      <td>...</td>\n",
              "      <td>...</td>\n",
              "      <td>...</td>\n",
              "      <td>...</td>\n",
              "      <td>...</td>\n",
              "      <td>...</td>\n",
              "      <td>...</td>\n",
              "      <td>...</td>\n",
              "      <td>...</td>\n",
              "      <td>...</td>\n",
              "      <td>...</td>\n",
              "      <td>...</td>\n",
              "      <td>...</td>\n",
              "      <td>...</td>\n",
              "      <td>...</td>\n",
              "    </tr>\n",
              "    <tr>\n",
              "      <th>1098</th>\n",
              "      <td>2486.115342</td>\n",
              "      <td>Entire home/apt</td>\n",
              "      <td>False</td>\n",
              "      <td>False</td>\n",
              "      <td>2.0</td>\n",
              "      <td>False</td>\n",
              "      <td>0</td>\n",
              "      <td>0</td>\n",
              "      <td>10.0</td>\n",
              "      <td>100.0</td>\n",
              "      <td>1</td>\n",
              "      <td>2.375833</td>\n",
              "      <td>1.436054</td>\n",
              "      <td>181.198355</td>\n",
              "      <td>9.594573</td>\n",
              "      <td>225.304203</td>\n",
              "      <td>15.699521</td>\n",
              "      <td>4.85869</td>\n",
              "      <td>52.37677</td>\n",
              "    </tr>\n",
              "    <tr>\n",
              "      <th>1099</th>\n",
              "      <td>233.637194</td>\n",
              "      <td>Private room</td>\n",
              "      <td>False</td>\n",
              "      <td>True</td>\n",
              "      <td>2.0</td>\n",
              "      <td>False</td>\n",
              "      <td>1</td>\n",
              "      <td>0</td>\n",
              "      <td>10.0</td>\n",
              "      <td>90.0</td>\n",
              "      <td>1</td>\n",
              "      <td>4.719736</td>\n",
              "      <td>0.322263</td>\n",
              "      <td>108.024880</td>\n",
              "      <td>5.719989</td>\n",
              "      <td>134.775277</td>\n",
              "      <td>9.391335</td>\n",
              "      <td>4.83611</td>\n",
              "      <td>52.34910</td>\n",
              "    </tr>\n",
              "    <tr>\n",
              "      <th>1100</th>\n",
              "      <td>317.062311</td>\n",
              "      <td>Private room</td>\n",
              "      <td>False</td>\n",
              "      <td>True</td>\n",
              "      <td>2.0</td>\n",
              "      <td>False</td>\n",
              "      <td>1</td>\n",
              "      <td>0</td>\n",
              "      <td>10.0</td>\n",
              "      <td>92.0</td>\n",
              "      <td>1</td>\n",
              "      <td>0.598355</td>\n",
              "      <td>0.751993</td>\n",
              "      <td>440.476515</td>\n",
              "      <td>23.323524</td>\n",
              "      <td>625.947562</td>\n",
              "      <td>43.616927</td>\n",
              "      <td>4.88897</td>\n",
              "      <td>52.37798</td>\n",
              "    </tr>\n",
              "    <tr>\n",
              "      <th>1101</th>\n",
              "      <td>1812.855904</td>\n",
              "      <td>Entire home/apt</td>\n",
              "      <td>False</td>\n",
              "      <td>False</td>\n",
              "      <td>4.0</td>\n",
              "      <td>False</td>\n",
              "      <td>0</td>\n",
              "      <td>0</td>\n",
              "      <td>8.0</td>\n",
              "      <td>84.0</td>\n",
              "      <td>5</td>\n",
              "      <td>1.943020</td>\n",
              "      <td>0.388532</td>\n",
              "      <td>257.948105</td>\n",
              "      <td>13.658524</td>\n",
              "      <td>336.589237</td>\n",
              "      <td>23.454022</td>\n",
              "      <td>4.90688</td>\n",
              "      <td>52.35794</td>\n",
              "    </tr>\n",
              "    <tr>\n",
              "      <th>1102</th>\n",
              "      <td>258.008577</td>\n",
              "      <td>Shared room</td>\n",
              "      <td>True</td>\n",
              "      <td>False</td>\n",
              "      <td>2.0</td>\n",
              "      <td>False</td>\n",
              "      <td>0</td>\n",
              "      <td>0</td>\n",
              "      <td>8.0</td>\n",
              "      <td>90.0</td>\n",
              "      <td>1</td>\n",
              "      <td>0.280204</td>\n",
              "      <td>0.516217</td>\n",
              "      <td>533.962653</td>\n",
              "      <td>28.273677</td>\n",
              "      <td>807.492307</td>\n",
              "      <td>56.267226</td>\n",
              "      <td>4.89295</td>\n",
              "      <td>52.37575</td>\n",
              "    </tr>\n",
              "  </tbody>\n",
              "</table>\n",
              "<p>1103 rows × 19 columns</p>\n",
              "</div>\n",
              "      <button class=\"colab-df-convert\" onclick=\"convertToInteractive('df-9e05a8fa-b940-4a42-9ed1-f9cfe8b08016')\"\n",
              "              title=\"Convert this dataframe to an interactive table.\"\n",
              "              style=\"display:none;\">\n",
              "        \n",
              "  <svg xmlns=\"http://www.w3.org/2000/svg\" height=\"24px\"viewBox=\"0 0 24 24\"\n",
              "       width=\"24px\">\n",
              "    <path d=\"M0 0h24v24H0V0z\" fill=\"none\"/>\n",
              "    <path d=\"M18.56 5.44l.94 2.06.94-2.06 2.06-.94-2.06-.94-.94-2.06-.94 2.06-2.06.94zm-11 1L8.5 8.5l.94-2.06 2.06-.94-2.06-.94L8.5 2.5l-.94 2.06-2.06.94zm10 10l.94 2.06.94-2.06 2.06-.94-2.06-.94-.94-2.06-.94 2.06-2.06.94z\"/><path d=\"M17.41 7.96l-1.37-1.37c-.4-.4-.92-.59-1.43-.59-.52 0-1.04.2-1.43.59L10.3 9.45l-7.72 7.72c-.78.78-.78 2.05 0 2.83L4 21.41c.39.39.9.59 1.41.59.51 0 1.02-.2 1.41-.59l7.78-7.78 2.81-2.81c.8-.78.8-2.07 0-2.86zM5.41 20L4 18.59l7.72-7.72 1.47 1.35L5.41 20z\"/>\n",
              "  </svg>\n",
              "      </button>\n",
              "      \n",
              "  <style>\n",
              "    .colab-df-container {\n",
              "      display:flex;\n",
              "      flex-wrap:wrap;\n",
              "      gap: 12px;\n",
              "    }\n",
              "\n",
              "    .colab-df-convert {\n",
              "      background-color: #E8F0FE;\n",
              "      border: none;\n",
              "      border-radius: 50%;\n",
              "      cursor: pointer;\n",
              "      display: none;\n",
              "      fill: #1967D2;\n",
              "      height: 32px;\n",
              "      padding: 0 0 0 0;\n",
              "      width: 32px;\n",
              "    }\n",
              "\n",
              "    .colab-df-convert:hover {\n",
              "      background-color: #E2EBFA;\n",
              "      box-shadow: 0px 1px 2px rgba(60, 64, 67, 0.3), 0px 1px 3px 1px rgba(60, 64, 67, 0.15);\n",
              "      fill: #174EA6;\n",
              "    }\n",
              "\n",
              "    [theme=dark] .colab-df-convert {\n",
              "      background-color: #3B4455;\n",
              "      fill: #D2E3FC;\n",
              "    }\n",
              "\n",
              "    [theme=dark] .colab-df-convert:hover {\n",
              "      background-color: #434B5C;\n",
              "      box-shadow: 0px 1px 3px 1px rgba(0, 0, 0, 0.15);\n",
              "      filter: drop-shadow(0px 1px 2px rgba(0, 0, 0, 0.3));\n",
              "      fill: #FFFFFF;\n",
              "    }\n",
              "  </style>\n",
              "\n",
              "      <script>\n",
              "        const buttonEl =\n",
              "          document.querySelector('#df-9e05a8fa-b940-4a42-9ed1-f9cfe8b08016 button.colab-df-convert');\n",
              "        buttonEl.style.display =\n",
              "          google.colab.kernel.accessAllowed ? 'block' : 'none';\n",
              "\n",
              "        async function convertToInteractive(key) {\n",
              "          const element = document.querySelector('#df-9e05a8fa-b940-4a42-9ed1-f9cfe8b08016');\n",
              "          const dataTable =\n",
              "            await google.colab.kernel.invokeFunction('convertToInteractive',\n",
              "                                                     [key], {});\n",
              "          if (!dataTable) return;\n",
              "\n",
              "          const docLinkHtml = 'Like what you see? Visit the ' +\n",
              "            '<a target=\"_blank\" href=https://colab.research.google.com/notebooks/data_table.ipynb>data table notebook</a>'\n",
              "            + ' to learn more about interactive tables.';\n",
              "          element.innerHTML = '';\n",
              "          dataTable['output_type'] = 'display_data';\n",
              "          await google.colab.output.renderOutput(dataTable, element);\n",
              "          const docLink = document.createElement('div');\n",
              "          docLink.innerHTML = docLinkHtml;\n",
              "          element.appendChild(docLink);\n",
              "        }\n",
              "      </script>\n",
              "    </div>\n",
              "  </div>\n",
              "  "
            ]
          },
          "metadata": {},
          "execution_count": 22
        }
      ]
    },
    {
      "cell_type": "code",
      "source": [
        "#verificando se as colunas sao iguais\n",
        "colunas_verificar =['preço_total',\n",
        "                    'tipo_quarto',\n",
        "                    'compartilhado',\n",
        "                    'quarto_privativo',\n",
        "                    'capacidade',\n",
        "                    'Superhost',\n",
        "                    'múltiplos_quartos',\n",
        "                    'Uso comercial ou familiar',\n",
        "                    'nota_limpeza',\n",
        "                    'satisfacao',\n",
        "                    'quartos',\n",
        "                    'distancia_centro',\n",
        "                    'distancia_metrô',\n",
        "                    'índice de atração do local do anúncio',\n",
        "                    'índice de atracção normalizado (0-100)',\n",
        "                    'índice de restaurantes do local do anúncio',\n",
        "                    'índice de restaurantes normalizado (0-100)',\n",
        "                    'longitude',\n",
        "                    'latitude'],\n",
        "for coluna in colunas_verificar:\n",
        "  if df['preço_total'].equals(df[coluna]):\n",
        "    print (f\"A coluna {coluna} é igual à  coluna 'preço_total'.\")\n",
        "  else:\n",
        "    print ('As colunas são diferentes')"
      ],
      "metadata": {
        "colab": {
          "base_uri": "https://localhost:8080/"
        },
        "id": "RSWYR2axFv7k",
        "outputId": "bb1cb1c4-c1a9-4d64-ab97-b3c94533f29d"
      },
      "execution_count": null,
      "outputs": [
        {
          "output_type": "stream",
          "name": "stdout",
          "text": [
            "As colunas são diferentes\n"
          ]
        }
      ]
    },
    {
      "cell_type": "code",
      "source": [
        "#Verificando informações detalhadas do Dataframe\n",
        "df.info()"
      ],
      "metadata": {
        "colab": {
          "base_uri": "https://localhost:8080/"
        },
        "id": "F1zFHQ-0P_Z2",
        "outputId": "8d53b5ff-309a-4e7b-b458-f41464079f66"
      },
      "execution_count": null,
      "outputs": [
        {
          "output_type": "stream",
          "name": "stdout",
          "text": [
            "<class 'pandas.core.frame.DataFrame'>\n",
            "RangeIndex: 1103 entries, 0 to 1102\n",
            "Data columns (total 19 columns):\n",
            " #   Column                                      Non-Null Count  Dtype  \n",
            "---  ------                                      --------------  -----  \n",
            " 0   preço_total                                 1103 non-null   float64\n",
            " 1   tipo_quarto                                 1103 non-null   object \n",
            " 2   compartilhado                               1103 non-null   bool   \n",
            " 3   quarto_privativo                            1103 non-null   bool   \n",
            " 4   capacidade                                  1103 non-null   float64\n",
            " 5   Superhost                                   1103 non-null   bool   \n",
            " 6   múltiplos_quartos                           1103 non-null   int64  \n",
            " 7   Uso comercial ou familiar                   1103 non-null   int64  \n",
            " 8   nota_limpeza                                1103 non-null   float64\n",
            " 9   satisfacao                                  1103 non-null   float64\n",
            " 10  quartos                                     1103 non-null   int64  \n",
            " 11  distancia_centro                            1103 non-null   float64\n",
            " 12  distancia_metrô                             1103 non-null   float64\n",
            " 13  índice de atração do local do anúncio       1103 non-null   float64\n",
            " 14  índice de atracção normalizado (0-100)      1103 non-null   float64\n",
            " 15  índice de restaurantes do local do anúncio  1103 non-null   float64\n",
            " 16  índice de restaurantes normalizado (0-100)  1103 non-null   float64\n",
            " 17  longitude                                   1103 non-null   float64\n",
            " 18  latitude                                    1103 non-null   float64\n",
            "dtypes: bool(3), float64(12), int64(3), object(1)\n",
            "memory usage: 141.2+ KB\n"
          ]
        }
      ]
    },
    {
      "cell_type": "code",
      "source": [
        "#traduzindo valores do atributo tipo_quarto\n",
        "df.loc[df.tipo_quarto == 'Private room',['tipo_quarto']] = 'Quarto privado'"
      ],
      "metadata": {
        "id": "qzIBxQE9Q5O1"
      },
      "execution_count": null,
      "outputs": []
    },
    {
      "cell_type": "code",
      "source": [
        "# Traduzindo as outras informações da coluna através de um dicionario.\n",
        "traducao_tipo_quarto = {\n",
        "    'Entire home/apt': 'Apt/casa inteira',\n",
        "    'Shared room': 'Quarto compartilhado'\n",
        "}"
      ],
      "metadata": {
        "id": "xpHIg5h4R2dX"
      },
      "execution_count": null,
      "outputs": []
    },
    {
      "cell_type": "code",
      "source": [
        "# Usando metodo replace para traduzir os termos da coluna 'tipo_quarto'\n",
        "df['tipo_quarto'].replace(traducao_tipo_quarto,inplace=True)"
      ],
      "metadata": {
        "id": "khh1ArJjSCk9"
      },
      "execution_count": null,
      "outputs": []
    },
    {
      "cell_type": "code",
      "source": [
        "#checando a tradução da coluna\n",
        "df.groupby(['tipo_quarto']).size()"
      ],
      "metadata": {
        "colab": {
          "base_uri": "https://localhost:8080/"
        },
        "id": "n8hXHM4iSHWN",
        "outputId": "325995d1-8fca-4f16-9fd6-5f6631c3dcb0"
      },
      "execution_count": null,
      "outputs": [
        {
          "output_type": "execute_result",
          "data": {
            "text/plain": [
              "tipo_quarto\n",
              "Apt/casa inteira        538\n",
              "Quarto compartilhado      6\n",
              "Quarto privado          559\n",
              "dtype: int64"
            ]
          },
          "metadata": {},
          "execution_count": 28
        }
      ]
    },
    {
      "cell_type": "code",
      "source": [
        "#verificando valores únicos.\n",
        "colunas_quali = df[['tipo_quarto','compartilhado','Superhost']]\n",
        "\n",
        "for coluna in colunas_quali:\n",
        "  atributos_unicos = df[coluna].unique()\n",
        "  print(f\"Atributos únicos na coluna {coluna}:\")\n",
        "  for atributo in atributos_unicos:\n",
        "    print(atributo)\n"
      ],
      "metadata": {
        "id": "KyyhM2nyS0dq",
        "colab": {
          "base_uri": "https://localhost:8080/"
        },
        "outputId": "fbbca5dd-44bb-4290-c088-2954853be616"
      },
      "execution_count": null,
      "outputs": [
        {
          "output_type": "stream",
          "name": "stdout",
          "text": [
            "Atributos únicos na coluna tipo_quarto:\n",
            "Quarto privado\n",
            "Apt/casa inteira\n",
            "Quarto compartilhado\n",
            "Atributos únicos na coluna compartilhado:\n",
            "False\n",
            "True\n",
            "Atributos únicos na coluna Superhost:\n",
            "False\n",
            "True\n"
          ]
        }
      ]
    },
    {
      "cell_type": "code",
      "source": [
        "# Verificar dados nulos, ausentes, incorretos\n",
        "df.isna().sum()"
      ],
      "metadata": {
        "colab": {
          "base_uri": "https://localhost:8080/"
        },
        "id": "BpqjyQZNW9Yu",
        "outputId": "9149a159-b1f5-484d-9931-61457d707962"
      },
      "execution_count": null,
      "outputs": [
        {
          "output_type": "execute_result",
          "data": {
            "text/plain": [
              "preço_total                                   0\n",
              "tipo_quarto                                   0\n",
              "compartilhado                                 0\n",
              "quarto_privativo                              0\n",
              "capacidade                                    0\n",
              "Superhost                                     0\n",
              "múltiplos_quartos                             0\n",
              "Uso comercial ou familiar                     0\n",
              "nota_limpeza                                  0\n",
              "satisfacao                                    0\n",
              "quartos                                       0\n",
              "distancia_centro                              0\n",
              "distancia_metrô                               0\n",
              "índice de atração do local do anúncio         0\n",
              "índice de atracção normalizado (0-100)        0\n",
              "índice de restaurantes do local do anúncio    0\n",
              "índice de restaurantes normalizado (0-100)    0\n",
              "longitude                                     0\n",
              "latitude                                      0\n",
              "dtype: int64"
            ]
          },
          "metadata": {},
          "execution_count": 30
        }
      ]
    },
    {
      "cell_type": "code",
      "source": [
        "#Verificando valores unicos para checar inconsistências.\n",
        "print(sorted(pd.unique(df['preço_total'])))"
      ],
      "metadata": {
        "colab": {
          "base_uri": "https://localhost:8080/"
        },
        "id": "2aDDrkbuc-Jh",
        "outputId": "6507914f-d5d1-4da6-ac8d-165e52e78191"
      },
      "execution_count": null,
      "outputs": [
        {
          "output_type": "stream",
          "name": "stdout",
          "text": [
            "[128.88711831837463, 143.65055187120663, 144.82225294682823, 161.9290886509034, 165.67853209289248, 167.3189135987627, 175.75516134323811, 177.16120263398403, 178.0985634944813, 180.20762543060016, 181.8480069364704, 184.4257493028379, 188.17519274482692, 191.6902959716917, 192.8619970473133, 194.03369812293488, 196.6114404893024, 198.9548426405456, 199.89220350104284, 201.53258500691305, 202.70428608253465, 204.1103273732805, 205.2820284489021, 206.4537295245237, 208.7971316757669, 209.03147189089125, 210.2031729665128, 213.95261640850188, 215.12431748412348, 217.70205985049097, 218.63942071098825, 218.8737609261125, 221.2171630773557, 221.45150329248003, 225.66962716471772, 227.310008670588, 228.71604996133388, 230.82511189745276, 232.23115318819865, 233.63719447894456, 234.57455533944184, 237.85531835118223, 238.3239987814309, 239.4956998570525, 239.7300400721768, 241.1360813629227, 241.83910200829567, 242.07344222342, 243.2451432990416, 244.4168443746632, 245.5885454502848, 245.82288566540907, 250.5096899678954, 250.74403018301973, 251.91573125864133, 253.3217725493872, 254.2591334098845, 254.4934736250088, 255.43083448550607, 255.6651747006304, 256.836875776252, 258.0085768518736, 258.2429170669979, 259.1802779274952, 259.4146181426195, 261.75802029386267, 262.92972136948424, 264.1014224451058, 264.33576266023016, 268.0852061022192, 270.4286082534624, 271.600309329084, 271.8346495442083, 272.53767018958126, 274.1780516954515, 275.34975277107304, 276.2871136315703, 276.52145384669467, 277.45881470719195, 277.69315492231624, 277.9274951374406, 279.09919621306216, 280.03655707355944, 281.4425983643053, 282.6142994399269, 282.8486396550512, 283.7860005155485, 284.95770159117006, 287.7697841726619, 288.7071450331592, 289.64450589365646, 290.1131863239051, 291.0505471844023, 292.45658847514824, 293.6282895507698, 295.0343308415157, 295.2686710566401, 297.6120732078832, 298.78377428350484, 299.72113514400206, 300.8928362196237, 301.127176434748, 303.00189815574254, 303.4705785859912, 304.64227966161275, 304.8766198767371, 305.8139807372343, 306.04832095235867, 307.22002202798024, 308.39172310360186, 309.56342417922343, 309.7977643943477, 310.735125254845, 310.9694654699693, 312.1411665455909, 313.3128676212125, 313.54720783633684, 314.4845686968341, 315.89060998758, 316.82797084807726, 317.0623110632016, 318.2340121388232, 319.40571321444475, 319.6400534295691, 320.81175450519066, 321.74911536568794, 325.498558807677, 326.6702598832986, 329.4823424647904, 330.4197033252877, 331.8257446160336, 332.0600848311579, 333.23178590677946, 334.16914676727674, 335.57518805802266, 337.6842499941415, 337.91859020926586, 339.0902912848874, 340.49633257563335, 342.6053945117522, 342.8397347268765, 344.2457760176224, 345.1831368781197, 345.417477093244, 346.5891781688656, 347.9952194596115, 348.93258032010874, 350.1042813957304, 350.33862161085466, 351.04164225622765, 351.51032268647623, 352.68202376209786, 354.32240526796807, 355.025425913341, 355.25976612846534, 356.1971269889626, 356.4314672040869, 358.7748693553301, 359.9465704309517, 360.18091064607603, 361.1182715065733, 361.3526117216976, 362.5243127973192, 363.4616736578165, 363.6960138729408, 366.2737562393083, 366.5080964544326, 367.44545731492985, 368.6171583905514, 368.8514986056758, 370.0231996812973, 371.1949007569189, 372.3666018325405, 373.5383029081621, 373.7726431232864, 374.944344198908, 375.8817050594053, 377.2877463501512, 378.4594474257728, 378.6937876408971, 380.5685093618917, 381.0371897921403, 384.7866332341293, 385.4896538795023, 385.9583343097509, 386.19267452487526, 386.8956951702482, 387.1300353853725, 388.06739624586976, 388.3017364609941, 390.6451386122373, 390.8794788273616, 391.8168396878589, 392.0511799029832, 393.4572211937291, 393.9259016239777, 394.3945820542264, 397.2066646357181, 398.1440254962154, 399.31572657183705, 399.5500667869613, 400.4874276474586, 403.0651700138261, 405.4085721650693, 405.6429123801936, 407.9863145314368, 409.39235582218265, 410.32971668267993, 410.5640568978043, 411.5014177583016, 411.73575797342585, 415.2508612002906, 415.4852014154149, 417.8286035666581, 418.0629437817825, 420.4063459330256, 421.34370679352287, 422.7497480842688, 423.9214491598904, 424.1557893750147, 425.0931502355119, 426.0305110960092, 428.13957303212806, 430.24863496824696, 431.4203360438685, 432.3576969043658, 433.5293979799874, 435.1697794858576, 436.10714034635487, 436.3414805614792, 438.9192229278467, 439.8565837883439, 441.2626250790898, 442.4343261547114, 442.66866636983576, 443.606027230333, 447.3554706723221, 447.5898108874465, 448.5271717479437, 449.46453260844095, 449.6988728235653, 452.2766151899328, 453.4483162655544, 454.8543575563003, 458.369460783165, 459.77550207391096, 460.7128629344082, 460.9472031495325, 462.1189042251541, 464.4623063763973, 465.63400745201886, 467.0400487427648, 468.2117498183864, 468.4460900335107, 470.7894921847538, 473.132894335997, 474.0702551964943, 475.4762964872402, 476.8823377779861, 479.2257399292293, 479.4600801443536, 482.9751833712184, 485.5529257375859, 489.30236917957495, 491.64577133081815, 491.8801115459424, 496.5669158484288, 497.50427670892606, 497.7386169240504, 498.910317999672, 501.2537201509151, 501.48806036603946, 504.06580273240695, 507.5809059592717, 509.9243081105149, 510.1586483256392, 511.5646896163851, 513.673751552504, 515.5484732734985, 515.7828134886229, 516.0171537037471, 517.4231949944931, 521.1726384364821, 522.3443395121037, 524.6877416633469, 526.0937829540928, 528.2028448902116, 528.437185105336, 531.9522883322007, 534.5300306985682, 534.7643709136926, 535.7017317741899, 538.2794741405573, 538.5138143556816, 539.2168350010546, 539.4511752161789, 539.6855154313032, 540.6228762918005, 544.1379795186652, 546.7157218850327, 548.1217631757786, 549.5278044665246, 550.4651653270219, 551.6368664026434, 552.808567478265, 553.0429076933893, 555.3863098446325, 556.5580109202541, 556.7923511353783, 562.8851967286106, 564.0568978042322, 565.2285988798538, 566.6346401705997, 568.9780423218428, 571.3214444730861, 571.5557846882103, 572.727485763832, 576.2425889906967, 577.4142900663184, 583.7414758746748, 583.9758160897992, 584.9131769502965, 589.8343214679071, 596.1615072762637, 599.6766105031285, 602.0200126543716, 602.254352869496, 604.5977550207392, 606.0037963114851, 607.1754973871067, 613.0340027652146, 613.268342980339, 613.7370234105875, 614.4400440559605, 618.1894874979496, 620.7672298643171, 622.876291800436, 624.2823330911818, 626.3913950273006, 626.625735242425, 632.9529210507816, 636.7023644927707, 638.8114264288895, 639.0457666440138, 639.9831275045111, 640.4518079347597, 642.5608698708786, 645.3729524523704, 647.4820143884892, 648.8880556792352, 649.1223958943594, 651.2314578304783, 653.5748599817215, 653.8092001968458, 654.9809012724675, 657.3243034237106, 658.7303447144565, 661.308087080824, 663.6514892320672, 669.7443348252995, 673.4937782672885, 675.6028402034074, 675.8371804185317, 678.4149227848992, 682.1643662268882, 682.8673868722612, 685.9138096688773, 688.0228716049962, 691.537974831861, 694.5843976284771, 699.0368617158391, 700.442903006585, 702.0832845124553, 702.7863051578282, 704.1923464485741, 706.5357485998172, 712.6285941930495, 712.8629344081738, 713.8002952686711, 716.3780376350386, 718.9557800014061, 721.5335223677736, 722.2365430131465, 722.7052234433952, 725.0486255946383, 728.7980690366275, 734.8909146298597, 737.2343167811028, 743.5615025894595, 744.4988634499567, 749.4200079675674, 755.9815339910483, 761.8400393691562, 762.0743795842806, 764.4177817355237, 765.5894828111453, 767.9328849623885, 768.1672251775128, 768.6359056077614, 771.6823284043776, 773.0883696951234, 774.2600707707451, 774.7287512009937, 780.3529163639773, 780.5872565791016, 782.4619783000961, 784.1023598059663, 786.4457619572096, 789.9608651840744, 792.7729477655661, 796.2880509924308, 797.6940922831768, 798.6314531436741, 798.8657933587983, 811.0514845452628, 814.5665877721276, 814.800927987252, 817.1443301384951, 823.4715159468517, 833.3138049820731, 835.8915473484406, 841.7500527265485, 841.9843929416728, 847.8428983197807, 854.4044243432617, 855.3417852037588, 860.2629297213696, 870.105218756591, 878.7758067161907, 884.8686523094229, 890.9614979026552, 894.7109413446442, 899.6320858622549, 907.130972746233, 909.4743748974762, 917.9106226419516, 919.0823237175732, 920.4883650083192, 921.6600660839408, 933.8457572704052, 934.0800974855296, 935.0174583460268, 937.5952007123944, 940.1729430787618, 943.6880463056266, 946.0314484568696, 950.0152321139832, 952.3586342652264, 952.5929744803508, 953.7646755559722, 958.4514798584586, 965.0130058819396, 968.29376889368, 970.8715112600474, 974.6209547020364, 983.2915426616364, 985.6349448128794, 988.2126871792468, 995.4772338481008, 1001.8044196564572, 1002.9761207320788, 1005.0851826681976, 1007.6629250345652, 1013.9901108429218, 1019.8486162210298, 1020.082956436154, 1029.925245471375, 1032.502987837743, 1032.9716682679916, 1038.361493215851, 1041.173575797343, 1044.6886790242074, 1049.3754833266937, 1062.967215803904, 1066.4823190307688, 1072.8095048391256, 1075.387247205493, 1106.320155601903, 1112.1786609800108, 1118.2715065732432, 1126.942094532843, 1130.691537974832, 1136.5500433529398, 1148.7357345394043, 1155.2972605628852, 1161.1557659409932, 1166.3112506737282, 1167.2486115342256, 1179.6686429358142, 1192.088674337403, 1198.1815199306354, 1199.5875612213813, 1210.3672111171, 1214.116654559089, 1228.880088111921, 1259.578656293207, 1290.2772244744922, 1296.604410282849, 1301.2912145853352, 1348.6279380404471, 1351.9087010521878, 1376.514423640241, 1388.7001148267054, 1413.3058374147588, 1425.7258688163477, 1429.2409720432124, 1437.9115600028122, 1450.097251189277, 1450.331591404401, 1474.9373139924544, 1542.4272959482578, 1557.19072950109, 1567.0330185363111, 1572.8915239144192, 1576.640967356408, 1609.9172779040612, 1651.864176411314, 1714.4330138495068, 1739.03873643756, 1804.1853162421205, 1812.8559042017205, 1892.531577343988, 1941.5086823049703, 1997.281653504558, 2058.2101094368804, 2061.959552878869, 2458.2288566540906, 2486.1153422538846, 2500.8787758067165, 2556.183066576056, 2771.3073840601787, 3004.9445785391235, 3637.6631593747807, 7782.907224708832]\n"
          ]
        }
      ]
    },
    {
      "cell_type": "code",
      "source": [
        "#Verificando valores unicos para checar inconsistências.\n",
        "print(sorted(pd.unique(df['tipo_quarto'])))"
      ],
      "metadata": {
        "colab": {
          "base_uri": "https://localhost:8080/"
        },
        "id": "NbmWGmLtg-11",
        "outputId": "553c8b98-f89c-454d-bfb3-77fb305d9eac"
      },
      "execution_count": null,
      "outputs": [
        {
          "output_type": "stream",
          "name": "stdout",
          "text": [
            "['Apt/casa inteira', 'Quarto compartilhado', 'Quarto privado']\n"
          ]
        }
      ]
    },
    {
      "cell_type": "code",
      "source": [
        "#Verificando valores unicos para checar inconsistências.\n",
        "print(sorted(pd.unique(df['quarto_privativo'])))"
      ],
      "metadata": {
        "colab": {
          "base_uri": "https://localhost:8080/"
        },
        "id": "vAWhB6WghF0M",
        "outputId": "49b4853c-eb2a-40c4-b9aa-658f62c09a41"
      },
      "execution_count": null,
      "outputs": [
        {
          "output_type": "stream",
          "name": "stdout",
          "text": [
            "[False, True]\n"
          ]
        }
      ]
    },
    {
      "cell_type": "code",
      "source": [
        "#Verificando valores unicos para checar inconsistências.\n",
        "print(sorted(pd.unique(df['capacidade'])))"
      ],
      "metadata": {
        "colab": {
          "base_uri": "https://localhost:8080/"
        },
        "id": "ExA33H3XhL2M",
        "outputId": "bb5942af-5a95-4263-b4f8-77a98a965692"
      },
      "execution_count": null,
      "outputs": [
        {
          "output_type": "stream",
          "name": "stdout",
          "text": [
            "[2.0, 3.0, 4.0, 5.0, 6.0]\n"
          ]
        }
      ]
    },
    {
      "cell_type": "code",
      "source": [
        "#Verificando valores unicos para checar inconsistências.\n",
        "print(sorted(pd.unique(df['Superhost'])))"
      ],
      "metadata": {
        "colab": {
          "base_uri": "https://localhost:8080/"
        },
        "id": "BAlbrAClhY34",
        "outputId": "fb3c1ff0-6a46-431d-da01-4f6d8a9d9781"
      },
      "execution_count": null,
      "outputs": [
        {
          "output_type": "stream",
          "name": "stdout",
          "text": [
            "[False, True]\n"
          ]
        }
      ]
    },
    {
      "cell_type": "code",
      "source": [
        "#Verificando valores unicos para checar inconsistências.\n",
        "print(sorted(pd.unique(df['múltiplos_quartos'])))"
      ],
      "metadata": {
        "colab": {
          "base_uri": "https://localhost:8080/"
        },
        "id": "M4__vkH5hRXV",
        "outputId": "fcce8743-49f6-45dc-d20a-02b904250408"
      },
      "execution_count": null,
      "outputs": [
        {
          "output_type": "stream",
          "name": "stdout",
          "text": [
            "[0, 1]\n"
          ]
        }
      ]
    },
    {
      "cell_type": "code",
      "source": [
        "#Verificando valores unicos para checar inconsistências.\n",
        "print(sorted(pd.unique(df['Uso comercial ou familiar'])))"
      ],
      "metadata": {
        "colab": {
          "base_uri": "https://localhost:8080/"
        },
        "id": "8eBjJy8shhM7",
        "outputId": "0d50ba83-6b1f-4b5a-a449-89b9da9325ec"
      },
      "execution_count": null,
      "outputs": [
        {
          "output_type": "stream",
          "name": "stdout",
          "text": [
            "[0, 1]\n"
          ]
        }
      ]
    },
    {
      "cell_type": "code",
      "source": [
        "#Verificando valores unicos para checar inconsistências.\n",
        "print(sorted(pd.unique(df['nota_limpeza'])))"
      ],
      "metadata": {
        "colab": {
          "base_uri": "https://localhost:8080/"
        },
        "id": "RDv4KNkshldu",
        "outputId": "38cfefae-7f5e-4737-d769-25bda624a8a1"
      },
      "execution_count": null,
      "outputs": [
        {
          "output_type": "stream",
          "name": "stdout",
          "text": [
            "[4.0, 5.0, 6.0, 7.0, 8.0, 9.0, 10.0]\n"
          ]
        }
      ]
    },
    {
      "cell_type": "code",
      "source": [
        "#Verificando valores unicos para checar inconsistências.\n",
        "print(sorted(pd.unique(df['satisfacao'])))"
      ],
      "metadata": {
        "colab": {
          "base_uri": "https://localhost:8080/"
        },
        "id": "gbPezp5BhrNd",
        "outputId": "61901488-0564-4e68-b575-4819930d6e36"
      },
      "execution_count": null,
      "outputs": [
        {
          "output_type": "stream",
          "name": "stdout",
          "text": [
            "[20.0, 47.0, 60.0, 65.0, 70.0, 73.0, 74.0, 75.0, 76.0, 77.0, 78.0, 80.0, 81.0, 82.0, 83.0, 84.0, 85.0, 86.0, 87.0, 88.0, 89.0, 90.0, 91.0, 92.0, 93.0, 94.0, 95.0, 96.0, 97.0, 98.0, 99.0, 100.0]\n"
          ]
        }
      ]
    },
    {
      "cell_type": "code",
      "source": [
        "#Verificando valores unicos para checar inconsistências.\n",
        "print(sorted(pd.unique(df['quartos'])))"
      ],
      "metadata": {
        "colab": {
          "base_uri": "https://localhost:8080/"
        },
        "id": "N-Ums8HkhvzY",
        "outputId": "e3565590-52d9-4581-c3ae-b577c67c57e4"
      },
      "execution_count": null,
      "outputs": [
        {
          "output_type": "stream",
          "name": "stdout",
          "text": [
            "[0, 1, 2, 3, 4, 5]\n"
          ]
        }
      ]
    },
    {
      "cell_type": "code",
      "source": [
        "#Verificando valores unicos para checar inconsistências.\n",
        "print(sorted(pd.unique(df['distancia_centro'])))"
      ],
      "metadata": {
        "colab": {
          "base_uri": "https://localhost:8080/"
        },
        "id": "4wCylEryh0da",
        "outputId": "d1bc4b1e-935b-4c05-fe6f-84f716f5f673"
      },
      "execution_count": null,
      "outputs": [
        {
          "output_type": "stream",
          "name": "stdout",
          "text": [
            "[0.0150587980705548, 0.099653501265351, 0.11480567677719, 0.1228203248413586, 0.1386645584328363, 0.1613319628315826, 0.1673131477644722, 0.1757999097494184, 0.1847578358707701, 0.1885288278893922, 0.1951980501873343, 0.218366101609283, 0.2224653424234426, 0.2272606763176075, 0.2403669761183767, 0.2613177343616277, 0.2645439121022677, 0.2726701727182661, 0.2746367615057592, 0.2754348902526141, 0.2802043670336476, 0.2802081671693026, 0.2804455866459713, 0.2862270363942465, 0.2872028149662998, 0.2877071439287178, 0.2895266515672745, 0.290728499113068, 0.2963133809226728, 0.2974726347767152, 0.2988822359077754, 0.3345436175529303, 0.3362210405432312, 0.3379457651761013, 0.3396755797229193, 0.3428061638767657, 0.345523840742521, 0.3530819578031284, 0.3537205344170818, 0.3605068051816017, 0.3633454412498557, 0.3639339290695795, 0.3700082752668438, 0.3714395451909041, 0.3720313749795971, 0.3751350635549438, 0.3846115997106273, 0.384862012821602, 0.3940358562606905, 0.3971287274991505, 0.3983966086305992, 0.4062584290776245, 0.406359167097411, 0.4099399980979752, 0.416242311928918, 0.4263213837671397, 0.4331093948195396, 0.4341683996804749, 0.4353879812681013, 0.4382814404938107, 0.44043270378182, 0.4435518548789567, 0.4478046276137652, 0.4715465422801259, 0.4719180294726839, 0.4804104126544418, 0.4883892888289836, 0.4955941275992037, 0.495828246257032, 0.4995517654354977, 0.4997076915125893, 0.5016413716644758, 0.5049749473094602, 0.5065771383010685, 0.5067521079354927, 0.5143556615734999, 0.516734947889863, 0.5271932106561056, 0.5314343611142552, 0.5337976180149427, 0.5389110321049098, 0.5403538681782272, 0.5447381834292384, 0.5545413209293035, 0.5566559866387716, 0.5628455510908131, 0.5684281277104399, 0.5699956913338966, 0.5851829316999698, 0.5895222554649929, 0.5932175621842551, 0.5932291959302427, 0.5983545011776952, 0.5999995685426281, 0.6074574904854887, 0.6097202094674482, 0.6128074572394556, 0.6188752838771392, 0.6221387007869636, 0.6265683252747638, 0.6432797933909642, 0.6539669819722009, 0.6662369998526062, 0.6803930072622437, 0.691227347664673, 0.691933325614957, 0.6937770390868382, 0.7053916540638546, 0.708642130731959, 0.7110008852626659, 0.7118574718225213, 0.7155139728947645, 0.7211666116938649, 0.7215790783001563, 0.7242106613067878, 0.7263702059219925, 0.7316357598343444, 0.7420383543710357, 0.743948359039764, 0.749909127940408, 0.7503945779761707, 0.7553339649403623, 0.756970102359457, 0.7574287959421382, 0.7632839134656935, 0.7761684604222954, 0.7815138353314021, 0.7816646297545559, 0.7922262181442554, 0.8025806309574988, 0.8031378819495307, 0.8045956315218976, 0.8079505112776075, 0.8108103657106573, 0.8152831558920489, 0.8166865418020203, 0.8214128172087305, 0.8268636946364731, 0.8294274663677281, 0.8307142280759556, 0.8321024267105885, 0.8367433734974645, 0.8396060970704041, 0.8551208090245814, 0.8636234431312255, 0.8689376780218488, 0.8754657571444243, 0.8808097653306928, 0.8946649699607463, 0.8976368472520828, 0.8993193377447499, 0.8997135965288077, 0.902817036775705, 0.9084055459944198, 0.9145628895743289, 0.9159026964790178, 0.9198881611320572, 0.922344123377798, 0.922796231237302, 0.9249996021423226, 0.9357224284744096, 0.9384199597900156, 0.9445213338246298, 0.9479501149031376, 0.948788096520026, 0.955192831876313, 0.9580992248851998, 0.9598558196666732, 0.9624136232772268, 0.9685772581216197, 0.9709188271346144, 0.971569080547961, 0.9721050325800308, 0.9750693378669916, 0.9823256087976632, 0.982377859667654, 0.985424878379576, 0.992702453740026, 0.9935731019696956, 0.9987824020226668, 1.0002345144085256, 1.0004624406530764, 1.0057848731195025, 1.0099220248634968, 1.0140664267918649, 1.016519295733865, 1.0183806520872525, 1.0256276331462362, 1.028764213769963, 1.0311006089592691, 1.0332069363851546, 1.0469273515964408, 1.0502783080107736, 1.0505505188320818, 1.0564431368612504, 1.0566123013969375, 1.0576193314364548, 1.0622277144004433, 1.062620817938711, 1.0632696220786984, 1.0711683461395805, 1.077961503252688, 1.086623021139889, 1.0877057867638138, 1.0887276389173115, 1.088797787354492, 1.0888412392791802, 1.0891583554220026, 1.09118232606682, 1.0920611908615705, 1.0923607673057556, 1.0935841673244506, 1.095053365140708, 1.096748152612239, 1.0978692589754402, 1.1011644838435135, 1.1103474018487711, 1.1103486515953374, 1.1175090955454527, 1.1180016594802644, 1.1199150496750092, 1.1263269723055738, 1.1301492900586705, 1.133040038699657, 1.1337573993837788, 1.1397055853048172, 1.1410820729975846, 1.143335256300487, 1.1470018548364147, 1.151764132843782, 1.154034697516804, 1.1547535644310036, 1.157611864220484, 1.1606518056003796, 1.1617217829190112, 1.1627614308403376, 1.1633859680678085, 1.1650497790905727, 1.1674923014349312, 1.1705919401848928, 1.170821138050782, 1.1714105314817096, 1.1803151435424777, 1.182523156670852, 1.1876186249041147, 1.196304903861786, 1.2006366562787605, 1.2050898381220732, 1.2051762215606054, 1.2092938883854898, 1.210052845440982, 1.2177899313284035, 1.2216762047028968, 1.2238902406353978, 1.2243296655599034, 1.2265998445779276, 1.2286417127567772, 1.2286456559027872, 1.231425680175296, 1.2367465025820918, 1.2393663643866293, 1.2454901675254375, 1.2470836669767065, 1.2475451828191395, 1.2559576256254443, 1.258901386091701, 1.264715166206373, 1.2673284617211298, 1.2707944936456663, 1.2727769466762298, 1.276425068282495, 1.2773008303798905, 1.2822467230183203, 1.2897592303027183, 1.2980229450859604, 1.3008801280607143, 1.303236431442467, 1.3052844539313395, 1.3054939315898395, 1.3061860455675305, 1.3089707963485309, 1.310661309014378, 1.3106855550260252, 1.3195079799209568, 1.327797157439684, 1.3279567029507786, 1.3307466253631677, 1.331917688314553, 1.332304005753174, 1.3351060020588563, 1.337129427158154, 1.3386022599898058, 1.3403735525137348, 1.3407265036144973, 1.3437307396437903, 1.349250904525461, 1.3524775482707307, 1.3527171509818487, 1.3557902069923584, 1.3605492938037025, 1.360556253930173, 1.3612904337231495, 1.3663342379671055, 1.3678260629626928, 1.3701507627213405, 1.3772429996352762, 1.379197102395432, 1.3793400398962383, 1.379446055148139, 1.388807900683971, 1.3951070045336125, 1.395578909867689, 1.406046877004593, 1.4071102007540723, 1.412392533345688, 1.4124607027728648, 1.4206889151077826, 1.423924114224392, 1.4250454822872758, 1.4250789186884407, 1.428787220814082, 1.4292708718377594, 1.4305110577156566, 1.4323810575774172, 1.4333734110859075, 1.4362811734094796, 1.444189241127498, 1.4447185744918678, 1.4453770360446498, 1.4678000731747471, 1.4690753644746604, 1.472049269004995, 1.47417472781914, 1.4756207370733208, 1.4781001972750474, 1.478541063093686, 1.4833705939880382, 1.4922559400801028, 1.4993631412343562, 1.505923967249401, 1.510462088716654, 1.5112863647308643, 1.5122702295762689, 1.5170885254790842, 1.5250661771208915, 1.5378472279768334, 1.5409509359930025, 1.5514001269716866, 1.5525786171941904, 1.559842106579769, 1.5605057217916218, 1.5647645877321996, 1.5686984270932698, 1.5747937917863348, 1.5777312456317156, 1.5852074297594774, 1.590912120846862, 1.5910392036654406, 1.6015873642380736, 1.6040226674417173, 1.6098833605867957, 1.615046033182837, 1.61529472873922, 1.620808584212588, 1.6265889740902009, 1.6450857112662365, 1.6603169580718946, 1.661022025321989, 1.6692295089155362, 1.6780014096135505, 1.680914916130399, 1.6868069652027278, 1.701844248467862, 1.7142671347811131, 1.7241527707153907, 1.729196947067122, 1.731690237097334, 1.7326208039228015, 1.7333371289473145, 1.7341784700593628, 1.7349614517837677, 1.737851302767052, 1.7381836787487484, 1.7493625479935593, 1.750366502069159, 1.761900973638962, 1.7630432551974866, 1.7635668072623376, 1.7651125849760003, 1.7688966597852032, 1.7763168318632667, 1.7850137283759848, 1.7908514511636509, 1.792237506252496, 1.8105403189141107, 1.8202441536342264, 1.821746995584432, 1.8351420874060127, 1.8376328981523096, 1.838241415169322, 1.839897858327952, 1.8418085686184145, 1.843414802892541, 1.8439233325897628, 1.8518876618235631, 1.8586013476855452, 1.859068431968525, 1.862884971413064, 1.8688444053531743, 1.870843263846872, 1.871115677546975, 1.871275968182017, 1.8745762721732204, 1.875584962520056, 1.8778904684545863, 1.8791674519616897, 1.8810915643710744, 1.8831520950903005, 1.8856959227564307, 1.8867031699499623, 1.888064753502736, 1.8902839454205285, 1.8979244283569972, 1.8996452931758208, 1.9041523335258497, 1.9072743504697696, 1.9085670632872, 1.908979697867656, 1.9131368224630303, 1.927053639386917, 1.9297542636856864, 1.9307016592209525, 1.9343923826676208, 1.9378488749721643, 1.9399110492001328, 1.9425336211431696, 1.9430198987229763, 1.9470405396940744, 1.9486428405643696, 1.96011552062919, 1.960856865325015, 1.9724401037661043, 1.9754972005465623, 1.976076094847115, 1.9767603992787524, 1.9873365148655668, 1.9923415469244536, 1.9940523834752912, 1.9944623193022368, 1.995211956436393, 2.0044798607570056, 2.0064926395041542, 2.010016972105639, 2.0108412607207056, 2.011355928615153, 2.019398393127015, 2.020715217433039, 2.032401443779516, 2.033686640136478, 2.0382608219750145, 2.041088839062258, 2.050311534111596, 2.056143962063712, 2.061576554640393, 2.064980564395761, 2.067764764686258, 2.0721371838982243, 2.077703390434089, 2.081457384390995, 2.0819265631422392, 2.0851041960765224, 2.0905516880789765, 2.091818701865924, 2.0919879287307603, 2.0966638442762786, 2.0998153753361, 2.105918906623288, 2.10656584266115, 2.11579009570519, 2.116070967254967, 2.1196232016134884, 2.121118972301494, 2.123122113662819, 2.123157088876007, 2.1238922663418918, 2.125057810233992, 2.13142008057136, 2.1359193328965183, 2.1368991958336045, 2.1379533266321595, 2.138970371292116, 2.140598515315153, 2.141165671733949, 2.1442717752745533, 2.146646791238017, 2.1519227347287444, 2.153009991498413, 2.157557644321105, 2.1576837719183564, 2.1587272360800718, 2.1593820479734256, 2.161607613910167, 2.1638971039270123, 2.169252732021212, 2.1702178060696675, 2.17628679091166, 2.1769794974218626, 2.178444728310984, 2.1817361903320878, 2.182707104451588, 2.183173789164365, 2.183217250836813, 2.1895054583458893, 2.190114389681436, 2.1951353114167254, 2.196436786257042, 2.2026551610414105, 2.206552019339292, 2.2105463427447107, 2.2190485159577604, 2.221383073882809, 2.228795196244665, 2.2387743821770667, 2.238971850341774, 2.248713992970771, 2.2497184583987373, 2.2513736484668017, 2.254469384327655, 2.256485798770533, 2.2611117406120025, 2.2623924565330835, 2.2645205162247763, 2.2734285722718925, 2.280619541254618, 2.282736413272373, 2.283412617816736, 2.2849446847498727, 2.285602198759076, 2.290544365670652, 2.2926956908797664, 2.298423367351816, 2.3025871301843264, 2.306239824770925, 2.308738725001808, 2.314548394921164, 2.321880513394118, 2.325287055624981, 2.327682714835818, 2.3322338984509527, 2.332380072584113, 2.3361408437968723, 2.3413656454251286, 2.3443840447556314, 2.3702088966394856, 2.3719504943430523, 2.37583262303917, 2.37860246416926, 2.378975833053337, 2.379144746458994, 2.3834566944260533, 2.3878907808382155, 2.403629097037157, 2.4074427244730043, 2.410867957674224, 2.4144613396038546, 2.4168379908071165, 2.4209685722717382, 2.4211262791138632, 2.4283706566329344, 2.4294707208934065, 2.4303914974794214, 2.432694452645903, 2.4400519322286325, 2.443634646064763, 2.445875336409064, 2.4568833811097384, 2.4641833980904337, 2.465013388537726, 2.468841974061337, 2.4735025666746417, 2.4741674013100776, 2.477384541826873, 2.478895351747357, 2.4826600390758253, 2.4862560849513597, 2.4946403060525264, 2.49564889900842, 2.502125234308872, 2.5205570998744684, 2.520681130531077, 2.5253835165661678, 2.5254227602653385, 2.526830096882939, 2.527532146743827, 2.5285867094854373, 2.5290259737197656, 2.531798798357753, 2.5329930094495627, 2.564051903620257, 2.5666673907412783, 2.572843321360758, 2.5759182091602297, 2.577067709714697, 2.579456768894296, 2.5809634907719534, 2.5809768821939887, 2.5809800774886003, 2.5810130243666207, 2.5827827884957606, 2.583144908068959, 2.5868503858746905, 2.594726489754978, 2.5991483876993, 2.6026624232858904, 2.612766984893799, 2.613537732746529, 2.6153792122347443, 2.6187094013605834, 2.6203215252010894, 2.622877256729827, 2.6322379401630376, 2.6381580666895825, 2.643254433919689, 2.6441496003211595, 2.6612728993460566, 2.6615762466665123, 2.670217588988946, 2.6780920014537366, 2.678607793001168, 2.680403418532747, 2.6965813900665454, 2.709045091252892, 2.7165218008543284, 2.716817308289298, 2.7277437745679425, 2.745901146586424, 2.7466051945301637, 2.7484060408978936, 2.757608074338754, 2.7578981263551, 2.758944308279711, 2.759807642732134, 2.7712160729049127, 2.772629647037306, 2.7841041473458423, 2.7902619365546077, 2.793038724881065, 2.8074567437426787, 2.811828644796849, 2.818626042486488, 2.824866520665748, 2.8347780882133384, 2.8349323218135347, 2.8480415194029267, 2.8494853358865715, 2.85095702392196, 2.8549916690296686, 2.8597924696165715, 2.860040217861274, 2.86126129098388, 2.8619528925509754, 2.863134207896436, 2.863347344159845, 2.865101053492943, 2.8703632527640237, 2.8706328438025386, 2.8778553173215284, 2.8858260467747234, 2.88941954285758, 2.8949775310449337, 2.8993484756765104, 2.9054047862504158, 2.924101844457317, 2.925821935647149, 2.928281339168406, 2.9304498212371377, 2.9330458432919566, 2.937801886453491, 2.9429788856346506, 2.943119229963576, 2.946369673139789, 2.954354853364539, 2.955913597127819, 2.968596307022605, 2.9720557967717705, 2.97209949545444, 2.975607201563641, 2.978906253871682, 2.980651115450149, 2.98073374541505, 2.9836134095253497, 2.986559534823481, 2.9885887859177016, 2.993232558094048, 2.998842507686355, 3.0030686360809, 3.0114927176052677, 3.018615585902174, 3.018859481136626, 3.0194408531429744, 3.023485756770368, 3.0240480789132493, 3.0295222155851818, 3.036183141777524, 3.0382605954299087, 3.038978139919832, 3.042632814959356, 3.046515129832056, 3.050917389210352, 3.061593749736752, 3.0634913554155965, 3.063940577780516, 3.064782626540737, 3.0735680076030403, 3.0789846654690423, 3.081525657102117, 3.0837439315050776, 3.0841225527215075, 3.0912317368841578, 3.1050637991936187, 3.1085899421577183, 3.1135013298466814, 3.1190021605045617, 3.12479210393515, 3.1304863803782967, 3.1346149544386988, 3.1412948011878608, 3.1413747618077665, 3.142361425629701, 3.1502542206829074, 3.1535562293402064, 3.1641595963446867, 3.168237065948456, 3.169262405932536, 3.1846930797052444, 3.1972985934282425, 3.200518257038894, 3.2084808030963328, 3.2215505158787474, 3.240919753612332, 3.241750792513354, 3.242923417708941, 3.24668560709205, 3.2543600386540854, 3.257268339680081, 3.2620446351619696, 3.2944534593264945, 3.2965734069277315, 3.2999354886014425, 3.300063097685757, 3.306494132878313, 3.310462564729232, 3.3127304935792248, 3.316962306152065, 3.321128370046364, 3.3225399978389736, 3.323573133269597, 3.325717488510892, 3.326725231508551, 3.3301962748360974, 3.330384570950704, 3.3426480507193443, 3.345235816001414, 3.34692548642227, 3.363590724697365, 3.366018582385255, 3.3720972916742413, 3.3762037438952053, 3.3858261601570585, 3.3864906698808577, 3.38818760577173, 3.3978644701004037, 3.400626192191605, 3.4008968845053844, 3.403098485949505, 3.408245956606983, 3.418305160366661, 3.4341942413510718, 3.4386970579425946, 3.460300763781245, 3.4616753363776662, 3.4696256124590152, 3.472098019071252, 3.481206790359048, 3.488159987939203, 3.503952091186423, 3.5060140733365786, 3.510244485600586, 3.5132238825336257, 3.5133546872454646, 3.5258935890872936, 3.53040385878742, 3.536508811837636, 3.5366764789398184, 3.543162987193514, 3.5439609687505778, 3.5489264149300257, 3.550537513117757, 3.5574247477897893, 3.563816361456737, 3.5692106976545204, 3.571400786708212, 3.5722610459210875, 3.575143509989056, 3.576481587626991, 3.5789888131796745, 3.5838172734835507, 3.586307747826725, 3.592605345199492, 3.5965174382006118, 3.5992221200932195, 3.602701442903627, 3.603560472926401, 3.6067223036084672, 3.607836531849917, 3.608388448018828, 3.6098603496833377, 3.610179407822753, 3.6138475671793455, 3.615052541237581, 3.620812513463714, 3.624836691859599, 3.627089026715249, 3.628542356356035, 3.6367767909716906, 3.644934918270801, 3.646617307681841, 3.649659688855206, 3.65773207643044, 3.657749524644078, 3.6601617142836327, 3.670801694178024, 3.673035031025522, 3.678925134273031, 3.6811019022708114, 3.694524878999427, 3.69500542587883, 3.698008283526384, 3.7049954688395865, 3.7107928910227055, 3.716679326293173, 3.719141398657261, 3.732498865988086, 3.7368974989424655, 3.745608868675632, 3.752141559788319, 3.753116771036313, 3.754954598705956, 3.761426082268695, 3.7690531200659865, 3.7813310591990335, 3.794470811792838, 3.797424701141159, 3.798167233928072, 3.798577678548316, 3.809662558015444, 3.812821067852762, 3.816294493436277, 3.816301136112157, 3.819808218651902, 3.83291422506462, 3.8377111455988544, 3.839556258887888, 3.848078438321596, 3.850381411625262, 3.856290112898853, 3.869383502868556, 3.874504460159641, 3.8756943705432993, 3.879703742801448, 3.893254193637553, 3.909555630467083, 3.910020733743565, 3.910851974538859, 3.9144099712192673, 3.9197071621384896, 3.9253330803389503, 3.928187717664193, 3.9570815553468113, 3.959015728674424, 3.963243943737326, 3.991285842209958, 3.994828511071973, 3.999605631618192, 4.018532276866914, 4.026662462247161, 4.029369643741768, 4.031395274924495, 4.033325207943663, 4.035971200023007, 4.04677392100638, 4.048209028263254, 4.051917607255711, 4.055558885452375, 4.075247886453735, 4.075584157136301, 4.081379983376794, 4.084006228701259, 4.0910736894608, 4.093198122590339, 4.0944518730887545, 4.1272800185441785, 4.137211263962653, 4.147086685675081, 4.152665401766405, 4.157070172595494, 4.166279688010482, 4.180814737167991, 4.193063773512277, 4.199349945477342, 4.199872161019502, 4.220556208072695, 4.2213741609279385, 4.224208587262892, 4.230634296706812, 4.245379779425726, 4.288270007423799, 4.295560862635061, 4.296259327816605, 4.298145493967283, 4.298415048053856, 4.3026758706919725, 4.303129454004102, 4.320341844989007, 4.399832981973004, 4.416816886287283, 4.45291253977435, 4.456138821808169, 4.486620645389316, 4.547374296331387, 4.573755646739478, 4.593248430863174, 4.5939311522871895, 4.599353594596956, 4.605597187771903, 4.612475562748068, 4.629759730730524, 4.6654114118221015, 4.677773324642946, 4.68689685387767, 4.687321606984654, 4.687725165015746, 4.69702236945333, 4.718971513745547, 4.719735856219555, 4.732919905394052, 4.745291339574047, 4.747394405324037, 4.753301220591684, 4.755320247436294, 4.774310108806402, 4.781588996277906, 4.827759585020316, 4.830131394541534, 4.843614737555418, 4.8570133110489815, 4.867732453035817, 4.880430260803861, 4.88547764075742, 4.892633334993277, 4.894306981480401, 4.915127035200974, 4.932550680236493, 4.934493704887129, 4.943955854904402, 5.022963798088291, 5.036497714450563, 5.0392331758922175, 5.0679834254286735, 5.132776071796975, 5.145610907606987, 5.179175368871698, 5.189394693054406, 5.211971040375422, 5.21296650933706, 5.241484167950498, 5.272023718512713, 5.303744894605014, 5.309254055530047, 5.4162755237285065, 5.428554753160273, 5.501040311938979, 5.514965156632881, 5.529602244701479, 5.59049207795143, 5.598412744386663, 5.611750155516678, 5.618298713761942, 5.628886541528493, 5.731539817453588, 5.748311915159562, 5.836761322262528, 5.839438156140002, 5.902076232094142, 5.906416112124655, 5.915422628026759, 5.924732550802987, 5.9689563746994985, 6.003937195420157, 6.003951952173575, 6.027607454192399, 6.050694737204826, 6.058988674664705, 6.198278628987274, 6.273254202471254, 6.291365973282467, 6.32486346550931, 6.3262199211622985, 6.329190085032534, 6.34895423462532, 6.375406380227657, 6.405929876874316, 6.411657372487183, 6.446611060893965, 6.479034106524619, 6.4813496620849405, 6.502260068918842, 6.525145643031819, 6.612570183365392, 6.64146886597979, 6.645303507439035, 6.648888306593069, 6.705039562493822, 6.760135846625136, 6.79281178529689, 6.802569194960171, 6.805426268752378, 6.84285186563212, 6.926201296462398, 6.960874174837313, 6.978908089437527, 7.01790675436861, 7.072238378231082, 7.081052422366315, 7.083711327609709, 7.104815916987718, 7.145768567891592, 7.150916887381289, 7.154973232517014, 7.174061152495985, 7.213495209980224, 7.256823710579931, 7.297903452296986, 7.304535266554101, 7.325870535810913, 7.385804977155294, 7.401774924959425, 7.448076119094492, 7.494987621979645, 7.536428063847354, 7.540330083571495, 7.548067600582284, 7.594588097597925, 7.611343402946717, 7.628766278417894, 7.6932272926316285, 7.721628335347926, 7.723053179546973, 7.725574011356432, 7.759528868844793, 7.897124607130071, 7.969305988961323, 7.972738293051172, 7.996882958161881, 8.0695081791365, 8.145036770815985, 8.149967773654454, 8.164277879741483, 8.232046569750697, 8.247649252547468, 8.283327632149607, 8.328174013681252, 8.377399284977615, 8.396193965451163, 8.436536017078248, 8.568404780360307, 8.56840750623002, 8.78717569020699, 8.894206248511344, 9.186679711215287, 9.230171256230186, 9.335518920505798, 9.348029945732897, 9.401664780620823, 9.461193276819836, 9.738196176857322, 9.824615769196049, 9.96621180978298, 10.073490090961544, 10.128259537926995, 10.14956306452238, 10.189222107640562, 10.40607716946772, 10.453219551947551, 10.488524566478, 10.723483252396443, 10.729829705225098, 10.853492735263176, 10.898646644844804, 10.967236270992178, 11.03773603590017, 11.038044988580411, 11.187100154117871]\n"
          ]
        }
      ]
    },
    {
      "cell_type": "code",
      "source": [
        "#Verificando valores unicos para checar inconsistências.\n",
        "print(sorted(pd.unique(df['distancia_metrô'])))"
      ],
      "metadata": {
        "colab": {
          "base_uri": "https://localhost:8080/"
        },
        "id": "k0CdJASDh7su",
        "outputId": "10cf9078-8672-455d-c609-994c1658d8cf"
      },
      "execution_count": null,
      "outputs": [
        {
          "output_type": "stream",
          "name": "stdout",
          "text": [
            "[0.0365299349690898, 0.0383546937010648, 0.0452202367146166, 0.0484628244968149, 0.0510521030736588, 0.0549307888656383, 0.0567934111340297, 0.0568915518360108, 0.0576981436516522, 0.0687184318413499, 0.0708805340183559, 0.0752365553720472, 0.0779166156732898, 0.0837770875750669, 0.1007740057793931, 0.1012318191726814, 0.1051871237368232, 0.1068345836161703, 0.1073010915114232, 0.1089403915386729, 0.1112526778129059, 0.1129651468266271, 0.119528106734041, 0.1210290090382624, 0.1220813873662373, 0.1245077819423133, 0.1256081740720538, 0.1266261912071032, 0.1269511243741907, 0.1304376878811783, 0.134728523844149, 0.1432629485982863, 0.1459595422340796, 0.147342513212529, 0.1504065294975317, 0.1530381646078639, 0.1534425610558035, 0.1548958309412227, 0.1572362826184581, 0.1581548155442651, 0.1659570897955379, 0.1661690453846391, 0.1673273754409381, 0.1733919684462981, 0.175794704274626, 0.176270148154478, 0.178057071188013, 0.1807682543430058, 0.1816822906160285, 0.1831750782063814, 0.1863698123406392, 0.1868052977296511, 0.1869973972516004, 0.1903946025634141, 0.191840947767119, 0.1937857537458505, 0.1937963362257176, 0.1940536047496463, 0.1941015234293637, 0.1959483590067264, 0.1967484252974422, 0.1969119600847507, 0.1972943061356879, 0.2003325792143527, 0.2005759773314424, 0.2033104234910704, 0.204161187927555, 0.2079603882524178, 0.2096397288159174, 0.209794903334326, 0.212112618904854, 0.2136804447445945, 0.2160189120717458, 0.2181636125312981, 0.2182564429090288, 0.2213098445190591, 0.2215851965007317, 0.2231727170496931, 0.2235065665493052, 0.2236425474841289, 0.2246711749811112, 0.2256158781449668, 0.2257270156158943, 0.2258822993056595, 0.2262038580473698, 0.2274570512331603, 0.2279685851001318, 0.2284478777953594, 0.2295607310927169, 0.2314822152442006, 0.2337022412454324, 0.2342390132526644, 0.2346408021264288, 0.2351301162907793, 0.236006193982118, 0.2386103255550466, 0.2394039228349863, 0.2400719766181269, 0.2437990579891105, 0.2472316636241306, 0.2477981208904617, 0.2484030642858937, 0.2495009067725535, 0.2513610264574114, 0.2515066607075367, 0.252064711542811, 0.2543870729567982, 0.2552566017232897, 0.2569652707413085, 0.2591512188348284, 0.2599003116014973, 0.2608249170483889, 0.2629848020509173, 0.2634186961461464, 0.2640954345088986, 0.2649952611077426, 0.2669770556224733, 0.2694131643224492, 0.2704808015473475, 0.2708889023279694, 0.2714977931930777, 0.2733957537077167, 0.273675427402192, 0.2751186389666705, 0.2772111229812157, 0.2774761464991365, 0.2791166329324314, 0.2811494140770151, 0.2820637280625477, 0.2856926425096831, 0.2896530778564967, 0.2901789858581217, 0.2904783052940414, 0.2910164200812303, 0.291265710472625, 0.2921606963547296, 0.2924994583056112, 0.2926964803873066, 0.2937352784899475, 0.2944749113660804, 0.2947510204240605, 0.2953727420915962, 0.2998306661490357, 0.300080194268315, 0.3004920413890542, 0.3032820638930517, 0.304291556712768, 0.3063782603336532, 0.3069820702666234, 0.3083530165701231, 0.3120222481832971, 0.3126380462316873, 0.3131754497085762, 0.3148687795884119, 0.3152712772909713, 0.3174337692852088, 0.3177565275300609, 0.3181482617725802, 0.3186926468416831, 0.3222634709737823, 0.3223209296815849, 0.3224488468834334, 0.3233080131697909, 0.324197213036905, 0.3243962311995282, 0.324430029958923, 0.3256625813239212, 0.3274585099687409, 0.3322092144010337, 0.3327422132904341, 0.3348317397744452, 0.3369868588035588, 0.338421910928131, 0.3386577422231185, 0.3397168029391513, 0.3398083009094473, 0.3424234828581192, 0.343192151018405, 0.3442966105560922, 0.3462387608679918, 0.3483140225749814, 0.3500259710777088, 0.3506878607343284, 0.3510826980086694, 0.3515608640822453, 0.3541166133183717, 0.3577751768820043, 0.3585655010018879, 0.3639411372810649, 0.3686876001937587, 0.3698019532961227, 0.3700923222171218, 0.3727314901110468, 0.3750906027160168, 0.3771036873075551, 0.3776491570566164, 0.3804858903310787, 0.3824055698576001, 0.3825354028755497, 0.3842044610919012, 0.3850952787449667, 0.3861357620803379, 0.388532101474649, 0.3887324054771847, 0.3904185288251806, 0.3915894338222112, 0.3966733830715146, 0.3975279375938017, 0.3997935402179011, 0.4001626130870601, 0.4006963639941867, 0.401275176970096, 0.4025563099128329, 0.4050562243807235, 0.4069236248754032, 0.4087410334791735, 0.4093475670674387, 0.4116731467722886, 0.4121115057900435, 0.4126505145672419, 0.4153789595656777, 0.4157414723468542, 0.4176824191237845, 0.4178391799529932, 0.418791486095052, 0.4195982639991573, 0.4199509714157932, 0.4203411204161449, 0.420524421186402, 0.4238807315942822, 0.4249699342286068, 0.4263702451457302, 0.4273375576172765, 0.427585515339741, 0.4277375497392222, 0.4285827306811792, 0.4308307558331673, 0.4322277893940299, 0.4328047659136378, 0.4333650387135371, 0.434767398257414, 0.436246625758571, 0.4380549746259914, 0.4393454321343346, 0.4396085408345265, 0.4398760761319157, 0.4404027289694567, 0.4407995498447566, 0.4411565599497009, 0.4416495572029794, 0.4425872141132757, 0.4427565973806295, 0.4431243916953349, 0.44562526639602, 0.4460427486561224, 0.4468093520238611, 0.4475125907652678, 0.4486168804903532, 0.4493808956206092, 0.4493960663752936, 0.4494306281654909, 0.4506704439473459, 0.4514115129639788, 0.4537743064745519, 0.4545625659060568, 0.4546837615319491, 0.4557332516539836, 0.4564919556120138, 0.4565702771027853, 0.4568479340846588, 0.4598073595219026, 0.4599680994626323, 0.4610551130503671, 0.4619657127380694, 0.462624354105188, 0.4629715946887, 0.4629939372415161, 0.4651874350138927, 0.4666264782045682, 0.4671099382495319, 0.4671583350127822, 0.4675960645624426, 0.4680815370178567, 0.4685946543749776, 0.4703280996300124, 0.4765767595082926, 0.4766601961843698, 0.4767363699926728, 0.4770434349678951, 0.4797052624623678, 0.4806636557656047, 0.4808489268128597, 0.4821955342373608, 0.4825696920969623, 0.4831030836764748, 0.4841207760826837, 0.4847709182039126, 0.485490105549392, 0.4873379813018268, 0.4909838779621794, 0.4912928462120452, 0.4913206361539431, 0.4921804154168875, 0.494616939734642, 0.4957339182902796, 0.496089994258825, 0.49622052078854, 0.4963551695234535, 0.4967233289140303, 0.4968487463234998, 0.4970273626145227, 0.4978480505320696, 0.498288382581228, 0.4988160279038703, 0.4995292640250389, 0.500426586761092, 0.5026921388728146, 0.5030919944116142, 0.5039596498564389, 0.5040828461367526, 0.504430856064857, 0.5092369592182883, 0.5105237658897454, 0.5118896741202701, 0.5137138801903348, 0.5140565509908231, 0.514271156345706, 0.5155278023657777, 0.5162171303782599, 0.5168796995178072, 0.5177519727617415, 0.5180858655134936, 0.5199748417991036, 0.5203169404675712, 0.5210072615726218, 0.5247043217551033, 0.5281244287931286, 0.5317907808547516, 0.5319287229422929, 0.5335506980152729, 0.5340880619057765, 0.5349334596105503, 0.5362382328069959, 0.5378669311065164, 0.5387855497847494, 0.540488286065526, 0.5412267604627591, 0.5415389093721886, 0.5450973953995212, 0.5470815390542403, 0.5491544392071435, 0.5508823705734878, 0.5521164877855617, 0.5525735316546727, 0.5578845347320643, 0.5587222831601781, 0.5587609221333576, 0.5589340690081357, 0.5619198281084249, 0.5622186851477062, 0.5636906907201135, 0.5644530996156306, 0.5645858864491468, 0.5650891278645118, 0.5660492016832768, 0.5661673341778818, 0.5668273884573035, 0.5689210236971738, 0.5696716652337547, 0.5703225104289903, 0.570379005510663, 0.572751297214144, 0.5739458151154336, 0.5770980648418833, 0.5772118077880999, 0.5815287315762019, 0.5815343983346937, 0.5820594454254387, 0.5829532354990414, 0.585419388573309, 0.5876071825479904, 0.588613800221921, 0.5920692170542828, 0.59299996188348, 0.5951081748965891, 0.5951119453181583, 0.5986550611358364, 0.6019040352325485, 0.6070844062971986, 0.6103862978784339, 0.6132777706171577, 0.6136814818182426, 0.6138031297978308, 0.6144464815739037, 0.6150929612848858, 0.6165535508205746, 0.6180706858518248, 0.6187855312563412, 0.619887130110782, 0.62375492790135, 0.6237845548999664, 0.6242630501583555, 0.6248095859988213, 0.6261354026228159, 0.6261363394588191, 0.626836891216754, 0.62723648735813, 0.6274444075007614, 0.6280730466725806, 0.6301026675351763, 0.6302379843526383, 0.6323017441042645, 0.6329835978810849, 0.633240498829823, 0.6340117746622399, 0.6365911773087146, 0.6387634869497506, 0.6400305551847726, 0.6406848178455218, 0.6419533809730128, 0.647097191952299, 0.6483040842536506, 0.6503678718571682, 0.6533778129471487, 0.6555276108889897, 0.6569883924606378, 0.6573411039299696, 0.6574074643104452, 0.6574336748516322, 0.6589549052774286, 0.6611870535492602, 0.6649530822965309, 0.6656984200468112, 0.6683316979232571, 0.668772405016601, 0.669013716767363, 0.6699301441556185, 0.6700167005633776, 0.6703715326917843, 0.6712405206030825, 0.672541589405056, 0.6736168389407574, 0.6737264083182075, 0.6744089115581037, 0.6759159579099971, 0.6769268165251032, 0.6789854703980611, 0.6841712966128629, 0.6843486326539608, 0.6846673932413595, 0.684858652414175, 0.6880204806236558, 0.6884091181209882, 0.6948838331281413, 0.6952591367294633, 0.6974224938368218, 0.6984649219093739, 0.6987056383144588, 0.6992974213303557, 0.7031591102460618, 0.704737729790729, 0.7051149438759162, 0.7057572605145639, 0.7067286569629585, 0.7067336200557744, 0.7077232272113942, 0.7112808073094554, 0.7145104242332554, 0.7166359976927752, 0.7166396308234398, 0.7181427551568089, 0.718351833185352, 0.7231281133302132, 0.7271074308544552, 0.7279622388446657, 0.7287260460188892, 0.7297467390303181, 0.7301650831663089, 0.7322021630584719, 0.7329278410387977, 0.733216648892451, 0.7334617909631045, 0.7338243167507649, 0.7344087542751933, 0.737743309544983, 0.7392889390913924, 0.7397462391919207, 0.7445803900753045, 0.745628382879752, 0.7488679155496919, 0.7500055295798854, 0.7519929810578154, 0.7526037522975895, 0.7541537990183548, 0.7558042881501363, 0.7601124924663225, 0.7617392260758445, 0.7640354186733012, 0.7651677882558822, 0.7687288633653885, 0.7704399381762843, 0.7710028462696366, 0.7716152348460149, 0.7718199873581287, 0.7724453710697705, 0.7724693127181727, 0.7734100397526606, 0.7745627020997912, 0.7765772205650255, 0.7795881449410605, 0.7817880235791371, 0.7838911247101393, 0.7900395774136626, 0.7924066228604738, 0.7930230502351593, 0.7980918561129171, 0.8018884224404086, 0.8038981232057987, 0.8049068471205659, 0.8064406756102587, 0.8068746127730139, 0.8081288836765702, 0.8086828844577545, 0.8093416220982698, 0.8093578607499121, 0.8133544991075086, 0.8150482720745783, 0.8155665154980324, 0.8192941851368829, 0.8208105017213989, 0.8221647565339516, 0.8236655684837957, 0.8236756885990021, 0.8236759028790247, 0.8236820945514493, 0.8252620114311899, 0.8299651281645313, 0.8312679532162717, 0.8325878677440899, 0.834389328062028, 0.8393184180742623, 0.8393253845123759, 0.8435705630862228, 0.8442495516905745, 0.8486543150264099, 0.849131290941062, 0.8499333406372869, 0.8502639211480465, 0.8507927068273744, 0.8529929215204265, 0.8550361570034479, 0.8560097912936638, 0.8572393306243391, 0.8591961020934598, 0.8594670615547043, 0.8596018053488346, 0.8601405523850606, 0.8626311279689606, 0.8635917565167472, 0.8667433551734591, 0.8719130307355043, 0.8723002292631058, 0.8724677156341855, 0.8745813935146027, 0.8761523906986786, 0.8805309068987951, 0.8839577106481199, 0.8843372439152997, 0.8891445983036871, 0.8891807824210028, 0.8907361492154611, 0.8924623427814534, 0.8955660841152472, 0.8957467668007161, 0.8970263744801004, 0.897171291149295, 0.9038613908996508, 0.9067654661138872, 0.9089482696796484, 0.9103197866147276, 0.9111774049361224, 0.9112465307319396, 0.9120456255463492, 0.9171150679278918, 0.9188638529635088, 0.9202137108935404, 0.9211744299232464, 0.921397238856894, 0.9216298507974184, 0.9218380213892816, 0.923614786809486, 0.9244044386046626, 0.9248057626643064, 0.9283791093081158, 0.9296212452431596, 0.929788716025646, 0.9328881519374496, 0.9383892634659836, 0.93877851992916, 0.939539308934614, 0.9396279868304532, 0.9430410759408056, 0.9431073696347472, 0.9521696502322442, 0.95619103764933, 0.9563636940943456, 0.9569279642150376, 0.9602394436467304, 0.9619052042025946, 0.9658406237026368, 0.9675297502007664, 0.9715567380553226, 0.9764219624064068, 0.9768285209647872, 0.9769056281413296, 0.9783056128746024, 0.981847879121448, 0.9831304711412682, 0.9837028381016688, 0.9837430031835354, 0.9852069073138536, 0.9868863524116686, 0.9869445639151446, 0.9885629382649193, 0.9890716194329544, 0.9969771641172994, 0.997353296404995, 0.998585843757206, 0.9991410191015112, 1.000077602362588, 1.002226334961589, 1.0036405514042732, 1.0065615085511248, 1.008999987890187, 1.0123424390666131, 1.0128586947340377, 1.0142340425633636, 1.0160620703614949, 1.016140984435565, 1.0167929637847486, 1.0167938742260976, 1.017945187754835, 1.026560937421673, 1.0276557871319492, 1.028521865497918, 1.0309148392372562, 1.0339078176519003, 1.043848551312259, 1.05041461371443, 1.0517066498339125, 1.0518418774747902, 1.053211220818456, 1.0541425298455678, 1.0602656077469006, 1.0653391259990903, 1.0657923950511647, 1.0693014214448182, 1.0709355640523273, 1.0720367196207157, 1.0732218232824755, 1.0807963140739605, 1.0813674195585403, 1.0839193532247509, 1.0846547847896026, 1.086370828433474, 1.0919718174382118, 1.094775826973951, 1.0948368113158276, 1.096036280158745, 1.0978273773794718, 1.098774337645081, 1.1029434397236724, 1.1030307670570212, 1.1049968776580508, 1.1062793411622822, 1.1108471283219898, 1.112341340250019, 1.1136174542069004, 1.1173687710581215, 1.1210705457980177, 1.1347773626037854, 1.1412571568986538, 1.1480507847216093, 1.1541799683788203, 1.1559535414523046, 1.1579997481608375, 1.1587122498461673, 1.1646812551054528, 1.1649702723162814, 1.165052643324776, 1.1721670782255924, 1.173691263230791, 1.1743112776586542, 1.178278980032633, 1.1785697748490571, 1.1844635087944526, 1.1893164742118734, 1.18932648328062, 1.1916766135357626, 1.1958198961371844, 1.1961123528716675, 1.197580042986349, 1.1995434912583012, 1.1995965097495065, 1.2007247087507342, 1.2007269573498716, 1.2008421789749295, 1.2019194359640075, 1.206081902143363, 1.2066437267905972, 1.210672038695684, 1.2112289797247815, 1.212522232900192, 1.216674871885683, 1.2193062162305894, 1.220433126369452, 1.226627473905339, 1.230478279830624, 1.2331947235647396, 1.236035020445942, 1.2387197994690615, 1.2405762988964817, 1.2466108857508118, 1.2481531877884884, 1.2483942832692196, 1.254088875752925, 1.2551263234995729, 1.2556685082768544, 1.2642717941773842, 1.267770006365097, 1.267933991656668, 1.2687303095151, 1.2728867269609074, 1.2788940751193616, 1.2822417029301671, 1.282632505080677, 1.2846700786178615, 1.2895512595930496, 1.2899112742126717, 1.2924278905028768, 1.2955615326886665, 1.295799455852778, 1.2977620579311064, 1.299804344191244, 1.3098106597142083, 1.3098681163007877, 1.3122833911328724, 1.3125529101338531, 1.3142699981596224, 1.3247353046140298, 1.324766945124097, 1.3305695559947743, 1.3320262572790251, 1.3334441451638506, 1.3342193779915297, 1.3413970797407817, 1.341994910603279, 1.3421624076909515, 1.3433485672929883, 1.3443515378999538, 1.3499227421669824, 1.3525869353715234, 1.3529367815798892, 1.3546769443106406, 1.3547288689925836, 1.3576806429356143, 1.3584681110082284, 1.3586437223661696, 1.3595669919985298, 1.3630703276441116, 1.3704601766751132, 1.3736009940992449, 1.3761891365061378, 1.3814078101685354, 1.3824197464176904, 1.3848683663520591, 1.3878199440190568, 1.3912920795491988, 1.3913833749046491, 1.394272482037601, 1.3945468029754575, 1.395652581543664, 1.3971998000797672, 1.4025393444600294, 1.4026486427602332, 1.4036925498303976, 1.4042523228813486, 1.4051444024403958, 1.4241694265758251, 1.4258260483667795, 1.426602931090758, 1.4293613333939603, 1.4303944319621709, 1.4360537205353787, 1.4363972018379791, 1.4395679661164715, 1.453161313718368, 1.454009367084325, 1.45554012551093, 1.4573425714918402, 1.4575222725558423, 1.458253468980608, 1.4584035662283186, 1.4611043107989496, 1.464131062945396, 1.46568090120341, 1.4714543072546298, 1.4715643124926323, 1.4724409675029893, 1.472691888707652, 1.4750921740191227, 1.4765118209583892, 1.478442335911112, 1.478692879292418, 1.4817144252959469, 1.4834041356826904, 1.4838249875839693, 1.4911980998059209, 1.4927500311169253, 1.495275248092992, 1.495510031238361, 1.4992338176800355, 1.4992598769919716, 1.499850873780279, 1.5008579628497989, 1.5041949741295515, 1.5086101517302042, 1.512648825694328, 1.5137191979567906, 1.5138877551236871, 1.5167871078585553, 1.517031911552743, 1.5184080542126452, 1.518472413982306, 1.5193110444768114, 1.521022938247527, 1.524860774848693, 1.5253450419553285, 1.5257127747434576, 1.5272057403729855, 1.529883826847158, 1.5339842203263518, 1.5341407839109014, 1.53434624900011, 1.5422503626132524, 1.545169284178017, 1.5494809207222906, 1.5569628923100989, 1.558177167802819, 1.5582261423238473, 1.567852819146674, 1.5727986406510968, 1.57850546355438, 1.58239455985286, 1.584238759465108, 1.5851594458807003, 1.5853024988361557, 1.5858252502236687, 1.5885218629941165, 1.590381362751412, 1.5912666058298195, 1.595429011714874, 1.5968811141799186, 1.6031666695885105, 1.6038187284675045, 1.6081795662275111, 1.61021178321822, 1.6131358710845638, 1.6184893548250954, 1.621455341084057, 1.6344634192292808, 1.6355972255474551, 1.635648970982586, 1.6374777267576586, 1.642635411658126, 1.6432708214224112, 1.644883337396129, 1.6530573697807769, 1.6539819223109358, 1.6553353038551804, 1.660496489168836, 1.6614883604947426, 1.6615441727335758, 1.6662920533924643, 1.6670195059666508, 1.6711178545700378, 1.672048221471111, 1.6824395224440585, 1.6831399184913935, 1.6840366529235025, 1.6891278601063946, 1.68990296753702, 1.691230146239749, 1.694749966485974, 1.6989098857854066, 1.6991130120804383, 1.7015002075939374, 1.7018189504673853, 1.7025833727524873, 1.7068565505094948, 1.7153961722742237, 1.7228436691300804, 1.7251660365569477, 1.7263130674050886, 1.7268543647913286, 1.727598528678731, 1.7304866027390526, 1.7328978100848034, 1.7472691351888177, 1.7478432092170455, 1.7479738637088578, 1.7481671673724164, 1.7498843969741926, 1.7500029807371027, 1.7577296924392285, 1.763390617006357, 1.7688405854417426, 1.7894569755399825, 1.7972710672871133, 1.8010989377075828, 1.803145765040602, 1.8058525767287328, 1.8192398417419855, 1.8203583899676208, 1.8225507862225732, 1.8235124571663843, 1.8275555238239385, 1.828561202167294, 1.83151589988676, 1.839048672032788, 1.842504033528384, 1.844094477601163, 1.8448750660290103, 1.8466109336425631, 1.8476262036774247, 1.8489324105176428, 1.8510833525786383, 1.8562790047053896, 1.859794731174229, 1.8734109911985728, 1.8748732889669992, 1.8749895645814785, 1.8772275779288508, 1.877712322461092, 1.8825092497769225, 1.8863276005516103, 1.887286633437381, 1.8878481438597647, 1.888951828778548, 1.895295384706367, 1.8956003809792463, 1.8979163470830995, 1.9014311128209207, 1.9037805167517696, 1.904668241410844, 1.9075886852707808, 1.908060732504753, 1.9098143160053351, 1.920138777407845, 1.9243132700446044, 1.9290886208574347, 1.9337091159122537, 1.939540827332288, 1.9405543232877949, 1.94572610404716, 1.949458130908684, 1.9500668835548889, 1.9508241563748103, 1.953864784235962, 1.9539501035177171, 1.95471254360904, 1.9549805476199429, 1.96417866034997, 1.964267309099485, 1.964908681535753, 1.9683862116295985, 1.968889299785439, 1.970027955112244, 1.972626624026964, 1.9749429180473963, 1.978808815342543, 2.0021775063952765, 2.005066358810773, 2.01325599851614, 2.0309185993218186, 2.034269593921583, 2.0391116128769253, 2.0628729771563603, 2.0964043471281717, 2.096772714077786, 2.1115455002657875, 2.123983401411834, 2.1386838643617683, 2.144151474553194, 2.1568044843643843, 2.1596975796391003, 2.160315860926638, 2.192304227216291, 2.2242555731559417, 2.2304432504885887, 2.249047727402284, 2.2704517555461674, 2.275849329447833, 2.283153281646566, 2.2910261030206738, 2.3182719760724355, 2.341554351573382, 2.3712668616978507, 2.3808055243960418, 2.3918012298079425, 2.4020265043776847, 2.422338490819688, 2.4277815443418658, 2.4371601128802998, 2.442971243797081, 2.443507004982804, 2.4438170031213318, 2.4459776013619616, 2.446078866743691, 2.4541086259470197, 2.460046063839885, 2.4623758154471687, 2.477025247507142, 2.479915042294863, 2.4870926069788584, 2.4972836069250057, 2.500075677795874, 2.5320980249943688, 2.538554702182055, 2.539380002594493, 2.59632847475967, 2.6197486990397936, 2.6279050708786102, 2.642407201417929, 2.6626697638970924, 2.687144039939682, 2.7137451204298437, 2.747204463426202, 2.759655850135027, 2.764327938573845, 2.80843797194201, 2.808977587960279, 2.8095185164946583, 2.8134863633251825, 2.822288918473796, 2.8408930193825026, 2.886141868728968, 2.909751010360029, 2.927772902832517, 2.9398697830337768, 2.968694453357813, 2.969877703834849, 2.9774802400833957, 2.98330456540736, 3.00537913654262, 3.0297151455229785, 3.033295572439463, 3.1044409032630145, 3.1503408673472277, 3.19576631771615, 3.236320321784766, 3.2463361960463843, 3.271039670015855, 3.281450303876428, 3.3052621509021933, 3.3115272879983904, 3.316991622443339, 3.322728204022658, 3.34950709086902, 3.349573513993501, 3.403507056190536, 3.4063201159111443, 3.4133063845220613, 3.4497912331003158, 3.4515249236469354, 3.4868732978723225, 3.5139902400810885, 3.557875229294197, 3.5955950031421526, 3.595893239791539, 3.625385959526186, 3.625932548901677, 3.632031437799635, 3.651621288793656, 3.696267241237386, 3.720813885628837, 3.722545864828776, 3.754778372584131, 3.776977783080029, 3.8045385515697663, 3.830982737326633, 3.8327160421129274, 3.833064537056145, 3.88222253655346, 3.911722315852436, 3.92939812408884, 3.9465216576496993, 3.950470390051717, 4.03001394249167, 4.095711511684364, 4.13522109398571, 4.143226904079955, 4.411915315184665]\n"
          ]
        }
      ]
    },
    {
      "cell_type": "code",
      "source": [
        "#Verificando valores unicos para checar inconsistências.\n",
        "print(sorted(pd.unique(df['índice de atração do local do anúncio'])))"
      ],
      "metadata": {
        "colab": {
          "base_uri": "https://localhost:8080/"
        },
        "id": "BGQKpDsmiA9x",
        "outputId": "f4224a74-9924-4924-df31-4a6aeec09230"
      },
      "execution_count": null,
      "outputs": [
        {
          "output_type": "stream",
          "name": "stdout",
          "text": [
            "[40.93141537073684, 41.27584675384424, 41.34581473923222, 41.64218464090962, 42.0102315706286, 42.02512118821275, 42.64524543570329, 42.95105420164763, 43.90667927503085, 44.05838786563618, 44.29696585107931, 44.771650014593234, 44.85911648685495, 45.16045440505382, 45.3688668005636, 45.54853867647846, 47.31284445405976, 47.54895279345339, 48.69267325178657, 49.07298752535878, 49.325672596659565, 49.41980099625926, 49.86553412435642, 50.30646945995107, 51.35051853062935, 52.51551063768717, 52.56307588103194, 52.68068767296979, 52.99015863147847, 53.06629698853081, 53.06632478313609, 53.55858936386273, 54.1228129834926, 54.92704857123211, 55.10822282382704, 55.34129402461976, 55.840103455842616, 56.758910451125125, 57.07735496541214, 57.275249195903015, 57.56384100577621, 57.746987521128354, 57.89316953795329, 58.12051596421331, 58.26942835575987, 58.319628420556064, 59.10443858964554, 59.20603603758657, 59.7761806926462, 59.78930772071099, 60.53456847918652, 60.76546529633156, 60.96416767718687, 61.09945941729946, 61.38804804485775, 61.509679709158505, 61.750098926728896, 61.774074507076286, 61.79216883423274, 62.0567040403279, 62.13633042944577, 62.45570033416466, 62.48877665203912, 63.19338704944276, 63.5946631560096, 64.40738670447803, 64.5095450377896, 64.97892716422925, 65.27982104135118, 65.41870764064208, 65.63025786323321, 65.76107993501923, 66.59101202755245, 66.89553591603567, 67.21539749302899, 67.79328314836667, 68.03928081859863, 68.17177946386616, 68.85492833186875, 69.09737826969153, 69.38420307283214, 69.5429657100053, 69.69068929196195, 69.83081289769423, 69.93791924722572, 69.95979486290766, 70.10495299437235, 70.26699182414839, 70.85996261422403, 71.34500903762175, 71.43236163319338, 71.45149031359713, 71.4795060995182, 71.52259879210423, 71.5488478136095, 72.44582418352385, 72.6655390369437, 72.8579578508958, 73.0489198293417, 73.10773825527971, 73.29932229151127, 73.36471873147556, 73.82890553607378, 73.91623294810046, 74.72745561903724, 75.23836758514437, 75.27587691428164, 75.55013786236496, 76.17521084845077, 76.73070867863822, 76.83173413412993, 77.27088405313008, 77.94907670629594, 78.08174285378335, 78.49539118721323, 78.65502105398002, 78.69037927190317, 78.75712708465488, 80.17108636740996, 80.18452046792613, 80.42917620429014, 80.7743220024433, 80.91661266719046, 81.10964544558365, 81.10985616953741, 81.18600348409703, 81.28898126173877, 81.61918988574232, 81.71264829493039, 81.7586505742781, 82.10657357322866, 82.76859447709256, 83.27989324823855, 84.34533934563056, 84.92691911190076, 85.31579159849342, 85.74271937299808, 85.88360917764973, 85.97760253276465, 86.3188539806, 87.20473186122335, 87.74321098990832, 89.01711058066586, 89.11430535737149, 90.27607421980088, 90.2870687784346, 90.39484135450608, 90.77227696395936, 91.66621199798304, 91.80599285908444, 92.04583513094003, 92.04662026740972, 92.07273058415431, 92.21360220413766, 92.29459205066688, 92.95858407126194, 92.99055004988293, 93.0477985138743, 93.27076366905054, 93.6196336231212, 94.0741152597859, 94.1903087538516, 94.62022545891728, 95.72595763316497, 96.02079460218418, 96.07755864111849, 96.41451339685918, 97.94519981371448, 98.60530250354162, 98.63663409362889, 99.65764078834287, 99.66122712771389, 99.96386889481046, 99.98184558056576, 100.40780570057824, 100.42265312358684, 101.14354234517184, 101.20523450766248, 101.4551540045533, 101.69769605206602, 101.97271093376034, 102.98285079959244, 103.08809597891911, 103.66151269313072, 104.04550604759602, 104.48427985079248, 104.5786627944308, 106.22645621714616, 106.45274101414007, 106.48773770874756, 106.6760639079397, 107.15455177105588, 107.33473693296538, 107.7693006153579, 108.02488011198652, 108.66756698233702, 108.72017350633404, 108.74589185765036, 108.99533136409497, 109.15362825678928, 109.70608699268392, 109.82260383280328, 110.15535185612433, 110.2202056216619, 110.478414661065, 110.71340051445546, 110.86357295076512, 111.9542343567784, 112.41548615631967, 112.56208681870976, 112.69328828568167, 112.8109825783908, 113.58408859120011, 113.94502484966976, 114.08673508338612, 114.35344845395522, 114.4104987222308, 114.52058580424035, 114.88631093867464, 114.95750911848408, 115.40032340002736, 115.55889010684626, 115.7507086035884, 115.88172695765635, 116.42925547894114, 116.72399605247642, 116.89655313887847, 117.0813979657718, 117.22297548005778, 117.23106924112592, 117.6891956206972, 117.97138796474276, 118.34167537403243, 118.6146676456099, 118.69541464095842, 118.74792964587644, 118.77888465313508, 118.82275102312754, 118.8480104557377, 118.86254923532388, 119.32955444775033, 119.51061671949284, 119.5510518185981, 119.61726614559572, 120.07592878783149, 120.51708067686492, 120.9502917750295, 120.97976583953675, 121.34518240112752, 121.4517270263982, 121.54772499767856, 121.72125711154612, 121.72964253025924, 121.8421345038118, 121.97051355706968, 122.24786682892724, 122.32348431384251, 122.9404351503296, 123.20052848188642, 123.2262914107528, 123.36672361001916, 123.5041302320916, 123.57550523147172, 123.8941448237494, 123.97635311258864, 124.0456410990909, 124.1707765499939, 124.18264253397946, 124.43482534804367, 125.67990918652087, 125.84219407176124, 126.09525199327896, 126.65474164887952, 126.82108671734846, 127.31950578872888, 127.88142450323312, 127.9383072696673, 128.2289234377012, 128.52756957113422, 128.66293251896644, 128.85334689150477, 128.91826253360887, 129.22969947963463, 130.10242472169176, 130.70922301305657, 130.7415602075649, 130.86759510423877, 130.92152341933533, 130.99264603257504, 131.02414823978182, 131.03256790848906, 131.22909105941753, 131.35881886582126, 131.38619536393068, 131.53289860597977, 131.61642248381395, 131.66029194136357, 132.71873965323036, 132.91812726447827, 133.0731507795527, 133.39294445354312, 133.80674638089334, 133.95478100983095, 134.3260317439675, 135.00360869886626, 135.17162600034428, 135.63467796015536, 135.67595194006284, 135.9385526431782, 136.2854661909089, 136.57891837040398, 137.62910940771846, 137.7045306762679, 137.87614900334322, 138.153441790507, 138.25554610218995, 138.31916236890478, 138.35009827502572, 138.35517957358593, 139.2669671446987, 139.3776975718369, 139.57697375116703, 139.63652005214752, 139.93497055858356, 140.01468191285903, 140.1697478040519, 140.32926446420052, 140.9531656784041, 141.18469548682526, 141.468037844658, 141.84285106644862, 141.887468136374, 142.055958436306, 142.29247280426176, 142.296456967643, 142.30734863937988, 142.66141538633403, 142.9067282378774, 143.1795785943919, 143.2816627474033, 143.66211490289788, 143.87556894037536, 144.24494406364053, 144.53672476458436, 144.54998380810338, 145.04398725726858, 145.04570426250578, 145.04584595713612, 145.0465212466992, 145.45383412046434, 145.54893032161672, 145.6573919866074, 146.28291825016836, 146.54480628323896, 146.7892473506369, 147.22970680332926, 147.5394303620012, 147.9559368107493, 148.42220321626465, 148.72410296480916, 148.91134440918043, 148.99917333273208, 149.08316018901786, 149.24340150628325, 149.49006685784562, 149.77481643824325, 149.82777297827815, 149.84954956779998, 150.09528518202245, 150.30284578702197, 150.6834158773232, 150.90604633367053, 151.03644339540324, 151.252340378934, 151.81721949833096, 152.2853635041601, 152.45182549965102, 152.46866129945485, 152.53434322463423, 152.59721388784476, 152.9104910500699, 153.9735454117824, 154.58377542997638, 154.8301668253981, 155.44992535509212, 155.51625607464396, 155.78340694744043, 156.2371148422606, 156.45651391829924, 156.46209493546135, 156.5725942450941, 156.64429056352108, 156.7582338224784, 157.01224845898238, 157.298931509619, 157.64812746200016, 157.96409002578486, 158.27971882831753, 158.28068675395198, 158.53837353203647, 158.58767571851618, 158.6251092034147, 159.00969995241442, 159.55700076540805, 159.62716330921518, 159.92594772484657, 160.72877443685232, 161.95659438965586, 162.0233031706965, 162.30021198720564, 162.35271666421045, 162.48125215773368, 162.60617859028656, 162.66289414708416, 162.6690482564824, 162.67020766643725, 162.99721312278714, 163.02401181856737, 163.43678084203373, 163.65364642385993, 164.0056038621579, 164.16433939704203, 164.19034132997007, 164.2414984347363, 165.51379805510618, 165.7259465885152, 166.05715736494358, 166.33034829929267, 166.81533267470635, 167.11659141933703, 167.16971530915384, 167.45202357974316, 167.55416029598223, 167.6034966452356, 167.8949620902491, 167.90152364434758, 167.91711768225076, 168.3306269464408, 169.6957545063243, 170.02869744175086, 170.16804458483233, 170.59825955720453, 170.5997971333676, 171.19961326323747, 171.5415870554706, 171.70455339327464, 172.33830697867774, 172.7486812946061, 172.8309735139237, 173.08183074674312, 173.5824822548171, 173.94552477556115, 174.28439200948378, 174.7889567505081, 174.98190165471846, 175.01751752045436, 175.16439859319402, 175.1865716079688, 175.41044704862776, 176.0192994642214, 176.11711733476542, 176.2906753485021, 176.54878862513684, 176.6340188872583, 176.65771454328444, 177.6596991108364, 177.7057901695348, 177.94150578801853, 178.21363072796612, 179.42353593770395, 179.44329984076285, 180.22797368988805, 180.8614751413104, 181.15888792103456, 181.19835516460225, 181.29814840454392, 181.3039969521228, 181.51687617462844, 181.6746678237284, 182.3518577423349, 182.7004527075412, 182.8724456787919, 183.36525860175672, 183.5326206651502, 183.69488064457164, 183.7908206461474, 184.216969649371, 184.30015274403863, 184.33578447789392, 185.07021874599272, 185.17679364405137, 185.43684473669015, 185.45690536697248, 185.4863010062938, 185.5861487354961, 187.33162850698767, 187.91369073542867, 188.2586016214186, 188.4023207797564, 188.6866737656676, 188.69589246912585, 189.06780260865688, 189.15662187032157, 189.21825998966744, 190.0177724299064, 190.5141876837763, 191.22214741773817, 191.50133917980733, 192.0452225308648, 192.73190292709197, 192.85778322237468, 192.92230680455077, 193.1111492780399, 193.7169154164457, 193.87918986717736, 193.9932755619495, 194.14088444215588, 194.5023080540704, 194.8297716229793, 195.42778102480543, 195.4689889604069, 195.8554566012406, 195.9593131938744, 196.08243137163808, 196.43410692719124, 196.5126611111241, 197.36779417045412, 198.0377840432063, 198.3687329763432, 199.4261840302045, 199.7189224866312, 199.72758701094924, 200.06353698352044, 200.1676516320246, 200.48741030643808, 200.7716076992332, 202.00179724522263, 202.3092006433654, 202.66465710267053, 202.7086948830748, 202.843104509214, 203.65531340578391, 203.79029139209464, 203.85976716421587, 204.11181313265672, 204.33280712156665, 204.41391112328608, 204.9845239334869, 206.2528615435097, 207.0726387057421, 207.95247369146992, 208.1803105727486, 208.2270514532774, 208.3401006822658, 208.5765194518046, 208.579372677532, 208.58981614938867, 208.80810858545348, 209.94441009247748, 209.9528354256452, 211.26138952170928, 211.54906323871649, 211.89502758855969, 212.053153035008, 212.58792123582623, 213.09496672379387, 213.3362623121221, 213.76868344813823, 214.4116021589361, 214.48514020642932, 214.72729332814563, 214.9233419303541, 215.05079699018611, 215.21143594452977, 215.6147251568868, 215.68007048981096, 216.66903638990155, 217.8642927488096, 218.2865077044358, 218.608852790146, 219.39308300845903, 220.19436532292704, 220.5526047222172, 220.7168822199948, 222.3265352749988, 222.7118377418028, 223.43253545232648, 224.2102792092828, 224.43355621456172, 225.29731759773136, 225.47851576275224, 225.64442507133535, 226.5677163710987, 226.6091569779473, 227.37476693598867, 227.7901394931664, 228.83304281054544, 228.91945711332724, 230.6470045344922, 230.84645095872088, 230.97353673790823, 231.5305439178288, 231.6524131961596, 231.72012124040364, 232.10105420446808, 232.8824518769272, 233.13075697746552, 233.97037069420705, 236.89791527192023, 238.07646316976425, 238.59330629901228, 239.48820531466544, 240.34242503296167, 240.34626044102217, 241.1268253326274, 241.77850065135348, 242.8226369055688, 242.97417571770512, 245.2952625463126, 246.8279020185144, 247.03645640041293, 247.0689367500365, 247.2505725974696, 247.829748107066, 249.1449485871488, 250.0737279604469, 251.3575291765688, 252.0531818204894, 253.23097372606887, 253.50408604248312, 254.6140358434519, 256.3381187748991, 257.5117976315672, 257.94810506558764, 258.8251225759647, 258.9060803796093, 259.911058069354, 260.205034943094, 261.1185535459658, 261.82460169029764, 261.95091315935144, 261.99166388131226, 263.35857410569093, 263.6692090335655, 265.549253671504, 266.25177372602366, 266.7821210526536, 267.0546388928667, 267.1421363427884, 267.24554078146804, 267.325989604784, 268.7262596180078, 268.84821610619224, 269.7026797820866, 269.841142011123, 270.98719216476456, 272.12171462361533, 272.31245219174144, 272.79563468243333, 273.54646354912546, 274.16536633256885, 274.3394106583859, 275.33215581247447, 275.71631687371433, 276.13444127550736, 277.30683666134064, 277.3470416254948, 277.50451156726183, 278.80059538006617, 279.1167462881845, 279.33915593373973, 279.36104526040384, 280.0339581923057, 281.64353964866024, 283.8683425581664, 284.3096713255573, 284.3492807047056, 286.1587380946926, 287.4754745806049, 288.6106114282944, 288.92472839221017, 289.1325118451367, 289.19717921217506, 290.6481577165163, 290.7780401436918, 291.3485985215484, 291.5819375150683, 293.0606698577352, 293.07221316294425, 294.0718522167831, 294.51785865837417, 294.63178523717625, 295.47410624901687, 295.5282801437017, 296.2133063153622, 296.3239445072076, 296.451873246274, 296.8731658728943, 296.905952498924, 296.9793391903124, 297.0116241093587, 298.02957243941023, 298.27709666896425, 298.4986070039177, 300.17957750495395, 300.22897575603633, 300.2609225403001, 300.3081339088829, 301.53280487005804, 303.71585084357366, 303.72395493214395, 304.0531156525276, 304.2793955189664, 306.91883973584805, 307.3177088361952, 307.3928808669957, 309.1463769167731, 309.4338277305511, 309.6124961668028, 310.10706577809185, 311.0141147100838, 311.1182855764587, 311.36333350251914, 311.452306192605, 311.4860169420492, 311.6696002195084, 312.7830515996174, 313.5746917691717, 313.75688525681085, 314.06969422026526, 314.576105655537, 314.7246811975977, 315.8234079996523, 315.88225720863943, 316.6859584024078, 317.1574198300383, 317.5421712023858, 318.293068135185, 319.087915711347, 319.43689408014177, 319.43911375511226, 320.2399392378318, 321.4334985007762, 322.00142414569194, 322.01876862843943, 322.39162134546933, 324.05254938554924, 324.8730451102143, 325.2559516150373, 325.4209715654169, 325.42097901138646, 327.0954295008321, 327.57128699728696, 328.1728967564059, 328.17306138038026, 329.46508385114004, 329.9242642337695, 331.1194925983033, 331.48625377371513, 331.6214335529924, 334.7355142369054, 334.7392241585087, 334.81249468232926, 334.9827096193536, 335.37631265276417, 337.4753962873464, 337.86367380431926, 337.90175237783995, 339.3946231131485, 339.4006858727521, 339.70881347870363, 340.9321442116092, 342.35968199153206, 343.36010741745605, 343.81401748214205, 344.1277961201216, 345.33621442161586, 350.08490612032057, 351.3510289613391, 351.461932019384, 352.6296525763282, 352.8978418975872, 353.50611430447583, 355.61261086919126, 355.9203192396852, 356.8827670722301, 358.4172883123024, 358.8499464481588, 358.9166352430404, 359.92193215168265, 360.0421176576738, 360.3941795182786, 360.519702612773, 361.5892573229458, 362.3768483522264, 362.76049979987135, 363.9759101953681, 363.9941230528616, 365.6274214681438, 366.1167750889963, 366.6781064520412, 367.6278570020923, 369.5284855782464, 370.0217822270056, 370.1729620834675, 372.868466290284, 373.1168956700233, 373.3589702103129, 373.3661159858116, 374.4815332136984, 375.82667088212185, 376.1303056664472, 376.4953866984168, 377.5868037015297, 377.94156210833535, 378.068546009856, 378.6273375769307, 380.1156643596732, 380.4719250728594, 381.105121784445, 382.8610120231874, 383.5039123491596, 383.8002810909582, 383.8014674028409, 385.1064933355037, 386.06001248171873, 386.3649664864131, 386.5195153228388, 387.36686707123454, 388.9185945244051, 389.7122246891637, 390.4248990232311, 390.6199109182866, 393.0355045311458, 395.2375801081415, 396.76106040489015, 396.7858823464008, 397.7641964522144, 398.5490725397333, 399.5788985242028, 400.2049485917855, 400.5474892639951, 401.03131697576816, 404.9316226298308, 405.4865528619543, 406.3740966957024, 406.4194889875649, 406.843333979478, 407.1047475638232, 407.1462638188648, 407.418002944745, 408.29498169845664, 408.9118153831979, 409.6709558877644, 409.8581244623681, 410.1875033050823, 413.529822941769, 413.6101703590296, 415.1529241145441, 416.4259857035352, 416.7629420408356, 417.0109965422768, 417.1147421010812, 418.03153464947695, 418.3684931514219, 418.7542826708906, 419.2793899258205, 420.7608880216559, 422.79888637485817, 422.8529061953185, 423.7716522887964, 425.3458846114482, 426.0276049308679, 427.8783917590101, 427.9688484479496, 428.4686974457253, 428.7552155202399, 428.86047076471687, 430.0257049834756, 430.36024174765663, 430.9659433231089, 430.9776060650994, 431.7864540505447, 432.0740225788731, 432.5511836008308, 433.35650056239376, 434.70261370388494, 435.3389180456227, 439.95635250800126, 439.99521758208016, 440.47651522583726, 440.5123224787733, 440.9191123332112, 441.2820381970565, 442.7083866243456, 442.8981378090417, 442.9522338717844, 447.7262630428791, 447.80552519204974, 448.3383723329141, 448.7291179382343, 450.535491142124, 450.6380114447906, 451.090186323768, 451.98711404430736, 452.6734280389976, 453.9553113432933, 456.4235124595401, 456.7284100471633, 459.2495077108359, 459.4092843943688, 460.4257732630122, 462.9500015300287, 463.76115173670206, 463.9106211533963, 464.15224909017786, 465.34577879324416, 465.91049705527774, 466.5852263367706, 466.7377672473871, 467.3738735793056, 467.4569136803589, 467.5135224021669, 467.8381829823163, 468.19030268925087, 468.2790672273858, 468.7534242375282, 470.2827021864132, 470.8171823015492, 470.8252232329149, 472.3592335341319, 474.2850875139236, 474.52890311778793, 474.6774119088993, 474.6978058329911, 475.3941437284319, 475.4640675291289, 475.8870267068946, 475.9325038221541, 475.97337047674, 476.4643391003954, 477.7940701845302, 478.12532563683175, 478.5142783388474, 480.79321658453046, 481.13705240777085, 481.9600314129281, 482.224137588898, 482.4563117281613, 482.9851901439609, 483.15815730999736, 483.6306138578213, 483.8956796556228, 483.972028645279, 484.32254799554215, 484.3405627483359, 485.3833388954976, 485.8601433004948, 486.25580748439546, 486.6726560934173, 487.2615710463077, 487.4503200969677, 487.8730215579427, 488.2219223942225, 488.4234730038068, 490.2570023169704, 492.0952941272329, 492.3270910882164, 493.27253443070873, 494.6629614104263, 495.38630523111146, 496.15378008770057, 496.1918234821749, 498.0561007928734, 499.39838897935874, 500.52348793818464, 501.16182391026393, 501.2545999068109, 501.4180885926352, 502.45223980266127, 502.5546659262051, 504.6178304865236, 506.5071839252, 510.5866466226721, 513.2098734261585, 514.7601657518385, 515.6599439125342, 517.714666282953, 518.0707414292642, 518.3945190751108, 518.6871688657279, 520.5577161836267, 522.2366604265308, 522.3891532001155, 522.4858235006012, 523.4543146623759, 525.8757741037032, 525.9203773408432, 526.2288357766299, 528.1689964050919, 528.9405557143664, 528.9737834773524, 531.9337484206044, 532.1488234915017, 532.8965183737585, 533.3523629347094, 533.6906722564439, 533.962652799512, 534.0720801405782, 535.3115321735772, 538.2687074056174, 539.0128842344288, 541.877158163713, 542.7479130720643, 545.18004143042, 548.9261624835164, 549.3870067267727, 549.5129603022432, 551.1596409781298, 551.1860467168354, 552.8303243593364, 553.4858375646819, 556.4227025040836, 558.1227842396606, 558.6099219244412, 559.4173509473698, 560.6407649016525, 561.9977104715899, 562.2653057068021, 569.2392404611548, 573.9233635133938, 574.8003062266876, 576.0828256376159, 576.4186988812266, 577.5320485900139, 581.3305425969783, 582.5214452920845, 585.6017573308761, 589.2808024041849, 593.6725920169926, 594.8595937676282, 594.862368353105, 595.9078816617867, 596.6867574891836, 597.5332954642588, 597.6767568404609, 598.8965094074143, 599.7100469079157, 601.0732077622108, 601.9392866572592, 610.1668379020842, 612.6367196113142, 614.6521542433806, 615.7023229108833, 621.879988081089, 624.247328491881, 625.5835795505775, 625.9067944393308, 631.1053435588188, 631.1763782503964, 633.9997047200357, 639.0315767979187, 639.5974193197436, 639.7093862880155, 642.4315783033421, 645.9702485224424, 658.3522212609405, 659.241523393884, 661.6275042191997, 664.210649118196, 666.9076246495788, 666.9244340289245, 674.7465841786629, 680.1030796850894, 682.5356198084121, 691.6669470916975, 692.1044893855568, 692.7710335705149, 694.7104911451414, 717.4464437652888, 719.998000016378, 726.6007015071997, 730.7011331489559, 737.8082917583985, 752.2996742395432, 758.8156535853269, 765.2458113601358, 767.0988273089583, 769.4752057286788, 810.5004267066064, 813.3287566332978, 834.2476240404075, 837.3004136576811, 843.9920246539791, 996.1632313419872, 1003.3081157930492, 1029.7270934687006, 1030.281139745255, 1171.698731990428, 1238.4667773533197, 1502.5536687792485, 1861.001507063012, 1888.5504277122784]\n"
          ]
        }
      ]
    },
    {
      "cell_type": "code",
      "source": [
        "#Verificando valores unicos para checar inconsistências.\n",
        "print(sorted(pd.unique(df['índice de atracção normalizado (0-100)'])))"
      ],
      "metadata": {
        "colab": {
          "base_uri": "https://localhost:8080/"
        },
        "id": "s5l7N4sOiKiM",
        "outputId": "06082a23-f916-4943-9700-8255b12fca08"
      },
      "execution_count": null,
      "outputs": [
        {
          "output_type": "stream",
          "name": "stdout",
          "text": [
            "[2.1673456408743967, 2.1855835114683333, 2.1892883627850512, 2.204981346002683, 2.224469675481119, 2.225258090625648, 2.258094081573569, 2.2742868589258154, 2.3248878415292205, 2.332920912204972, 2.345553775057998, 2.370688616921286, 2.375320024744887, 2.391276067738343, 2.4023116425607878, 2.4118253877739613, 2.50524655099482, 2.517748644448561, 2.5783094026655737, 2.598447296152109, 2.6118271385747907, 2.616811299877474, 2.640413165178847, 2.663760984179305, 2.719044076193057, 2.780731182344045, 2.783249793584011, 2.7894774161146056, 2.8058641089964875, 2.809895685592754, 2.8098971573355715, 2.835962893971631, 2.8658389095310004, 2.908423718278402, 2.918017015335045, 2.930358290281833, 2.9567705811004106, 3.005422022004508, 3.0222838706273567, 3.0327625016232256, 3.0480436297116493, 3.057741359391762, 3.065481794313694, 3.0775199386451337, 3.0854049487227804, 3.088063075509313, 3.129619295431921, 3.1349989478071083, 3.165188486126733, 3.1658835709850544, 3.205345623336937, 3.217571763224805, 3.228093186319449, 3.235256973853388, 3.250537933436122, 3.2569784108793485, 3.269708768196925, 3.2709782911069616, 3.271936397752722, 3.285943712686621, 3.2901599828983907, 3.307070831559485, 3.3088222445685904, 3.3461318332914707, 3.36737966976322, 3.410413921671068, 3.4158232732993064, 3.440677368776558, 3.456609899499946, 3.46396403721599, 3.47516576206733, 3.482092877693492, 3.526038333443836, 3.542163075680775, 3.559099958715495, 3.589699388143371, 3.602725128235996, 3.609741019542009, 3.645914206022929, 3.658752091327188, 3.673939655235029, 3.682346242363628, 3.690168304183581, 3.6975879422126288, 3.703259294587436, 3.704417622973109, 3.712103842484893, 3.720683906188689, 3.752082103524301, 3.777765633933668, 3.782391011910864, 3.783403888248348, 3.784887342728036, 3.787169129433527, 3.788559032563467, 3.8360545273489, 3.847688574827632, 3.857877278879617, 3.8679888425235496, 3.871103317259036, 3.881247819276048, 3.884710604225005, 3.9092896039587055, 3.913913648450464, 3.956868427895748, 3.983921555978011, 3.9859076998790086, 4.000429999313478, 4.033528029258222, 4.06294200846874, 4.0682913734636745, 4.091544653469128, 4.127455405081274, 4.134480165741127, 4.156383119846035, 4.16483562735785, 4.166707868490748, 4.170242209526723, 4.24511229305782, 4.2458236376064775, 4.258778321409143, 4.277054020754447, 4.284588405998241, 4.294809619875331, 4.2948207778487, 4.298852828750928, 4.304305570500932, 4.321790336549968, 4.326739021415178, 4.329174872672983, 4.347597626645829, 4.382652073387072, 4.409725683053155, 4.466141761848714, 4.49693679690503, 4.517527853457526, 4.540133962790907, 4.547594171561839, 4.552571182169322, 4.570640673077686, 4.617548495480738, 4.646061323138577, 4.713515152915349, 4.718661680923255, 4.780178114129473, 4.7807602833144935, 4.78646691282727, 4.806452379135971, 4.853786833165169, 4.861188322638274, 4.873888130296899, 4.873929703794653, 4.8753122624153535, 4.882771508296015, 4.887059974483669, 4.92221879316554, 4.923911412973405, 4.926942757180651, 4.938748910297056, 4.957221806172719, 4.981286910815714, 4.987439433531587, 5.010203808724176, 5.068753062057438, 5.084364875472259, 5.087370569050854, 5.105212547257858, 5.186263410099234, 5.221216286132668, 5.22287531464615, 5.276938297542023, 5.27712819659467, 5.293153279253606, 5.2941051567090085, 5.316660028094068, 5.317446209007785, 5.3556177722875775, 5.358884413282988, 5.372117816703068, 5.384960579276612, 5.399522799996736, 5.453010377082816, 5.45858317925862, 5.488945975284469, 5.50927867854887, 5.532512042972608, 5.537509682551269, 5.624761439165013, 5.636743369521411, 5.638596467754528, 5.648568465135625, 5.67390471542023, 5.683445639467875, 5.706456075197618, 5.719989179364618, 5.754019876184772, 5.756805426584967, 5.758167230375796, 5.771375217982818, 5.779757143631798, 5.809010200780177, 5.815179844884439, 5.832799073814647, 5.836233123792129, 5.849905463996243, 5.862348121070279, 5.870299851355373, 5.928051097496811, 5.9524746867625735, 5.960237289245351, 5.967184494098697, 5.973416485099949, 6.014352962170663, 6.033464776881741, 6.040968427916785, 6.055091078106867, 6.058111927719269, 6.063941111859346, 6.083306500734733, 6.087076491663473, 6.110523802100384, 6.118920014586538, 6.1290769314433735, 6.136014440346785, 6.165006439355677, 6.180613148565572, 6.189750160946602, 6.199537817351267, 6.207034440804288, 6.207463010830767, 6.231721107032427, 6.246663379153135, 6.266270343513532, 6.280725465684039, 6.285001072740311, 6.287781777144463, 6.289420865346949, 6.291743618785183, 6.293081122525591, 6.293850960565013, 6.318579196865919, 6.328166564462019, 6.330307629826858, 6.333813722437677, 6.358100214103741, 6.381459499752673, 6.404398315248819, 6.405958986548603, 6.425308036286894, 6.430949644988851, 6.436032801354269, 6.445221442087455, 6.44566545558003, 6.451621980325246, 6.458419736497073, 6.473105776530093, 6.477109772600606, 6.509777729327312, 6.523549844052991, 6.524914008254718, 6.532349986516439, 6.539625758455392, 6.543405112097886, 6.560277290229961, 6.564630273747528, 6.56829911867142, 6.574925123943336, 6.5755534356797565, 6.588906683248037, 6.654834699794858, 6.6634277922989815, 6.676827377388392, 6.706452726406914, 6.715260808310792, 6.741652429316337, 6.771406398617804, 6.774418378896409, 6.789806698094533, 6.805620209296073, 6.81278776732608, 6.822870334873349, 6.826307661256141, 6.84279845448336, 6.889009835935021, 6.921140208651617, 6.922852484587374, 6.929526116110495, 6.932381656227678, 6.936147645856342, 6.93781570865967, 6.938261535712191, 6.948667567134213, 6.955536740681295, 6.95698634444658, 6.964754378590461, 6.969177023419455, 6.971499940345892, 7.027545449977793, 7.038103156477028, 7.0463117546060285, 7.063245042131627, 7.085156129136674, 7.092994661100945, 7.112652634152067, 7.148530784131868, 7.157427411884696, 7.181946320832869, 7.184131805493582, 7.198036687209315, 7.216405990069336, 7.231944477958725, 7.2875527911869105, 7.291546397470476, 7.300633701921394, 7.315316539249688, 7.320723030396796, 7.324091553989353, 7.325729630773907, 7.325998688908954, 7.374278446639186, 7.380141696331298, 7.390693502436445, 7.393846518639069, 7.409649671261135, 7.413870440434453, 7.422081282407082, 7.430527795553245, 7.463563779398238, 7.475823436594769, 7.490826602709638, 7.510673211849149, 7.513035715347637, 7.521957388682889, 7.534480981618782, 7.534691945717106, 7.535268666972576, 7.554016736484444, 7.567006214972477, 7.581453822646106, 7.586859246378161, 7.607004440804103, 7.618306973918671, 7.637865632127899, 7.653315614117381, 7.654017689281721, 7.680175500156998, 7.680266416725176, 7.680273919550003, 7.680309676581065, 7.701877163887112, 7.706912570925069, 7.7126556881539825, 7.745777719442219, 7.759644864805545, 7.772588181743821, 7.7959108024284, 7.812310870656769, 7.8343651638668605, 7.859054279850921, 7.875040072134487, 7.88495463102705, 7.889605230887285, 7.894052390732918, 7.902537274954914, 7.915598369217627, 7.93067604870234, 7.93348013268431, 7.934633217569006, 7.947645081621806, 7.958635553570757, 7.978786992723072, 7.990575423314096, 7.997480034375536, 8.008911923106847, 8.038822647814433, 8.063611183982685, 8.07242545725007, 8.073316924036277, 8.076794825617064, 8.080123869008652, 8.096712102906363, 8.153001537708494, 8.185313622640916, 8.198360210743951, 8.231176836691544, 8.234689092365446, 8.248834908589167, 8.27285904308738, 8.284476369943958, 8.284771888511013, 8.290622900377647, 8.294419268077174, 8.300452639348881, 8.313902883132506, 8.329082941151073, 8.347573098853887, 8.3643035265485, 8.381016281363049, 8.381067533668533, 8.394712219788811, 8.397322803321888, 8.39930493122005, 8.419669266921986, 8.448649208625561, 8.452364361939848, 8.468185195275673, 8.510695403116843, 8.575709285446205, 8.579241559727143, 8.593904065554144, 8.59668422308843, 8.603490262876253, 8.610105200487647, 8.613108326904891, 8.613434191086643, 8.613495582614124, 8.630810738807545, 8.632229747555577, 8.654086141613657, 8.6655693182683, 8.684205698485286, 8.692610850529672, 8.69398767015527, 8.696696472844124, 8.764065583125765, 8.77529898893246, 8.792836819618273, 8.807302461114542, 8.832982706041925, 8.84893455674234, 8.851747502006457, 8.866695912514684, 8.872104119504572, 8.874716511979212, 8.890149800957712, 8.890497239607068, 8.891322954275545, 8.913218544571798, 8.985502955930471, 9.003132505586176, 9.01051102940194, 9.033291198046594, 9.033372613726074, 9.065133276352196, 9.083241015876387, 9.091870191746551, 9.125427865192997, 9.14715745789577, 9.151514885587932, 9.164797942748514, 9.191307772760332, 9.21053111545835, 9.22847436065584, 9.255191398952537, 9.265407959833258, 9.267293843589036, 9.275071293986144, 9.276245369851388, 9.288099723188946, 9.320338863148327, 9.32551838438899, 9.334708396537458, 9.34837566603936, 9.352888665050177, 9.354143365781406, 9.40719911440474, 9.409639666588156, 9.422120965208777, 9.43653016159318, 9.500595446373712, 9.50164195817286, 9.543190959862782, 9.576735282647414, 9.592483486950568, 9.594573303721594, 9.599857422084405, 9.600167106564792, 9.61143920284466, 9.619794375509608, 9.655652031660566, 9.674110366693142, 9.68321750880208, 9.709312280524, 9.718174212984875, 9.72676598670934, 9.73184607354038, 9.754410946416971, 9.758815546550863, 9.760702270534107, 9.79959105302685, 9.805234264693045, 9.81900414283995, 9.820066366542738, 9.82162288517682, 9.826909888782184, 9.919334202471598, 9.950154784220432, 9.968418044810605, 9.97602806973919, 9.99108474928233, 9.991572885755836, 10.01126577476074, 10.015968813682091, 10.019232593057078, 10.061567308006016, 10.08785282554294, 10.125339763862051, 10.140123153173365, 10.168922137996676, 10.205282321243622, 10.21194776652036, 10.215364333069456, 10.22536366751762, 10.257439387049216, 10.266031927039174, 10.27207284038192, 10.279888828667982, 10.299026449067789, 10.316365862625606, 10.348030857801325, 10.35021284537215, 10.370676563743803, 10.376175839331566, 10.382695028650376, 10.401316482988724, 10.405475979223516, 10.450755842910606, 10.486232251849485, 10.50375621775903, 10.55974895368731, 10.57524964946599, 10.5757084417858, 10.593497216056347, 10.599010155873913, 10.615941590148656, 10.630990030932912, 10.696129384795952, 10.712406598982662, 10.731228254686911, 10.733560084420343, 10.74067716343327, 10.783684164181128, 10.790831338242782, 10.794510126539974, 10.80785612804157, 10.819557906594426, 10.82385241737525, 10.85406674482067, 10.921226064021864, 10.964633809465306, 11.01122165656842, 11.023285770818983, 11.025760731500093, 11.031746763290906, 11.0442652942271, 11.044416374425198, 11.044969363199204, 11.056528092733858, 11.116696012549507, 11.117142139538972, 11.18643094839801, 11.20166346285915, 11.21998250506033, 11.228355352516669, 11.256671684078224, 11.28352007957391, 11.296296841305422, 11.319193827780913, 11.3532368007068, 11.357130689184132, 11.369952857878332, 11.380333761630316, 11.387082591736291, 11.395588531105792, 11.416942962866749, 11.420403041663972, 11.472769443194936, 11.536059061590564, 11.558415624032882, 11.575484010504336, 11.617009521647985, 11.659437952613349, 11.678406966838937, 11.687105569500902, 11.772337768301856, 11.792739789934435, 11.830901212576284, 11.87208326128114, 11.883905927067696, 11.929642666235203, 11.939237229470688, 11.948022237599073, 11.996911125405036, 11.999105433072996, 12.039644989062976, 12.061639241960997, 12.116861665576256, 12.121437360326777, 12.212912144151195, 12.223472964836844, 12.230202241287316, 12.259696141569092, 12.266149200833093, 12.269734386764616, 12.289905040323806, 12.331280566282391, 12.34442848634292, 12.388886590528074, 12.543902021133205, 12.606306915413503, 12.633674102525058, 12.681059600022056, 12.726291101694532, 12.726494189099782, 12.767825618758812, 12.802332259892854, 12.85761996833282, 12.86564404912583, 12.988547138953258, 13.069701417372944, 13.080744510469014, 13.082464366563244, 13.092082105373274, 13.122749833441198, 13.19239057275023, 13.24157005769643, 13.309548185115409, 13.34638345483936, 13.408748318826932, 13.423209797451308, 13.481982376921868, 13.573273713713744, 13.635420789028526, 13.658523557565614, 13.704962217476826, 13.709248986972447, 13.762463223404676, 13.77802949420297, 13.826400911215034, 13.863786629593076, 13.870474905807484, 13.87263268361224, 13.945011488240429, 13.961459814073637, 14.06100942685342, 14.09820833053166, 14.126290573867484, 14.14072057458201, 14.14535362269329, 14.150828956428748, 14.155088775077774, 14.22923400269132, 14.235691679775014, 14.28093609916441, 14.288267766193504, 14.348951883325068, 14.40902560135785, 14.41912528232624, 14.444710116260335, 14.484467003642036, 14.517238317257055, 14.526454079953307, 14.579020595494605, 14.59936217894415, 14.621502143843024, 14.683581258524304, 14.685710138090563, 14.694048276138478, 14.762676775212997, 14.77941717586522, 14.79119391437808, 14.79235296876937, 14.827984155632462, 14.913212563237352, 15.031017355572244, 15.054386007047732, 15.056483349992195, 15.152295321091051, 15.222017392929368, 15.282123643259393, 15.29875634521463, 15.30975861710939, 15.313182797162485, 15.390013073074094, 15.39689043389378, 15.427101879110404, 15.439457333860032, 15.5177571939521, 15.5183684196329, 15.571299971746644, 15.594916309179125, 15.600948797225527, 15.645550254485052, 15.648418798204611, 15.684691389161598, 15.690549754933668, 15.697323666669844, 15.719631391178456, 15.721367464811898, 15.725253338882904, 15.726962846798212, 15.780863887253066, 15.79397045967612, 15.805699579095071, 15.89470808405051, 15.897323754268127, 15.899015357722025, 15.90151523105821, 15.966362372188495, 16.081956107017174, 16.082385223891755, 16.099814502747833, 16.11179617202806, 16.251556497098065, 16.272676880991142, 16.276657289970295, 16.369506070921382, 16.384726782508427, 16.394187394924696, 16.42037518446062, 16.468404028100807, 16.47391994469198, 16.486895395199664, 16.491606558257864, 16.493391564840138, 16.503112421364026, 16.562070411776695, 16.603988284762128, 16.613635550991592, 16.6301989934533, 16.657013815437438, 16.66488098911099, 16.723059303331887, 16.726175408050278, 16.76873192028183, 16.793696116138733, 16.814068956953665, 16.85382944848096, 16.89591715577744, 16.91439579228478, 16.914513325549336, 16.956917566970077, 17.020117323006783, 17.050189363264863, 17.051107765150935, 17.070850564260702, 17.158797807591235, 17.202243601392937, 17.222518755246615, 17.23125667126719, 17.23125706553622, 17.319920331545696, 17.345117302167832, 17.376972938654475, 17.376981655603302, 17.445395103917992, 17.469709010281917, 17.53299714635682, 17.552417394290373, 17.559575253423684, 17.724467894796533, 17.7246643376105, 17.7285440605316, 17.737557054546834, 17.758398596696566, 17.86954646988971, 17.890106022405508, 17.892122308174844, 17.971170805551587, 17.971491832701012, 17.987807394172396, 18.05258356932529, 18.12817264330369, 18.181145834341848, 18.20518067386879, 18.221795461240905, 18.28578201324196, 18.537228393969908, 18.60427043968072, 18.61014283029404, 18.671974409679443, 18.686175212439256, 18.718383640552315, 18.829924033321557, 18.8462173959969, 18.897179648231315, 18.97843356751009, 19.0013431032846, 19.004874319285136, 19.0581054585701, 19.06446936096993, 19.083111270417447, 19.08975780167509, 19.146391434247377, 19.188094902564856, 19.208409501635938, 19.27276628966034, 19.2737306725662, 19.360214908905117, 19.38612650828164, 19.41584937693307, 19.466139299622697, 19.56677884560805, 19.592899230932197, 19.60090430478373, 19.743633043570004, 19.7567875442968, 19.76960555205224, 19.76998392561293, 19.82904600897164, 19.900271942295166, 19.916349605876174, 19.935680889098084, 19.99347214460801, 20.012256837968582, 20.018980719928912, 20.048569104696146, 20.12737699676527, 20.14624123824691, 20.179769424854697, 20.272744979702317, 20.306786979139467, 20.322479900940746, 20.322542716943182, 20.391644707205824, 20.44213417956638, 20.458281696742496, 20.466465160321643, 20.511332998424447, 20.59349799811949, 20.63552124267325, 20.673257822200583, 20.683583831619973, 20.81149111846883, 20.92809248344605, 21.00876177743965, 21.010076115735647, 21.061878497682034, 21.10343820802928, 21.157968178177708, 21.19111794523693, 21.209255701432543, 21.234874700251613, 21.441398476203275, 21.470782400719163, 21.51777843644712, 21.52018198846228, 21.542624862409067, 21.55646688539713, 21.558665198687184, 21.57305396596037, 21.619490573680388, 21.65215232714431, 21.692349321274147, 21.7022600216641, 21.71970085024251, 21.89667889581874, 21.90093334494976, 21.982623181391315, 22.050032638417743, 22.06787470036938, 22.081009351041203, 22.08650274731393, 22.13504752191686, 22.152889698487872, 22.17331750988267, 22.2011222879402, 22.27956859650025, 22.38748196345604, 22.390342348843035, 22.438990564956114, 22.52234721244361, 22.558444756327862, 22.6564451486385, 22.661234890422048, 22.687702226980345, 22.702873549403627, 22.708446884535828, 22.77014681066225, 22.78786075460953, 22.81993305548984, 22.820550605427577, 22.863379643698217, 22.878606588348926, 22.90387258151257, 22.946514649722445, 23.017792234993056, 23.051484972682275, 23.29598119553252, 23.298039127029003, 23.323524157065517, 23.325420174900707, 23.34695996798585, 23.366177133623573, 23.441703230589745, 23.451750681900112, 23.45461510436662, 23.70740312109317, 23.711600104557714, 23.73981471471826, 23.76050495415198, 23.856153615547694, 23.86158213369379, 23.88552509398451, 23.93301801275321, 23.96935879479532, 24.037235367508742, 24.16792825661717, 24.18407278647188, 24.317566582913763, 24.326026864470894, 24.379850625474447, 24.51351018944353, 24.55646113185792, 24.56437563678725, 24.5771699965902, 24.64036818741172, 24.67027039461503, 24.70599775839585, 24.714074900969223, 24.74775715390695, 24.752154182433948, 24.755151651867507, 24.77234264530805, 24.790987617757164, 24.79568775903126, 24.820805277906143, 24.90178156143263, 24.93008263866589, 24.93050841132453, 25.01173527605142, 25.11371052392048, 25.126620722149056, 25.13448436131549, 25.135564233146944, 25.17243578739421, 25.17613829910218, 25.19853426860129, 25.20094231207167, 25.203106228585963, 25.229103343433994, 25.29951348788249, 25.31705368418547, 25.337648988197916, 25.45832028255375, 25.476526617857004, 25.520103903010792, 25.53408850051449, 25.54638227545724, 25.574386738988576, 25.583545465358725, 25.608562353491088, 25.622597763608383, 25.626640493340982, 25.645200725840983, 25.64615461897137, 25.70137030883912, 25.72661741889774, 25.74756810033546, 25.7696405111594, 25.80082394922114, 25.81081833686842, 25.83320066009222, 25.851675191201373, 25.86234742989973, 25.95943402532545, 26.056772798137, 26.069046601239226, 26.11910845442667, 26.19273248687583, 26.23103402280894, 26.271672326416155, 26.27368674943161, 26.3724014717574, 26.443476523118942, 26.503051260563943, 26.536851574429672, 26.541764125092104, 26.55042095963701, 26.60517995335257, 26.61060348465154, 26.71984941899589, 26.819891938960005, 27.0359021994016, 27.174803801656623, 27.256892810397463, 27.30453666186643, 27.413335576646148, 27.43218999223846, 27.449334233721, 27.46483023458616, 27.56387695795931, 27.6527781712003, 27.660852764885863, 27.66597152152944, 27.717253772062072, 27.84547165842588, 27.847833429469187, 27.86416650860017, 27.96689930302241, 28.00775388111325, 28.009513313241637, 28.166245423743845, 28.177633791655094, 28.217224732478552, 28.241362004868105, 28.259275708244523, 28.27367725871821, 28.27947150913698, 28.34510131784166, 28.50168571128157, 28.54109036883752, 28.692755576567976, 28.73886262754072, 28.86764544015017, 29.066005039032277, 29.09040704792195, 29.09707637343332, 29.184269209363112, 29.185667410772947, 29.272733004488263, 29.3074428642689, 29.46295181421838, 29.55297227174126, 29.5787665358304, 29.621520439092947, 29.686301020873053, 29.758152190427538, 29.77232153593643, 30.141596015029936, 30.389623443024703, 30.436058142380656, 30.503968397362936, 30.521753108784043, 30.58070571563267, 30.781838497221443, 30.84489758622596, 31.00800215540196, 31.20281003658549, 31.435358214720598, 31.4982107461234, 31.498357662267978, 31.553718286656927, 31.59496027924382, 31.639785027508587, 31.647381402701807, 31.711968111590004, 31.75504546279883, 31.827225735789817, 31.873085188751183, 32.3087394939842, 32.43952137160776, 32.546239974536874, 32.60184710326866, 32.928958578798024, 33.05431082653544, 33.12506620796919, 33.14218065108972, 33.41744728115717, 33.421208615275404, 33.57070562781001, 33.837146597775444, 33.86710833528173, 33.873037060648485, 34.01717893662816, 34.20455387600888, 34.86018755974891, 34.907276698587566, 35.033615968659696, 35.170395207439434, 35.31320185383912, 35.31409192164451, 35.72827996952279, 36.01190996572655, 36.14071458156461, 36.62422442855062, 36.64739258373668, 36.68268654121737, 36.78538210847188, 37.98926590667624, 38.124372505560125, 38.473989936682685, 38.691110516657, 39.06743928739848, 39.83476761861487, 40.17979305453489, 40.52027418124741, 40.618392606979214, 40.74422342329473, 42.91653613339928, 43.06629808230935, 44.17396601111599, 44.33561324978527, 44.68993849829896, 52.747505003014574, 53.12583138213686, 54.524733804226486, 54.554070922707645, 62.04222639740584, 65.57763876358618, 79.56121513786569, 98.54126634666363, 100.0]\n"
          ]
        }
      ]
    },
    {
      "cell_type": "code",
      "source": [
        "#Verificando valores unicos para checar inconsistências.\n",
        "print(sorted(pd.unique(df['índice de restaurantes do local do anúncio'])))"
      ],
      "metadata": {
        "colab": {
          "base_uri": "https://localhost:8080/"
        },
        "id": "aTqUPl9RiO0x",
        "outputId": "48d229ea-59f7-4606-a4f8-a90999a70e0d"
      },
      "execution_count": null,
      "outputs": [
        {
          "output_type": "stream",
          "name": "stdout",
          "text": [
            "[50.87731805018016, 51.2942317812557, 51.38730756405731, 51.79848966624199, 52.241711519718535, 52.24369564784055, 53.03613816779498, 53.51539663716002, 54.66234757805146, 54.83772630987247, 55.1362781486958, 55.778657957533255, 55.87916532488775, 56.215173265167415, 56.65809997328972, 56.692555144503935, 59.110877342291225, 59.418698804040666, 60.786849493915376, 61.31518864945101, 61.58947676356268, 61.79444653808432, 62.27816166591527, 62.94881745697451, 64.05170211659798, 65.58682710096944, 65.63442542441594, 66.06665769722035, 66.14093336351188, 66.17886984365747, 66.1789067836475, 66.92276559185258, 67.6390695005318, 67.75326378188876, 68.81784063877126, 69.41320156036069, 70.00912283759803, 70.82691489159629, 71.26567343646124, 71.84569009873942, 72.09730705335963, 72.18530625453653, 72.58583891886818, 73.55603585973807, 74.00294488620783, 74.22622300493848, 74.77225260103293, 75.28286020054959, 75.37802953057226, 75.70105653114125, 75.8124293547892, 75.94082162475716, 76.26737321416013, 76.44780254743627, 76.46660101403141, 76.68795244344383, 77.26943279436638, 77.61448664504843, 77.63576761844003, 77.90751533041815, 78.21036639531835, 78.74496699993976, 79.06552629507591, 79.40839139481717, 79.5150980517746, 79.59380063014167, 79.80576224307156, 80.3890547768903, 80.89834688042848, 81.21940086756385, 81.38426747691128, 82.846710542602, 83.26191912456088, 83.9984255268359, 84.36091478261889, 84.60205570436557, 85.4454539075876, 85.69011725389974, 85.8409483929959, 86.52072921483622, 86.55979817880511, 86.59848626687341, 86.87113729937606, 86.89795225294321, 86.94697542555039, 87.1808925146093, 87.68119391959138, 87.79453729136318, 88.16834997484197, 88.4937043122643, 88.5557626783095, 89.08448605879362, 89.14609462604773, 89.25339196878808, 89.76119941701823, 90.4034565493235, 90.50284920232822, 90.9053297762754, 91.11103567639304, 91.29736135392268, 91.33872991932856, 91.3936515793302, 92.344185868097, 92.56920790862506, 92.72702435636592, 94.18695620063086, 94.48225080674791, 94.7552250430726, 95.2424432313776, 95.30516773131538, 95.3869549262145, 95.73151310661991, 96.97587265628582, 97.59237694106628, 97.63302335690044, 97.67621294971326, 97.7564969668544, 98.25389587009934, 99.7591319283356, 100.25293531042708, 100.42200047441528, 100.42898346865564, 100.4292464247102, 100.50479343976448, 100.5454708048405, 100.73531507346416, 101.24451299807605, 101.26754389219306, 101.6163586444029, 102.23463895492527, 102.46394240307676, 102.70100626625232, 103.28982156826298, 105.14113344400435, 105.6672432213714, 105.92345537681685, 106.3599609688111, 106.42874003693868, 106.91354736079124, 108.10033041948464, 108.6726154703092, 109.09580987342612, 111.4548915407352, 112.0590457553618, 112.0675462885228, 112.80215193353332, 112.98617694877194, 114.22560492771244, 114.36548799820407, 114.67434330402575, 114.80440292892082, 115.06967087581845, 115.15689848469738, 115.27201154242476, 115.41855541666438, 115.5252815462654, 116.21714372500834, 116.34266946964216, 117.52588808601166, 117.75965599346443, 117.90059811005496, 118.6768505806366, 119.04949047002998, 119.6117581345751, 120.03956405939002, 120.30073016477236, 121.62315255827816, 121.9989296705074, 122.12554190473386, 123.84437338853849, 124.35902702054511, 124.57652303682862, 125.3542677032178, 125.80502984538109, 126.08252060161227, 126.3826140960782, 127.49543031308058, 127.53192459039607, 127.62128185599964, 127.68361780063393, 128.49260383372655, 128.60154650701372, 129.69180134566687, 130.36219092730855, 130.97240814488163, 131.79593677784803, 132.15989020856188, 132.69913726849083, 133.46242185304288, 133.6498162768867, 133.87620194208236, 134.28806530323843, 134.77527677253764, 134.89027633172634, 135.1586271061196, 135.4320668390215, 135.54675650058584, 135.99901004636772, 136.12821670009808, 136.37179460200753, 137.09827685703266, 137.24584008189817, 137.28396289450984, 137.5276624285692, 138.62853153447398, 138.72512164680313, 138.75258413696943, 138.78673112714876, 140.1380792398226, 140.20789823257462, 140.4658330086323, 140.57794643651528, 141.37487655736933, 141.38224355707774, 141.71183893314645, 143.15293259644082, 143.56955113436797, 143.61900713577757, 143.8939728036428, 144.9121572303968, 145.63427550487611, 146.00014397743803, 146.02110845612668, 147.03319422440475, 147.2522745503008, 147.3418793610721, 147.63495433348092, 148.01849735115024, 148.24673433938014, 148.33913720961883, 148.3408862507239, 148.65386777042332, 148.95235287614554, 149.41542442265026, 149.43175596582586, 149.49613491323785, 150.25107823014557, 150.30892881169427, 150.3563521280422, 151.1516621230606, 151.3763929154923, 151.46090382465707, 151.47827587010414, 151.68148797079445, 151.7596727780508, 152.323480911513, 152.71977314527024, 152.78714611027962, 152.97054569866236, 153.7506652210674, 154.23636490693585, 154.8350859653691, 154.9702524481862, 155.4152413712137, 155.44830998772338, 155.54502098008982, 155.6540547282252, 156.0378112802273, 156.0781142579972, 156.28549558765752, 156.4297109259298, 156.61210701489253, 157.0603433811647, 157.3818789537426, 159.06649630013646, 159.0719609832262, 159.21174466669007, 159.25201314389267, 159.75065628428683, 159.88160143183538, 160.42262992351124, 160.75744101337125, 160.91841436086747, 160.9404956133714, 161.8130936253864, 163.3489765342188, 163.58951401207528, 163.77468888756454, 163.79309841271555, 164.40500901741308, 164.68274381017304, 164.7170198147856, 164.80238050205676, 165.08268338855513, 165.2015006356165, 165.540553212323, 166.25928185933617, 166.6949722842079, 167.24630740086835, 167.37599641393373, 167.50012422601228, 167.65148517428173, 168.05773037208257, 168.11813774558777, 168.93058120316616, 170.2907479482082, 170.66662852366662, 170.68137932615613, 170.91500937645233, 170.98160920161257, 171.21791268117462, 171.55812055545175, 171.9121315635907, 172.47291668741866, 172.50662242249854, 172.5479765772636, 173.5291469617343, 173.582106855568, 173.63790780476126, 173.89829858828747, 174.31024171556413, 174.46536191334647, 174.83535503708254, 175.22204104529277, 176.09584142828302, 176.59380068451495, 176.924588754213, 177.17932622531475, 177.18504289223554, 177.39855725262765, 177.50623851540627, 177.55182201013884, 178.46163940548976, 178.91336037450333, 179.21994480258016, 179.309090039776, 179.45528475350244, 179.4898424408854, 179.81919181034877, 180.0570140366412, 180.49472410818996, 180.87281228460176, 181.0822340702181, 181.12673784578664, 181.12899545674767, 181.12905417736783, 181.129825873066, 181.2178702405588, 181.51888009945824, 181.8969469433526, 182.7619838156324, 183.13227650523731, 183.1691578254681, 184.1023889026353, 184.2598482647537, 184.2854070472509, 184.3531803516728, 184.36449479373772, 184.54818029629547, 185.72223922027635, 186.11377486463607, 186.1777007460464, 186.49343135196636, 186.6411386098293, 186.8613950201902, 186.9562345428349, 187.19974213463937, 187.55616016464907, 187.7968139621267, 187.99366967481564, 188.08165725888543, 188.58033813562, 189.0431112926208, 189.13541119375623, 189.25250771934608, 189.311402876353, 189.36856061025253, 189.3982134612177, 190.3240185439428, 191.00070157064397, 191.42374914349236, 191.45572626267835, 191.7940471687781, 191.79507895230336, 192.15595869147424, 192.78346361391635, 192.9948474891405, 193.06638245435585, 193.0986368248836, 193.18523123944576, 193.61998685077063, 193.83279447574827, 193.8630339221666, 194.56201965808827, 195.0346993162088, 195.0529661604104, 196.4545123428525, 196.9073427618891, 197.5204294197609, 197.94210718946692, 198.2228942212141, 198.4611511710464, 198.5948918508549, 198.7965855650216, 198.87412114128264, 199.00500759882303, 199.15038296877825, 199.27826603998608, 199.45549411222697, 199.80449320128923, 199.91196636940563, 200.05767879926856, 200.16014878631395, 200.51637956825613, 200.84515683605247, 200.9991823383616, 201.2395972044559, 201.3631275529985, 201.37642983232303, 203.9930965456, 204.5490121040536, 204.6776575686344, 204.82846642884212, 206.0862563647068, 206.1827625573652, 206.88111991229863, 206.9632436609361, 207.43953475661905, 209.16777263992552, 209.80526479709496, 210.1161321709784, 210.26769212497268, 210.31698215317857, 210.6301702382911, 210.69279250567072, 211.42365030999255, 211.52425330641077, 211.6275241957847, 211.929660740927, 212.2191425219743, 212.73449130525952, 213.00269535380207, 213.123257026424, 213.73309464537587, 213.7743574082666, 214.41841130200515, 214.42072180555465, 214.64576139088933, 214.99442257608072, 215.32953952055504, 215.36402869566072, 215.45646363691756, 215.49553237558155, 215.8347569303265, 216.22858466736267, 216.5223103352052, 216.62950131225065, 217.09084407362087, 217.15523142671705, 217.38688154767544, 217.44208618820724, 217.96627443443404, 220.3118047473364, 220.78014403492224, 220.7890027487888, 221.3268813033396, 221.55202646986203, 221.7180116470309, 222.3896893328925, 223.22892203853863, 223.5854169121, 223.638272187718, 224.09747020428148, 224.65744955208595, 224.9576503552857, 225.06712057543496, 225.20166237399388, 225.30420286686856, 225.40428646248571, 225.68200374199543, 225.7634714611952, 225.94750025643063, 226.2031014783, 226.30153762990724, 226.84434532882565, 227.3024504987249, 227.91254736816964, 228.0628134775175, 228.27444042240737, 228.35697935789648, 229.29740063380305, 229.7072161674614, 229.80527783876772, 229.94633424174577, 229.9989345591308, 230.2792514164188, 230.78362503345036, 230.8788801228768, 231.55308907269307, 231.5806435108865, 231.66587584058635, 232.32356029725383, 232.5461285557744, 232.7091168153181, 233.47832125179744, 234.19255345251776, 234.6440679974772, 234.78252850184725, 235.27448886154485, 235.8315443010808, 236.28458144376697, 236.548413005921, 237.32813123326596, 237.60646851268305, 238.29125778441968, 238.68080704625413, 238.8043374076358, 239.41903200403004, 239.9793785415124, 240.01766063180492, 240.94169959913805, 241.08479074494548, 241.68109462940396, 241.7781267436308, 242.76552365826512, 243.15948758954772, 243.31178664541252, 243.42356309694023, 243.638397309365, 243.6754074314373, 244.27798820783943, 244.5987154105921, 245.2391478415437, 245.29638840904408, 245.56104275001164, 246.12088123796465, 246.31595528282145, 246.73298722876143, 248.4165488106234, 248.7803573367607, 249.25777425758292, 250.0363614567098, 250.6275283836727, 251.50928837565883, 251.72417899968693, 251.95738639753196, 251.9722241968824, 252.601759745432, 252.95522390964615, 252.96144501671688, 253.2073987138861, 253.21923702868065, 253.3872214859182, 253.83141232752945, 254.24189777979717, 254.7314430396576, 254.95948426343844, 255.3784166056139, 257.69735020835685, 258.5822955782272, 259.66585398955766, 260.2570278705079, 261.5680330934782, 262.50690331313314, 262.83898882661225, 262.94496168947825, 263.18842534292725, 263.96071785025373, 264.01150089440017, 265.2899025226334, 265.83924319901536, 266.95781990312383, 267.386530207597, 267.7737096058655, 267.8701309230813, 268.36957686321153, 268.47202623866133, 268.60230965169904, 268.90415386000296, 269.6249040166742, 269.6404498621466, 271.3813254288273, 271.8289854803705, 272.31382294091856, 273.3252170863948, 274.3299923941235, 276.0947775635213, 276.58304150200155, 277.1426068702544, 277.23207745662904, 277.36088312285324, 278.18908665694045, 278.3234713095617, 278.85743988912407, 278.91785455352374, 279.1541546234602, 279.2806321661716, 279.3675354173421, 279.46651403494894, 279.8335579291947, 281.0409055577568, 281.2904759049963, 281.9011934038299, 283.2204465116374, 283.6177116159, 284.3838649960275, 284.4355659948017, 284.96616025354865, 285.5713143255062, 287.4850094739217, 289.46549577061154, 291.78572598557304, 292.12913454138226, 293.15845168513334, 296.56058641085804, 296.93014822799927, 297.96005310644165, 299.3100013623235, 299.6263535146081, 299.6524796482058, 299.8215083821521, 300.0081186130642, 300.14638810965226, 303.5033397523456, 303.7105890607777, 304.3065804757408, 304.69435417667825, 304.8398925371987, 304.8872503019873, 308.74786685140214, 308.78317163852137, 309.7777265703784, 310.5955746649369, 310.6040421928572, 311.57715129276323, 312.76384228171514, 313.47552479711635, 313.8972881356538, 314.1061789814239, 314.17343850420536, 314.3286406747442, 314.5374576993557, 314.9581441230281, 316.44483643750567, 316.4449619768475, 316.7273972539912, 317.3450520548443, 317.6146102198657, 318.9924703871656, 321.7180020187591, 323.2766788531316, 323.4961279754694, 325.73554781171697, 325.75698560841266, 328.3771274291112, 329.110789243799, 330.26258042840203, 330.59884668276146, 330.8930508580396, 331.0721289620679, 331.86715738715253, 332.6084352526052, 333.31913316148785, 333.33920624377515, 333.5320601685905, 335.4547513412983, 335.598698221026, 336.4662665585224, 336.5892365740761, 337.46179755859583, 337.83573779949745, 338.116227706186, 338.3182507091476, 339.0858668349273, 339.99906957876044, 340.37092169897176, 340.8428294532296, 341.1533488186125, 342.1987910880478, 343.3727953517038, 344.9438092304523, 347.1615673002116, 347.4622785407101, 348.22349683075066, 348.352828527957, 349.66898286934986, 349.7967774162961, 350.7965309023684, 350.8503639340734, 350.9124530119026, 351.7500345370574, 352.201477933842, 352.4902652327748, 352.97265231423523, 353.7896202233623, 354.44572755927425, 354.70674687118515, 355.70069079364083, 355.7300985008445, 356.13448519813187, 356.2938809835746, 356.3168777595694, 357.6895380216053, 358.8783813215025, 359.0122295352299, 359.0591656389416, 361.6738626577416, 362.725508083977, 362.9638938966485, 364.3274164978572, 364.8628248274522, 365.0249577345423, 366.4646497953599, 367.56344765766505, 368.1603695809491, 370.0144622609633, 370.7554957489146, 370.769915153474, 371.4873101617543, 373.0783054497565, 376.01274121541854, 376.1251419595136, 376.263814293702, 376.3056549848939, 377.34193099364256, 377.5417552435141, 378.3988818537721, 378.54187137225216, 378.6842333950814, 380.4408141202863, 381.3410780828515, 381.9715966784399, 382.0958354509833, 382.40144315000106, 382.98587502675457, 383.5778925726072, 384.7009901015312, 385.58316065853984, 385.7987246696151, 386.1608420673348, 388.8580494618479, 389.15263628354654, 390.9120520454746, 392.7935368505778, 393.8180865825393, 394.5113584149335, 394.6223965645457, 395.4547897700654, 396.023006053885, 396.33903445337455, 396.4097955379879, 396.4915380235393, 397.3065864502264, 397.92643055738864, 399.5833772173108, 400.1308393445017, 402.0892546293768, 402.1335004021377, 402.6753747335517, 405.3645894431848, 407.2364766700667, 407.71576778326965, 409.0048868756956, 409.4151736812194, 410.9391173208897, 411.00229660918905, 412.9305866565304, 413.1055671639589, 413.9089915433359, 414.245933536662, 414.6355887184002, 416.2405426795579, 416.56365880569183, 417.4247219591687, 419.1717656292322, 421.3106604549543, 421.3258365386777, 421.7643588966887, 423.352724326681, 423.6129806626397, 424.5005203347019, 424.8028021074612, 425.1231371739374, 425.12366686208026, 425.2387545864237, 426.5718862112776, 430.870639354396, 431.2708019883757, 431.2708118545962, 432.2252507471585, 432.9923801166429, 433.43580607359263, 433.5731222884753, 433.6794650444127, 433.93154089758, 434.2124051236189, 434.6566108606872, 435.61844220484153, 435.965922965893, 436.3778204117502, 438.12094290953365, 439.79557885176615, 439.950562026628, 440.02030735374336, 442.0343450131512, 442.73734728704585, 442.7448978658604, 442.8149434935435, 443.2914738676939, 445.1104923585004, 445.41067375977775, 446.9747196772648, 448.8718811147537, 449.5996798755621, 450.1321552326551, 450.762022811208, 450.8826739026369, 454.8641631597004, 455.0144854669053, 455.7802193140418, 456.504142223046, 457.1146528758968, 458.1175128128209, 458.1326924717175, 458.2212901748115, 459.2868071358748, 459.2969565414738, 460.6767383754094, 462.6797115290971, 462.80593390060216, 462.8200952438012, 462.8911880319467, 463.25436773158674, 463.3234032459964, 465.610990023596, 467.7020234146088, 468.9924164400089, 469.58882901504353, 469.967703308285, 470.8076921937908, 471.8054087893594, 473.0679262705898, 473.97955894994186, 474.92340241761127, 475.1697944082559, 475.3442048314548, 476.0356934223978, 476.69699183882113, 477.89796394027246, 478.2755328800583, 478.4224823509505, 478.7234137664154, 479.3194611339722, 480.13283805241696, 480.5837857043598, 484.2201646869202, 485.9002001088997, 486.456042889189, 487.4879901525137, 488.6470347180077, 491.27382687641, 492.0919812647725, 494.8630682039053, 495.89963347276193, 495.9268077733405, 496.6996650239083, 497.4638508302676, 497.8244965901107, 498.411886330565, 498.4120692058471, 502.65729159760616, 502.740705823993, 505.5259030505022, 505.6680512486695, 508.2498301568567, 510.9907761705483, 512.2377965094305, 513.4277414218243, 515.3286462724802, 518.985124250848, 519.5331534329101, 519.7793881191693, 520.6718367448273, 521.452438439247, 522.445133140845, 525.3510777542621, 528.5806222734936, 529.8286250191276, 531.5681065808994, 532.2321955279638, 537.9410388913321, 540.6729614068263, 540.7055250952488, 541.3280746521865, 542.3426907268158, 542.9681036264112, 545.7857384689988, 546.8313337208255, 547.1966121658089, 549.0127254852072, 549.7141124573532, 550.0875339551466, 550.865834143889, 552.5690144336515, 553.0415973835115, 555.0586790506661, 555.1142756474727, 556.8432336134373, 558.2159790872574, 561.4280296334767, 561.9327054632558, 564.1879375660625, 566.601115349848, 567.3087549434238, 567.6367962102901, 571.2583211656564, 571.7078455334598, 573.3243309160243, 573.8965719683101, 574.0563064094594, 575.6802060188161, 576.4535114136931, 578.0721059913825, 581.9146980360933, 583.4577568253175, 583.7210568854686, 585.15784491855, 590.6714520495701, 597.5472610069546, 597.5601173541487, 598.4255491625485, 599.1761172114774, 599.3978512223998, 602.202342870374, 603.2643629706707, 603.6604742621743, 605.4420126629337, 605.4597578123967, 607.011462789975, 609.1335524143112, 611.4927129750823, 617.7581365618387, 618.2693768190634, 620.6936811241995, 621.3787521309429, 621.7297504860315, 625.9475624336228, 628.0124490034847, 628.6562779410892, 629.2981934418192, 637.5861565198218, 639.7641467893578, 642.0278153538839, 642.7843747996137, 644.3323775905881, 646.1172414247657, 650.372566115992, 654.8775338784448, 655.0877595687984, 656.9744114383991, 658.3288723494303, 659.9058579294528, 662.996561218028, 664.0532506071172, 664.8245177991897, 666.5003548930218, 669.0513224318782, 669.569413408285, 675.1316053680567, 675.7582706487675, 676.5727447959276, 676.9194720422526, 680.5800945532973, 682.3450427633958, 683.2143699582597, 684.310738683118, 684.3484065252418, 685.086071287494, 688.0821230949387, 688.9769971853381, 689.8894014749261, 693.1945080917868, 694.7048895423073, 695.4666661094294, 696.3695075588803, 696.6403631432377, 697.088239834726, 697.0971880003498, 697.4352893911093, 699.3866227792936, 700.9644610261284, 701.3302163518847, 702.5849157493138, 702.9288761319568, 703.8051005942759, 712.8557277778847, 718.0178208918337, 720.4876391869904, 720.6192262840717, 722.0641614840407, 726.5692598603972, 728.2656305352568, 734.4297080558545, 734.6889303664676, 740.4366468481209, 741.2743994698156, 741.5595886282466, 745.6277504886871, 746.3588796171936, 747.8012493996536, 751.9127114970645, 752.0971517443525, 753.8804922423728, 754.4020590748697, 755.1322211354874, 755.5822881254498, 756.2057745186997, 756.6972482643425, 759.3531673972673, 759.7828371243116, 761.5528542804844, 761.976481794009, 762.4848170560165, 763.3884084424183, 764.9987116310095, 766.3978679640553, 768.6195162960597, 772.0047710229559, 777.865483635987, 779.1636962455609, 781.62298049916, 781.9388778018736, 787.0748965625768, 787.1718870055842, 789.753337978578, 793.567193666966, 794.0454285620077, 794.4823512130541, 794.7109605354566, 797.9796040220832, 798.0986255182754, 798.406769982853, 800.2855337395075, 801.8744515518056, 805.9397969283492, 807.4923072437515, 811.4863437935289, 812.5838754223005, 813.3171904160472, 814.2016587318101, 815.3057399687838, 815.7794158629523, 816.2114868169195, 816.9103767160349, 816.9312499529844, 818.7661869033667, 821.2313088315352, 823.440001058109, 824.8418111630206, 825.0527697607004, 826.2221873374165, 827.7768212407302, 829.4910260308233, 830.7315926459831, 830.7788265035736, 830.8119197103927, 832.9433837971106, 837.2729676456315, 837.2807567422693, 837.476549104669, 838.3876720192295, 838.9998507102617, 840.4201634233478, 840.5059608250423, 842.7566692372096, 843.8207712839297, 844.2453418891919, 844.6764307350473, 844.8479238906416, 845.1946701158902, 845.9576160170283, 846.3770095610805, 848.4048418794097, 848.4892214342161, 854.1325501626072, 857.7477918364033, 857.8491632432654, 860.8937671575193, 872.1724094584637, 873.3642985244994, 874.5791642943765, 875.0330975776227, 881.6364405607, 885.3866942129476, 886.0794164841611, 892.6284562340504, 903.9445655137076, 906.9953983342735, 918.6699345643354, 924.1231606559536, 946.269943081202, 958.1389234065228, 959.6746293181168, 969.6423035354754, 994.7701349550044, 1022.0041247645032, 1023.9047849216062, 1044.5068892713305, 1077.0087687985365, 1144.9364037630596, 1147.1474223595078, 1402.1539102370737, 1435.102400798325]\n"
          ]
        }
      ]
    },
    {
      "cell_type": "code",
      "source": [
        "#Verificando valores unicos para checar inconsistências.\n",
        "print(sorted(pd.unique(df['índice de restaurantes normalizado (0-100)'])))"
      ],
      "metadata": {
        "colab": {
          "base_uri": "https://localhost:8080/"
        },
        "id": "G2JVjgx-ig3k",
        "outputId": "ba52653f-b9af-41bf-ced6-f5e688309666"
      },
      "execution_count": null,
      "outputs": [
        {
          "output_type": "stream",
          "name": "stdout",
          "text": [
            "[3.545204720017045, 3.5742558686210484, 3.580741523076774, 3.6093932835334464, 3.6402776199564073, 3.640415876858557, 3.695634411752903, 3.729029831417621, 3.80895102312167, 3.821171665476073, 3.841975187138168, 3.886737136423467, 3.8937406343828167, 3.917154151083281, 3.9480179213533257, 3.9504188072549207, 4.118930977288363, 4.140380419612353, 4.235715128070345, 4.272530560560858, 4.291643350976307, 4.305925939759352, 4.339631905797865, 4.3863641662056345, 4.463214756031835, 4.570184473559831, 4.573501193218304, 4.603619759849087, 4.608795395138263, 4.611438863654829, 4.611441437686482, 4.663274589647713, 4.713187676566162, 4.721144898384859, 4.795326145401816, 4.836811750976599, 4.878336402939124, 4.935321329836559, 4.965894656494007, 5.006311052003869, 5.023844083408473, 5.029975994352804, 5.057885686658303, 5.125490405341109, 5.156631669283051, 5.172190009831185, 5.21023813767145, 5.245818009827794, 5.252449545665914, 5.274958531811383, 5.282719150397624, 5.291665708489684, 5.314420293056005, 5.326992868586209, 5.328302772784313, 5.343726858848783, 5.384245246289225, 5.408289095041071, 5.4097719838843865, 5.42870775542424, 5.44981085334476, 5.4870625926160495, 5.509399625496618, 5.533290958933907, 5.540726432311839, 5.546210541203531, 5.56098033134617, 5.601624994298046, 5.637113200801975, 5.659484704532773, 5.670972847069203, 5.772877983934502, 5.801810315294822, 5.853131141032784, 5.878389913896752, 5.895192960258637, 5.953962160474097, 5.971010654447491, 5.981520785223681, 6.028888890904654, 6.031611272523357, 6.034307114161332, 6.05330583037496, 6.055174334918764, 6.058590340116714, 6.074890019423834, 6.109751741117267, 6.117649670331848, 6.143697475928915, 6.166368634254714, 6.170692950485436, 6.207535156323151, 6.211828129926975, 6.2193047631400935, 6.254689516726156, 6.2994429177341935, 6.30636874079389, 6.3344141662438975, 6.348748049317552, 6.361731490598535, 6.364614111753854, 6.368441132039729, 6.434675728834916, 6.450355588362909, 6.461352465495376, 6.563082616838778, 6.583659169839651, 6.602680407360599, 6.63663047169287, 6.641001205091608, 6.646700254501156, 6.670709564234994, 6.757418327942287, 6.800377233483629, 6.8032095342178165, 6.8062190471828, 6.811813353003518, 6.846472824200016, 6.951359838353078, 6.985768768462648, 6.997549472326997, 6.998036057412247, 6.9980543805684485, 7.00331860526853, 7.00615306259042, 7.0193816843611065, 7.054863328341956, 7.056468154179068, 7.080774067960258, 7.123856729530502, 7.139834923701449, 7.156353874756348, 7.19738337214156, 7.3263854471650225, 7.363045533377294, 7.380898764986614, 7.411315102646661, 7.416107727067701, 7.449889798896363, 7.532586549876169, 7.572464195576309, 7.601952990444291, 7.7663371950834, 7.808435529968112, 7.809027859348667, 7.860216237585779, 7.873039365408313, 7.959404490172303, 7.969151743776913, 7.9906732258432704, 7.99973596762551, 8.018220219811978, 8.024298365094879, 8.03231960857293, 8.042530996565738, 8.04996782682549, 8.098177778837142, 8.106924593319789, 8.189372968830225, 8.2056622529484, 8.215483302408852, 8.269573691369933, 8.295539774987805, 8.334719394799766, 8.36452952713436, 8.382727957102636, 8.474876252079367, 8.501060941898032, 8.50988346453865, 8.629654115249599, 8.665515920770957, 8.68067135610174, 8.734865723413547, 8.766275478000573, 8.78561143312662, 8.806522379571904, 8.88406501460501, 8.886607988353447, 8.892834531180904, 8.89717818948707, 8.953549500178392, 8.961140782391185, 9.03711130812138, 9.083825018673934, 9.126345832326928, 9.1837304923002, 9.209091290979888, 9.246666801941965, 9.299853569947327, 9.312911483009112, 9.328686361865822, 9.35738559342776, 9.391335189570045, 9.399348524306625, 9.41804759234832, 9.437101266340488, 9.445093006964749, 9.476606684701633, 9.485609990225928, 9.502582848871691, 9.553205177607326, 9.563487595418309, 9.56614404784919, 9.583125381998151, 9.659835525141416, 9.666566063134765, 9.66847968896042, 9.670859100364115, 9.765022981068524, 9.769888068933556, 9.787861335225507, 9.795673560180369, 9.85120479756181, 9.851718140700552, 9.8746848207009, 9.975102300491384, 10.004132879612106, 10.007579044943729, 10.026739048279538, 10.097687604019365, 10.148005844312015, 10.17350008586289, 10.174960920899958, 10.245484513342912, 10.260750345646876, 10.26699413777777, 10.28741602350842, 10.31414185279112, 10.330045734500391, 10.3364844994406, 10.336606375141184, 10.358415377727017, 10.379214249330616, 10.411481740921957, 10.41261974634697, 10.417105764026, 10.46971130050115, 10.473742412254326, 10.477046937166383, 10.532465281848683, 10.5481248467903, 10.554013688528546, 10.555224197648831, 10.569384309190506, 10.574832339046274, 10.614119300948683, 10.641733513950962, 10.646428159083737, 10.659207706263135, 10.713567556958882, 10.747411809856672, 10.789131554601031, 10.798550149590625, 10.829557617962218, 10.831861886737132, 10.83860084782539, 10.846198476264638, 10.872939184926864, 10.875747554402624, 10.890198183817288, 10.90024731607378, 10.912956937969836, 10.944190692858882, 10.966595754156184, 11.083982314547743, 11.084363101527591, 11.094103429701116, 11.096909395127708, 11.131655566558877, 11.140780012833629, 11.17847965652281, 11.201809774964095, 11.213026629413417, 11.21456528285666, 11.275369167759198, 11.382391698554072, 11.399152696077504, 11.41205594781663, 11.413338750015328, 11.455977561319465, 11.475330521261936, 11.477718922576956, 11.48366697807625, 11.503198886485183, 11.511478243205325, 11.535103914552392, 11.585185960726474, 11.615545496368624, 11.653963320515096, 11.663000237531834, 11.671649642062793, 11.682196690704426, 11.7105044405608, 11.714713713256018, 11.771325942259775, 11.866104317955156, 11.892296217240483, 11.893324074380248, 11.909603752413412, 11.914244524049163, 11.930710490479894, 11.954416664623835, 11.979084660994127, 12.018160975235958, 12.020509639349482, 12.023391256350614, 12.091760620371252, 12.09545094196811, 12.099339232389909, 12.11748363681578, 12.146188426595762, 12.156997425151966, 12.182779078330878, 12.20972391571636, 12.270611583558331, 12.305310100957154, 12.32835988956555, 12.346110363048144, 12.346508708623876, 12.361386696443653, 12.368890081757392, 12.3720664052523, 12.435463790334008, 12.466940357355446, 12.488303601393383, 12.49451536977634, 12.504702427762243, 12.507110457137973, 12.530059995044128, 12.54663178993208, 12.577132057460394, 12.603477785556278, 12.61807059687761, 12.62117168398775, 12.621328997567588, 12.621333089304889, 12.621386862171388, 12.627521920369592, 12.648496720406992, 12.67484096202237, 12.735117975829793, 12.760920503189435, 12.763490446645054, 12.828519330761484, 12.839491325654029, 12.841272298390402, 12.845994839749414, 12.846783246350826, 12.859582716441292, 12.941392831407844, 12.968675598417494, 12.973130045805696, 12.995130608674538, 13.005423062912008, 13.02077084647354, 13.02737940085906, 13.044347360195555, 13.069183081312838, 13.08595218415482, 13.099669373435487, 13.10580047488308, 13.140549275836738, 13.172795975218149, 13.179227565123098, 13.18738701949546, 13.19149091876942, 13.195473751901588, 13.197540005219029, 13.262051435358794, 13.309203682217602, 13.338682245741229, 13.340910457412273, 13.364485144898792, 13.364557041059284, 13.38970366049007, 13.433429106290523, 13.448158638838628, 13.453143298133709, 13.45539082907713, 13.461424852469053, 13.491719248958322, 13.506547990437625, 13.508655118570188, 13.557361450294868, 13.59029844892699, 13.59157130891185, 13.689233063338746, 13.720786938433982, 13.763507698815314, 13.792890812485217, 13.812456456831637, 13.829058543881295, 13.838377786865916, 13.85243209505009, 13.857834885556043, 13.86695524222659, 13.877085207159706, 13.885996283549568, 13.898345790605113, 13.922664549243391, 13.930153434221676, 13.9403068859741, 13.947447142097172, 13.972269815499711, 13.99517948853862, 14.005912207139284, 14.02266466089872, 14.031272433310912, 14.03219935527252, 14.214532456507758, 14.253269452428352, 14.262233653485309, 14.272742231836505, 14.360386844176707, 14.36711153452666, 14.415774079760013, 14.421496580718255, 14.45468522951558, 14.57511133167701, 14.619532702362113, 14.641194388225816, 14.65175530387267, 14.655189903952673, 14.677013300313677, 14.68137691000068, 14.732304133306506, 14.739314294836594, 14.7465103589862, 14.767563668141994, 14.787735175128972, 14.82364541979155, 14.842334263764872, 14.85073517456781, 14.89322953724274, 14.896104785926582, 14.940983387856328, 14.941144387067828, 14.956825469143192, 14.981120682153598, 15.004472112984446, 15.006875368326122, 15.013316368021016, 15.016038733940148, 15.039676388964365, 15.067118872289395, 15.087586099414027, 15.0950553209125, 15.127202348268428, 15.131688951667623, 15.147830665375968, 15.151677404152316, 15.188203595310185, 15.35164352207761, 15.384278077446297, 15.384895365373737, 15.422375516912163, 15.43806395603659, 15.449630041988124, 15.496433509495947, 15.554912451847326, 15.579753527533846, 15.583436559182918, 15.615434137635024, 15.654454304244243, 15.675372728116487, 15.68300077055363, 15.69237583664536, 15.69952100571606, 15.706494974651063, 15.725846714245062, 15.731523502128242, 15.744346893346394, 15.76215755422517, 15.76901672689135, 15.806840348300971, 15.838761775625215, 15.881274203247475, 15.891744961937883, 15.90649143193, 15.912242863705403, 15.977772771214685, 16.006329307210333, 16.01316238555037, 16.022991398650728, 16.026656664443312, 16.046189546356967, 16.081335025644787, 16.087972537321548, 16.134952386943514, 16.13687241983999, 16.14281153119904, 16.188639930364264, 16.204148806831665, 16.215506063251347, 16.269105335056025, 16.318874062383287, 16.350336245479646, 16.35998437263023, 16.3942648782878, 16.433081302762183, 16.464649582658737, 16.48303374548971, 16.53736563336832, 16.55676057544787, 16.604477677123384, 16.631622030140825, 16.64022980344766, 16.68306260729861, 16.72210836021287, 16.724775911341716, 16.789164276020017, 16.799135072928156, 16.840686385512313, 16.84744772283381, 16.91625096043449, 16.943702933970556, 16.95431535129911, 16.96210409525672, 16.97707405226503, 16.979652970818275, 17.021641666263772, 17.043990399188626, 17.088616652381113, 17.092605257477757, 17.11104675272021, 17.15005710401233, 17.163650144115127, 17.192709530100966, 17.31002252330099, 17.33537322482131, 17.36864032273409, 17.42289339893923, 17.464086760934443, 17.525529065782912, 17.5405029536329, 17.556753180635187, 17.557787099841388, 17.601654042590518, 17.62628393408938, 17.626717429780502, 17.643855837258076, 17.644680748064992, 17.65638614672812, 17.687338003638413, 17.715941220526584, 17.750053438552847, 17.765943679113658, 17.79513548744332, 17.956722117181588, 18.01838638374389, 18.093890292783957, 18.13508413934301, 18.22643686945071, 18.29185869712883, 18.314998893486557, 18.322383235036472, 18.33934813268514, 18.39316258570932, 18.396701221288087, 18.485782086007013, 18.524060934685437, 18.602004968747828, 18.63187811955816, 18.65885733707275, 18.66557611317975, 18.700378224851526, 18.707517044728966, 18.71659538039096, 18.737628319095258, 18.7878512269707, 18.788934483849363, 18.91024119797041, 18.94143479441998, 18.975218966216943, 19.04569436538801, 19.115708554422177, 19.238681324059804, 19.27270425776883, 19.31169557768729, 19.31793001686912, 19.326905381007077, 19.384615794816323, 19.393979910753032, 19.4311876096089, 19.43539739034413, 19.451863119187248, 19.460676256329307, 19.466731799900423, 19.47362877237792, 19.499204919002825, 19.58333463879777, 19.600725059655584, 19.643280733626572, 19.73520818821613, 19.76289019223491, 19.81627686204337, 19.81987946202129, 19.85685203334803, 19.899020039730075, 20.032369070945617, 20.170372205466755, 20.332049185009872, 20.35597838724786, 20.42770268672492, 20.66476832913707, 20.69051992825192, 20.762285181927854, 20.856351518597, 20.878395391710765, 20.88021589828808, 20.891994063654693, 20.90499733302476, 20.914632150478283, 21.14854937065894, 21.162990800644486, 21.204520339904647, 21.231540969284247, 21.241682291634447, 21.244982248819543, 21.513995564333975, 21.516455652694194, 21.585757671233345, 21.64274650311764, 21.643336532645545, 21.711144174759774, 21.793834510187526, 21.843425571773462, 21.87281464800265, 21.88737046267162, 21.892057202986734, 21.90287191352255, 21.917422584226976, 21.946736619478983, 22.050331478887657, 22.050340226649613, 22.07002072310663, 22.113059798263183, 22.131842999020947, 22.22785427783516, 22.41777324320497, 22.52638408752558, 22.541675618096203, 22.697721614186925, 22.699215430703696, 22.881790682423784, 22.9329132932061, 23.01317176005573, 23.036603276452915, 23.057103846664106, 23.06958226659628, 23.12498099108049, 23.17663429923748, 23.226156752024632, 23.227555473277985, 23.24099381222216, 23.37496969935316, 23.385000125032025, 23.44545353497781, 23.454022262581173, 23.51482356735457, 23.540880261336376, 23.56042520158124, 23.5745024550824, 23.627991051112385, 23.691624332146905, 23.71753552287479, 23.75041873413521, 23.772056170265916, 23.844904091700208, 23.926710397856684, 24.036180905178988, 24.19071747821556, 24.21167147009316, 24.264714255724144, 24.273726274457747, 24.365437802545262, 24.37434271043721, 24.44400697171336, 24.44775813481329, 24.452084591085303, 24.510448476804463, 24.54190570219364, 24.56202881666771, 24.595642242524438, 24.65256974182153, 24.698288244943463, 24.71647644613146, 24.78573588865645, 24.7877850600039, 24.81596330687063, 24.827070234526385, 24.828672682963656, 24.924321624897853, 25.007161936448856, 25.01648867255165, 25.01975924778625, 25.2019550978765, 25.27523526420125, 25.291846330598933, 25.386858547180157, 25.42416656988969, 25.43546422411979, 25.535784038233174, 25.61234985414248, 25.653944232561187, 25.783140078027184, 25.83477635760828, 25.835781122463487, 25.88577023877193, 25.99663307943871, 26.20110878542524, 26.20894103098712, 26.21860391874421, 26.22151943830356, 26.293728641505517, 26.30765268272797, 26.367378498097043, 26.3773422134668, 26.38726220403681, 26.50966327619917, 26.57239496433964, 26.61633040722077, 26.62498754363656, 26.646282727788417, 26.68700678179518, 26.728259416138435, 26.806518467778183, 26.867989381388107, 26.883010191816364, 26.90824305307548, 27.096188344854845, 27.116715578419136, 27.239314200019194, 27.370418768171028, 27.441810867535608, 27.490119046241784, 27.49785634425971, 27.555858700402148, 27.59545282856356, 27.617474142116777, 27.622404876298116, 27.628100810295987, 27.684894557295063, 27.728086186465045, 27.84354461361285, 27.881692562280925, 28.018157756944785, 28.021240866048096, 28.05899944906716, 28.24638779906484, 28.376823594157973, 28.41022128849228, 28.5000489615356, 28.52863833643286, 28.63482892177524, 28.639231345481324, 28.77359737025201, 28.78579026375781, 28.84177403041656, 28.865252633277134, 28.89240436694586, 29.00423986804076, 29.026755064583813, 29.08675518394797, 29.20849170038691, 29.35753296911674, 29.35859046046475, 29.389147329282405, 29.499826917659423, 29.51796195358536, 29.579806994856867, 29.60087042368196, 29.6231918319869, 29.623228741418767, 29.631248219630173, 29.72414274925484, 30.02368605297499, 30.05156996103319, 30.051570648525637, 30.118077323730923, 30.17153200188195, 30.20243056052857, 30.211998951941357, 30.21940906817266, 30.23697407628825, 30.256545099643983, 30.28749799449116, 30.354519786359056, 30.37873274571709, 30.407434352350045, 30.52889763586304, 30.64558867765217, 30.656388128254143, 30.661248082991627, 30.801589124738022, 30.85057533460733, 30.851101469802312, 30.855982349915408, 30.8891876719806, 31.015939497480616, 31.036856569399, 31.14584153915565, 31.27803847760642, 31.32875254235912, 31.365856191324987, 31.409746270402444, 31.41815341203651, 31.69558931172204, 31.706063986359982, 31.75942142250604, 31.809865412328747, 31.85240667297406, 31.92228739621488, 31.92334513668609, 31.92951875210508, 32.00376550693391, 32.00447273211821, 32.10061791542834, 32.24018796649741, 32.24898332294269, 32.24997010571103, 32.25492395347172, 32.280230837457, 32.28504133142393, 32.444443669286855, 32.59014988438688, 32.68006632691268, 32.721625213212555, 32.74802571906014, 32.80655735311206, 32.87607968092739, 32.964053715430296, 33.02757759211289, 33.09334596286779, 33.110514911265305, 33.122668080481795, 33.17085200035806, 33.21693222543855, 33.3006176893318, 33.326927236272546, 33.337166886823645, 33.35813622080968, 33.39966965892707, 33.45634693282699, 33.487769614002346, 33.74115773324301, 33.85822501854926, 33.89695694318266, 33.968864513175625, 34.049628406041336, 34.2326670628606, 34.289677237737834, 34.48277056247837, 34.55499992174082, 34.55689346610138, 34.61074727124712, 34.66399683768462, 34.68912715309922, 34.730057315304194, 34.73007005831696, 35.025883262266554, 35.031695685571016, 35.225772235436715, 35.23567732639665, 35.4155793951794, 35.606572456870815, 35.693466628198834, 35.77638370169351, 35.90884148655948, 36.163630132744856, 36.20181759461219, 36.218975581813815, 36.2811626860345, 36.33555613516994, 36.40472853018829, 36.60721893169556, 36.83225824021007, 36.91922086705395, 37.04043044490737, 37.08670511817772, 37.48450553717169, 37.6748698285264, 37.67713891318575, 37.72051906198847, 37.79121896981839, 37.834798640457045, 38.03113549007978, 38.103994071547206, 38.129447199127526, 38.25599658810408, 38.30487024142359, 38.33089078863929, 38.385123865547904, 38.5038039185403, 38.5367341784017, 38.67728733098736, 38.68116138184085, 38.80163766039789, 38.89729254001181, 39.12111284331787, 39.156279381224735, 39.313427198798735, 39.481580898663154, 39.53089024363967, 39.55374863107486, 39.80610170032983, 39.83742520501865, 39.95006423214768, 39.98993881196633, 40.00106933763895, 40.11422499875786, 40.16811003124383, 40.2808960301237, 40.54865337221812, 40.65617592868278, 40.67452305568951, 40.77464051297216, 41.15883659040559, 41.63795285092885, 41.63884869969803, 41.69915323322249, 41.75145389473009, 41.7669046396246, 41.96232565253728, 42.03632874107688, 42.06393034576259, 42.18807050466473, 42.18930701220963, 42.29743204751827, 42.44530230563754, 42.60969200768658, 43.04627573741005, 43.08189969406571, 43.25082870594581, 43.298565439321926, 43.32302350969331, 43.6169267144573, 43.76081098144154, 43.80567390810422, 43.85040350373258, 44.4279206950767, 44.57968619057894, 44.73742187294326, 44.790140023599896, 44.898007085219554, 45.02237896510665, 45.31889611181751, 45.63280874689824, 45.647457575458255, 45.77892219209823, 45.87330297707064, 45.983189601129325, 46.19855425293785, 46.27218588985111, 46.32592889743325, 46.44270363719397, 46.62045872543278, 46.65656005005732, 47.04414158825819, 47.0878085266148, 47.144562256990206, 47.168722710358, 47.42380015354312, 47.54678428409135, 47.607360253749, 47.68375680386615, 47.68638155329887, 47.7377830952266, 47.94655229565285, 48.00890840974629, 48.07248605334025, 48.30279063753035, 48.40803619002057, 48.4611178772018, 48.524029168336746, 48.54290277514046, 48.5741114673731, 48.57473498842768, 48.59829437976948, 48.73426609768304, 48.84421213679196, 48.86969849411063, 48.95712775328622, 48.98109540761191, 49.04215198878909, 49.67281271227294, 50.03251478726616, 50.20461527945282, 50.21378445769461, 50.314469621287486, 50.62839135773294, 50.74659690696175, 51.17611869698654, 51.19418168053872, 51.59469083434237, 51.65306664231459, 51.67293903318178, 51.95641440456833, 52.00736053413371, 52.10786693574363, 52.39435952993926, 52.4072115917284, 52.531477323360384, 52.56782085063808, 52.618699593521626, 52.65006090890317, 52.69350633780796, 52.72775293549808, 52.91282120180768, 52.94276120656312, 53.066098548566586, 53.09561752319091, 53.13103905560035, 53.19400260342098, 53.3062108463795, 53.403706072662125, 53.55851372476894, 53.79440314457711, 54.20278603138511, 54.293247353786334, 54.46461381880172, 54.486625997342976, 54.8445111738883, 54.85126960749926, 55.031148825285946, 55.29690377672818, 55.33022787226142, 55.36067327119625, 55.37660309768635, 55.60436687850145, 55.612660467594885, 55.63413241722065, 55.76504737880175, 55.87576545797256, 56.15904457270905, 56.26722572511592, 56.54553593820981, 56.62201352114473, 56.6731119649449, 56.734742989690645, 56.81167695874816, 56.84468337654141, 56.87479070224353, 56.92349035592166, 56.92494483310308, 57.05280587976856, 57.22457912234673, 57.37848397438692, 57.47616411931119, 57.49086401790815, 57.57235071711968, 57.68067984418748, 57.80012810022408, 57.88657256679802, 57.88986388995128, 57.892169872214325, 58.0406933563596, 58.34238498798897, 58.34292774344904, 58.35657083695168, 58.42005919249019, 58.46271668443583, 58.561686117717805, 58.56766460410642, 58.72449720440834, 58.79864536597007, 58.82823005658351, 58.85826894757941, 58.87021883739207, 58.894380613238575, 58.947543781296375, 58.97676772683636, 59.11807000026306, 59.12394968904064, 59.517184954012095, 59.76910019516736, 59.77616390064271, 59.98831628172439, 60.77422830407695, 60.85728084899449, 60.941934443692766, 60.97356516795285, 61.433695607383775, 61.69501867744216, 61.7432885619346, 62.19963507394978, 62.9881578492836, 63.20074426951875, 64.01424275043325, 64.39423139016965, 65.93745105260828, 66.76449867783127, 66.87150887520393, 67.56607075537455, 69.31701420063328, 71.21471779268002, 71.34715852694718, 72.78274279872205, 75.04752052532369, 79.78081585858607, 79.93488281542609, 97.70410177399724, 100.0]\n"
          ]
        }
      ]
    },
    {
      "cell_type": "code",
      "source": [
        "#Verificando valores unicos para checar inconsistências.\n",
        "print(sorted(pd.unique(df['longitude'])))"
      ],
      "metadata": {
        "colab": {
          "base_uri": "https://localhost:8080/"
        },
        "id": "7mfSTdKaimel",
        "outputId": "1b01ffc7-6c2e-4242-9549-1acb0ee0b35f"
      },
      "execution_count": null,
      "outputs": [
        {
          "output_type": "stream",
          "name": "stdout",
          "text": [
            "[4.7755, 4.77975, 4.78027, 4.78534, 4.78555, 4.785909999999999, 4.78696, 4.789219999999999, 4.78942, 4.78951, 4.79, 4.791180000000001, 4.79129, 4.79162, 4.79331, 4.79422, 4.7948900000000005, 4.79735, 4.79812, 4.798369999999999, 4.79853, 4.7994900000000005, 4.8015300000000005, 4.8016, 4.80245, 4.80277, 4.80314, 4.803669999999999, 4.80439, 4.80538, 4.806030000000001, 4.80772, 4.80823, 4.81, 4.81305, 4.81378, 4.81522, 4.81548, 4.81668, 4.817, 4.81905, 4.81944, 4.82065, 4.82073, 4.82115, 4.821619999999999, 4.82174, 4.824409999999999, 4.82535, 4.82587, 4.82664, 4.827, 4.82782, 4.82831, 4.8294, 4.83161, 4.83301, 4.83365, 4.83378, 4.833819999999999, 4.83453, 4.834980000000001, 4.8352900000000005, 4.83556, 4.83576, 4.83588, 4.83611, 4.83758, 4.8381, 4.83906, 4.83907, 4.83968, 4.83969, 4.8398, 4.83983, 4.83995, 4.84019, 4.84034, 4.84054, 4.841, 4.84374, 4.84393, 4.84415, 4.84422, 4.8445, 4.84474, 4.84481, 4.845, 4.84563, 4.84565, 4.84631, 4.84653, 4.846769999999999, 4.84719, 4.84729, 4.84736, 4.84756, 4.84777, 4.84805, 4.848319999999999, 4.84835, 4.84837, 4.84847, 4.849, 4.84933, 4.84941, 4.849419999999999, 4.84943, 4.84945, 4.8495, 4.84994, 4.85001, 4.85019, 4.85021, 4.85085, 4.85087, 4.85088, 4.85107, 4.8510800000000005, 4.85115, 4.85118, 4.851319999999999, 4.851369999999999, 4.85157, 4.8516900000000005, 4.85182, 4.85188, 4.85189, 4.85206, 4.85222, 4.852469999999999, 4.85279, 4.85286, 4.85291, 4.8531, 4.85311, 4.85321, 4.853269999999999, 4.8533, 4.85342, 4.85345, 4.8536, 4.853940000000001, 4.85397, 4.85421, 4.85429, 4.85439, 4.85447, 4.85463, 4.8547, 4.85497, 4.855, 4.85504, 4.85506, 4.85508, 4.855119999999999, 4.8551400000000005, 4.85516, 4.85569, 4.85572, 4.856, 4.85606, 4.85619, 4.85621, 4.85647, 4.85652, 4.85686, 4.857, 4.85705, 4.85709, 4.85711, 4.85729, 4.85734, 4.85743, 4.8580000000000005, 4.85801, 4.85803, 4.858169999999999, 4.85835, 4.85869, 4.85878, 4.8588, 4.858969999999999, 4.859, 4.85911, 4.8592, 4.85941, 4.85961, 4.85967, 4.85975, 4.85977, 4.85991, 4.86001, 4.860040000000001, 4.86005, 4.8601, 4.86021, 4.86032, 4.86039, 4.86049, 4.860530000000001, 4.86067, 4.86068, 4.86081, 4.861190000000001, 4.86146, 4.861619999999999, 4.86172, 4.86191, 4.86193, 4.862, 4.86204, 4.86225, 4.86228, 4.86247, 4.86306, 4.86308, 4.86311, 4.86326, 4.86335, 4.86382, 4.8638900000000005, 4.86394, 4.864, 4.86417, 4.86455, 4.86459, 4.86465, 4.86466, 4.86485, 4.865, 4.8661900000000005, 4.86673, 4.86679, 4.86762, 4.867719999999999, 4.86782, 4.868130000000001, 4.86832, 4.8684, 4.86843, 4.868469999999999, 4.86873, 4.86876, 4.86888, 4.86897, 4.86899, 4.86916, 4.869190000000001, 4.8692400000000005, 4.8693, 4.86939, 4.8694, 4.86941, 4.86966, 4.8698, 4.86982, 4.87, 4.87005, 4.87021, 4.87039, 4.8704, 4.87073, 4.87076, 4.87085, 4.87089, 4.871, 4.87112, 4.87116, 4.871230000000001, 4.87148, 4.87151, 4.871569999999999, 4.87162, 4.87174, 4.87182, 4.87195, 4.872, 4.87225, 4.8724300000000005, 4.87249, 4.87254, 4.87274, 4.8729, 4.87292, 4.873, 4.87309, 4.87317, 4.87319, 4.87324, 4.87325, 4.87335, 4.87343, 4.873469999999999, 4.873530000000001, 4.8735800000000005, 4.8738, 4.87397, 4.874, 4.87401, 4.87417, 4.87421, 4.87443, 4.87451, 4.87453, 4.87465, 4.87488, 4.87493, 4.875, 4.87513, 4.87526, 4.8754800000000005, 4.8755, 4.87555, 4.87567, 4.8758, 4.87596, 4.876, 4.87605, 4.87615, 4.87617, 4.876180000000001, 4.87621, 4.8762300000000005, 4.87641, 4.87649, 4.876519999999999, 4.87657, 4.87665, 4.87676, 4.8768, 4.87686, 4.87691, 4.87699, 4.87705, 4.8772, 4.87725, 4.87726, 4.87746, 4.87757, 4.87771, 4.877759999999999, 4.878, 4.878019999999999, 4.8781300000000005, 4.878419999999999, 4.878430000000001, 4.87851, 4.8785300000000005, 4.87854, 4.87865, 4.87867, 4.8787, 4.87899, 4.879, 4.8791, 4.87915, 4.879169999999999, 4.87948, 4.87953, 4.87956, 4.879580000000001, 4.87961, 4.87962, 4.87977, 4.879919999999999, 4.8800300000000005, 4.88018, 4.8802, 4.88028, 4.880380000000001, 4.88061, 4.88076, 4.8808, 4.88085, 4.88093, 4.88099, 4.881, 4.88101, 4.88124, 4.88128, 4.88131, 4.881480000000001, 4.881530000000001, 4.88167, 4.8817900000000005, 4.88185, 4.88194, 4.88199, 4.882, 4.88201, 4.88204, 4.88206, 4.88211, 4.88215, 4.882280000000001, 4.88248, 4.8825400000000005, 4.882630000000001, 4.88267, 4.88281, 4.88307, 4.88309, 4.88313, 4.88339, 4.88359, 4.88368, 4.88381, 4.88384, 4.88385, 4.8839, 4.88395, 4.88398, 4.884, 4.88402, 4.8840900000000005, 4.88411, 4.88414, 4.88422, 4.88425, 4.88428, 4.88431, 4.88446, 4.884469999999999, 4.88467, 4.88469, 4.8847, 4.88478, 4.88483, 4.8848400000000005, 4.88485, 4.88488, 4.8849800000000005, 4.88499, 4.885, 4.88505, 4.88518, 4.88521, 4.88526, 4.88535, 4.8854, 4.88552, 4.88556, 4.8855900000000005, 4.88566, 4.885680000000001, 4.88577, 4.88585, 4.88589, 4.8859900000000005, 4.886019999999999, 4.88607, 4.88609, 4.8861300000000005, 4.88614, 4.88616, 4.88618, 4.8862, 4.88623, 4.88636, 4.886419999999999, 4.88646, 4.88651, 4.88667, 4.88673, 4.88676, 4.88679, 4.88681, 4.8869, 4.886909999999999, 4.88697, 4.887, 4.88701, 4.88704, 4.88707, 4.88712, 4.88713, 4.88719, 4.8872800000000005, 4.88729, 4.88732, 4.88739, 4.88744, 4.88764, 4.88774, 4.88776, 4.88783, 4.88799, 4.888, 4.88801, 4.88805, 4.88808, 4.8881, 4.8882, 4.88828, 4.88835, 4.88842, 4.88846, 4.88874, 4.888809999999999, 4.88887, 4.88893, 4.88897, 4.88914, 4.88931, 4.88934, 4.8895, 4.88954, 4.88955, 4.88956, 4.8895800000000005, 4.88967, 4.88968, 4.8897, 4.88971, 4.889880000000001, 4.89, 4.89001, 4.89006, 4.89016, 4.8902, 4.89025, 4.8903, 4.8903300000000005, 4.89034, 4.89035, 4.89037, 4.89041, 4.89045, 4.89051, 4.89065, 4.89072, 4.8907300000000005, 4.89075, 4.89078, 4.8908, 4.89086, 4.89088, 4.89098, 4.89099, 4.89104, 4.8911, 4.89115, 4.89118, 4.89131, 4.8913400000000005, 4.89139, 4.89144, 4.89156, 4.89161, 4.89173, 4.89181, 4.89192, 4.89198, 4.892, 4.89201, 4.89207, 4.89221, 4.89224, 4.892469999999999, 4.89248, 4.89256, 4.892580000000001, 4.89268, 4.89269, 4.89276, 4.89278, 4.89285, 4.892919999999999, 4.89294, 4.89295, 4.89297, 4.89299, 4.893, 4.89313, 4.89314, 4.89319, 4.89321, 4.89339, 4.89344, 4.89347, 4.8935, 4.89351, 4.89365, 4.89372, 4.89375, 4.8939, 4.89392, 4.89398, 4.894, 4.89403, 4.89417, 4.89419, 4.89423, 4.894430000000001, 4.89452, 4.89462, 4.89463, 4.8948, 4.89484, 4.894909999999999, 4.89493, 4.89496, 4.895, 4.8951400000000005, 4.89518, 4.89522, 4.895230000000001, 4.89525, 4.89533, 4.89537, 4.8954, 4.89548, 4.895490000000001, 4.89556, 4.89572, 4.89575, 4.8958, 4.89581, 4.89591, 4.89595, 4.89596, 4.895969999999999, 4.895980000000001, 4.896, 4.8960300000000005, 4.89625, 4.89646, 4.8965, 4.89654, 4.89656, 4.89659, 4.89663, 4.89668, 4.89675, 4.89677, 4.89682, 4.8968300000000005, 4.897, 4.89712, 4.89717, 4.8972, 4.89728, 4.8973, 4.89735, 4.8974, 4.897419999999999, 4.89746, 4.89749, 4.89754, 4.89756, 4.89764, 4.89765, 4.89768, 4.89769, 4.89774, 4.89783, 4.897869999999999, 4.89792, 4.89818, 4.89821, 4.89831, 4.89837, 4.89843, 4.89861, 4.89865, 4.898680000000001, 4.89871, 4.89877, 4.89887, 4.89895, 4.899030000000001, 4.89921, 4.89923, 4.89924, 4.89932, 4.8993400000000005, 4.89942, 4.89963, 4.8996900000000005, 4.8998800000000005, 4.9, 4.90002, 4.90005, 4.90015, 4.9002, 4.90027, 4.90028, 4.90031, 4.90032, 4.90033, 4.90041, 4.90042, 4.9004900000000005, 4.90051, 4.90067, 4.9008, 4.90083, 4.90094, 4.901, 4.90108, 4.90126, 4.90144, 4.90146, 4.90148, 4.90151, 4.90154, 4.90155, 4.90158, 4.90161, 4.902, 4.90209, 4.9023, 4.90231, 4.90258, 4.90275, 4.90276, 4.90287, 4.9030000000000005, 4.90301, 4.903169999999999, 4.90319, 4.90325, 4.90335, 4.90337, 4.90341, 4.90342, 4.9035, 4.90351, 4.90355, 4.90359, 4.9036, 4.90366, 4.90369, 4.90378, 4.90409, 4.90411, 4.90441, 4.90487, 4.90493, 4.90496, 4.90497, 4.905, 4.90505, 4.90526, 4.90543, 4.90569, 4.905819999999999, 4.90604, 4.90621, 4.90624, 4.90644, 4.90645, 4.90647, 4.90653, 4.90655, 4.90672, 4.90688, 4.907030000000001, 4.90714, 4.9073, 4.90733, 4.907369999999999, 4.90739, 4.90741, 4.9074800000000005, 4.9075, 4.907719999999999, 4.90773, 4.907780000000001, 4.9078, 4.90792, 4.90795, 4.90806, 4.9080900000000005, 4.90817, 4.9083, 4.90847, 4.90848, 4.9086, 4.90867, 4.90895, 4.90917, 4.909330000000001, 4.90945, 4.909590000000001, 4.90961, 4.9097, 4.91, 4.91029, 4.9105300000000005, 4.91059, 4.91072, 4.91085, 4.91089, 4.9110000000000005, 4.91113, 4.91115, 4.91118, 4.911630000000001, 4.9117, 4.9118900000000005, 4.911919999999999, 4.911980000000001, 4.912, 4.912319999999999, 4.91262, 4.91269, 4.91302, 4.91303, 4.91319, 4.91367, 4.91394, 4.914, 4.91403, 4.91484, 4.91487, 4.91504, 4.91533, 4.9157, 4.91579, 4.9159, 4.9161, 4.91643, 4.91646, 4.91674, 4.91686, 4.91716, 4.91744, 4.918, 4.91856, 4.91886, 4.919, 4.91918, 4.91948, 4.919569999999999, 4.9196, 4.91973, 4.91979, 4.920059999999999, 4.92022, 4.92058, 4.9206, 4.92088, 4.921, 4.92103, 4.92111, 4.92124, 4.92126, 4.92138, 4.92139, 4.92176, 4.92214, 4.92243, 4.92354, 4.924169999999999, 4.92428, 4.92432, 4.9244, 4.9246300000000005, 4.92491, 4.924930000000001, 4.92496, 4.92557, 4.92569, 4.92598, 4.926019999999999, 4.92623, 4.92645, 4.9268, 4.9277, 4.92851, 4.930619999999999, 4.93125, 4.93142, 4.931430000000001, 4.93168, 4.93202, 4.93219, 4.932230000000001, 4.93225, 4.93297, 4.933, 4.93321, 4.93366, 4.93374, 4.93393, 4.93401, 4.93428, 4.93546, 4.935969999999999, 4.93614, 4.93619, 4.93637, 4.93648, 4.93679, 4.93685, 4.93689, 4.93745, 4.93774, 4.937790000000001, 4.93789, 4.93829, 4.93831, 4.93871, 4.93893, 4.939369999999999, 4.93986, 4.9399, 4.94043, 4.94057, 4.94081, 4.94085, 4.9417, 4.94176, 4.94193, 4.94234, 4.94254, 4.94264, 4.94278, 4.9430000000000005, 4.94334, 4.94336, 4.94428, 4.94452, 4.94459, 4.94479, 4.94486, 4.945, 4.9452, 4.9453, 4.94541, 4.94543, 4.94565, 4.94575, 4.945930000000001, 4.946000000000001, 4.9465900000000005, 4.947, 4.9471, 4.94721, 4.94785, 4.94798, 4.94807, 4.94913, 4.949319999999999, 4.94942, 4.95, 4.95179, 4.95183, 4.951919999999999, 4.95376, 4.95404, 4.95516, 4.95584, 4.95606, 4.95644, 4.9566300000000005, 4.9576400000000005, 4.957730000000001, 4.95995, 4.9604, 4.96166, 4.96173, 4.96617, 4.9684, 4.96847, 4.96865, 4.96931, 4.96959, 4.96965, 4.97197, 4.97255, 4.97419, 4.97512, 4.97561, 4.97645, 4.9765, 4.97698, 4.9772300000000005, 4.97807, 4.97829, 4.98045, 4.980569999999999, 4.9806, 4.98061, 4.98085, 4.98141, 4.98295, 4.98491, 4.98537, 4.98595, 4.98597, 4.9868, 4.987, 4.98757, 4.98931, 4.992, 4.9921, 4.99213, 4.992380000000001, 4.99264, 4.99394, 4.99559, 4.9962, 4.99679, 4.99774, 4.99811, 4.99856, 4.99907, 5.0004800000000005, 5.0007, 5.000719999999999, 5.0021, 5.00232, 5.00369, 5.0049, 5.00633, 5.00683, 5.00769, 5.00974, 5.01077]\n"
          ]
        }
      ]
    },
    {
      "cell_type": "code",
      "source": [
        "#Verificando valores unicos para checar inconsistências.\n",
        "print(sorted(pd.unique(df['latitude'])))"
      ],
      "metadata": {
        "colab": {
          "base_uri": "https://localhost:8080/"
        },
        "id": "lubA7bSbkRER",
        "outputId": "abc9a63c-ea24-4de0-f1a0-baf50bd212c6"
      },
      "execution_count": null,
      "outputs": [
        {
          "output_type": "stream",
          "name": "stdout",
          "text": [
            "[52.2911, 52.2915, 52.293040000000005, 52.29306, 52.2963, 52.2972, 52.2977, 52.29838, 52.29921, 52.299240000000005, 52.30013, 52.3006, 52.30116, 52.30598, 52.30652, 52.30676, 52.30713, 52.30793, 52.30865, 52.3099, 52.31006, 52.3101, 52.31015, 52.31028, 52.31044, 52.31102, 52.311440000000005, 52.31161, 52.31241, 52.31577, 52.31603, 52.31681, 52.31694, 52.317040000000006, 52.31778, 52.318090000000005, 52.3186, 52.32125, 52.322, 52.32206, 52.3227, 52.32278, 52.32435, 52.325, 52.32527, 52.3255, 52.32582, 52.32693, 52.32698, 52.328990000000005, 52.32989, 52.33072, 52.331, 52.33217, 52.33269, 52.3341, 52.33435, 52.33652, 52.33792, 52.33854, 52.338640000000005, 52.33918, 52.33952, 52.33954, 52.33963, 52.33997, 52.34038, 52.34085, 52.34092, 52.34101, 52.34115, 52.34116, 52.34143, 52.34151, 52.34155, 52.34156, 52.34158, 52.3417, 52.34177, 52.34187, 52.34188, 52.34199, 52.342, 52.34234, 52.342490000000005, 52.34251, 52.34259, 52.342690000000005, 52.34271, 52.34291, 52.343, 52.3432, 52.34357, 52.34417, 52.3442, 52.34422, 52.34427, 52.34438, 52.34442, 52.34467, 52.3447, 52.34474, 52.34495, 52.34498, 52.34502, 52.34515, 52.34528, 52.34538, 52.34542, 52.34547, 52.34559, 52.3456, 52.34573, 52.34575, 52.34576, 52.346, 52.34605, 52.34616, 52.34624, 52.34635, 52.3464, 52.34655, 52.3466, 52.346790000000006, 52.34697, 52.346990000000005, 52.347, 52.34713, 52.34715, 52.34736, 52.3474, 52.3475, 52.34751, 52.34754, 52.34766, 52.34778, 52.34793, 52.34795, 52.348290000000006, 52.34833, 52.348490000000005, 52.34853, 52.34877, 52.34881, 52.34888, 52.349, 52.3491, 52.34932, 52.349340000000005, 52.34938, 52.34939, 52.34941, 52.34942, 52.34944, 52.34949, 52.34953, 52.34956, 52.34965, 52.34966, 52.34967, 52.34974, 52.34976, 52.3498, 52.34984, 52.34985, 52.34993, 52.34995, 52.35, 52.35007, 52.3501, 52.35011, 52.35015, 52.35017, 52.35023, 52.35029, 52.35031, 52.35037, 52.35043, 52.35056, 52.35059, 52.35075, 52.35076, 52.35085, 52.35096, 52.35098, 52.35099, 52.351000000000006, 52.35108, 52.35115, 52.35123, 52.35124, 52.35133, 52.35136, 52.35151, 52.35152, 52.35158, 52.35175, 52.35176, 52.35179, 52.35189, 52.35199, 52.352, 52.35208, 52.352140000000006, 52.35219, 52.35222, 52.35227, 52.35239, 52.35246, 52.35251, 52.35263, 52.35265, 52.35268, 52.35271, 52.35272, 52.35277, 52.3528, 52.35291, 52.35293, 52.35294, 52.35296, 52.35297, 52.353, 52.35306, 52.35313, 52.3532, 52.35332, 52.35333, 52.35346, 52.35348, 52.35359, 52.35387, 52.35392, 52.354, 52.35406, 52.35409, 52.35411, 52.35413, 52.35414, 52.3542, 52.35421, 52.35426, 52.35429, 52.35431, 52.35437, 52.3544, 52.35446, 52.35455, 52.35457, 52.35459, 52.35464, 52.35465, 52.35473, 52.35474, 52.35477, 52.3548, 52.35482, 52.35491, 52.35492, 52.35493, 52.35494, 52.35495, 52.35499, 52.355, 52.35504, 52.35505, 52.35508, 52.35509, 52.3551, 52.35513, 52.35521, 52.35523, 52.35525, 52.35528, 52.3553, 52.35532, 52.355340000000005, 52.35535, 52.3555, 52.35575, 52.35577, 52.3558, 52.35582, 52.35585, 52.35588, 52.35596, 52.35598, 52.355990000000006, 52.356, 52.35604, 52.35606, 52.35614, 52.3562, 52.35626, 52.35642, 52.35643, 52.35645, 52.35653, 52.35655, 52.35656, 52.3566, 52.35666, 52.35668, 52.35676, 52.3568, 52.35688, 52.3569, 52.35691, 52.35693, 52.35698, 52.357040000000005, 52.35705, 52.3571, 52.35718, 52.3572, 52.35733, 52.35758, 52.35761, 52.357690000000005, 52.3577, 52.35775, 52.35777, 52.35781, 52.35783, 52.35794, 52.35798, 52.35801, 52.35815, 52.35826, 52.35835, 52.35836, 52.35848, 52.35855, 52.3586, 52.3587, 52.35873, 52.35875, 52.35877, 52.35903, 52.35907, 52.35909, 52.35914, 52.35926, 52.35927, 52.35943, 52.35945, 52.35955, 52.35961, 52.35964, 52.35965, 52.35986, 52.36, 52.36012, 52.36032, 52.36034, 52.36035, 52.36038, 52.360490000000006, 52.36053, 52.36054, 52.36055, 52.36062, 52.36068, 52.36075, 52.36076, 52.3608, 52.36082, 52.36085, 52.36086, 52.36092, 52.361, 52.36101, 52.36103, 52.36104, 52.3611, 52.36112, 52.36115, 52.3612, 52.36122, 52.36125, 52.36135, 52.3614, 52.36142, 52.36148, 52.36152, 52.3616, 52.36161, 52.36165, 52.36167, 52.3617, 52.36172, 52.36176, 52.36177, 52.36187, 52.3619, 52.36192, 52.362, 52.36205, 52.36221, 52.36232, 52.36234, 52.362390000000005, 52.36251, 52.36252, 52.36255, 52.36257, 52.36259, 52.36261, 52.36267, 52.36268, 52.36269, 52.36278, 52.36281, 52.362840000000006, 52.36286, 52.36287, 52.36294, 52.36296, 52.36299, 52.363, 52.3631, 52.36314, 52.36318, 52.36321, 52.36325, 52.36333, 52.36335, 52.36339, 52.36353, 52.36354, 52.36368, 52.36371, 52.36376, 52.36377, 52.3638, 52.36381, 52.36382, 52.36385, 52.36386, 52.36397, 52.36399, 52.364, 52.36401, 52.36404, 52.36407, 52.36412, 52.36417, 52.36422, 52.36433, 52.36441, 52.36442, 52.36453, 52.36457, 52.36458, 52.36459, 52.36461, 52.36466, 52.3647, 52.36471, 52.3648, 52.36481, 52.36489, 52.36495, 52.36497, 52.365, 52.36503, 52.36505, 52.36517, 52.36518, 52.36523, 52.36525, 52.36534, 52.36538, 52.36542, 52.36545, 52.36549, 52.365590000000005, 52.3656, 52.36561, 52.36565, 52.36568, 52.36575, 52.36576, 52.36582, 52.36583, 52.36589, 52.3659, 52.36593, 52.36596, 52.36600000000001, 52.36601, 52.36612, 52.36619, 52.36623, 52.36631, 52.36633, 52.3664, 52.36646, 52.366620000000005, 52.36671, 52.36673, 52.36693, 52.36695, 52.36698, 52.367, 52.36707, 52.36708, 52.36713, 52.36714, 52.36726, 52.367340000000006, 52.36735, 52.36737, 52.36741, 52.36744, 52.36747, 52.36755, 52.3676, 52.36761, 52.36765, 52.36775, 52.3678, 52.36785, 52.36786, 52.36788, 52.36799, 52.368, 52.36806, 52.36824, 52.36837, 52.36842, 52.36843, 52.36846, 52.3685, 52.36851, 52.36854, 52.3686, 52.36864, 52.36868, 52.36876, 52.36885, 52.36887, 52.36891, 52.369, 52.36902, 52.36905, 52.36912, 52.36917, 52.36918, 52.36943, 52.36944, 52.3695, 52.36953, 52.36957, 52.36958, 52.36959, 52.36967, 52.369690000000006, 52.3699, 52.37, 52.37003, 52.37017, 52.37023, 52.37029, 52.37032, 52.37045, 52.37046, 52.37062, 52.37064, 52.37066, 52.370740000000005, 52.37075, 52.37083, 52.37087, 52.3709, 52.37092, 52.37095, 52.371, 52.37102, 52.37103, 52.37105, 52.37106, 52.37107, 52.37111, 52.37114, 52.37116, 52.371190000000006, 52.37131, 52.37133, 52.37137, 52.371390000000005, 52.37143, 52.37148, 52.371590000000005, 52.37163, 52.37165, 52.3717, 52.37172, 52.37186, 52.3719, 52.37191, 52.37194, 52.371970000000005, 52.37199, 52.372, 52.37202, 52.37203, 52.37205, 52.37209, 52.3721, 52.37212, 52.37215, 52.37221, 52.37226, 52.37228, 52.37233, 52.37249, 52.3725, 52.37252, 52.37256, 52.3726, 52.37263, 52.37264, 52.37265, 52.3727, 52.37271, 52.37274, 52.37281, 52.37288, 52.37293, 52.37294, 52.37297, 52.37299, 52.373000000000005, 52.37301, 52.37311, 52.37313, 52.37315, 52.37321, 52.37324, 52.37326, 52.37335, 52.37336, 52.37337, 52.37338, 52.3734, 52.37341, 52.3735, 52.37351, 52.37353, 52.373540000000006, 52.37355, 52.37357, 52.37358, 52.37375, 52.37383, 52.37387, 52.37392, 52.37405, 52.37406, 52.37407, 52.37409, 52.37412, 52.37413, 52.37415, 52.37417, 52.37422, 52.37423, 52.37426, 52.37428, 52.37429, 52.37431, 52.37432, 52.37435, 52.37436, 52.374390000000005, 52.37441, 52.37442, 52.37447, 52.37449, 52.37451, 52.37452, 52.37455, 52.37457, 52.37458, 52.374590000000005, 52.37469, 52.3747, 52.37481, 52.37485, 52.37489, 52.375, 52.37506, 52.37507, 52.37508, 52.37509, 52.37513, 52.37517, 52.37518, 52.375240000000005, 52.37525, 52.37527, 52.37533, 52.37536, 52.37539, 52.3754, 52.37542, 52.37545, 52.3756, 52.37561, 52.37562, 52.3757, 52.37573, 52.37575, 52.37578, 52.37599, 52.376000000000005, 52.37605, 52.37612, 52.37615, 52.37631, 52.37632, 52.37639, 52.3764, 52.37641, 52.37651, 52.37657, 52.37663, 52.37669, 52.376740000000005, 52.37675, 52.37676, 52.37677, 52.37685, 52.37687, 52.37688, 52.37689, 52.3769, 52.377, 52.37702, 52.37713, 52.37714, 52.37717, 52.37733, 52.37745, 52.37751, 52.37754, 52.37755, 52.37756, 52.377590000000005, 52.37764, 52.37765, 52.37769, 52.37778, 52.3778, 52.37781, 52.37785, 52.37788, 52.37793, 52.37798, 52.378, 52.37809, 52.37812, 52.37818, 52.37819, 52.37823, 52.37827, 52.37835, 52.37836, 52.3784, 52.37845, 52.37851, 52.37856, 52.37857, 52.3786, 52.37872, 52.37887, 52.379, 52.3791, 52.37916, 52.37921, 52.37925, 52.37932, 52.37933, 52.37936, 52.37952, 52.37961, 52.37965, 52.37976, 52.38, 52.38002, 52.38009, 52.3801, 52.38015, 52.38036, 52.38038, 52.38051, 52.38076, 52.38089, 52.38097, 52.381, 52.38126, 52.3813, 52.38143, 52.38147, 52.3816, 52.38165, 52.38177, 52.38179, 52.38181, 52.38184, 52.381890000000006, 52.382, 52.38202, 52.382290000000005, 52.38237, 52.38252, 52.38253, 52.382540000000006, 52.38255, 52.38275, 52.38285, 52.38293, 52.38296, 52.383, 52.38314, 52.38315, 52.38319, 52.38322, 52.38325, 52.38328, 52.38335, 52.38337, 52.38338, 52.38356, 52.38361, 52.38362, 52.38367, 52.38375, 52.38391, 52.38406, 52.3842, 52.38431, 52.38435, 52.384440000000005, 52.38448, 52.38458, 52.38487, 52.385, 52.38501, 52.38513, 52.38521, 52.38523, 52.38548, 52.38563, 52.385740000000006, 52.38597, 52.38609, 52.38646, 52.38652, 52.38661, 52.38662, 52.38666, 52.38683, 52.38691, 52.38693, 52.38694, 52.387, 52.38749, 52.38767, 52.38776, 52.38786, 52.38787, 52.38885, 52.38897, 52.38939, 52.38942, 52.38966, 52.38967, 52.38981, 52.39, 52.39014, 52.39019, 52.39035, 52.39066, 52.39094, 52.391090000000005, 52.39115, 52.39121, 52.39135, 52.39148, 52.39158, 52.39226, 52.39267, 52.394, 52.39416, 52.395, 52.39604, 52.3962, 52.39624, 52.3964, 52.39655, 52.39782, 52.397870000000005, 52.399, 52.39941, 52.4, 52.4003, 52.40036, 52.40142, 52.40175, 52.402, 52.40328, 52.40395, 52.4043, 52.405, 52.40509, 52.40601, 52.4062, 52.40631, 52.40648, 52.40657, 52.406690000000005, 52.40724, 52.40775, 52.40876, 52.40916, 52.40946, 52.41042, 52.410790000000006, 52.41081, 52.41094, 52.41122, 52.41182, 52.412, 52.41278, 52.41432, 52.41516, 52.41538, 52.41645, 52.41659, 52.41746, 52.41772, 52.4185, 52.419, 52.42006, 52.42258, 52.42337, 52.42343, 52.42348]\n"
          ]
        }
      ]
    },
    {
      "cell_type": "code",
      "source": [
        "#Colocando os itens da coluna preço_total arrendodados\n",
        "pd.set_option('display.float_format','{:.2f}'.format)\n",
        "df"
      ],
      "metadata": {
        "colab": {
          "base_uri": "https://localhost:8080/",
          "height": 765
        },
        "id": "FsFLVdCrdyHM",
        "outputId": "f6cfe944-1d4a-4e9b-8f46-29dae6b798c1"
      },
      "execution_count": null,
      "outputs": [
        {
          "output_type": "execute_result",
          "data": {
            "text/plain": [
              "      preço_total           tipo_quarto  compartilhado  quarto_privativo  \\\n",
              "0          194.03        Quarto privado          False              True   \n",
              "1          344.25        Quarto privado          False              True   \n",
              "2          264.10        Quarto privado          False              True   \n",
              "3          433.53        Quarto privado          False              True   \n",
              "4          485.55        Quarto privado          False              True   \n",
              "...           ...                   ...            ...               ...   \n",
              "1098      2486.12      Apt/casa inteira          False             False   \n",
              "1099       233.64        Quarto privado          False              True   \n",
              "1100       317.06        Quarto privado          False              True   \n",
              "1101      1812.86      Apt/casa inteira          False             False   \n",
              "1102       258.01  Quarto compartilhado           True             False   \n",
              "\n",
              "      capacidade  Superhost  múltiplos_quartos  Uso comercial ou familiar  \\\n",
              "0           2.00      False                  1                          0   \n",
              "1           4.00      False                  0                          0   \n",
              "2           2.00      False                  0                          1   \n",
              "3           4.00      False                  0                          1   \n",
              "4           2.00       True                  0                          0   \n",
              "...          ...        ...                ...                        ...   \n",
              "1098        2.00      False                  0                          0   \n",
              "1099        2.00      False                  1                          0   \n",
              "1100        2.00      False                  1                          0   \n",
              "1101        4.00      False                  0                          0   \n",
              "1102        2.00      False                  0                          0   \n",
              "\n",
              "      nota_limpeza  satisfacao  quartos  distancia_centro  distancia_metrô  \\\n",
              "0            10.00       93.00        1              5.02             2.54   \n",
              "1             8.00       85.00        1              0.49             0.24   \n",
              "2             9.00       87.00        1              5.75             3.65   \n",
              "3             9.00       90.00        2              0.38             0.44   \n",
              "4            10.00       98.00        1              0.54             0.32   \n",
              "...            ...         ...      ...               ...              ...   \n",
              "1098         10.00      100.00        1              2.38             1.44   \n",
              "1099         10.00       90.00        1              4.72             0.32   \n",
              "1100         10.00       92.00        1              0.60             0.75   \n",
              "1101          8.00       84.00        5              1.94             0.39   \n",
              "1102          8.00       90.00        1              0.28             0.52   \n",
              "\n",
              "      índice de atração do local do anúncio  \\\n",
              "0                                     78.69   \n",
              "1                                    631.18   \n",
              "2                                     75.28   \n",
              "3                                    493.27   \n",
              "4                                    552.83   \n",
              "...                                     ...   \n",
              "1098                                 181.20   \n",
              "1099                                 108.02   \n",
              "1100                                 440.48   \n",
              "1101                                 257.95   \n",
              "1102                                 533.96   \n",
              "\n",
              "      índice de atracção normalizado (0-100)  \\\n",
              "0                                       4.17   \n",
              "1                                      33.42   \n",
              "2                                       3.99   \n",
              "3                                      26.12   \n",
              "4                                      29.27   \n",
              "...                                      ...   \n",
              "1098                                    9.59   \n",
              "1099                                    5.72   \n",
              "1100                                   23.32   \n",
              "1101                                   13.66   \n",
              "1102                                   28.27   \n",
              "\n",
              "      índice de restaurantes do local do anúncio  \\\n",
              "0                                          98.25   \n",
              "1                                         837.28   \n",
              "2                                          95.39   \n",
              "3                                         875.03   \n",
              "4                                         815.31   \n",
              "...                                          ...   \n",
              "1098                                      225.30   \n",
              "1099                                      134.78   \n",
              "1100                                      625.95   \n",
              "1101                                      336.59   \n",
              "1102                                      807.49   \n",
              "\n",
              "      índice de restaurantes normalizado (0-100)  longitude  latitude  \n",
              "0                                           6.85       4.91     52.42  \n",
              "1                                          58.34       4.90     52.37  \n",
              "2                                           6.65       4.98     52.36  \n",
              "3                                          60.97       4.89     52.38  \n",
              "4                                          56.81       4.90     52.38  \n",
              "...                                          ...        ...       ...  \n",
              "1098                                       15.70       4.86     52.38  \n",
              "1099                                        9.39       4.84     52.35  \n",
              "1100                                       43.62       4.89     52.38  \n",
              "1101                                       23.45       4.91     52.36  \n",
              "1102                                       56.27       4.89     52.38  \n",
              "\n",
              "[1103 rows x 19 columns]"
            ],
            "text/html": [
              "\n",
              "  <div id=\"df-ef5bba10-c92c-4ba0-a454-4ef219c33a84\">\n",
              "    <div class=\"colab-df-container\">\n",
              "      <div>\n",
              "<style scoped>\n",
              "    .dataframe tbody tr th:only-of-type {\n",
              "        vertical-align: middle;\n",
              "    }\n",
              "\n",
              "    .dataframe tbody tr th {\n",
              "        vertical-align: top;\n",
              "    }\n",
              "\n",
              "    .dataframe thead th {\n",
              "        text-align: right;\n",
              "    }\n",
              "</style>\n",
              "<table border=\"1\" class=\"dataframe\">\n",
              "  <thead>\n",
              "    <tr style=\"text-align: right;\">\n",
              "      <th></th>\n",
              "      <th>preço_total</th>\n",
              "      <th>tipo_quarto</th>\n",
              "      <th>compartilhado</th>\n",
              "      <th>quarto_privativo</th>\n",
              "      <th>capacidade</th>\n",
              "      <th>Superhost</th>\n",
              "      <th>múltiplos_quartos</th>\n",
              "      <th>Uso comercial ou familiar</th>\n",
              "      <th>nota_limpeza</th>\n",
              "      <th>satisfacao</th>\n",
              "      <th>quartos</th>\n",
              "      <th>distancia_centro</th>\n",
              "      <th>distancia_metrô</th>\n",
              "      <th>índice de atração do local do anúncio</th>\n",
              "      <th>índice de atracção normalizado (0-100)</th>\n",
              "      <th>índice de restaurantes do local do anúncio</th>\n",
              "      <th>índice de restaurantes normalizado (0-100)</th>\n",
              "      <th>longitude</th>\n",
              "      <th>latitude</th>\n",
              "    </tr>\n",
              "  </thead>\n",
              "  <tbody>\n",
              "    <tr>\n",
              "      <th>0</th>\n",
              "      <td>194.03</td>\n",
              "      <td>Quarto privado</td>\n",
              "      <td>False</td>\n",
              "      <td>True</td>\n",
              "      <td>2.00</td>\n",
              "      <td>False</td>\n",
              "      <td>1</td>\n",
              "      <td>0</td>\n",
              "      <td>10.00</td>\n",
              "      <td>93.00</td>\n",
              "      <td>1</td>\n",
              "      <td>5.02</td>\n",
              "      <td>2.54</td>\n",
              "      <td>78.69</td>\n",
              "      <td>4.17</td>\n",
              "      <td>98.25</td>\n",
              "      <td>6.85</td>\n",
              "      <td>4.91</td>\n",
              "      <td>52.42</td>\n",
              "    </tr>\n",
              "    <tr>\n",
              "      <th>1</th>\n",
              "      <td>344.25</td>\n",
              "      <td>Quarto privado</td>\n",
              "      <td>False</td>\n",
              "      <td>True</td>\n",
              "      <td>4.00</td>\n",
              "      <td>False</td>\n",
              "      <td>0</td>\n",
              "      <td>0</td>\n",
              "      <td>8.00</td>\n",
              "      <td>85.00</td>\n",
              "      <td>1</td>\n",
              "      <td>0.49</td>\n",
              "      <td>0.24</td>\n",
              "      <td>631.18</td>\n",
              "      <td>33.42</td>\n",
              "      <td>837.28</td>\n",
              "      <td>58.34</td>\n",
              "      <td>4.90</td>\n",
              "      <td>52.37</td>\n",
              "    </tr>\n",
              "    <tr>\n",
              "      <th>2</th>\n",
              "      <td>264.10</td>\n",
              "      <td>Quarto privado</td>\n",
              "      <td>False</td>\n",
              "      <td>True</td>\n",
              "      <td>2.00</td>\n",
              "      <td>False</td>\n",
              "      <td>0</td>\n",
              "      <td>1</td>\n",
              "      <td>9.00</td>\n",
              "      <td>87.00</td>\n",
              "      <td>1</td>\n",
              "      <td>5.75</td>\n",
              "      <td>3.65</td>\n",
              "      <td>75.28</td>\n",
              "      <td>3.99</td>\n",
              "      <td>95.39</td>\n",
              "      <td>6.65</td>\n",
              "      <td>4.98</td>\n",
              "      <td>52.36</td>\n",
              "    </tr>\n",
              "    <tr>\n",
              "      <th>3</th>\n",
              "      <td>433.53</td>\n",
              "      <td>Quarto privado</td>\n",
              "      <td>False</td>\n",
              "      <td>True</td>\n",
              "      <td>4.00</td>\n",
              "      <td>False</td>\n",
              "      <td>0</td>\n",
              "      <td>1</td>\n",
              "      <td>9.00</td>\n",
              "      <td>90.00</td>\n",
              "      <td>2</td>\n",
              "      <td>0.38</td>\n",
              "      <td>0.44</td>\n",
              "      <td>493.27</td>\n",
              "      <td>26.12</td>\n",
              "      <td>875.03</td>\n",
              "      <td>60.97</td>\n",
              "      <td>4.89</td>\n",
              "      <td>52.38</td>\n",
              "    </tr>\n",
              "    <tr>\n",
              "      <th>4</th>\n",
              "      <td>485.55</td>\n",
              "      <td>Quarto privado</td>\n",
              "      <td>False</td>\n",
              "      <td>True</td>\n",
              "      <td>2.00</td>\n",
              "      <td>True</td>\n",
              "      <td>0</td>\n",
              "      <td>0</td>\n",
              "      <td>10.00</td>\n",
              "      <td>98.00</td>\n",
              "      <td>1</td>\n",
              "      <td>0.54</td>\n",
              "      <td>0.32</td>\n",
              "      <td>552.83</td>\n",
              "      <td>29.27</td>\n",
              "      <td>815.31</td>\n",
              "      <td>56.81</td>\n",
              "      <td>4.90</td>\n",
              "      <td>52.38</td>\n",
              "    </tr>\n",
              "    <tr>\n",
              "      <th>...</th>\n",
              "      <td>...</td>\n",
              "      <td>...</td>\n",
              "      <td>...</td>\n",
              "      <td>...</td>\n",
              "      <td>...</td>\n",
              "      <td>...</td>\n",
              "      <td>...</td>\n",
              "      <td>...</td>\n",
              "      <td>...</td>\n",
              "      <td>...</td>\n",
              "      <td>...</td>\n",
              "      <td>...</td>\n",
              "      <td>...</td>\n",
              "      <td>...</td>\n",
              "      <td>...</td>\n",
              "      <td>...</td>\n",
              "      <td>...</td>\n",
              "      <td>...</td>\n",
              "      <td>...</td>\n",
              "    </tr>\n",
              "    <tr>\n",
              "      <th>1098</th>\n",
              "      <td>2486.12</td>\n",
              "      <td>Apt/casa inteira</td>\n",
              "      <td>False</td>\n",
              "      <td>False</td>\n",
              "      <td>2.00</td>\n",
              "      <td>False</td>\n",
              "      <td>0</td>\n",
              "      <td>0</td>\n",
              "      <td>10.00</td>\n",
              "      <td>100.00</td>\n",
              "      <td>1</td>\n",
              "      <td>2.38</td>\n",
              "      <td>1.44</td>\n",
              "      <td>181.20</td>\n",
              "      <td>9.59</td>\n",
              "      <td>225.30</td>\n",
              "      <td>15.70</td>\n",
              "      <td>4.86</td>\n",
              "      <td>52.38</td>\n",
              "    </tr>\n",
              "    <tr>\n",
              "      <th>1099</th>\n",
              "      <td>233.64</td>\n",
              "      <td>Quarto privado</td>\n",
              "      <td>False</td>\n",
              "      <td>True</td>\n",
              "      <td>2.00</td>\n",
              "      <td>False</td>\n",
              "      <td>1</td>\n",
              "      <td>0</td>\n",
              "      <td>10.00</td>\n",
              "      <td>90.00</td>\n",
              "      <td>1</td>\n",
              "      <td>4.72</td>\n",
              "      <td>0.32</td>\n",
              "      <td>108.02</td>\n",
              "      <td>5.72</td>\n",
              "      <td>134.78</td>\n",
              "      <td>9.39</td>\n",
              "      <td>4.84</td>\n",
              "      <td>52.35</td>\n",
              "    </tr>\n",
              "    <tr>\n",
              "      <th>1100</th>\n",
              "      <td>317.06</td>\n",
              "      <td>Quarto privado</td>\n",
              "      <td>False</td>\n",
              "      <td>True</td>\n",
              "      <td>2.00</td>\n",
              "      <td>False</td>\n",
              "      <td>1</td>\n",
              "      <td>0</td>\n",
              "      <td>10.00</td>\n",
              "      <td>92.00</td>\n",
              "      <td>1</td>\n",
              "      <td>0.60</td>\n",
              "      <td>0.75</td>\n",
              "      <td>440.48</td>\n",
              "      <td>23.32</td>\n",
              "      <td>625.95</td>\n",
              "      <td>43.62</td>\n",
              "      <td>4.89</td>\n",
              "      <td>52.38</td>\n",
              "    </tr>\n",
              "    <tr>\n",
              "      <th>1101</th>\n",
              "      <td>1812.86</td>\n",
              "      <td>Apt/casa inteira</td>\n",
              "      <td>False</td>\n",
              "      <td>False</td>\n",
              "      <td>4.00</td>\n",
              "      <td>False</td>\n",
              "      <td>0</td>\n",
              "      <td>0</td>\n",
              "      <td>8.00</td>\n",
              "      <td>84.00</td>\n",
              "      <td>5</td>\n",
              "      <td>1.94</td>\n",
              "      <td>0.39</td>\n",
              "      <td>257.95</td>\n",
              "      <td>13.66</td>\n",
              "      <td>336.59</td>\n",
              "      <td>23.45</td>\n",
              "      <td>4.91</td>\n",
              "      <td>52.36</td>\n",
              "    </tr>\n",
              "    <tr>\n",
              "      <th>1102</th>\n",
              "      <td>258.01</td>\n",
              "      <td>Quarto compartilhado</td>\n",
              "      <td>True</td>\n",
              "      <td>False</td>\n",
              "      <td>2.00</td>\n",
              "      <td>False</td>\n",
              "      <td>0</td>\n",
              "      <td>0</td>\n",
              "      <td>8.00</td>\n",
              "      <td>90.00</td>\n",
              "      <td>1</td>\n",
              "      <td>0.28</td>\n",
              "      <td>0.52</td>\n",
              "      <td>533.96</td>\n",
              "      <td>28.27</td>\n",
              "      <td>807.49</td>\n",
              "      <td>56.27</td>\n",
              "      <td>4.89</td>\n",
              "      <td>52.38</td>\n",
              "    </tr>\n",
              "  </tbody>\n",
              "</table>\n",
              "<p>1103 rows × 19 columns</p>\n",
              "</div>\n",
              "      <button class=\"colab-df-convert\" onclick=\"convertToInteractive('df-ef5bba10-c92c-4ba0-a454-4ef219c33a84')\"\n",
              "              title=\"Convert this dataframe to an interactive table.\"\n",
              "              style=\"display:none;\">\n",
              "        \n",
              "  <svg xmlns=\"http://www.w3.org/2000/svg\" height=\"24px\"viewBox=\"0 0 24 24\"\n",
              "       width=\"24px\">\n",
              "    <path d=\"M0 0h24v24H0V0z\" fill=\"none\"/>\n",
              "    <path d=\"M18.56 5.44l.94 2.06.94-2.06 2.06-.94-2.06-.94-.94-2.06-.94 2.06-2.06.94zm-11 1L8.5 8.5l.94-2.06 2.06-.94-2.06-.94L8.5 2.5l-.94 2.06-2.06.94zm10 10l.94 2.06.94-2.06 2.06-.94-2.06-.94-.94-2.06-.94 2.06-2.06.94z\"/><path d=\"M17.41 7.96l-1.37-1.37c-.4-.4-.92-.59-1.43-.59-.52 0-1.04.2-1.43.59L10.3 9.45l-7.72 7.72c-.78.78-.78 2.05 0 2.83L4 21.41c.39.39.9.59 1.41.59.51 0 1.02-.2 1.41-.59l7.78-7.78 2.81-2.81c.8-.78.8-2.07 0-2.86zM5.41 20L4 18.59l7.72-7.72 1.47 1.35L5.41 20z\"/>\n",
              "  </svg>\n",
              "      </button>\n",
              "      \n",
              "  <style>\n",
              "    .colab-df-container {\n",
              "      display:flex;\n",
              "      flex-wrap:wrap;\n",
              "      gap: 12px;\n",
              "    }\n",
              "\n",
              "    .colab-df-convert {\n",
              "      background-color: #E8F0FE;\n",
              "      border: none;\n",
              "      border-radius: 50%;\n",
              "      cursor: pointer;\n",
              "      display: none;\n",
              "      fill: #1967D2;\n",
              "      height: 32px;\n",
              "      padding: 0 0 0 0;\n",
              "      width: 32px;\n",
              "    }\n",
              "\n",
              "    .colab-df-convert:hover {\n",
              "      background-color: #E2EBFA;\n",
              "      box-shadow: 0px 1px 2px rgba(60, 64, 67, 0.3), 0px 1px 3px 1px rgba(60, 64, 67, 0.15);\n",
              "      fill: #174EA6;\n",
              "    }\n",
              "\n",
              "    [theme=dark] .colab-df-convert {\n",
              "      background-color: #3B4455;\n",
              "      fill: #D2E3FC;\n",
              "    }\n",
              "\n",
              "    [theme=dark] .colab-df-convert:hover {\n",
              "      background-color: #434B5C;\n",
              "      box-shadow: 0px 1px 3px 1px rgba(0, 0, 0, 0.15);\n",
              "      filter: drop-shadow(0px 1px 2px rgba(0, 0, 0, 0.3));\n",
              "      fill: #FFFFFF;\n",
              "    }\n",
              "  </style>\n",
              "\n",
              "      <script>\n",
              "        const buttonEl =\n",
              "          document.querySelector('#df-ef5bba10-c92c-4ba0-a454-4ef219c33a84 button.colab-df-convert');\n",
              "        buttonEl.style.display =\n",
              "          google.colab.kernel.accessAllowed ? 'block' : 'none';\n",
              "\n",
              "        async function convertToInteractive(key) {\n",
              "          const element = document.querySelector('#df-ef5bba10-c92c-4ba0-a454-4ef219c33a84');\n",
              "          const dataTable =\n",
              "            await google.colab.kernel.invokeFunction('convertToInteractive',\n",
              "                                                     [key], {});\n",
              "          if (!dataTable) return;\n",
              "\n",
              "          const docLinkHtml = 'Like what you see? Visit the ' +\n",
              "            '<a target=\"_blank\" href=https://colab.research.google.com/notebooks/data_table.ipynb>data table notebook</a>'\n",
              "            + ' to learn more about interactive tables.';\n",
              "          element.innerHTML = '';\n",
              "          dataTable['output_type'] = 'display_data';\n",
              "          await google.colab.output.renderOutput(dataTable, element);\n",
              "          const docLink = document.createElement('div');\n",
              "          docLink.innerHTML = docLinkHtml;\n",
              "          element.appendChild(docLink);\n",
              "        }\n",
              "      </script>\n",
              "    </div>\n",
              "  </div>\n",
              "  "
            ]
          },
          "metadata": {},
          "execution_count": 48
        }
      ]
    },
    {
      "cell_type": "code",
      "source": [
        "#checagem de tipo\n",
        "df.dtypes"
      ],
      "metadata": {
        "colab": {
          "base_uri": "https://localhost:8080/"
        },
        "id": "mCkDzziWmWOv",
        "outputId": "b315e7fd-2c81-45e0-ad92-f825f8109440"
      },
      "execution_count": null,
      "outputs": [
        {
          "output_type": "execute_result",
          "data": {
            "text/plain": [
              "preço_total                                   float64\n",
              "tipo_quarto                                    object\n",
              "compartilhado                                    bool\n",
              "quarto_privativo                                 bool\n",
              "capacidade                                    float64\n",
              "Superhost                                        bool\n",
              "múltiplos_quartos                               int64\n",
              "Uso comercial ou familiar                       int64\n",
              "nota_limpeza                                  float64\n",
              "satisfacao                                    float64\n",
              "quartos                                         int64\n",
              "distancia_centro                              float64\n",
              "distancia_metrô                               float64\n",
              "índice de atração do local do anúncio         float64\n",
              "índice de atracção normalizado (0-100)        float64\n",
              "índice de restaurantes do local do anúncio    float64\n",
              "índice de restaurantes normalizado (0-100)    float64\n",
              "longitude                                     float64\n",
              "latitude                                      float64\n",
              "dtype: object"
            ]
          },
          "metadata": {},
          "execution_count": 49
        }
      ]
    },
    {
      "cell_type": "code",
      "source": [
        "#trocando os tipos das colunas capacidade, nota_limpeza e satisfacao para int para melhor visualização\n",
        "df['capacidade'] = df['capacidade'].astype(int)\n",
        "df['nota_limpeza'] = df['nota_limpeza'].astype(int)\n",
        "df['satisfacao'] = df['satisfacao'].astype(int)"
      ],
      "metadata": {
        "id": "KrFFrYlJ4Llr"
      },
      "execution_count": null,
      "outputs": []
    },
    {
      "cell_type": "code",
      "source": [
        "#checagem de tipo\n",
        "df.dtypes"
      ],
      "metadata": {
        "colab": {
          "base_uri": "https://localhost:8080/"
        },
        "id": "2nJjAeH65gBe",
        "outputId": "218f2c02-b28c-4b34-c003-08e92cf2a3a1"
      },
      "execution_count": null,
      "outputs": [
        {
          "output_type": "execute_result",
          "data": {
            "text/plain": [
              "preço_total                                   float64\n",
              "tipo_quarto                                    object\n",
              "compartilhado                                    bool\n",
              "quarto_privativo                                 bool\n",
              "capacidade                                      int64\n",
              "Superhost                                        bool\n",
              "múltiplos_quartos                               int64\n",
              "Uso comercial ou familiar                       int64\n",
              "nota_limpeza                                    int64\n",
              "satisfacao                                      int64\n",
              "quartos                                         int64\n",
              "distancia_centro                              float64\n",
              "distancia_metrô                               float64\n",
              "índice de atração do local do anúncio         float64\n",
              "índice de atracção normalizado (0-100)        float64\n",
              "índice de restaurantes do local do anúncio    float64\n",
              "índice de restaurantes normalizado (0-100)    float64\n",
              "longitude                                     float64\n",
              "latitude                                      float64\n",
              "dtype: object"
            ]
          },
          "metadata": {},
          "execution_count": 51
        }
      ]
    },
    {
      "cell_type": "code",
      "source": [
        "#validação de Schema\n",
        "schema = pa.DataFrameSchema({\n",
        "    'preço_total': pa.Column(pa.Float),\n",
        "    'tipo_quarto': pa.Column(pa.String),\n",
        "    'compartilhado': pa.Column(pa.Bool),\n",
        "    'quarto_privativo': pa.Column(pa.Bool),\n",
        "    'capacidade': pa.Column(pa.Int),\n",
        "    'Superhost': pa.Column(pa.Bool),\n",
        "    'múltiplos_quartos': pa.Column(pa.Int),\n",
        "    'Uso comercial ou familiar': pa.Column(pa.Int),\n",
        "    'nota_limpeza': pa.Column(pa.Int),\n",
        "    'satisfacao': pa.Column(pa.Int),\n",
        "    'quartos': pa.Column(pa.Int),\n",
        "    'distancia_centro': pa.Column(pa.Float),\n",
        "    'distancia_metrô': pa.Column(pa.Float),\n",
        "    'índice de atração do local do anúncio': pa.Column(pa.Float),\n",
        "    'índice de atracção normalizado (0-100)': pa.Column(pa.Float),\n",
        "    'índice de restaurantes do local do anúncio': pa.Column(pa.Float),\n",
        "    'índice de restaurantes normalizado (0-100)': pa.Column(pa.Float),\n",
        "    'longitude': pa.Column(pa.Float),\n",
        "    'latitude': pa.Column(pa.Float)\n",
        "})\n",
        "schema.validate(df)"
      ],
      "metadata": {
        "colab": {
          "base_uri": "https://localhost:8080/",
          "height": 765
        },
        "id": "pSKN94MyMMPS",
        "outputId": "b89979c9-cd1d-4d95-b348-b372d63f9be4"
      },
      "execution_count": null,
      "outputs": [
        {
          "output_type": "execute_result",
          "data": {
            "text/plain": [
              "      preço_total           tipo_quarto  compartilhado  quarto_privativo  \\\n",
              "0          194.03        Quarto privado          False              True   \n",
              "1          344.25        Quarto privado          False              True   \n",
              "2          264.10        Quarto privado          False              True   \n",
              "3          433.53        Quarto privado          False              True   \n",
              "4          485.55        Quarto privado          False              True   \n",
              "...           ...                   ...            ...               ...   \n",
              "1098      2486.12      Apt/casa inteira          False             False   \n",
              "1099       233.64        Quarto privado          False              True   \n",
              "1100       317.06        Quarto privado          False              True   \n",
              "1101      1812.86      Apt/casa inteira          False             False   \n",
              "1102       258.01  Quarto compartilhado           True             False   \n",
              "\n",
              "      capacidade  Superhost  múltiplos_quartos  Uso comercial ou familiar  \\\n",
              "0              2      False                  1                          0   \n",
              "1              4      False                  0                          0   \n",
              "2              2      False                  0                          1   \n",
              "3              4      False                  0                          1   \n",
              "4              2       True                  0                          0   \n",
              "...          ...        ...                ...                        ...   \n",
              "1098           2      False                  0                          0   \n",
              "1099           2      False                  1                          0   \n",
              "1100           2      False                  1                          0   \n",
              "1101           4      False                  0                          0   \n",
              "1102           2      False                  0                          0   \n",
              "\n",
              "      nota_limpeza  satisfacao  quartos  distancia_centro  distancia_metrô  \\\n",
              "0               10          93        1              5.02             2.54   \n",
              "1                8          85        1              0.49             0.24   \n",
              "2                9          87        1              5.75             3.65   \n",
              "3                9          90        2              0.38             0.44   \n",
              "4               10          98        1              0.54             0.32   \n",
              "...            ...         ...      ...               ...              ...   \n",
              "1098            10         100        1              2.38             1.44   \n",
              "1099            10          90        1              4.72             0.32   \n",
              "1100            10          92        1              0.60             0.75   \n",
              "1101             8          84        5              1.94             0.39   \n",
              "1102             8          90        1              0.28             0.52   \n",
              "\n",
              "      índice de atração do local do anúncio  \\\n",
              "0                                     78.69   \n",
              "1                                    631.18   \n",
              "2                                     75.28   \n",
              "3                                    493.27   \n",
              "4                                    552.83   \n",
              "...                                     ...   \n",
              "1098                                 181.20   \n",
              "1099                                 108.02   \n",
              "1100                                 440.48   \n",
              "1101                                 257.95   \n",
              "1102                                 533.96   \n",
              "\n",
              "      índice de atracção normalizado (0-100)  \\\n",
              "0                                       4.17   \n",
              "1                                      33.42   \n",
              "2                                       3.99   \n",
              "3                                      26.12   \n",
              "4                                      29.27   \n",
              "...                                      ...   \n",
              "1098                                    9.59   \n",
              "1099                                    5.72   \n",
              "1100                                   23.32   \n",
              "1101                                   13.66   \n",
              "1102                                   28.27   \n",
              "\n",
              "      índice de restaurantes do local do anúncio  \\\n",
              "0                                          98.25   \n",
              "1                                         837.28   \n",
              "2                                          95.39   \n",
              "3                                         875.03   \n",
              "4                                         815.31   \n",
              "...                                          ...   \n",
              "1098                                      225.30   \n",
              "1099                                      134.78   \n",
              "1100                                      625.95   \n",
              "1101                                      336.59   \n",
              "1102                                      807.49   \n",
              "\n",
              "      índice de restaurantes normalizado (0-100)  longitude  latitude  \n",
              "0                                           6.85       4.91     52.42  \n",
              "1                                          58.34       4.90     52.37  \n",
              "2                                           6.65       4.98     52.36  \n",
              "3                                          60.97       4.89     52.38  \n",
              "4                                          56.81       4.90     52.38  \n",
              "...                                          ...        ...       ...  \n",
              "1098                                       15.70       4.86     52.38  \n",
              "1099                                        9.39       4.84     52.35  \n",
              "1100                                       43.62       4.89     52.38  \n",
              "1101                                       23.45       4.91     52.36  \n",
              "1102                                       56.27       4.89     52.38  \n",
              "\n",
              "[1103 rows x 19 columns]"
            ],
            "text/html": [
              "\n",
              "  <div id=\"df-6f171e64-c816-4f85-9f8f-fe2665dfdea1\">\n",
              "    <div class=\"colab-df-container\">\n",
              "      <div>\n",
              "<style scoped>\n",
              "    .dataframe tbody tr th:only-of-type {\n",
              "        vertical-align: middle;\n",
              "    }\n",
              "\n",
              "    .dataframe tbody tr th {\n",
              "        vertical-align: top;\n",
              "    }\n",
              "\n",
              "    .dataframe thead th {\n",
              "        text-align: right;\n",
              "    }\n",
              "</style>\n",
              "<table border=\"1\" class=\"dataframe\">\n",
              "  <thead>\n",
              "    <tr style=\"text-align: right;\">\n",
              "      <th></th>\n",
              "      <th>preço_total</th>\n",
              "      <th>tipo_quarto</th>\n",
              "      <th>compartilhado</th>\n",
              "      <th>quarto_privativo</th>\n",
              "      <th>capacidade</th>\n",
              "      <th>Superhost</th>\n",
              "      <th>múltiplos_quartos</th>\n",
              "      <th>Uso comercial ou familiar</th>\n",
              "      <th>nota_limpeza</th>\n",
              "      <th>satisfacao</th>\n",
              "      <th>quartos</th>\n",
              "      <th>distancia_centro</th>\n",
              "      <th>distancia_metrô</th>\n",
              "      <th>índice de atração do local do anúncio</th>\n",
              "      <th>índice de atracção normalizado (0-100)</th>\n",
              "      <th>índice de restaurantes do local do anúncio</th>\n",
              "      <th>índice de restaurantes normalizado (0-100)</th>\n",
              "      <th>longitude</th>\n",
              "      <th>latitude</th>\n",
              "    </tr>\n",
              "  </thead>\n",
              "  <tbody>\n",
              "    <tr>\n",
              "      <th>0</th>\n",
              "      <td>194.03</td>\n",
              "      <td>Quarto privado</td>\n",
              "      <td>False</td>\n",
              "      <td>True</td>\n",
              "      <td>2</td>\n",
              "      <td>False</td>\n",
              "      <td>1</td>\n",
              "      <td>0</td>\n",
              "      <td>10</td>\n",
              "      <td>93</td>\n",
              "      <td>1</td>\n",
              "      <td>5.02</td>\n",
              "      <td>2.54</td>\n",
              "      <td>78.69</td>\n",
              "      <td>4.17</td>\n",
              "      <td>98.25</td>\n",
              "      <td>6.85</td>\n",
              "      <td>4.91</td>\n",
              "      <td>52.42</td>\n",
              "    </tr>\n",
              "    <tr>\n",
              "      <th>1</th>\n",
              "      <td>344.25</td>\n",
              "      <td>Quarto privado</td>\n",
              "      <td>False</td>\n",
              "      <td>True</td>\n",
              "      <td>4</td>\n",
              "      <td>False</td>\n",
              "      <td>0</td>\n",
              "      <td>0</td>\n",
              "      <td>8</td>\n",
              "      <td>85</td>\n",
              "      <td>1</td>\n",
              "      <td>0.49</td>\n",
              "      <td>0.24</td>\n",
              "      <td>631.18</td>\n",
              "      <td>33.42</td>\n",
              "      <td>837.28</td>\n",
              "      <td>58.34</td>\n",
              "      <td>4.90</td>\n",
              "      <td>52.37</td>\n",
              "    </tr>\n",
              "    <tr>\n",
              "      <th>2</th>\n",
              "      <td>264.10</td>\n",
              "      <td>Quarto privado</td>\n",
              "      <td>False</td>\n",
              "      <td>True</td>\n",
              "      <td>2</td>\n",
              "      <td>False</td>\n",
              "      <td>0</td>\n",
              "      <td>1</td>\n",
              "      <td>9</td>\n",
              "      <td>87</td>\n",
              "      <td>1</td>\n",
              "      <td>5.75</td>\n",
              "      <td>3.65</td>\n",
              "      <td>75.28</td>\n",
              "      <td>3.99</td>\n",
              "      <td>95.39</td>\n",
              "      <td>6.65</td>\n",
              "      <td>4.98</td>\n",
              "      <td>52.36</td>\n",
              "    </tr>\n",
              "    <tr>\n",
              "      <th>3</th>\n",
              "      <td>433.53</td>\n",
              "      <td>Quarto privado</td>\n",
              "      <td>False</td>\n",
              "      <td>True</td>\n",
              "      <td>4</td>\n",
              "      <td>False</td>\n",
              "      <td>0</td>\n",
              "      <td>1</td>\n",
              "      <td>9</td>\n",
              "      <td>90</td>\n",
              "      <td>2</td>\n",
              "      <td>0.38</td>\n",
              "      <td>0.44</td>\n",
              "      <td>493.27</td>\n",
              "      <td>26.12</td>\n",
              "      <td>875.03</td>\n",
              "      <td>60.97</td>\n",
              "      <td>4.89</td>\n",
              "      <td>52.38</td>\n",
              "    </tr>\n",
              "    <tr>\n",
              "      <th>4</th>\n",
              "      <td>485.55</td>\n",
              "      <td>Quarto privado</td>\n",
              "      <td>False</td>\n",
              "      <td>True</td>\n",
              "      <td>2</td>\n",
              "      <td>True</td>\n",
              "      <td>0</td>\n",
              "      <td>0</td>\n",
              "      <td>10</td>\n",
              "      <td>98</td>\n",
              "      <td>1</td>\n",
              "      <td>0.54</td>\n",
              "      <td>0.32</td>\n",
              "      <td>552.83</td>\n",
              "      <td>29.27</td>\n",
              "      <td>815.31</td>\n",
              "      <td>56.81</td>\n",
              "      <td>4.90</td>\n",
              "      <td>52.38</td>\n",
              "    </tr>\n",
              "    <tr>\n",
              "      <th>...</th>\n",
              "      <td>...</td>\n",
              "      <td>...</td>\n",
              "      <td>...</td>\n",
              "      <td>...</td>\n",
              "      <td>...</td>\n",
              "      <td>...</td>\n",
              "      <td>...</td>\n",
              "      <td>...</td>\n",
              "      <td>...</td>\n",
              "      <td>...</td>\n",
              "      <td>...</td>\n",
              "      <td>...</td>\n",
              "      <td>...</td>\n",
              "      <td>...</td>\n",
              "      <td>...</td>\n",
              "      <td>...</td>\n",
              "      <td>...</td>\n",
              "      <td>...</td>\n",
              "      <td>...</td>\n",
              "    </tr>\n",
              "    <tr>\n",
              "      <th>1098</th>\n",
              "      <td>2486.12</td>\n",
              "      <td>Apt/casa inteira</td>\n",
              "      <td>False</td>\n",
              "      <td>False</td>\n",
              "      <td>2</td>\n",
              "      <td>False</td>\n",
              "      <td>0</td>\n",
              "      <td>0</td>\n",
              "      <td>10</td>\n",
              "      <td>100</td>\n",
              "      <td>1</td>\n",
              "      <td>2.38</td>\n",
              "      <td>1.44</td>\n",
              "      <td>181.20</td>\n",
              "      <td>9.59</td>\n",
              "      <td>225.30</td>\n",
              "      <td>15.70</td>\n",
              "      <td>4.86</td>\n",
              "      <td>52.38</td>\n",
              "    </tr>\n",
              "    <tr>\n",
              "      <th>1099</th>\n",
              "      <td>233.64</td>\n",
              "      <td>Quarto privado</td>\n",
              "      <td>False</td>\n",
              "      <td>True</td>\n",
              "      <td>2</td>\n",
              "      <td>False</td>\n",
              "      <td>1</td>\n",
              "      <td>0</td>\n",
              "      <td>10</td>\n",
              "      <td>90</td>\n",
              "      <td>1</td>\n",
              "      <td>4.72</td>\n",
              "      <td>0.32</td>\n",
              "      <td>108.02</td>\n",
              "      <td>5.72</td>\n",
              "      <td>134.78</td>\n",
              "      <td>9.39</td>\n",
              "      <td>4.84</td>\n",
              "      <td>52.35</td>\n",
              "    </tr>\n",
              "    <tr>\n",
              "      <th>1100</th>\n",
              "      <td>317.06</td>\n",
              "      <td>Quarto privado</td>\n",
              "      <td>False</td>\n",
              "      <td>True</td>\n",
              "      <td>2</td>\n",
              "      <td>False</td>\n",
              "      <td>1</td>\n",
              "      <td>0</td>\n",
              "      <td>10</td>\n",
              "      <td>92</td>\n",
              "      <td>1</td>\n",
              "      <td>0.60</td>\n",
              "      <td>0.75</td>\n",
              "      <td>440.48</td>\n",
              "      <td>23.32</td>\n",
              "      <td>625.95</td>\n",
              "      <td>43.62</td>\n",
              "      <td>4.89</td>\n",
              "      <td>52.38</td>\n",
              "    </tr>\n",
              "    <tr>\n",
              "      <th>1101</th>\n",
              "      <td>1812.86</td>\n",
              "      <td>Apt/casa inteira</td>\n",
              "      <td>False</td>\n",
              "      <td>False</td>\n",
              "      <td>4</td>\n",
              "      <td>False</td>\n",
              "      <td>0</td>\n",
              "      <td>0</td>\n",
              "      <td>8</td>\n",
              "      <td>84</td>\n",
              "      <td>5</td>\n",
              "      <td>1.94</td>\n",
              "      <td>0.39</td>\n",
              "      <td>257.95</td>\n",
              "      <td>13.66</td>\n",
              "      <td>336.59</td>\n",
              "      <td>23.45</td>\n",
              "      <td>4.91</td>\n",
              "      <td>52.36</td>\n",
              "    </tr>\n",
              "    <tr>\n",
              "      <th>1102</th>\n",
              "      <td>258.01</td>\n",
              "      <td>Quarto compartilhado</td>\n",
              "      <td>True</td>\n",
              "      <td>False</td>\n",
              "      <td>2</td>\n",
              "      <td>False</td>\n",
              "      <td>0</td>\n",
              "      <td>0</td>\n",
              "      <td>8</td>\n",
              "      <td>90</td>\n",
              "      <td>1</td>\n",
              "      <td>0.28</td>\n",
              "      <td>0.52</td>\n",
              "      <td>533.96</td>\n",
              "      <td>28.27</td>\n",
              "      <td>807.49</td>\n",
              "      <td>56.27</td>\n",
              "      <td>4.89</td>\n",
              "      <td>52.38</td>\n",
              "    </tr>\n",
              "  </tbody>\n",
              "</table>\n",
              "<p>1103 rows × 19 columns</p>\n",
              "</div>\n",
              "      <button class=\"colab-df-convert\" onclick=\"convertToInteractive('df-6f171e64-c816-4f85-9f8f-fe2665dfdea1')\"\n",
              "              title=\"Convert this dataframe to an interactive table.\"\n",
              "              style=\"display:none;\">\n",
              "        \n",
              "  <svg xmlns=\"http://www.w3.org/2000/svg\" height=\"24px\"viewBox=\"0 0 24 24\"\n",
              "       width=\"24px\">\n",
              "    <path d=\"M0 0h24v24H0V0z\" fill=\"none\"/>\n",
              "    <path d=\"M18.56 5.44l.94 2.06.94-2.06 2.06-.94-2.06-.94-.94-2.06-.94 2.06-2.06.94zm-11 1L8.5 8.5l.94-2.06 2.06-.94-2.06-.94L8.5 2.5l-.94 2.06-2.06.94zm10 10l.94 2.06.94-2.06 2.06-.94-2.06-.94-.94-2.06-.94 2.06-2.06.94z\"/><path d=\"M17.41 7.96l-1.37-1.37c-.4-.4-.92-.59-1.43-.59-.52 0-1.04.2-1.43.59L10.3 9.45l-7.72 7.72c-.78.78-.78 2.05 0 2.83L4 21.41c.39.39.9.59 1.41.59.51 0 1.02-.2 1.41-.59l7.78-7.78 2.81-2.81c.8-.78.8-2.07 0-2.86zM5.41 20L4 18.59l7.72-7.72 1.47 1.35L5.41 20z\"/>\n",
              "  </svg>\n",
              "      </button>\n",
              "      \n",
              "  <style>\n",
              "    .colab-df-container {\n",
              "      display:flex;\n",
              "      flex-wrap:wrap;\n",
              "      gap: 12px;\n",
              "    }\n",
              "\n",
              "    .colab-df-convert {\n",
              "      background-color: #E8F0FE;\n",
              "      border: none;\n",
              "      border-radius: 50%;\n",
              "      cursor: pointer;\n",
              "      display: none;\n",
              "      fill: #1967D2;\n",
              "      height: 32px;\n",
              "      padding: 0 0 0 0;\n",
              "      width: 32px;\n",
              "    }\n",
              "\n",
              "    .colab-df-convert:hover {\n",
              "      background-color: #E2EBFA;\n",
              "      box-shadow: 0px 1px 2px rgba(60, 64, 67, 0.3), 0px 1px 3px 1px rgba(60, 64, 67, 0.15);\n",
              "      fill: #174EA6;\n",
              "    }\n",
              "\n",
              "    [theme=dark] .colab-df-convert {\n",
              "      background-color: #3B4455;\n",
              "      fill: #D2E3FC;\n",
              "    }\n",
              "\n",
              "    [theme=dark] .colab-df-convert:hover {\n",
              "      background-color: #434B5C;\n",
              "      box-shadow: 0px 1px 3px 1px rgba(0, 0, 0, 0.15);\n",
              "      filter: drop-shadow(0px 1px 2px rgba(0, 0, 0, 0.3));\n",
              "      fill: #FFFFFF;\n",
              "    }\n",
              "  </style>\n",
              "\n",
              "      <script>\n",
              "        const buttonEl =\n",
              "          document.querySelector('#df-6f171e64-c816-4f85-9f8f-fe2665dfdea1 button.colab-df-convert');\n",
              "        buttonEl.style.display =\n",
              "          google.colab.kernel.accessAllowed ? 'block' : 'none';\n",
              "\n",
              "        async function convertToInteractive(key) {\n",
              "          const element = document.querySelector('#df-6f171e64-c816-4f85-9f8f-fe2665dfdea1');\n",
              "          const dataTable =\n",
              "            await google.colab.kernel.invokeFunction('convertToInteractive',\n",
              "                                                     [key], {});\n",
              "          if (!dataTable) return;\n",
              "\n",
              "          const docLinkHtml = 'Like what you see? Visit the ' +\n",
              "            '<a target=\"_blank\" href=https://colab.research.google.com/notebooks/data_table.ipynb>data table notebook</a>'\n",
              "            + ' to learn more about interactive tables.';\n",
              "          element.innerHTML = '';\n",
              "          dataTable['output_type'] = 'display_data';\n",
              "          await google.colab.output.renderOutput(dataTable, element);\n",
              "          const docLink = document.createElement('div');\n",
              "          docLink.innerHTML = docLinkHtml;\n",
              "          element.appendChild(docLink);\n",
              "        }\n",
              "      </script>\n",
              "    </div>\n",
              "  </div>\n",
              "  "
            ]
          },
          "metadata": {},
          "execution_count": 52
        }
      ]
    },
    {
      "cell_type": "code",
      "source": [
        "#backup2\n",
        "dfback2 = df.copy (\n",
        "\n",
        "\n",
        "\n",
        ")"
      ],
      "metadata": {
        "id": "ocUuO3izEZI0"
      },
      "execution_count": null,
      "outputs": []
    },
    {
      "cell_type": "code",
      "source": [
        "# Backup local do df tratado\n",
        "dfback3 = df.copy()"
      ],
      "metadata": {
        "id": "im6rUDJNMbJy"
      },
      "execution_count": null,
      "outputs": []
    },
    {
      "cell_type": "code",
      "source": [
        "#checando tipos após backup\n",
        "df.dtypes"
      ],
      "metadata": {
        "colab": {
          "base_uri": "https://localhost:8080/"
        },
        "id": "p8J3gEq2Ojct",
        "outputId": "aa526d85-dba1-4f01-e17b-486fec5a1c3c"
      },
      "execution_count": null,
      "outputs": [
        {
          "output_type": "execute_result",
          "data": {
            "text/plain": [
              "preço_total                                   float64\n",
              "tipo_quarto                                    object\n",
              "compartilhado                                    bool\n",
              "quarto_privativo                                 bool\n",
              "capacidade                                      int64\n",
              "Superhost                                        bool\n",
              "múltiplos_quartos                               int64\n",
              "Uso comercial ou familiar                       int64\n",
              "nota_limpeza                                    int64\n",
              "satisfacao                                      int64\n",
              "quartos                                         int64\n",
              "distancia_centro                              float64\n",
              "distancia_metrô                               float64\n",
              "índice de atração do local do anúncio         float64\n",
              "índice de atracção normalizado (0-100)        float64\n",
              "índice de restaurantes do local do anúncio    float64\n",
              "índice de restaurantes normalizado (0-100)    float64\n",
              "longitude                                     float64\n",
              "latitude                                      float64\n",
              "dtype: object"
            ]
          },
          "metadata": {},
          "execution_count": 55
        }
      ]
    },
    {
      "cell_type": "markdown",
      "source": [
        "## **CARREGAMENTO**"
      ],
      "metadata": {
        "id": "PXWbW54oPcDF"
      }
    },
    {
      "cell_type": "code",
      "source": [
        "# Google Cloud\n",
        "df.to_csv('gs://projetos-ad2-caduarte/tratados/airbnb_tratado.csv', index=False) # salva no bucket"
      ],
      "metadata": {
        "id": "i11wDGFemAEQ"
      },
      "execution_count": null,
      "outputs": []
    },
    {
      "cell_type": "code",
      "source": [
        "# Exportação em uma pasta Google Drive\n",
        "#df.to_csv('/content/drive/MyDrive/projeto_airbnb/airbnb_tratado.csv',index=False)"
      ],
      "metadata": {
        "id": "-RLEQ9aGKdQd"
      },
      "execution_count": null,
      "outputs": []
    },
    {
      "cell_type": "markdown",
      "source": [
        "## **Análises**"
      ],
      "metadata": {
        "id": "OWzsKyk8Kaym"
      }
    },
    {
      "cell_type": "code",
      "source": [
        "#Importando biblioteca matplotlib\n",
        "import matplotlib.pyplot as plt"
      ],
      "metadata": {
        "id": "QNNEqWVNI_qS"
      },
      "execution_count": null,
      "outputs": []
    },
    {
      "cell_type": "code",
      "source": [
        "#excluir as colunas que não vou utilizar\n",
        "df.drop(['compartilhado',\n",
        "         'múltiplos_quartos',\n",
        "         'capacidade',\n",
        "         'Uso comercial ou familiar',\n",
        "         'índice de atracção normalizado (0-100)',\n",
        "         'índice de restaurantes normalizado (0-100)',\n",
        "         'longitude',\n",
        "         'latitude',\n",
        "         ],axis=1, inplace=True)"
      ],
      "metadata": {
        "id": "4Xz7wAuXz8O1"
      },
      "execution_count": null,
      "outputs": []
    },
    {
      "cell_type": "code",
      "source": [
        "#mostrando o Dataframe após as exclusões das colunas\n",
        "df"
      ],
      "metadata": {
        "colab": {
          "base_uri": "https://localhost:8080/",
          "height": 502
        },
        "id": "RxkWRCUMBHW8",
        "outputId": "cf199de9-b688-4118-e328-15a83999fcde"
      },
      "execution_count": null,
      "outputs": [
        {
          "output_type": "execute_result",
          "data": {
            "text/plain": [
              "      preço_total           tipo_quarto  quarto_privativo  Superhost  \\\n",
              "0          194.03        Quarto privado              True      False   \n",
              "1          344.25        Quarto privado              True      False   \n",
              "2          264.10        Quarto privado              True      False   \n",
              "3          433.53        Quarto privado              True      False   \n",
              "4          485.55        Quarto privado              True       True   \n",
              "...           ...                   ...               ...        ...   \n",
              "1098      2486.12      Apt/casa inteira             False      False   \n",
              "1099       233.64        Quarto privado              True      False   \n",
              "1100       317.06        Quarto privado              True      False   \n",
              "1101      1812.86      Apt/casa inteira             False      False   \n",
              "1102       258.01  Quarto compartilhado             False      False   \n",
              "\n",
              "      nota_limpeza  satisfacao  quartos  distancia_centro  distancia_metrô  \\\n",
              "0               10          93        1              5.02             2.54   \n",
              "1                8          85        1              0.49             0.24   \n",
              "2                9          87        1              5.75             3.65   \n",
              "3                9          90        2              0.38             0.44   \n",
              "4               10          98        1              0.54             0.32   \n",
              "...            ...         ...      ...               ...              ...   \n",
              "1098            10         100        1              2.38             1.44   \n",
              "1099            10          90        1              4.72             0.32   \n",
              "1100            10          92        1              0.60             0.75   \n",
              "1101             8          84        5              1.94             0.39   \n",
              "1102             8          90        1              0.28             0.52   \n",
              "\n",
              "      índice de atração do local do anúncio  \\\n",
              "0                                     78.69   \n",
              "1                                    631.18   \n",
              "2                                     75.28   \n",
              "3                                    493.27   \n",
              "4                                    552.83   \n",
              "...                                     ...   \n",
              "1098                                 181.20   \n",
              "1099                                 108.02   \n",
              "1100                                 440.48   \n",
              "1101                                 257.95   \n",
              "1102                                 533.96   \n",
              "\n",
              "      índice de restaurantes do local do anúncio  \n",
              "0                                          98.25  \n",
              "1                                         837.28  \n",
              "2                                          95.39  \n",
              "3                                         875.03  \n",
              "4                                         815.31  \n",
              "...                                          ...  \n",
              "1098                                      225.30  \n",
              "1099                                      134.78  \n",
              "1100                                      625.95  \n",
              "1101                                      336.59  \n",
              "1102                                      807.49  \n",
              "\n",
              "[1103 rows x 11 columns]"
            ],
            "text/html": [
              "\n",
              "  <div id=\"df-7643cbd1-3db3-4a90-83dc-a077d36c84ef\">\n",
              "    <div class=\"colab-df-container\">\n",
              "      <div>\n",
              "<style scoped>\n",
              "    .dataframe tbody tr th:only-of-type {\n",
              "        vertical-align: middle;\n",
              "    }\n",
              "\n",
              "    .dataframe tbody tr th {\n",
              "        vertical-align: top;\n",
              "    }\n",
              "\n",
              "    .dataframe thead th {\n",
              "        text-align: right;\n",
              "    }\n",
              "</style>\n",
              "<table border=\"1\" class=\"dataframe\">\n",
              "  <thead>\n",
              "    <tr style=\"text-align: right;\">\n",
              "      <th></th>\n",
              "      <th>preço_total</th>\n",
              "      <th>tipo_quarto</th>\n",
              "      <th>quarto_privativo</th>\n",
              "      <th>Superhost</th>\n",
              "      <th>nota_limpeza</th>\n",
              "      <th>satisfacao</th>\n",
              "      <th>quartos</th>\n",
              "      <th>distancia_centro</th>\n",
              "      <th>distancia_metrô</th>\n",
              "      <th>índice de atração do local do anúncio</th>\n",
              "      <th>índice de restaurantes do local do anúncio</th>\n",
              "    </tr>\n",
              "  </thead>\n",
              "  <tbody>\n",
              "    <tr>\n",
              "      <th>0</th>\n",
              "      <td>194.03</td>\n",
              "      <td>Quarto privado</td>\n",
              "      <td>True</td>\n",
              "      <td>False</td>\n",
              "      <td>10</td>\n",
              "      <td>93</td>\n",
              "      <td>1</td>\n",
              "      <td>5.02</td>\n",
              "      <td>2.54</td>\n",
              "      <td>78.69</td>\n",
              "      <td>98.25</td>\n",
              "    </tr>\n",
              "    <tr>\n",
              "      <th>1</th>\n",
              "      <td>344.25</td>\n",
              "      <td>Quarto privado</td>\n",
              "      <td>True</td>\n",
              "      <td>False</td>\n",
              "      <td>8</td>\n",
              "      <td>85</td>\n",
              "      <td>1</td>\n",
              "      <td>0.49</td>\n",
              "      <td>0.24</td>\n",
              "      <td>631.18</td>\n",
              "      <td>837.28</td>\n",
              "    </tr>\n",
              "    <tr>\n",
              "      <th>2</th>\n",
              "      <td>264.10</td>\n",
              "      <td>Quarto privado</td>\n",
              "      <td>True</td>\n",
              "      <td>False</td>\n",
              "      <td>9</td>\n",
              "      <td>87</td>\n",
              "      <td>1</td>\n",
              "      <td>5.75</td>\n",
              "      <td>3.65</td>\n",
              "      <td>75.28</td>\n",
              "      <td>95.39</td>\n",
              "    </tr>\n",
              "    <tr>\n",
              "      <th>3</th>\n",
              "      <td>433.53</td>\n",
              "      <td>Quarto privado</td>\n",
              "      <td>True</td>\n",
              "      <td>False</td>\n",
              "      <td>9</td>\n",
              "      <td>90</td>\n",
              "      <td>2</td>\n",
              "      <td>0.38</td>\n",
              "      <td>0.44</td>\n",
              "      <td>493.27</td>\n",
              "      <td>875.03</td>\n",
              "    </tr>\n",
              "    <tr>\n",
              "      <th>4</th>\n",
              "      <td>485.55</td>\n",
              "      <td>Quarto privado</td>\n",
              "      <td>True</td>\n",
              "      <td>True</td>\n",
              "      <td>10</td>\n",
              "      <td>98</td>\n",
              "      <td>1</td>\n",
              "      <td>0.54</td>\n",
              "      <td>0.32</td>\n",
              "      <td>552.83</td>\n",
              "      <td>815.31</td>\n",
              "    </tr>\n",
              "    <tr>\n",
              "      <th>...</th>\n",
              "      <td>...</td>\n",
              "      <td>...</td>\n",
              "      <td>...</td>\n",
              "      <td>...</td>\n",
              "      <td>...</td>\n",
              "      <td>...</td>\n",
              "      <td>...</td>\n",
              "      <td>...</td>\n",
              "      <td>...</td>\n",
              "      <td>...</td>\n",
              "      <td>...</td>\n",
              "    </tr>\n",
              "    <tr>\n",
              "      <th>1098</th>\n",
              "      <td>2486.12</td>\n",
              "      <td>Apt/casa inteira</td>\n",
              "      <td>False</td>\n",
              "      <td>False</td>\n",
              "      <td>10</td>\n",
              "      <td>100</td>\n",
              "      <td>1</td>\n",
              "      <td>2.38</td>\n",
              "      <td>1.44</td>\n",
              "      <td>181.20</td>\n",
              "      <td>225.30</td>\n",
              "    </tr>\n",
              "    <tr>\n",
              "      <th>1099</th>\n",
              "      <td>233.64</td>\n",
              "      <td>Quarto privado</td>\n",
              "      <td>True</td>\n",
              "      <td>False</td>\n",
              "      <td>10</td>\n",
              "      <td>90</td>\n",
              "      <td>1</td>\n",
              "      <td>4.72</td>\n",
              "      <td>0.32</td>\n",
              "      <td>108.02</td>\n",
              "      <td>134.78</td>\n",
              "    </tr>\n",
              "    <tr>\n",
              "      <th>1100</th>\n",
              "      <td>317.06</td>\n",
              "      <td>Quarto privado</td>\n",
              "      <td>True</td>\n",
              "      <td>False</td>\n",
              "      <td>10</td>\n",
              "      <td>92</td>\n",
              "      <td>1</td>\n",
              "      <td>0.60</td>\n",
              "      <td>0.75</td>\n",
              "      <td>440.48</td>\n",
              "      <td>625.95</td>\n",
              "    </tr>\n",
              "    <tr>\n",
              "      <th>1101</th>\n",
              "      <td>1812.86</td>\n",
              "      <td>Apt/casa inteira</td>\n",
              "      <td>False</td>\n",
              "      <td>False</td>\n",
              "      <td>8</td>\n",
              "      <td>84</td>\n",
              "      <td>5</td>\n",
              "      <td>1.94</td>\n",
              "      <td>0.39</td>\n",
              "      <td>257.95</td>\n",
              "      <td>336.59</td>\n",
              "    </tr>\n",
              "    <tr>\n",
              "      <th>1102</th>\n",
              "      <td>258.01</td>\n",
              "      <td>Quarto compartilhado</td>\n",
              "      <td>False</td>\n",
              "      <td>False</td>\n",
              "      <td>8</td>\n",
              "      <td>90</td>\n",
              "      <td>1</td>\n",
              "      <td>0.28</td>\n",
              "      <td>0.52</td>\n",
              "      <td>533.96</td>\n",
              "      <td>807.49</td>\n",
              "    </tr>\n",
              "  </tbody>\n",
              "</table>\n",
              "<p>1103 rows × 11 columns</p>\n",
              "</div>\n",
              "      <button class=\"colab-df-convert\" onclick=\"convertToInteractive('df-7643cbd1-3db3-4a90-83dc-a077d36c84ef')\"\n",
              "              title=\"Convert this dataframe to an interactive table.\"\n",
              "              style=\"display:none;\">\n",
              "        \n",
              "  <svg xmlns=\"http://www.w3.org/2000/svg\" height=\"24px\"viewBox=\"0 0 24 24\"\n",
              "       width=\"24px\">\n",
              "    <path d=\"M0 0h24v24H0V0z\" fill=\"none\"/>\n",
              "    <path d=\"M18.56 5.44l.94 2.06.94-2.06 2.06-.94-2.06-.94-.94-2.06-.94 2.06-2.06.94zm-11 1L8.5 8.5l.94-2.06 2.06-.94-2.06-.94L8.5 2.5l-.94 2.06-2.06.94zm10 10l.94 2.06.94-2.06 2.06-.94-2.06-.94-.94-2.06-.94 2.06-2.06.94z\"/><path d=\"M17.41 7.96l-1.37-1.37c-.4-.4-.92-.59-1.43-.59-.52 0-1.04.2-1.43.59L10.3 9.45l-7.72 7.72c-.78.78-.78 2.05 0 2.83L4 21.41c.39.39.9.59 1.41.59.51 0 1.02-.2 1.41-.59l7.78-7.78 2.81-2.81c.8-.78.8-2.07 0-2.86zM5.41 20L4 18.59l7.72-7.72 1.47 1.35L5.41 20z\"/>\n",
              "  </svg>\n",
              "      </button>\n",
              "      \n",
              "  <style>\n",
              "    .colab-df-container {\n",
              "      display:flex;\n",
              "      flex-wrap:wrap;\n",
              "      gap: 12px;\n",
              "    }\n",
              "\n",
              "    .colab-df-convert {\n",
              "      background-color: #E8F0FE;\n",
              "      border: none;\n",
              "      border-radius: 50%;\n",
              "      cursor: pointer;\n",
              "      display: none;\n",
              "      fill: #1967D2;\n",
              "      height: 32px;\n",
              "      padding: 0 0 0 0;\n",
              "      width: 32px;\n",
              "    }\n",
              "\n",
              "    .colab-df-convert:hover {\n",
              "      background-color: #E2EBFA;\n",
              "      box-shadow: 0px 1px 2px rgba(60, 64, 67, 0.3), 0px 1px 3px 1px rgba(60, 64, 67, 0.15);\n",
              "      fill: #174EA6;\n",
              "    }\n",
              "\n",
              "    [theme=dark] .colab-df-convert {\n",
              "      background-color: #3B4455;\n",
              "      fill: #D2E3FC;\n",
              "    }\n",
              "\n",
              "    [theme=dark] .colab-df-convert:hover {\n",
              "      background-color: #434B5C;\n",
              "      box-shadow: 0px 1px 3px 1px rgba(0, 0, 0, 0.15);\n",
              "      filter: drop-shadow(0px 1px 2px rgba(0, 0, 0, 0.3));\n",
              "      fill: #FFFFFF;\n",
              "    }\n",
              "  </style>\n",
              "\n",
              "      <script>\n",
              "        const buttonEl =\n",
              "          document.querySelector('#df-7643cbd1-3db3-4a90-83dc-a077d36c84ef button.colab-df-convert');\n",
              "        buttonEl.style.display =\n",
              "          google.colab.kernel.accessAllowed ? 'block' : 'none';\n",
              "\n",
              "        async function convertToInteractive(key) {\n",
              "          const element = document.querySelector('#df-7643cbd1-3db3-4a90-83dc-a077d36c84ef');\n",
              "          const dataTable =\n",
              "            await google.colab.kernel.invokeFunction('convertToInteractive',\n",
              "                                                     [key], {});\n",
              "          if (!dataTable) return;\n",
              "\n",
              "          const docLinkHtml = 'Like what you see? Visit the ' +\n",
              "            '<a target=\"_blank\" href=https://colab.research.google.com/notebooks/data_table.ipynb>data table notebook</a>'\n",
              "            + ' to learn more about interactive tables.';\n",
              "          element.innerHTML = '';\n",
              "          dataTable['output_type'] = 'display_data';\n",
              "          await google.colab.output.renderOutput(dataTable, element);\n",
              "          const docLink = document.createElement('div');\n",
              "          docLink.innerHTML = docLinkHtml;\n",
              "          element.appendChild(docLink);\n",
              "        }\n",
              "      </script>\n",
              "    </div>\n",
              "  </div>\n",
              "  "
            ]
          },
          "metadata": {},
          "execution_count": 59
        }
      ]
    },
    {
      "cell_type": "code",
      "source": [
        "#Informações gerais após exclusão das colunas\n",
        "df.info()"
      ],
      "metadata": {
        "colab": {
          "base_uri": "https://localhost:8080/"
        },
        "id": "wBaZoQ1exHrL",
        "outputId": "2ce8eab1-7064-4374-fcaa-a9632dccb2e7"
      },
      "execution_count": null,
      "outputs": [
        {
          "output_type": "stream",
          "name": "stdout",
          "text": [
            "<class 'pandas.core.frame.DataFrame'>\n",
            "RangeIndex: 1103 entries, 0 to 1102\n",
            "Data columns (total 11 columns):\n",
            " #   Column                                      Non-Null Count  Dtype  \n",
            "---  ------                                      --------------  -----  \n",
            " 0   preço_total                                 1103 non-null   float64\n",
            " 1   tipo_quarto                                 1103 non-null   object \n",
            " 2   quarto_privativo                            1103 non-null   bool   \n",
            " 3   Superhost                                   1103 non-null   bool   \n",
            " 4   nota_limpeza                                1103 non-null   int64  \n",
            " 5   satisfacao                                  1103 non-null   int64  \n",
            " 6   quartos                                     1103 non-null   int64  \n",
            " 7   distancia_centro                            1103 non-null   float64\n",
            " 8   distancia_metrô                             1103 non-null   float64\n",
            " 9   índice de atração do local do anúncio       1103 non-null   float64\n",
            " 10  índice de restaurantes do local do anúncio  1103 non-null   float64\n",
            "dtypes: bool(2), float64(5), int64(3), object(1)\n",
            "memory usage: 79.8+ KB\n"
          ]
        }
      ]
    },
    {
      "cell_type": "markdown",
      "source": [
        "# Análise geral do atributo preço_total"
      ],
      "metadata": {
        "id": "k2gaNr2RnmEL"
      }
    },
    {
      "cell_type": "code",
      "source": [
        "#verificando tamanho do atributo\n",
        "df.groupby(['preço_total']).size()\n"
      ],
      "metadata": {
        "colab": {
          "base_uri": "https://localhost:8080/"
        },
        "id": "XVuT3wUan5d9",
        "outputId": "c558d71c-2ced-46a5-d1ab-bd3d524295af"
      },
      "execution_count": null,
      "outputs": [
        {
          "output_type": "execute_result",
          "data": {
            "text/plain": [
              "preço_total\n",
              "128.89     1\n",
              "143.65     1\n",
              "144.82     2\n",
              "161.93     1\n",
              "165.68     1\n",
              "          ..\n",
              "2556.18    1\n",
              "2771.31    1\n",
              "3004.94    1\n",
              "3637.66    1\n",
              "7782.91    1\n",
              "Length: 534, dtype: int64"
            ]
          },
          "metadata": {},
          "execution_count": 61
        }
      ]
    },
    {
      "cell_type": "code",
      "source": [
        "#Verificando a quantidade de elementos na coluna\n",
        "df['preço_total'].count()"
      ],
      "metadata": {
        "colab": {
          "base_uri": "https://localhost:8080/"
        },
        "id": "iclxDoYYsNoG",
        "outputId": "2af5f99c-3706-4349-9f7f-7f4edf733ce0"
      },
      "execution_count": null,
      "outputs": [
        {
          "output_type": "execute_result",
          "data": {
            "text/plain": [
              "1103"
            ]
          },
          "metadata": {},
          "execution_count": 62
        }
      ]
    },
    {
      "cell_type": "code",
      "source": [
        "#Verificando quantos valores únicos existem na coluna\n",
        "df['preço_total'].nunique()"
      ],
      "metadata": {
        "colab": {
          "base_uri": "https://localhost:8080/"
        },
        "id": "mS-j4VSoo_YU",
        "outputId": "3c870778-0a8d-46ed-e512-68265ed76177"
      },
      "execution_count": null,
      "outputs": [
        {
          "output_type": "execute_result",
          "data": {
            "text/plain": [
              "534"
            ]
          },
          "metadata": {},
          "execution_count": 63
        }
      ]
    },
    {
      "cell_type": "code",
      "source": [
        "#Verificando medidas estatísticas descritiva - média, desvio padrão, valor mínimo, valor máximo e quartis.\n",
        "df['preço_total'].describe()"
      ],
      "metadata": {
        "colab": {
          "base_uri": "https://localhost:8080/"
        },
        "id": "wh9aIl-QncKx",
        "outputId": "7278f609-d5a2-436d-d241-3aaf4058feca"
      },
      "execution_count": null,
      "outputs": [
        {
          "output_type": "execute_result",
          "data": {
            "text/plain": [
              "count   1103.00\n",
              "mean     545.02\n",
              "std      416.97\n",
              "min      128.89\n",
              "25%      309.80\n",
              "50%      430.25\n",
              "75%      657.32\n",
              "max     7782.91\n",
              "Name: preço_total, dtype: float64"
            ]
          },
          "metadata": {},
          "execution_count": 64
        }
      ]
    },
    {
      "cell_type": "code",
      "source": [
        "# Plotagem - gráfico de barras\n",
        "descricao = df['preço_total'].describe()\n",
        "descricao.plot(kind='bar', figsize=(10, 6), color='#FF5A5F')\n",
        "\n",
        "# Configurações do gráfico\n",
        "plt.title('Estatísticas Descritivas - Preço Total')\n",
        "plt.ylabel('Preços')\n",
        "plt.xticks(rotation=0)\n",
        "plt.xticks([0, 1, 2, 3, 4, 5, 6, 7], ['Contagem', 'Média', 'Desv Padrão', 'Min', '1º Quartil', '2º Quartil', '3º Quartil', 'Max'])\n",
        "\n",
        "# Exibição do gráfico\n",
        "plt.show()"
      ],
      "metadata": {
        "colab": {
          "base_uri": "https://localhost:8080/",
          "height": 545
        },
        "id": "fVtOrQUOn3vU",
        "outputId": "89c73a84-5e18-4c51-d06c-66ba5d601fcb"
      },
      "execution_count": null,
      "outputs": [
        {
          "output_type": "display_data",
          "data": {
            "text/plain": [
              "<Figure size 1000x600 with 1 Axes>"
            ],
            "image/png": "[encoded data removed]"
          },
          "metadata": {}
        }
      ]
    },
    {
      "cell_type": "markdown",
      "source": [
        "# Análise geral do atributo tipo_quarto"
      ],
      "metadata": {
        "id": "g1-TnE-MHhU7"
      }
    },
    {
      "cell_type": "code",
      "source": [
        "#verificando tamanho do atributo\n",
        "df.groupby(['tipo_quarto']).size()"
      ],
      "metadata": {
        "colab": {
          "base_uri": "https://localhost:8080/"
        },
        "id": "1uaz7YMOVXw2",
        "outputId": "bff7ab50-7dbb-49ba-e3e0-8b138ffd8844"
      },
      "execution_count": null,
      "outputs": [
        {
          "output_type": "execute_result",
          "data": {
            "text/plain": [
              "tipo_quarto\n",
              "Apt/casa inteira        538\n",
              "Quarto compartilhado      6\n",
              "Quarto privado          559\n",
              "dtype: int64"
            ]
          },
          "metadata": {},
          "execution_count": 66
        }
      ]
    },
    {
      "cell_type": "code",
      "source": [
        "#Verificando quantos valores únicos existem na coluna\n",
        "df['tipo_quarto'].nunique()"
      ],
      "metadata": {
        "colab": {
          "base_uri": "https://localhost:8080/"
        },
        "id": "H-i01xOkH2Nl",
        "outputId": "9ee40846-6c46-4d7c-b964-a5ad45679018"
      },
      "execution_count": null,
      "outputs": [
        {
          "output_type": "execute_result",
          "data": {
            "text/plain": [
              "3"
            ]
          },
          "metadata": {},
          "execution_count": 67
        }
      ]
    },
    {
      "cell_type": "code",
      "source": [
        "# Plotagem - gráfico de barras\n",
        "contagem = df.groupby(['tipo_quarto']).size()\n",
        "contagem.plot(kind='bar', figsize=(8, 6), color='#FF5A5F')\n",
        "\n",
        "# Configurações do gráfico\n",
        "plt.title('Tipos de Quarto')\n",
        "plt.ylabel('Quantidade')\n",
        "plt.xticks(rotation=0)"
      ],
      "metadata": {
        "colab": {
          "base_uri": "https://localhost:8080/",
          "height": 633
        },
        "id": "cXeUAh2gtGE-",
        "outputId": "b3646b93-2bb8-49cf-d778-b2aa8fdd43a9"
      },
      "execution_count": null,
      "outputs": [
        {
          "output_type": "execute_result",
          "data": {
            "text/plain": [
              "(array([0, 1, 2]),\n",
              " [Text(0, 0, 'Apt/casa inteira'),\n",
              "  Text(1, 0, 'Quarto compartilhado'),\n",
              "  Text(2, 0, 'Quarto privado')])"
            ]
          },
          "metadata": {},
          "execution_count": 68
        },
        {
          "output_type": "display_data",
          "data": {
            "text/plain": [
              "<Figure size 800x600 with 1 Axes>"
            ],
            "image/png": "[encoded data removed]"
          },
          "metadata": {}
        }
      ]
    },
    {
      "cell_type": "markdown",
      "source": [
        "# Análise geral do atributo quarto_privativo"
      ],
      "metadata": {
        "id": "bh-vrevGIPbY"
      }
    },
    {
      "cell_type": "code",
      "source": [
        "#Verificando tamanho do atributo\n",
        "df.groupby(['quarto_privativo']).size()"
      ],
      "metadata": {
        "colab": {
          "base_uri": "https://localhost:8080/"
        },
        "id": "yXXYS3OaWVg4",
        "outputId": "0e2bf3c1-486a-485a-df42-6c3db8b28dd8"
      },
      "execution_count": null,
      "outputs": [
        {
          "output_type": "execute_result",
          "data": {
            "text/plain": [
              "quarto_privativo\n",
              "False    544\n",
              "True     559\n",
              "dtype: int64"
            ]
          },
          "metadata": {},
          "execution_count": 69
        }
      ]
    },
    {
      "cell_type": "code",
      "source": [
        "#Verificando quantos valores únicos existem na coluna\n",
        "df['quarto_privativo'].nunique()"
      ],
      "metadata": {
        "colab": {
          "base_uri": "https://localhost:8080/"
        },
        "id": "CJTjzbWzu4pS",
        "outputId": "d6cffce1-538c-4a08-91cd-7ce627f44545"
      },
      "execution_count": null,
      "outputs": [
        {
          "output_type": "execute_result",
          "data": {
            "text/plain": [
              "2"
            ]
          },
          "metadata": {},
          "execution_count": 70
        }
      ]
    },
    {
      "cell_type": "code",
      "source": [
        "# Plotagem - gráfico de pizza\n",
        "contagem = df.groupby(['quarto_privativo']).size()\n",
        "contagem.plot(kind='pie', figsize=(6, 6), colors=['#FF5A5F', '#00A699'], autopct='%1.1f%%')\n",
        "\n",
        "# Configurações do gráfico\n",
        "plt.title('Proporção de Quartos Privativos')\n",
        "plt.legend(labels=['Não Privativo', 'Privativo'])\n",
        "\n",
        "# Exibição do gráfico\n",
        "plt.show()"
      ],
      "metadata": {
        "colab": {
          "base_uri": "https://localhost:8080/",
          "height": 521
        },
        "id": "UM8kQyQMxeuh",
        "outputId": "3964c59a-57c1-4c89-a290-9354080cc2ff"
      },
      "execution_count": null,
      "outputs": [
        {
          "output_type": "display_data",
          "data": {
            "text/plain": [
              "<Figure size 600x600 with 1 Axes>"
            ],
            "image/png": "[encoded data removed]"
          },
          "metadata": {}
        }
      ]
    },
    {
      "cell_type": "markdown",
      "source": [
        "# Análise geral do atributo Superhost"
      ],
      "metadata": {
        "id": "zeylNfEUxyzp"
      }
    },
    {
      "cell_type": "code",
      "source": [
        "#Verificando tamanho do atributo\n",
        "df.groupby(['Superhost']).size()"
      ],
      "metadata": {
        "colab": {
          "base_uri": "https://localhost:8080/"
        },
        "id": "y5zvnF7wWiQU",
        "outputId": "134179a0-0257-4c21-b17d-14ec4c00990e"
      },
      "execution_count": null,
      "outputs": [
        {
          "output_type": "execute_result",
          "data": {
            "text/plain": [
              "Superhost\n",
              "False    780\n",
              "True     323\n",
              "dtype: int64"
            ]
          },
          "metadata": {},
          "execution_count": 72
        }
      ]
    },
    {
      "cell_type": "code",
      "source": [
        "#Verificando quantos valores únicos existem na coluna\n",
        "df['Superhost'].nunique()\n"
      ],
      "metadata": {
        "colab": {
          "base_uri": "https://localhost:8080/"
        },
        "id": "FkQhCLbJWmTL",
        "outputId": "4d9e4dbf-d3c6-4e59-b083-e34ae70d7284"
      },
      "execution_count": null,
      "outputs": [
        {
          "output_type": "execute_result",
          "data": {
            "text/plain": [
              "2"
            ]
          },
          "metadata": {},
          "execution_count": 73
        }
      ]
    },
    {
      "cell_type": "code",
      "source": [
        "#Plotagem - gráfico de barras\n",
        "dados = [780, 323]\n",
        "index = ['780', '323']\n",
        "\n",
        "# Criação da série\n",
        "serie = pd.Series(dados, index=index)\n",
        "\n",
        "ax = serie.plot(kind='bar', color=['#FF5A5F'])\n",
        "ax.get_children()[1].set_color('#00A699')\n",
        "# Configurações do gráfico\n",
        "plt.title('Superhosts')\n",
        "plt.ylabel('quantidade')\n",
        "plt.legend(['Superhost'])\n",
        "\n",
        "# Exibição do gráfico\n",
        "plt.show()"
      ],
      "metadata": {
        "id": "YC4oEhVgXWGX",
        "outputId": "377a92ad-fe00-4faf-abe9-4efc47d4a325",
        "colab": {
          "base_uri": "https://localhost:8080/",
          "height": 465
        }
      },
      "execution_count": null,
      "outputs": [
        {
          "output_type": "display_data",
          "data": {
            "text/plain": [
              "<Figure size 640x480 with 1 Axes>"
            ],
            "image/png": "[encoded data removed]"
          },
          "metadata": {}
        }
      ]
    },
    {
      "cell_type": "markdown",
      "source": [
        "# Análise geral do atributo nota_limpeza"
      ],
      "metadata": {
        "id": "uN559fYF3ZsL"
      }
    },
    {
      "cell_type": "code",
      "source": [
        "df"
      ],
      "metadata": {
        "colab": {
          "base_uri": "https://localhost:8080/",
          "height": 502
        },
        "id": "PL0ENhYv4VjU",
        "outputId": "30971b04-d5f9-4ade-fe3d-4638a8db6131"
      },
      "execution_count": null,
      "outputs": [
        {
          "output_type": "execute_result",
          "data": {
            "text/plain": [
              "      preço_total           tipo_quarto  quarto_privativo  Superhost  \\\n",
              "0          194.03        Quarto privado              True      False   \n",
              "1          344.25        Quarto privado              True      False   \n",
              "2          264.10        Quarto privado              True      False   \n",
              "3          433.53        Quarto privado              True      False   \n",
              "4          485.55        Quarto privado              True       True   \n",
              "...           ...                   ...               ...        ...   \n",
              "1098      2486.12      Apt/casa inteira             False      False   \n",
              "1099       233.64        Quarto privado              True      False   \n",
              "1100       317.06        Quarto privado              True      False   \n",
              "1101      1812.86      Apt/casa inteira             False      False   \n",
              "1102       258.01  Quarto compartilhado             False      False   \n",
              "\n",
              "      nota_limpeza  satisfacao  quartos  distancia_centro  distancia_metrô  \\\n",
              "0               10          93        1              5.02             2.54   \n",
              "1                8          85        1              0.49             0.24   \n",
              "2                9          87        1              5.75             3.65   \n",
              "3                9          90        2              0.38             0.44   \n",
              "4               10          98        1              0.54             0.32   \n",
              "...            ...         ...      ...               ...              ...   \n",
              "1098            10         100        1              2.38             1.44   \n",
              "1099            10          90        1              4.72             0.32   \n",
              "1100            10          92        1              0.60             0.75   \n",
              "1101             8          84        5              1.94             0.39   \n",
              "1102             8          90        1              0.28             0.52   \n",
              "\n",
              "      índice de atração do local do anúncio  \\\n",
              "0                                     78.69   \n",
              "1                                    631.18   \n",
              "2                                     75.28   \n",
              "3                                    493.27   \n",
              "4                                    552.83   \n",
              "...                                     ...   \n",
              "1098                                 181.20   \n",
              "1099                                 108.02   \n",
              "1100                                 440.48   \n",
              "1101                                 257.95   \n",
              "1102                                 533.96   \n",
              "\n",
              "      índice de restaurantes do local do anúncio  \n",
              "0                                          98.25  \n",
              "1                                         837.28  \n",
              "2                                          95.39  \n",
              "3                                         875.03  \n",
              "4                                         815.31  \n",
              "...                                          ...  \n",
              "1098                                      225.30  \n",
              "1099                                      134.78  \n",
              "1100                                      625.95  \n",
              "1101                                      336.59  \n",
              "1102                                      807.49  \n",
              "\n",
              "[1103 rows x 11 columns]"
            ],
            "text/html": [
              "\n",
              "  <div id=\"df-8da47239-1cfa-47af-9f79-f79149537021\">\n",
              "    <div class=\"colab-df-container\">\n",
              "      <div>\n",
              "<style scoped>\n",
              "    .dataframe tbody tr th:only-of-type {\n",
              "        vertical-align: middle;\n",
              "    }\n",
              "\n",
              "    .dataframe tbody tr th {\n",
              "        vertical-align: top;\n",
              "    }\n",
              "\n",
              "    .dataframe thead th {\n",
              "        text-align: right;\n",
              "    }\n",
              "</style>\n",
              "<table border=\"1\" class=\"dataframe\">\n",
              "  <thead>\n",
              "    <tr style=\"text-align: right;\">\n",
              "      <th></th>\n",
              "      <th>preço_total</th>\n",
              "      <th>tipo_quarto</th>\n",
              "      <th>quarto_privativo</th>\n",
              "      <th>Superhost</th>\n",
              "      <th>nota_limpeza</th>\n",
              "      <th>satisfacao</th>\n",
              "      <th>quartos</th>\n",
              "      <th>distancia_centro</th>\n",
              "      <th>distancia_metrô</th>\n",
              "      <th>índice de atração do local do anúncio</th>\n",
              "      <th>índice de restaurantes do local do anúncio</th>\n",
              "    </tr>\n",
              "  </thead>\n",
              "  <tbody>\n",
              "    <tr>\n",
              "      <th>0</th>\n",
              "      <td>194.03</td>\n",
              "      <td>Quarto privado</td>\n",
              "      <td>True</td>\n",
              "      <td>False</td>\n",
              "      <td>10</td>\n",
              "      <td>93</td>\n",
              "      <td>1</td>\n",
              "      <td>5.02</td>\n",
              "      <td>2.54</td>\n",
              "      <td>78.69</td>\n",
              "      <td>98.25</td>\n",
              "    </tr>\n",
              "    <tr>\n",
              "      <th>1</th>\n",
              "      <td>344.25</td>\n",
              "      <td>Quarto privado</td>\n",
              "      <td>True</td>\n",
              "      <td>False</td>\n",
              "      <td>8</td>\n",
              "      <td>85</td>\n",
              "      <td>1</td>\n",
              "      <td>0.49</td>\n",
              "      <td>0.24</td>\n",
              "      <td>631.18</td>\n",
              "      <td>837.28</td>\n",
              "    </tr>\n",
              "    <tr>\n",
              "      <th>2</th>\n",
              "      <td>264.10</td>\n",
              "      <td>Quarto privado</td>\n",
              "      <td>True</td>\n",
              "      <td>False</td>\n",
              "      <td>9</td>\n",
              "      <td>87</td>\n",
              "      <td>1</td>\n",
              "      <td>5.75</td>\n",
              "      <td>3.65</td>\n",
              "      <td>75.28</td>\n",
              "      <td>95.39</td>\n",
              "    </tr>\n",
              "    <tr>\n",
              "      <th>3</th>\n",
              "      <td>433.53</td>\n",
              "      <td>Quarto privado</td>\n",
              "      <td>True</td>\n",
              "      <td>False</td>\n",
              "      <td>9</td>\n",
              "      <td>90</td>\n",
              "      <td>2</td>\n",
              "      <td>0.38</td>\n",
              "      <td>0.44</td>\n",
              "      <td>493.27</td>\n",
              "      <td>875.03</td>\n",
              "    </tr>\n",
              "    <tr>\n",
              "      <th>4</th>\n",
              "      <td>485.55</td>\n",
              "      <td>Quarto privado</td>\n",
              "      <td>True</td>\n",
              "      <td>True</td>\n",
              "      <td>10</td>\n",
              "      <td>98</td>\n",
              "      <td>1</td>\n",
              "      <td>0.54</td>\n",
              "      <td>0.32</td>\n",
              "      <td>552.83</td>\n",
              "      <td>815.31</td>\n",
              "    </tr>\n",
              "    <tr>\n",
              "      <th>...</th>\n",
              "      <td>...</td>\n",
              "      <td>...</td>\n",
              "      <td>...</td>\n",
              "      <td>...</td>\n",
              "      <td>...</td>\n",
              "      <td>...</td>\n",
              "      <td>...</td>\n",
              "      <td>...</td>\n",
              "      <td>...</td>\n",
              "      <td>...</td>\n",
              "      <td>...</td>\n",
              "    </tr>\n",
              "    <tr>\n",
              "      <th>1098</th>\n",
              "      <td>2486.12</td>\n",
              "      <td>Apt/casa inteira</td>\n",
              "      <td>False</td>\n",
              "      <td>False</td>\n",
              "      <td>10</td>\n",
              "      <td>100</td>\n",
              "      <td>1</td>\n",
              "      <td>2.38</td>\n",
              "      <td>1.44</td>\n",
              "      <td>181.20</td>\n",
              "      <td>225.30</td>\n",
              "    </tr>\n",
              "    <tr>\n",
              "      <th>1099</th>\n",
              "      <td>233.64</td>\n",
              "      <td>Quarto privado</td>\n",
              "      <td>True</td>\n",
              "      <td>False</td>\n",
              "      <td>10</td>\n",
              "      <td>90</td>\n",
              "      <td>1</td>\n",
              "      <td>4.72</td>\n",
              "      <td>0.32</td>\n",
              "      <td>108.02</td>\n",
              "      <td>134.78</td>\n",
              "    </tr>\n",
              "    <tr>\n",
              "      <th>1100</th>\n",
              "      <td>317.06</td>\n",
              "      <td>Quarto privado</td>\n",
              "      <td>True</td>\n",
              "      <td>False</td>\n",
              "      <td>10</td>\n",
              "      <td>92</td>\n",
              "      <td>1</td>\n",
              "      <td>0.60</td>\n",
              "      <td>0.75</td>\n",
              "      <td>440.48</td>\n",
              "      <td>625.95</td>\n",
              "    </tr>\n",
              "    <tr>\n",
              "      <th>1101</th>\n",
              "      <td>1812.86</td>\n",
              "      <td>Apt/casa inteira</td>\n",
              "      <td>False</td>\n",
              "      <td>False</td>\n",
              "      <td>8</td>\n",
              "      <td>84</td>\n",
              "      <td>5</td>\n",
              "      <td>1.94</td>\n",
              "      <td>0.39</td>\n",
              "      <td>257.95</td>\n",
              "      <td>336.59</td>\n",
              "    </tr>\n",
              "    <tr>\n",
              "      <th>1102</th>\n",
              "      <td>258.01</td>\n",
              "      <td>Quarto compartilhado</td>\n",
              "      <td>False</td>\n",
              "      <td>False</td>\n",
              "      <td>8</td>\n",
              "      <td>90</td>\n",
              "      <td>1</td>\n",
              "      <td>0.28</td>\n",
              "      <td>0.52</td>\n",
              "      <td>533.96</td>\n",
              "      <td>807.49</td>\n",
              "    </tr>\n",
              "  </tbody>\n",
              "</table>\n",
              "<p>1103 rows × 11 columns</p>\n",
              "</div>\n",
              "      <button class=\"colab-df-convert\" onclick=\"convertToInteractive('df-8da47239-1cfa-47af-9f79-f79149537021')\"\n",
              "              title=\"Convert this dataframe to an interactive table.\"\n",
              "              style=\"display:none;\">\n",
              "        \n",
              "  <svg xmlns=\"http://www.w3.org/2000/svg\" height=\"24px\"viewBox=\"0 0 24 24\"\n",
              "       width=\"24px\">\n",
              "    <path d=\"M0 0h24v24H0V0z\" fill=\"none\"/>\n",
              "    <path d=\"M18.56 5.44l.94 2.06.94-2.06 2.06-.94-2.06-.94-.94-2.06-.94 2.06-2.06.94zm-11 1L8.5 8.5l.94-2.06 2.06-.94-2.06-.94L8.5 2.5l-.94 2.06-2.06.94zm10 10l.94 2.06.94-2.06 2.06-.94-2.06-.94-.94-2.06-.94 2.06-2.06.94z\"/><path d=\"M17.41 7.96l-1.37-1.37c-.4-.4-.92-.59-1.43-.59-.52 0-1.04.2-1.43.59L10.3 9.45l-7.72 7.72c-.78.78-.78 2.05 0 2.83L4 21.41c.39.39.9.59 1.41.59.51 0 1.02-.2 1.41-.59l7.78-7.78 2.81-2.81c.8-.78.8-2.07 0-2.86zM5.41 20L4 18.59l7.72-7.72 1.47 1.35L5.41 20z\"/>\n",
              "  </svg>\n",
              "      </button>\n",
              "      \n",
              "  <style>\n",
              "    .colab-df-container {\n",
              "      display:flex;\n",
              "      flex-wrap:wrap;\n",
              "      gap: 12px;\n",
              "    }\n",
              "\n",
              "    .colab-df-convert {\n",
              "      background-color: #E8F0FE;\n",
              "      border: none;\n",
              "      border-radius: 50%;\n",
              "      cursor: pointer;\n",
              "      display: none;\n",
              "      fill: #1967D2;\n",
              "      height: 32px;\n",
              "      padding: 0 0 0 0;\n",
              "      width: 32px;\n",
              "    }\n",
              "\n",
              "    .colab-df-convert:hover {\n",
              "      background-color: #E2EBFA;\n",
              "      box-shadow: 0px 1px 2px rgba(60, 64, 67, 0.3), 0px 1px 3px 1px rgba(60, 64, 67, 0.15);\n",
              "      fill: #174EA6;\n",
              "    }\n",
              "\n",
              "    [theme=dark] .colab-df-convert {\n",
              "      background-color: #3B4455;\n",
              "      fill: #D2E3FC;\n",
              "    }\n",
              "\n",
              "    [theme=dark] .colab-df-convert:hover {\n",
              "      background-color: #434B5C;\n",
              "      box-shadow: 0px 1px 3px 1px rgba(0, 0, 0, 0.15);\n",
              "      filter: drop-shadow(0px 1px 2px rgba(0, 0, 0, 0.3));\n",
              "      fill: #FFFFFF;\n",
              "    }\n",
              "  </style>\n",
              "\n",
              "      <script>\n",
              "        const buttonEl =\n",
              "          document.querySelector('#df-8da47239-1cfa-47af-9f79-f79149537021 button.colab-df-convert');\n",
              "        buttonEl.style.display =\n",
              "          google.colab.kernel.accessAllowed ? 'block' : 'none';\n",
              "\n",
              "        async function convertToInteractive(key) {\n",
              "          const element = document.querySelector('#df-8da47239-1cfa-47af-9f79-f79149537021');\n",
              "          const dataTable =\n",
              "            await google.colab.kernel.invokeFunction('convertToInteractive',\n",
              "                                                     [key], {});\n",
              "          if (!dataTable) return;\n",
              "\n",
              "          const docLinkHtml = 'Like what you see? Visit the ' +\n",
              "            '<a target=\"_blank\" href=https://colab.research.google.com/notebooks/data_table.ipynb>data table notebook</a>'\n",
              "            + ' to learn more about interactive tables.';\n",
              "          element.innerHTML = '';\n",
              "          dataTable['output_type'] = 'display_data';\n",
              "          await google.colab.output.renderOutput(dataTable, element);\n",
              "          const docLink = document.createElement('div');\n",
              "          docLink.innerHTML = docLinkHtml;\n",
              "          element.appendChild(docLink);\n",
              "        }\n",
              "      </script>\n",
              "    </div>\n",
              "  </div>\n",
              "  "
            ]
          },
          "metadata": {},
          "execution_count": 75
        }
      ]
    },
    {
      "cell_type": "code",
      "source": [
        "df.groupby(['nota_limpeza']).size()"
      ],
      "metadata": {
        "colab": {
          "base_uri": "https://localhost:8080/"
        },
        "id": "1JnPwIUja8El",
        "outputId": "1de36e37-dd65-471d-b742-5f49d9ca91ea"
      },
      "execution_count": null,
      "outputs": [
        {
          "output_type": "execute_result",
          "data": {
            "text/plain": [
              "nota_limpeza\n",
              "4       2\n",
              "5       1\n",
              "6       9\n",
              "7      11\n",
              "8      87\n",
              "9     334\n",
              "10    659\n",
              "dtype: int64"
            ]
          },
          "metadata": {},
          "execution_count": 76
        }
      ]
    },
    {
      "cell_type": "code",
      "source": [
        "df['nota_limpeza'].nunique()"
      ],
      "metadata": {
        "colab": {
          "base_uri": "https://localhost:8080/"
        },
        "id": "_vXYCzQZ4H83",
        "outputId": "a1517afb-5787-4740-e7be-dc8fe35b1099"
      },
      "execution_count": null,
      "outputs": [
        {
          "output_type": "execute_result",
          "data": {
            "text/plain": [
              "7"
            ]
          },
          "metadata": {},
          "execution_count": 77
        }
      ]
    },
    {
      "cell_type": "code",
      "source": [
        "#Verificando algumas estatísticas descritiva - média, desvio padrão, valor mínimo, valor máximo e quartis.\n",
        "df['nota_limpeza'].describe()"
      ],
      "metadata": {
        "colab": {
          "base_uri": "https://localhost:8080/"
        },
        "id": "hMAGjFEg4Yuw",
        "outputId": "967f06b0-fd0c-4fc7-b57b-8e6c2329046b"
      },
      "execution_count": null,
      "outputs": [
        {
          "output_type": "execute_result",
          "data": {
            "text/plain": [
              "count   1103.00\n",
              "mean       9.46\n",
              "std        0.80\n",
              "min        4.00\n",
              "25%        9.00\n",
              "50%       10.00\n",
              "75%       10.00\n",
              "max       10.00\n",
              "Name: nota_limpeza, dtype: float64"
            ]
          },
          "metadata": {},
          "execution_count": 78
        }
      ]
    },
    {
      "cell_type": "code",
      "source": [
        "# Plotagem do gráfico de barras\n",
        "valores = [9.46, 0.80, 4.00, 9.00, 10.00, 10.00, 10.00]\n",
        "\n",
        "# Rótulos para as estatísticas\n",
        "rotulos = ['Média', 'Desv. Padrão', 'Min', '1º Quartil', '2º Quartil', '3º Quartil', 'Max']\n",
        "plt.figure(figsize=(10, 6))\n",
        "plt.bar(rotulos, valores, color='#FF5A5F')\n",
        "\n",
        "# Configurações do gráfico\n",
        "plt.title('Medidas Descritivas - Nota de Limpeza')\n",
        "plt.ylabel('Notas')\n",
        "\n",
        "# Exibição do gráfico\n",
        "plt.show()"
      ],
      "metadata": {
        "colab": {
          "base_uri": "https://localhost:8080/",
          "height": 545
        },
        "id": "0PVDYvib5X_g",
        "outputId": "cc5f3ecb-4e21-489b-b826-58b652db49a0"
      },
      "execution_count": null,
      "outputs": [
        {
          "output_type": "display_data",
          "data": {
            "text/plain": [
              "<Figure size 1000x600 with 1 Axes>"
            ],
            "image/png": "[encoded data removed]"
          },
          "metadata": {}
        }
      ]
    },
    {
      "cell_type": "markdown",
      "source": [
        "# Análise geral do atributo satisfação"
      ],
      "metadata": {
        "id": "mQVTZfqV-hi9"
      }
    },
    {
      "cell_type": "code",
      "source": [
        "#Análise geral da coluna satisfacao\n",
        "df.groupby(['satisfacao']).size()"
      ],
      "metadata": {
        "colab": {
          "base_uri": "https://localhost:8080/"
        },
        "id": "kwQpzKDBbF_r",
        "outputId": "001edbad-6806-458c-8521-18165d24d9a8"
      },
      "execution_count": null,
      "outputs": [
        {
          "output_type": "execute_result",
          "data": {
            "text/plain": [
              "satisfacao\n",
              "20       1\n",
              "47       1\n",
              "60       3\n",
              "65       1\n",
              "70       1\n",
              "73       1\n",
              "74       1\n",
              "75       2\n",
              "76       1\n",
              "77       1\n",
              "78       3\n",
              "80      24\n",
              "81       3\n",
              "82       5\n",
              "83       6\n",
              "84      11\n",
              "85      13\n",
              "86      14\n",
              "87      21\n",
              "88      30\n",
              "89      20\n",
              "90      51\n",
              "91      30\n",
              "92      48\n",
              "93      67\n",
              "94      69\n",
              "95      82\n",
              "96     121\n",
              "97      95\n",
              "98     122\n",
              "99      65\n",
              "100    190\n",
              "dtype: int64"
            ]
          },
          "metadata": {},
          "execution_count": 80
        }
      ]
    },
    {
      "cell_type": "code",
      "source": [
        "#Verificando quantos valores únicos existem na coluna\n",
        "df['satisfacao'].nunique()"
      ],
      "metadata": {
        "colab": {
          "base_uri": "https://localhost:8080/"
        },
        "id": "rO8cFKyjkLVt",
        "outputId": "91b0577e-24f9-4309-e004-b48c85eaaf82"
      },
      "execution_count": null,
      "outputs": [
        {
          "output_type": "execute_result",
          "data": {
            "text/plain": [
              "32"
            ]
          },
          "metadata": {},
          "execution_count": 81
        }
      ]
    },
    {
      "cell_type": "code",
      "source": [
        "#Análise geral da coluna satifacao\n",
        "df['satisfacao'].describe()"
      ],
      "metadata": {
        "colab": {
          "base_uri": "https://localhost:8080/"
        },
        "id": "8_vYU2amj5LR",
        "outputId": "8b7c7cab-8717-4e68-f9b9-f098362bc423"
      },
      "execution_count": null,
      "outputs": [
        {
          "output_type": "execute_result",
          "data": {
            "text/plain": [
              "count   1103.00\n",
              "mean      94.36\n",
              "std        6.09\n",
              "min       20.00\n",
              "25%       92.00\n",
              "50%       96.00\n",
              "75%       98.00\n",
              "max      100.00\n",
              "Name: satisfacao, dtype: float64"
            ]
          },
          "metadata": {},
          "execution_count": 82
        }
      ]
    },
    {
      "cell_type": "code",
      "source": [
        "# Plotagem - gráfico de barras\n",
        "valores = [94.36, 6.09, 20.00, 92.00, 96.00, 98.00, 100.00]\n",
        "\n",
        "# Rótulos para as estatísticas\n",
        "rotulos = ['Média', 'Desv. Padrão', 'Min', '1º Quartil', '2º Quartil', '3º Quartil', 'Max']\n",
        "plt.figure(figsize=(10, 6))\n",
        "# Plotagem do gráfico de barras\n",
        "plt.bar(rotulos, valores, color='#FF5A5F')\n",
        "\n",
        "# Configurações do gráfico\n",
        "plt.title('Medidas Descritivas - Satisfação')\n",
        "plt.ylabel('Notas')\n",
        "\n",
        "# Exibição do gráfico\n",
        "plt.show()"
      ],
      "metadata": {
        "colab": {
          "base_uri": "https://localhost:8080/",
          "height": 545
        },
        "id": "Y7HxJe2K8PmY",
        "outputId": "cb47a880-3b02-4f16-b6f6-840ae534c829"
      },
      "execution_count": null,
      "outputs": [
        {
          "output_type": "display_data",
          "data": {
            "text/plain": [
              "<Figure size 1000x600 with 1 Axes>"
            ],
            "image/png": "[encoded data removed]"
          },
          "metadata": {}
        }
      ]
    },
    {
      "cell_type": "markdown",
      "source": [
        "# Análise geral do atributo quartos"
      ],
      "metadata": {
        "id": "XPo_vvZtkVV2"
      }
    },
    {
      "cell_type": "code",
      "source": [
        "#Verificando tamanho do atributo\n",
        "df.groupby(['quartos']).size()"
      ],
      "metadata": {
        "colab": {
          "base_uri": "https://localhost:8080/"
        },
        "id": "tHbNwzXHhGl6",
        "outputId": "2901eaf9-1879-4eb6-cb1a-783d13c5874e"
      },
      "execution_count": null,
      "outputs": [
        {
          "output_type": "execute_result",
          "data": {
            "text/plain": [
              "quartos\n",
              "0     83\n",
              "1    719\n",
              "2    218\n",
              "3     74\n",
              "4      7\n",
              "5      2\n",
              "dtype: int64"
            ]
          },
          "metadata": {},
          "execution_count": 84
        }
      ]
    },
    {
      "cell_type": "code",
      "source": [
        "#Verificando quantos valores únicos existem na coluna\n",
        "df['quartos'].nunique()"
      ],
      "metadata": {
        "colab": {
          "base_uri": "https://localhost:8080/"
        },
        "id": "CyoEfhLI-9SN",
        "outputId": "1ff59069-1743-46ac-eb1d-1c68cdf08488"
      },
      "execution_count": null,
      "outputs": [
        {
          "output_type": "execute_result",
          "data": {
            "text/plain": [
              "6"
            ]
          },
          "metadata": {},
          "execution_count": 85
        }
      ]
    },
    {
      "cell_type": "code",
      "source": [
        "#Verificando medidas estatísticas descritivas - média, desvio padrão, valor mínimo, valor máximo e quartis.\n",
        "df['quartos'].describe()"
      ],
      "metadata": {
        "colab": {
          "base_uri": "https://localhost:8080/"
        },
        "id": "vuaxDxzq_Nyv",
        "outputId": "b563d6b0-ef00-455c-f619-bae06563a5c2"
      },
      "execution_count": null,
      "outputs": [
        {
          "output_type": "execute_result",
          "data": {
            "text/plain": [
              "count   1103.00\n",
              "mean       1.28\n",
              "std        0.74\n",
              "min        0.00\n",
              "25%        1.00\n",
              "50%        1.00\n",
              "75%        2.00\n",
              "max        5.00\n",
              "Name: quartos, dtype: float64"
            ]
          },
          "metadata": {},
          "execution_count": 86
        }
      ]
    },
    {
      "cell_type": "code",
      "source": [
        "valores = [1.28, 0.74, 0.00, 1.00, 1.00, 2.00, 5.00]\n",
        "\n",
        "# Rótulos para as estatísticas\n",
        "rotulos = ['Média', 'Desv. Padrão', 'Min', '1º Quartil', '2º Quartil', '3º Quartil', 'Max']\n",
        "plt.figure(figsize=(10, 6))\n",
        "# Plotagem do gráfico de barras\n",
        "plt.bar(rotulos, valores, color='#FF5A5F')\n",
        "\n",
        "# Configurações do gráfico\n",
        "plt.title('Medidas Descritivas - Satisfação')\n",
        "plt.ylabel('Número de quartos')\n",
        "\n",
        "# Exibição do gráfico\n",
        "plt.show()"
      ],
      "metadata": {
        "colab": {
          "base_uri": "https://localhost:8080/",
          "height": 545
        },
        "id": "NqO5hmDY_Z4t",
        "outputId": "bf363caa-3fe0-46c7-e603-34726c6f3d37"
      },
      "execution_count": null,
      "outputs": [
        {
          "output_type": "display_data",
          "data": {
            "text/plain": [
              "<Figure size 1000x600 with 1 Axes>"
            ],
            "image/png": "[encoded data removed]"
          },
          "metadata": {}
        }
      ]
    },
    {
      "cell_type": "markdown",
      "source": [
        "# Análise geral do distância centro"
      ],
      "metadata": {
        "id": "AvIuNcivAXTm"
      }
    },
    {
      "cell_type": "code",
      "source": [
        "#Verificando tamanho do atributo\n",
        "df.groupby(['distancia_centro']).size()"
      ],
      "metadata": {
        "colab": {
          "base_uri": "https://localhost:8080/"
        },
        "id": "cETyN_jsiW3H",
        "outputId": "9aa86cac-1fc0-4de9-ecf7-71b6da6ff483"
      },
      "execution_count": null,
      "outputs": [
        {
          "output_type": "execute_result",
          "data": {
            "text/plain": [
              "distancia_centro\n",
              "0.02     1\n",
              "0.10     1\n",
              "0.11     1\n",
              "0.12     1\n",
              "0.14     1\n",
              "        ..\n",
              "10.90    1\n",
              "10.97    1\n",
              "11.04    1\n",
              "11.04    1\n",
              "11.19    1\n",
              "Length: 1103, dtype: int64"
            ]
          },
          "metadata": {},
          "execution_count": 88
        }
      ]
    },
    {
      "cell_type": "code",
      "source": [
        "#Verificando quantos valores únicos existem na coluna\n",
        "df['distancia_centro'].nunique()"
      ],
      "metadata": {
        "colab": {
          "base_uri": "https://localhost:8080/"
        },
        "id": "9Asfh-ULAeqh",
        "outputId": "398684da-dc0d-43f5-a79e-94eefcaa6a32"
      },
      "execution_count": null,
      "outputs": [
        {
          "output_type": "execute_result",
          "data": {
            "text/plain": [
              "1103"
            ]
          },
          "metadata": {},
          "execution_count": 89
        }
      ]
    },
    {
      "cell_type": "code",
      "source": [
        "df['distancia_centro'].describe()"
      ],
      "metadata": {
        "colab": {
          "base_uri": "https://localhost:8080/"
        },
        "id": "Uf_wv5UZBq61",
        "outputId": "3990870b-51e3-4dbc-f8dd-7a5abcac8228"
      },
      "execution_count": null,
      "outputs": [
        {
          "output_type": "execute_result",
          "data": {
            "text/plain": [
              "count   1103.00\n",
              "mean       2.84\n",
              "std        2.12\n",
              "min        0.02\n",
              "25%        1.30\n",
              "50%        2.34\n",
              "75%        3.65\n",
              "max       11.19\n",
              "Name: distancia_centro, dtype: float64"
            ]
          },
          "metadata": {},
          "execution_count": 208
        }
      ]
    },
    {
      "cell_type": "code",
      "source": [
        "# Plotagem - gráfico de barras\n",
        "valores = [2.84, 2.12, 0.02, 1.30, 2.34, 3.65, 11.19]\n",
        "\n",
        "# Rótulos para as estatísticas\n",
        "rotulos = ['Média', 'Desv. Padrão', 'Min', '1º Quartil', '2º Quartil', '3º Quartil', 'Max']\n",
        "\n",
        "plt.bar(rotulos, valores, color='#FF5A5F')\n",
        "\n",
        "# Configurações do gráfico\n",
        "plt.title('Medidas Descritivas - Distância ao Centro')\n",
        "plt.ylabel('Distâncias para o centro da cidade em km')\n",
        "\n",
        "# Exibição do gráfico\n",
        "plt.show()"
      ],
      "metadata": {
        "colab": {
          "base_uri": "https://localhost:8080/",
          "height": 452
        },
        "id": "r6wUrEprDYl4",
        "outputId": "62f38ac2-c832-480f-e828-68efb9a2f058"
      },
      "execution_count": null,
      "outputs": [
        {
          "output_type": "display_data",
          "data": {
            "text/plain": [
              "<Figure size 640x480 with 1 Axes>"
            ],
            "image/png": "[encoded data removed]"
          },
          "metadata": {}
        }
      ]
    },
    {
      "cell_type": "markdown",
      "source": [
        "# Análise geral do atributo distância metrô"
      ],
      "metadata": {
        "id": "q41IuMZxFIBk"
      }
    },
    {
      "cell_type": "code",
      "source": [
        "#Verificando tamanho do atributo\n",
        "df.groupby(['distancia_metrô']).size()"
      ],
      "metadata": {
        "colab": {
          "base_uri": "https://localhost:8080/"
        },
        "id": "kyUI7Y-fii2G",
        "outputId": "cb7d413a-9e6f-4dc6-db98-ed2021f6f666"
      },
      "execution_count": null,
      "outputs": [
        {
          "output_type": "execute_result",
          "data": {
            "text/plain": [
              "distancia_metrô\n",
              "0.04    1\n",
              "0.04    1\n",
              "0.05    1\n",
              "0.05    1\n",
              "0.05    1\n",
              "       ..\n",
              "4.03    1\n",
              "4.10    1\n",
              "4.14    1\n",
              "4.14    1\n",
              "4.41    1\n",
              "Length: 1103, dtype: int64"
            ]
          },
          "metadata": {},
          "execution_count": 91
        }
      ]
    },
    {
      "cell_type": "code",
      "source": [
        "#Verificando quantos valores únicos existem na coluna\n",
        "df['distancia_metrô'].nunique()"
      ],
      "metadata": {
        "colab": {
          "base_uri": "https://localhost:8080/"
        },
        "id": "mFN4MoURFGmr",
        "outputId": "4a08f6ec-1aca-4ca5-f61b-d3fbf48d9728"
      },
      "execution_count": null,
      "outputs": [
        {
          "output_type": "execute_result",
          "data": {
            "text/plain": [
              "1103"
            ]
          },
          "metadata": {},
          "execution_count": 92
        }
      ]
    },
    {
      "cell_type": "code",
      "source": [
        "#Verificando medidas estatísticas descritivas - média, desvio padrão, valor mínimo, valor máximo e quartis.\n",
        "df['distancia_metrô'].describe()"
      ],
      "metadata": {
        "colab": {
          "base_uri": "https://localhost:8080/"
        },
        "id": "F6pkvsw3GI34",
        "outputId": "fb82a3df-521f-4c72-da2e-ff185cc90c39"
      },
      "execution_count": null,
      "outputs": [
        {
          "output_type": "execute_result",
          "data": {
            "text/plain": [
              "count   1103.00\n",
              "mean       1.09\n",
              "std        0.84\n",
              "min        0.04\n",
              "25%        0.46\n",
              "50%        0.86\n",
              "75%        1.51\n",
              "max        4.41\n",
              "Name: distancia_metrô, dtype: float64"
            ]
          },
          "metadata": {},
          "execution_count": 93
        }
      ]
    },
    {
      "cell_type": "code",
      "source": [
        "# Plotagem - gráfico de barras\n",
        "valores = [1.09, 0.84, 0.04, 0.46, 0.86, 1.51, 4.41]\n",
        "\n",
        "# Rótulos para as estatísticas\n",
        "rotulos = ['Média', 'Desv. Padrão', 'Min', '1º Quartil', '2º Quartil', '3º Quartil', 'Max']\n",
        "plt.figure(figsize=(9, 6))\n",
        "\n",
        "plt.bar(rotulos, valores, color='#FF5A5F')\n",
        "\n",
        "# Configurações do gráfico\n",
        "plt.title('Medidas Descritivas - Distância do Metrô')\n",
        "plt.ylabel('Distâncias para o metrô em km')\n",
        "\n",
        "# Exibição do gráfico\n",
        "plt.show()"
      ],
      "metadata": {
        "colab": {
          "base_uri": "https://localhost:8080/",
          "height": 545
        },
        "id": "zxbNMu9qGPfo",
        "outputId": "72866ea9-bb6e-49e2-ec28-46805dd9ee81"
      },
      "execution_count": null,
      "outputs": [
        {
          "output_type": "display_data",
          "data": {
            "text/plain": [
              "<Figure size 900x600 with 1 Axes>"
            ],
            "image/png": "[encoded data removed]"
          },
          "metadata": {}
        }
      ]
    },
    {
      "cell_type": "markdown",
      "source": [
        "# Análise geral do atributo índice de atração do local do anúncio"
      ],
      "metadata": {
        "id": "G4TrcjQKHM95"
      }
    },
    {
      "cell_type": "code",
      "source": [
        "#Verificando tamanho do atributo\n",
        "df.groupby(['índice de atração do local do anúncio']).size()"
      ],
      "metadata": {
        "colab": {
          "base_uri": "https://localhost:8080/"
        },
        "id": "WPeYLZHB3Ad2",
        "outputId": "3ff4a302-30b4-4088-d45e-fa84af521802"
      },
      "execution_count": null,
      "outputs": [
        {
          "output_type": "execute_result",
          "data": {
            "text/plain": [
              "índice de atração do local do anúncio\n",
              "40.93      1\n",
              "41.28      1\n",
              "41.35      1\n",
              "41.64      1\n",
              "42.01      1\n",
              "          ..\n",
              "1171.70    1\n",
              "1238.47    1\n",
              "1502.55    1\n",
              "1861.00    1\n",
              "1888.55    1\n",
              "Length: 1103, dtype: int64"
            ]
          },
          "metadata": {},
          "execution_count": 95
        }
      ]
    },
    {
      "cell_type": "code",
      "source": [
        "#Verificando quantos valores únicos existem na coluna\n",
        "df['índice de atração do local do anúncio'].nunique()"
      ],
      "metadata": {
        "colab": {
          "base_uri": "https://localhost:8080/"
        },
        "id": "0y-NZlyk3lvV",
        "outputId": "047f534b-abbb-4b15-d163-561650691143"
      },
      "execution_count": null,
      "outputs": [
        {
          "output_type": "execute_result",
          "data": {
            "text/plain": [
              "1103"
            ]
          },
          "metadata": {},
          "execution_count": 96
        }
      ]
    },
    {
      "cell_type": "code",
      "source": [
        "#Verificando medidas estatísticas descritivas - média, desvio padrão, valor mínimo, valor máximo e quartis.\n",
        "df['índice de atração do local do anúncio'].describe()"
      ],
      "metadata": {
        "colab": {
          "base_uri": "https://localhost:8080/"
        },
        "id": "fE5S8wGP37s9",
        "outputId": "b2079bc4-2a22-47d0-f2cf-27a1351f904b"
      },
      "execution_count": null,
      "outputs": [
        {
          "output_type": "execute_result",
          "data": {
            "text/plain": [
              "count   1103.00\n",
              "mean     271.01\n",
              "std      197.05\n",
              "min       40.93\n",
              "25%      127.91\n",
              "50%      208.18\n",
              "75%      386.44\n",
              "max     1888.55\n",
              "Name: índice de atração do local do anúncio, dtype: float64"
            ]
          },
          "metadata": {},
          "execution_count": 97
        }
      ]
    },
    {
      "cell_type": "code",
      "source": [
        "# Plotagem - gráfico de barras\n",
        "valores = [271.01, 197.05, 40.93, 127.91, 208.18, 386.44, 1888.55]\n",
        "\n",
        "# Rótulos para as estatísticas\n",
        "rotulos = ['Média', 'Desv. Padrão', 'Min', '1º Quartil', '2º Quartil', '3º Quartil', 'Max']\n",
        "plt.figure(figsize=(9, 6))\n",
        "plt.bar(rotulos, valores, color='#FF5A5F')\n",
        "\n",
        "# Configurações do gráfico\n",
        "plt.title('Índice de atração do local do anúncio')\n",
        "plt.ylabel('Notas')\n",
        "\n",
        "# Exibição do gráfico\n",
        "plt.show()"
      ],
      "metadata": {
        "colab": {
          "base_uri": "https://localhost:8080/",
          "height": 547
        },
        "id": "QFY6i6QMIMEi",
        "outputId": "07450772-d5fe-4a0c-8ee4-69a31135eb5a"
      },
      "execution_count": null,
      "outputs": [
        {
          "output_type": "display_data",
          "data": {
            "text/plain": [
              "<Figure size 900x600 with 1 Axes>"
            ],
            "image/png": "[encoded data removed]"
          },
          "metadata": {}
        }
      ]
    },
    {
      "cell_type": "markdown",
      "source": [
        "# Análise geral do atributo índice de restaurantes do local do anúncio"
      ],
      "metadata": {
        "id": "hlGI6CwLJJZq"
      }
    },
    {
      "cell_type": "code",
      "source": [
        "#Verificando tamanho do atributo\n",
        "df.groupby(['índice de restaurantes do local do anúncio']).size()"
      ],
      "metadata": {
        "colab": {
          "base_uri": "https://localhost:8080/"
        },
        "id": "BwCE8yUvJToV",
        "outputId": "bddb14ab-a2c6-47d7-f58d-7b619bce2de8"
      },
      "execution_count": null,
      "outputs": [
        {
          "output_type": "execute_result",
          "data": {
            "text/plain": [
              "índice de restaurantes do local do anúncio\n",
              "50.88      1\n",
              "51.29      1\n",
              "51.39      1\n",
              "51.80      1\n",
              "52.24      1\n",
              "          ..\n",
              "1077.01    1\n",
              "1144.94    1\n",
              "1147.15    1\n",
              "1402.15    1\n",
              "1435.10    1\n",
              "Length: 1103, dtype: int64"
            ]
          },
          "metadata": {},
          "execution_count": 99
        }
      ]
    },
    {
      "cell_type": "code",
      "source": [
        "#Verificando quantos valores únicos existem na coluna\n",
        "df['índice de restaurantes do local do anúncio'].nunique()"
      ],
      "metadata": {
        "colab": {
          "base_uri": "https://localhost:8080/"
        },
        "id": "T67RoFLOJdrs",
        "outputId": "a8cf4ad3-117a-4bbf-d5e9-bd1c2682da28"
      },
      "execution_count": null,
      "outputs": [
        {
          "output_type": "execute_result",
          "data": {
            "text/plain": [
              "1103"
            ]
          },
          "metadata": {},
          "execution_count": 100
        }
      ]
    },
    {
      "cell_type": "code",
      "source": [
        "#Verificando medidas estatísticas descritivas - média, desvio padrão, valor mínimo, valor máximo e quartis.\n",
        "df['índice de restaurantes do local do anúncio'].describe()"
      ],
      "metadata": {
        "colab": {
          "base_uri": "https://localhost:8080/"
        },
        "id": "mRxlIl6rJh80",
        "outputId": "e7476cfb-3b61-4a99-b13e-10ce1a83a9c9"
      },
      "execution_count": null,
      "outputs": [
        {
          "output_type": "execute_result",
          "data": {
            "text/plain": [
              "count   1103.00\n",
              "mean     341.54\n",
              "std      236.61\n",
              "min       50.88\n",
              "25%      163.47\n",
              "50%      260.26\n",
              "75%      469.29\n",
              "max     1435.10\n",
              "Name: índice de restaurantes do local do anúncio, dtype: float64"
            ]
          },
          "metadata": {},
          "execution_count": 101
        }
      ]
    },
    {
      "cell_type": "code",
      "source": [
        "# Plotagem do gráfico de barras\n",
        "valores = [341.54, 236.61,50.88, 163.47, 260.26, 469.29, 1435.10]\n",
        "\n",
        "# Rótulos para as estatísticas\n",
        "rotulos = ['Média', 'Desv. Padrão', 'Min', '1º Quartil', '2º Quartil', '3º Quartil', 'Max']\n",
        "plt.figure(figsize=(9, 6))\n",
        "\n",
        "plt.bar(rotulos, valores, color='#FF5A5F')\n",
        "\n",
        "# Configurações do gráfico\n",
        "plt.title('índice de restaurantes')\n",
        "\n",
        "plt.ylabel('Notas')\n",
        "\n",
        "# Exibição do gráfico\n",
        "plt.show()"
      ],
      "metadata": {
        "colab": {
          "base_uri": "https://localhost:8080/",
          "height": 545
        },
        "id": "QYrb0R8bJ3dk",
        "outputId": "d7a2c2bc-8d3f-4088-f557-6d8af7cca07f"
      },
      "execution_count": null,
      "outputs": [
        {
          "output_type": "display_data",
          "data": {
            "text/plain": [
              "<Figure size 900x600 with 1 Axes>"
            ],
            "image/png": "[encoded data removed]"
          },
          "metadata": {}
        }
      ]
    },
    {
      "cell_type": "markdown",
      "source": [
        "# **Encontrando relações entre os atributos**"
      ],
      "metadata": {
        "id": "a569m6XEwWLB"
      }
    },
    {
      "cell_type": "code",
      "source": [
        "#Verificando Dataframe\n",
        "df.sample (9)"
      ],
      "metadata": {
        "colab": {
          "base_uri": "https://localhost:8080/",
          "height": 462
        },
        "id": "t06nOXrTBRYO",
        "outputId": "1c4fb397-558a-4caf-82ff-7e8c9367f8a1"
      },
      "execution_count": null,
      "outputs": [
        {
          "output_type": "execute_result",
          "data": {
            "text/plain": [
              "      preço_total       tipo_quarto  quarto_privativo  Superhost  \\\n",
              "718        251.92    Quarto privado              True      False   \n",
              "684        374.94    Quarto privado              True      False   \n",
              "315        399.32  Apt/casa inteira             False      False   \n",
              "356        399.55  Apt/casa inteira             False      False   \n",
              "555        221.45    Quarto privado              True      False   \n",
              "1072       847.84    Quarto privado              True       True   \n",
              "757        589.83  Apt/casa inteira             False      False   \n",
              "163        292.46    Quarto privado              True       True   \n",
              "354        436.11  Apt/casa inteira             False      False   \n",
              "\n",
              "      nota_limpeza  satisfacao  quartos  distancia_centro  distancia_metrô  \\\n",
              "718              8          85        1              2.53             0.34   \n",
              "684              9          92        1              0.30             0.24   \n",
              "315             10          98        1              2.75             1.65   \n",
              "356             10          96        2              1.99             1.92   \n",
              "555             10          92        1             10.15             1.11   \n",
              "1072            10         100        1              1.57             0.67   \n",
              "757             10         100        1              1.45             1.53   \n",
              "163              9          87        1              4.72             0.73   \n",
              "354             10          95        0              3.39             0.44   \n",
              "\n",
              "      índice de atração do local do anúncio  \\\n",
              "718                                  268.85   \n",
              "684                                  737.81   \n",
              "315                                  157.96   \n",
              "356                                  225.30   \n",
              "555                                   44.77   \n",
              "1072                                 642.43   \n",
              "757                                  253.23   \n",
              "163                                  112.56   \n",
              "354                                  130.10   \n",
              "\n",
              "      índice de restaurantes do local do anúncio  \n",
              "718                                       353.79  \n",
              "684                                       759.78  \n",
              "315                                       201.00  \n",
              "356                                       281.90  \n",
              "555                                        55.78  \n",
              "1072                                      621.73  \n",
              "757                                       323.50  \n",
              "163                                       138.73  \n",
              "354                                       163.59  "
            ],
            "text/html": [
              "\n",
              "  <div id=\"df-57e56c41-2958-4dda-8c7c-f3a643afe897\">\n",
              "    <div class=\"colab-df-container\">\n",
              "      <div>\n",
              "<style scoped>\n",
              "    .dataframe tbody tr th:only-of-type {\n",
              "        vertical-align: middle;\n",
              "    }\n",
              "\n",
              "    .dataframe tbody tr th {\n",
              "        vertical-align: top;\n",
              "    }\n",
              "\n",
              "    .dataframe thead th {\n",
              "        text-align: right;\n",
              "    }\n",
              "</style>\n",
              "<table border=\"1\" class=\"dataframe\">\n",
              "  <thead>\n",
              "    <tr style=\"text-align: right;\">\n",
              "      <th></th>\n",
              "      <th>preço_total</th>\n",
              "      <th>tipo_quarto</th>\n",
              "      <th>quarto_privativo</th>\n",
              "      <th>Superhost</th>\n",
              "      <th>nota_limpeza</th>\n",
              "      <th>satisfacao</th>\n",
              "      <th>quartos</th>\n",
              "      <th>distancia_centro</th>\n",
              "      <th>distancia_metrô</th>\n",
              "      <th>índice de atração do local do anúncio</th>\n",
              "      <th>índice de restaurantes do local do anúncio</th>\n",
              "    </tr>\n",
              "  </thead>\n",
              "  <tbody>\n",
              "    <tr>\n",
              "      <th>718</th>\n",
              "      <td>251.92</td>\n",
              "      <td>Quarto privado</td>\n",
              "      <td>True</td>\n",
              "      <td>False</td>\n",
              "      <td>8</td>\n",
              "      <td>85</td>\n",
              "      <td>1</td>\n",
              "      <td>2.53</td>\n",
              "      <td>0.34</td>\n",
              "      <td>268.85</td>\n",
              "      <td>353.79</td>\n",
              "    </tr>\n",
              "    <tr>\n",
              "      <th>684</th>\n",
              "      <td>374.94</td>\n",
              "      <td>Quarto privado</td>\n",
              "      <td>True</td>\n",
              "      <td>False</td>\n",
              "      <td>9</td>\n",
              "      <td>92</td>\n",
              "      <td>1</td>\n",
              "      <td>0.30</td>\n",
              "      <td>0.24</td>\n",
              "      <td>737.81</td>\n",
              "      <td>759.78</td>\n",
              "    </tr>\n",
              "    <tr>\n",
              "      <th>315</th>\n",
              "      <td>399.32</td>\n",
              "      <td>Apt/casa inteira</td>\n",
              "      <td>False</td>\n",
              "      <td>False</td>\n",
              "      <td>10</td>\n",
              "      <td>98</td>\n",
              "      <td>1</td>\n",
              "      <td>2.75</td>\n",
              "      <td>1.65</td>\n",
              "      <td>157.96</td>\n",
              "      <td>201.00</td>\n",
              "    </tr>\n",
              "    <tr>\n",
              "      <th>356</th>\n",
              "      <td>399.55</td>\n",
              "      <td>Apt/casa inteira</td>\n",
              "      <td>False</td>\n",
              "      <td>False</td>\n",
              "      <td>10</td>\n",
              "      <td>96</td>\n",
              "      <td>2</td>\n",
              "      <td>1.99</td>\n",
              "      <td>1.92</td>\n",
              "      <td>225.30</td>\n",
              "      <td>281.90</td>\n",
              "    </tr>\n",
              "    <tr>\n",
              "      <th>555</th>\n",
              "      <td>221.45</td>\n",
              "      <td>Quarto privado</td>\n",
              "      <td>True</td>\n",
              "      <td>False</td>\n",
              "      <td>10</td>\n",
              "      <td>92</td>\n",
              "      <td>1</td>\n",
              "      <td>10.15</td>\n",
              "      <td>1.11</td>\n",
              "      <td>44.77</td>\n",
              "      <td>55.78</td>\n",
              "    </tr>\n",
              "    <tr>\n",
              "      <th>1072</th>\n",
              "      <td>847.84</td>\n",
              "      <td>Quarto privado</td>\n",
              "      <td>True</td>\n",
              "      <td>True</td>\n",
              "      <td>10</td>\n",
              "      <td>100</td>\n",
              "      <td>1</td>\n",
              "      <td>1.57</td>\n",
              "      <td>0.67</td>\n",
              "      <td>642.43</td>\n",
              "      <td>621.73</td>\n",
              "    </tr>\n",
              "    <tr>\n",
              "      <th>757</th>\n",
              "      <td>589.83</td>\n",
              "      <td>Apt/casa inteira</td>\n",
              "      <td>False</td>\n",
              "      <td>False</td>\n",
              "      <td>10</td>\n",
              "      <td>100</td>\n",
              "      <td>1</td>\n",
              "      <td>1.45</td>\n",
              "      <td>1.53</td>\n",
              "      <td>253.23</td>\n",
              "      <td>323.50</td>\n",
              "    </tr>\n",
              "    <tr>\n",
              "      <th>163</th>\n",
              "      <td>292.46</td>\n",
              "      <td>Quarto privado</td>\n",
              "      <td>True</td>\n",
              "      <td>True</td>\n",
              "      <td>9</td>\n",
              "      <td>87</td>\n",
              "      <td>1</td>\n",
              "      <td>4.72</td>\n",
              "      <td>0.73</td>\n",
              "      <td>112.56</td>\n",
              "      <td>138.73</td>\n",
              "    </tr>\n",
              "    <tr>\n",
              "      <th>354</th>\n",
              "      <td>436.11</td>\n",
              "      <td>Apt/casa inteira</td>\n",
              "      <td>False</td>\n",
              "      <td>False</td>\n",
              "      <td>10</td>\n",
              "      <td>95</td>\n",
              "      <td>0</td>\n",
              "      <td>3.39</td>\n",
              "      <td>0.44</td>\n",
              "      <td>130.10</td>\n",
              "      <td>163.59</td>\n",
              "    </tr>\n",
              "  </tbody>\n",
              "</table>\n",
              "</div>\n",
              "      <button class=\"colab-df-convert\" onclick=\"convertToInteractive('df-57e56c41-2958-4dda-8c7c-f3a643afe897')\"\n",
              "              title=\"Convert this dataframe to an interactive table.\"\n",
              "              style=\"display:none;\">\n",
              "        \n",
              "  <svg xmlns=\"http://www.w3.org/2000/svg\" height=\"24px\"viewBox=\"0 0 24 24\"\n",
              "       width=\"24px\">\n",
              "    <path d=\"M0 0h24v24H0V0z\" fill=\"none\"/>\n",
              "    <path d=\"M18.56 5.44l.94 2.06.94-2.06 2.06-.94-2.06-.94-.94-2.06-.94 2.06-2.06.94zm-11 1L8.5 8.5l.94-2.06 2.06-.94-2.06-.94L8.5 2.5l-.94 2.06-2.06.94zm10 10l.94 2.06.94-2.06 2.06-.94-2.06-.94-.94-2.06-.94 2.06-2.06.94z\"/><path d=\"M17.41 7.96l-1.37-1.37c-.4-.4-.92-.59-1.43-.59-.52 0-1.04.2-1.43.59L10.3 9.45l-7.72 7.72c-.78.78-.78 2.05 0 2.83L4 21.41c.39.39.9.59 1.41.59.51 0 1.02-.2 1.41-.59l7.78-7.78 2.81-2.81c.8-.78.8-2.07 0-2.86zM5.41 20L4 18.59l7.72-7.72 1.47 1.35L5.41 20z\"/>\n",
              "  </svg>\n",
              "      </button>\n",
              "      \n",
              "  <style>\n",
              "    .colab-df-container {\n",
              "      display:flex;\n",
              "      flex-wrap:wrap;\n",
              "      gap: 12px;\n",
              "    }\n",
              "\n",
              "    .colab-df-convert {\n",
              "      background-color: #E8F0FE;\n",
              "      border: none;\n",
              "      border-radius: 50%;\n",
              "      cursor: pointer;\n",
              "      display: none;\n",
              "      fill: #1967D2;\n",
              "      height: 32px;\n",
              "      padding: 0 0 0 0;\n",
              "      width: 32px;\n",
              "    }\n",
              "\n",
              "    .colab-df-convert:hover {\n",
              "      background-color: #E2EBFA;\n",
              "      box-shadow: 0px 1px 2px rgba(60, 64, 67, 0.3), 0px 1px 3px 1px rgba(60, 64, 67, 0.15);\n",
              "      fill: #174EA6;\n",
              "    }\n",
              "\n",
              "    [theme=dark] .colab-df-convert {\n",
              "      background-color: #3B4455;\n",
              "      fill: #D2E3FC;\n",
              "    }\n",
              "\n",
              "    [theme=dark] .colab-df-convert:hover {\n",
              "      background-color: #434B5C;\n",
              "      box-shadow: 0px 1px 3px 1px rgba(0, 0, 0, 0.15);\n",
              "      filter: drop-shadow(0px 1px 2px rgba(0, 0, 0, 0.3));\n",
              "      fill: #FFFFFF;\n",
              "    }\n",
              "  </style>\n",
              "\n",
              "      <script>\n",
              "        const buttonEl =\n",
              "          document.querySelector('#df-57e56c41-2958-4dda-8c7c-f3a643afe897 button.colab-df-convert');\n",
              "        buttonEl.style.display =\n",
              "          google.colab.kernel.accessAllowed ? 'block' : 'none';\n",
              "\n",
              "        async function convertToInteractive(key) {\n",
              "          const element = document.querySelector('#df-57e56c41-2958-4dda-8c7c-f3a643afe897');\n",
              "          const dataTable =\n",
              "            await google.colab.kernel.invokeFunction('convertToInteractive',\n",
              "                                                     [key], {});\n",
              "          if (!dataTable) return;\n",
              "\n",
              "          const docLinkHtml = 'Like what you see? Visit the ' +\n",
              "            '<a target=\"_blank\" href=https://colab.research.google.com/notebooks/data_table.ipynb>data table notebook</a>'\n",
              "            + ' to learn more about interactive tables.';\n",
              "          element.innerHTML = '';\n",
              "          dataTable['output_type'] = 'display_data';\n",
              "          await google.colab.output.renderOutput(dataTable, element);\n",
              "          const docLink = document.createElement('div');\n",
              "          docLink.innerHTML = docLinkHtml;\n",
              "          element.appendChild(docLink);\n",
              "        }\n",
              "      </script>\n",
              "    </div>\n",
              "  </div>\n",
              "  "
            ]
          },
          "metadata": {},
          "execution_count": 103
        }
      ]
    },
    {
      "cell_type": "markdown",
      "source": [
        "**Relação entre os atributos Preço Total e Satisfação**"
      ],
      "metadata": {
        "id": "dYGDudkcBI0T"
      }
    },
    {
      "cell_type": "code",
      "source": [
        "#criação de filtro\n",
        "filtro = (df['satisfacao'] >= 90) & (df['distancia_centro'] <= 1) & (df['distancia_metrô'] <= 0.5) & (df['Superhost'] == True) & (df['preço_total'] >= 400)\n",
        "df_filtrado = df[filtro]"
      ],
      "metadata": {
        "id": "ABqntcvApSWD"
      },
      "execution_count": null,
      "outputs": []
    },
    {
      "cell_type": "code",
      "source": [
        "# Gráfico de dispersão para visualizar a relação entre a satisfação e o preço total\n",
        "plt.scatter(df_filtrado['preço_total'], df_filtrado['satisfacao'], color='#FF5A5F')\n",
        "plt.title('Relação entre Preço Total e Satisfação')\n",
        "plt.xlabel('Preço Total')\n",
        "plt.ylabel('Satisfação')\n",
        "plt.show()"
      ],
      "metadata": {
        "colab": {
          "base_uri": "https://localhost:8080/",
          "height": 472
        },
        "id": "FekB9ZgFppX7",
        "outputId": "70119803-1d1a-4b52-e31d-94f5da29f29e"
      },
      "execution_count": null,
      "outputs": [
        {
          "output_type": "display_data",
          "data": {
            "text/plain": [
              "<Figure size 640x480 with 1 Axes>"
            ],
            "image/png": "[encoded data removed]"
          },
          "metadata": {}
        }
      ]
    },
    {
      "cell_type": "markdown",
      "source": [
        "**Relação entre os atributos Preço Total e distância do Metrô**"
      ],
      "metadata": {
        "id": "41d4PqnZBmI0"
      }
    },
    {
      "cell_type": "code",
      "source": [
        "# Gráfico de dispersão para visualizar a relação entre a distância ao centro e a distância ao metrô\n",
        "plt.scatter(df_filtrado['preço_total'], df_filtrado['distancia_metrô'], color='#00A699')\n",
        "plt.title('Relação entre Preço Total e distância do Metrô')\n",
        "plt.xlabel('Preço total')\n",
        "plt.ylabel('Distância ao metrô')\n",
        "plt.show()"
      ],
      "metadata": {
        "colab": {
          "base_uri": "https://localhost:8080/",
          "height": 472
        },
        "id": "J-mxkdADBiUf",
        "outputId": "4b4133e2-c276-4ba9-aad9-c3c9021b9842"
      },
      "execution_count": null,
      "outputs": [
        {
          "output_type": "display_data",
          "data": {
            "text/plain": [
              "<Figure size 640x480 with 1 Axes>"
            ],
            "image/png": "[encoded data removed]"
          },
          "metadata": {}
        }
      ]
    },
    {
      "cell_type": "markdown",
      "source": [
        "**Relação entre os atributos Preço Total e distância do centro**"
      ],
      "metadata": {
        "id": "MLKGNp7bB7ya"
      }
    },
    {
      "cell_type": "code",
      "source": [
        "# Gráfico de dispersão para visualizar a relação entre a distância ao centro e a distância ao metrô\n",
        "plt.scatter(df_filtrado['preço_total'], df_filtrado['distancia_centro'], color='#FF5A5F')\n",
        "plt.title('Relação entre Preço Total e distância do centro')\n",
        "plt.xlabel('Preço total')\n",
        "plt.ylabel('Distância do centro')\n",
        "plt.show()"
      ],
      "metadata": {
        "colab": {
          "base_uri": "https://localhost:8080/",
          "height": 472
        },
        "id": "LSbJ8bq6B4zR",
        "outputId": "462e6fd6-d1bb-458f-dbbf-73770898a797"
      },
      "execution_count": null,
      "outputs": [
        {
          "output_type": "display_data",
          "data": {
            "text/plain": [
              "<Figure size 640x480 with 1 Axes>"
            ],
            "image/png": "[encoded data removed]"
          },
          "metadata": {}
        }
      ]
    },
    {
      "cell_type": "markdown",
      "source": [
        " **Relação entre os atributos Satisfação e Nota_limpeza**"
      ],
      "metadata": {
        "id": "pYgWujr6ClJl"
      }
    },
    {
      "cell_type": "code",
      "source": [
        "# Medias das notas de limpeza\n",
        "df['nota_limpeza'].mean()"
      ],
      "metadata": {
        "colab": {
          "base_uri": "https://localhost:8080/"
        },
        "id": "Ov62mWLjTA_l",
        "outputId": "b72059d5-8e8d-4151-921f-8f3b6810f0d7"
      },
      "execution_count": null,
      "outputs": [
        {
          "output_type": "execute_result",
          "data": {
            "text/plain": [
              "9.461468721668178"
            ]
          },
          "metadata": {},
          "execution_count": 108
        }
      ]
    },
    {
      "cell_type": "code",
      "source": [
        "#criação de filtro\n",
        "filtro2 = (df['satisfacao'] >= 90) & (df['nota_limpeza'] <= 9) #& (df['distancia_metrô'] <= 0.5) & (df['Superhost'] == True) & (df['preço_total'] >= 400)\n",
        "df_filtrado2 = df[filtro2]"
      ],
      "metadata": {
        "id": "Q2KJlnNxHBOE"
      },
      "execution_count": null,
      "outputs": []
    },
    {
      "cell_type": "code",
      "source": [
        "# Gráfico de dispersão para visualizar a relação entre a satisfação e nota de limpeza\n",
        "plt.scatter(df['satisfacao'], df['nota_limpeza'], color='#00A699')\n",
        "\n",
        "# Configurações do gráfico\n",
        "plt.title('Dispersão entre Satisfação e Nota de Limpeza')\n",
        "plt.xlabel('Satisfação')\n",
        "plt.ylabel('Nota de Limpeza')\n",
        "\n",
        "# Exibição do gráfico\n",
        "plt.show()"
      ],
      "metadata": {
        "colab": {
          "base_uri": "https://localhost:8080/",
          "height": 472
        },
        "id": "GyBAKHsBR289",
        "outputId": "35bfb0b6-f948-4bbb-bf3a-ce203cf4b4c4"
      },
      "execution_count": null,
      "outputs": [
        {
          "output_type": "display_data",
          "data": {
            "text/plain": [
              "<Figure size 640x480 with 1 Axes>"
            ],
            "image/png": "[encoded data removed]"
          },
          "metadata": {}
        }
      ]
    },
    {
      "cell_type": "code",
      "source": [
        "#Bakcup de segurança\n",
        "dfback4 = df.copy()"
      ],
      "metadata": {
        "id": "Gqx31Lab08Zk"
      },
      "execution_count": null,
      "outputs": []
    },
    {
      "cell_type": "markdown",
      "source": [
        "## **Conclusão**"
      ],
      "metadata": {
        "id": "3opOM6IoZdlA"
      }
    },
    {
      "cell_type": "markdown",
      "source": [
        "De acordo com os dados disponibilizados, foi feita a análise considerando o atributo de preço total. Foi identificado no gráfico de dispersão que os hóspedes que pagam na faixa de 400-600 tem a tendência de avaliarem com notas mais altas. Ou seja, as avaliações com notas mais baixas são mais comuns entre os hóspedes que pagam acima de 600$.\n",
        "\n",
        "Esse fator está fortemente relacionado com as distâncias. As acomodações que ficam mais perto do centro da cidade e de estações do metrô são as que apresentam preços mais baixos, o que leva em consideração que há uma maior facilidade de locomoção e permite aos hóspedes maior aproveitamento de atrações turísticas da região. O que nos leva a analisar que de acordo com esse fatores de proximidade do centro e metrô são os que colaboram para que o anúncio tenha um alto índice de atratividade, sendo assim, elevando seu posicionamento nas buscas realizadas na plataforma.\n",
        "\n",
        "Ressalto também que outro fator importante são que as notas de satisfação também estão intensamente relacionadas às notas de limpeza. Um critério que não pode ser ignorado pelos anfitriões, pois a limpeza das acomodações é algo que garante a satisfação dos hóspedes.\n",
        "\n",
        "Sendo assim, é identificado como oportunidade que haja mais investimento dos anfitriões em acomodações com preços acessíveis e que sejam próximas do centro da cidade, estações de metrôs e de outros meios de transportes mais utilizados no dia a dia. Há a possibilidade de inserir nos anúncios informações sobre meios de transportes alternativos que são disponibilizados na região, podendo assim até surgir possíveis parcerias, principalmente de publicidade dos serviços oferecidos de ambos os lados.\n",
        "\n",
        "\n",
        "Já como possíveis ameaças aos negócios, foi verificado - com base nos artigos  informados como fonte de pesquisa- que é preciso levar em consideração alguns pontos sobre regulamentações governamentais e restrições em algumas cidades.\n",
        "Os artigos informam que há a possibilidade de regulamentações mais rigoras em relação aos alugueis do Airbnb. Levando em consideração questões sobre licenciamento, impostos. Foi informado também que um grupo de cidades européias se uniram para que a Airbnb disponibilizasse os dados de sues clientes (anfitriões) para que haja um maior controle do fluxo de turistas e proteção dos moradares dos locais mais procurados pelos hóspedes. Esse ponto seria prejuducial para a Airbnb, pois a empresa cobra uma taxa de reserva e com esses dados dos anfitriões divulgados, tornaria o acesso hóspede - anfitrião mais acessível, o que pode gerar perda de receita para a empresa.\n",
        "\n",
        "Outro ponto levantado é que algumas cidades estão impondo restrições ao funcionamento do Airbnb, que pode incluir restrições ao limite de diárias em que a acomodação pode ser alugada. O que pode reduzir o número de propriedades disponibilizada em alguns destinos, o que pode afetar a oferta e demanda.\n"
      ],
      "metadata": {
        "id": "raaw5Z8aZh8X"
      }
    }
  ]
}